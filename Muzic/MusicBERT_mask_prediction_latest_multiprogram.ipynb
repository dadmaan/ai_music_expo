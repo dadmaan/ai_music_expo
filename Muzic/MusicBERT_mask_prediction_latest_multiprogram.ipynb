{
 "cells": [
  {
   "cell_type": "markdown",
   "metadata": {
    "id": "30onQ4oyg8Fu"
   },
   "source": [
    "From the repository: https://github.com/tripathiarpan20/midiformers"
   ]
  },
  {
   "cell_type": "markdown",
   "metadata": {
    "id": "wFTEEPoMa0qh",
    "jp-MarkdownHeadingCollapsed": true
   },
   "source": [
    "# Installing dependencies"
   ]
  },
  {
   "cell_type": "code",
   "execution_count": null,
   "metadata": {
    "id": "DRdBxk55-CRP"
   },
   "outputs": [],
   "source": [
    "# !pip install fairseq\n",
    "#==0.10.2"
   ]
  },
  {
   "cell_type": "code",
   "execution_count": null,
   "metadata": {
    "colab": {
     "base_uri": "https://localhost:8080/"
    },
    "id": "WWhwUZMkGcQE",
    "outputId": "459c4135-8b1f-4920-dd37-23d8de99ba70"
   },
   "outputs": [
    {
     "name": "stdout",
     "output_type": "stream",
     "text": [
      "Collecting fairseq==0.10.0\n",
      "  Downloading fairseq-0.10.0.tar.gz (677 kB)\n",
      "\u001b[2K     \u001b[90m━━━━━━━━━━━━━━━━━━━━━━━━━━━━━━━━━━━━━━━━\u001b[0m \u001b[32m677.4/677.4 kB\u001b[0m \u001b[31m4.2 MB/s\u001b[0m eta \u001b[36m0:00:00\u001b[0m\n",
      "\u001b[?25h  Installing build dependencies ... \u001b[?25l\u001b[?25hdone\n",
      "  Getting requirements to build wheel ... \u001b[?25l\u001b[?25hdone\n",
      "  Installing backend dependencies ... \u001b[?25l\u001b[?25hdone\n",
      "  Preparing metadata (pyproject.toml) ... \u001b[?25l\u001b[?25hdone\n",
      "Requirement already satisfied: cffi in /usr/local/lib/python3.10/dist-packages (from fairseq==0.10.0) (1.16.0)\n",
      "Requirement already satisfied: cython in /usr/local/lib/python3.10/dist-packages (from fairseq==0.10.0) (3.0.10)\n",
      "Collecting dataclasses (from fairseq==0.10.0)\n",
      "  Downloading dataclasses-0.6-py3-none-any.whl (14 kB)\n",
      "Requirement already satisfied: editdistance in /usr/local/lib/python3.10/dist-packages (from fairseq==0.10.0) (0.6.2)\n",
      "Collecting hydra-core (from fairseq==0.10.0)\n",
      "  Downloading hydra_core-1.3.2-py3-none-any.whl (154 kB)\n",
      "\u001b[2K     \u001b[90m━━━━━━━━━━━━━━━━━━━━━━━━━━━━━━━━━━━━━━━━\u001b[0m \u001b[32m154.5/154.5 kB\u001b[0m \u001b[31m19.0 MB/s\u001b[0m eta \u001b[36m0:00:00\u001b[0m\n",
      "\u001b[?25hRequirement already satisfied: numpy in /usr/local/lib/python3.10/dist-packages (from fairseq==0.10.0) (1.25.2)\n",
      "Requirement already satisfied: regex in /usr/local/lib/python3.10/dist-packages (from fairseq==0.10.0) (2023.12.25)\n",
      "Collecting sacrebleu>=1.4.12 (from fairseq==0.10.0)\n",
      "  Downloading sacrebleu-2.4.1-py3-none-any.whl (106 kB)\n",
      "\u001b[2K     \u001b[90m━━━━━━━━━━━━━━━━━━━━━━━━━━━━━━━━━━━━━━━━\u001b[0m \u001b[32m106.6/106.6 kB\u001b[0m \u001b[31m16.1 MB/s\u001b[0m eta \u001b[36m0:00:00\u001b[0m\n",
      "\u001b[?25hRequirement already satisfied: torch in /usr/local/lib/python3.10/dist-packages (from fairseq==0.10.0) (2.2.1+cu121)\n",
      "Requirement already satisfied: tqdm in /usr/local/lib/python3.10/dist-packages (from fairseq==0.10.0) (4.66.2)\n",
      "Collecting portalocker (from sacrebleu>=1.4.12->fairseq==0.10.0)\n",
      "  Downloading portalocker-2.8.2-py3-none-any.whl (17 kB)\n",
      "Requirement already satisfied: tabulate>=0.8.9 in /usr/local/lib/python3.10/dist-packages (from sacrebleu>=1.4.12->fairseq==0.10.0) (0.9.0)\n",
      "Collecting colorama (from sacrebleu>=1.4.12->fairseq==0.10.0)\n",
      "  Downloading colorama-0.4.6-py2.py3-none-any.whl (25 kB)\n",
      "Requirement already satisfied: lxml in /usr/local/lib/python3.10/dist-packages (from sacrebleu>=1.4.12->fairseq==0.10.0) (4.9.4)\n",
      "Requirement already satisfied: pycparser in /usr/local/lib/python3.10/dist-packages (from cffi->fairseq==0.10.0) (2.22)\n",
      "Collecting omegaconf<2.4,>=2.2 (from hydra-core->fairseq==0.10.0)\n",
      "  Downloading omegaconf-2.3.0-py3-none-any.whl (79 kB)\n",
      "\u001b[2K     \u001b[90m━━━━━━━━━━━━━━━━━━━━━━━━━━━━━━━━━━━━━━━━\u001b[0m \u001b[32m79.5/79.5 kB\u001b[0m \u001b[31m11.8 MB/s\u001b[0m eta \u001b[36m0:00:00\u001b[0m\n",
      "\u001b[?25hCollecting antlr4-python3-runtime==4.9.* (from hydra-core->fairseq==0.10.0)\n",
      "  Downloading antlr4-python3-runtime-4.9.3.tar.gz (117 kB)\n",
      "\u001b[2K     \u001b[90m━━━━━━━━━━━━━━━━━━━━━━━━━━━━━━━━━━━━━━━━\u001b[0m \u001b[32m117.0/117.0 kB\u001b[0m \u001b[31m18.2 MB/s\u001b[0m eta \u001b[36m0:00:00\u001b[0m\n",
      "\u001b[?25h  Preparing metadata (setup.py) ... \u001b[?25l\u001b[?25hdone\n",
      "Requirement already satisfied: packaging in /usr/local/lib/python3.10/dist-packages (from hydra-core->fairseq==0.10.0) (24.0)\n",
      "Requirement already satisfied: filelock in /usr/local/lib/python3.10/dist-packages (from torch->fairseq==0.10.0) (3.13.3)\n",
      "Requirement already satisfied: typing-extensions>=4.8.0 in /usr/local/lib/python3.10/dist-packages (from torch->fairseq==0.10.0) (4.10.0)\n",
      "Requirement already satisfied: sympy in /usr/local/lib/python3.10/dist-packages (from torch->fairseq==0.10.0) (1.12)\n",
      "Requirement already satisfied: networkx in /usr/local/lib/python3.10/dist-packages (from torch->fairseq==0.10.0) (3.2.1)\n",
      "Requirement already satisfied: jinja2 in /usr/local/lib/python3.10/dist-packages (from torch->fairseq==0.10.0) (3.1.3)\n",
      "Requirement already satisfied: fsspec in /usr/local/lib/python3.10/dist-packages (from torch->fairseq==0.10.0) (2023.6.0)\n",
      "Collecting nvidia-cuda-nvrtc-cu12==12.1.105 (from torch->fairseq==0.10.0)\n",
      "  Downloading nvidia_cuda_nvrtc_cu12-12.1.105-py3-none-manylinux1_x86_64.whl (23.7 MB)\n",
      "\u001b[2K     \u001b[90m━━━━━━━━━━━━━━━━━━━━━━━━━━━━━━━━━━━━━━━━\u001b[0m \u001b[32m23.7/23.7 MB\u001b[0m \u001b[31m14.2 MB/s\u001b[0m eta \u001b[36m0:00:00\u001b[0m\n",
      "\u001b[?25hCollecting nvidia-cuda-runtime-cu12==12.1.105 (from torch->fairseq==0.10.0)\n",
      "  Downloading nvidia_cuda_runtime_cu12-12.1.105-py3-none-manylinux1_x86_64.whl (823 kB)\n",
      "\u001b[2K     \u001b[90m━━━━━━━━━━━━━━━━━━━━━━━━━━━━━━━━━━━━━━━━\u001b[0m \u001b[32m823.6/823.6 kB\u001b[0m \u001b[31m18.1 MB/s\u001b[0m eta \u001b[36m0:00:00\u001b[0m\n",
      "\u001b[?25hCollecting nvidia-cuda-cupti-cu12==12.1.105 (from torch->fairseq==0.10.0)\n",
      "  Downloading nvidia_cuda_cupti_cu12-12.1.105-py3-none-manylinux1_x86_64.whl (14.1 MB)\n",
      "\u001b[2K     \u001b[90m━━━━━━━━━━━━━━━━━━━━━━━━━━━━━━━━━━━━━━━━\u001b[0m \u001b[32m14.1/14.1 MB\u001b[0m \u001b[31m19.3 MB/s\u001b[0m eta \u001b[36m0:00:00\u001b[0m\n",
      "\u001b[?25hCollecting nvidia-cudnn-cu12==8.9.2.26 (from torch->fairseq==0.10.0)\n",
      "  Downloading nvidia_cudnn_cu12-8.9.2.26-py3-none-manylinux1_x86_64.whl (731.7 MB)\n",
      "\u001b[2K     \u001b[91m━━━━━━━━━━━━━━━━━━━━━━━━━━━━━━━━\u001b[0m\u001b[91m╸\u001b[0m\u001b[90m━━━━━━━\u001b[0m \u001b[32m600.9/731.7 MB\u001b[0m \u001b[31m3.2 MB/s\u001b[0m eta \u001b[36m0:00:41\u001b[0m"
     ]
    }
   ],
   "source": [
    "!pip install fairseq==0.10.0"
   ]
  },
  {
   "cell_type": "markdown",
   "metadata": {
    "id": "hovJZkcIdLLY",
    "jp-MarkdownHeadingCollapsed": true
   },
   "source": [
    "## Importing appropriate Fairseq version from Github"
   ]
  },
  {
   "cell_type": "markdown",
   "metadata": {
    "id": "McYdHQjYsMKj"
   },
   "source": [
    "https://github.com/microsoft/muzic/blob/main/musicbert/eval_nsp.py"
   ]
  },
  {
   "cell_type": "code",
   "execution_count": 3,
   "metadata": {
    "colab": {
     "base_uri": "https://localhost:8080/"
    },
    "id": "ipewEs_cwsne",
    "outputId": "09e3b81b-c4dc-4f35-af0a-0baba74abbc3"
   },
   "outputs": [
    {
     "name": "stdout",
     "output_type": "stream",
     "text": [
      "/content\n"
     ]
    }
   ],
   "source": [
    "%cd /content/"
   ]
  },
  {
   "cell_type": "markdown",
   "metadata": {
    "id": "PW7zz0Orw5MZ"
   },
   "source": [
    "https://github.com/microsoft/muzic/issues/37"
   ]
  },
  {
   "cell_type": "code",
   "execution_count": null,
   "metadata": {
    "id": "T3qig1VdmsAJ"
   },
   "outputs": [],
   "source": [
    "# !pip install fairseq==0.12.2"
   ]
  },
  {
   "cell_type": "code",
   "execution_count": 4,
   "metadata": {
    "colab": {
     "base_uri": "https://localhost:8080/",
     "height": 1000
    },
    "id": "iXcarelOwq3Y",
    "outputId": "d0abc34c-d3c3-4076-da83-fa2e3b7f496c"
   },
   "outputs": [
    {
     "name": "stdout",
     "output_type": "stream",
     "text": [
      "Cloning into 'fairseq'...\n",
      "remote: Enumerating objects: 35184, done.\u001b[K\n",
      "remote: Counting objects: 100% (105/105), done.\u001b[K\n",
      "remote: Compressing objects: 100% (58/58), done.\u001b[K\n",
      "remote: Total 35184 (delta 61), reused 72 (delta 47), pack-reused 35079\u001b[K\n",
      "Receiving objects: 100% (35184/35184), 25.22 MiB | 25.34 MiB/s, done.\n",
      "Resolving deltas: 100% (25548/25548), done.\n",
      "/content/fairseq\n",
      "Note: switching to '336942734c85791a90baa373c212d27e7c722662'.\n",
      "\n",
      "You are in 'detached HEAD' state. You can look around, make experimental\n",
      "changes and commit them, and you can discard any commits you make in this\n",
      "state without impacting any branches by switching back to a branch.\n",
      "\n",
      "If you want to create a new branch to retain commits you create, you may\n",
      "do so (now or later) by using -c with the switch command. Example:\n",
      "\n",
      "  git switch -c <new-branch-name>\n",
      "\n",
      "Or undo this operation with:\n",
      "\n",
      "  git switch -\n",
      "\n",
      "Turn off this advice by setting config variable advice.detachedHead to false\n",
      "\n",
      "HEAD is now at 33694273 Better support for WandB (#1530)\n",
      "Obtaining file:///content/fairseq\n",
      "  Installing build dependencies ... \u001b[?25l\u001b[?25hdone\n",
      "  Checking if build backend supports build_editable ... \u001b[?25l\u001b[?25hdone\n",
      "  Getting requirements to build editable ... \u001b[?25l\u001b[?25hdone\n",
      "  Installing backend dependencies ... \u001b[?25l\u001b[?25hdone\n",
      "  Preparing editable metadata (pyproject.toml) ... \u001b[?25l\u001b[?25hdone\n",
      "Requirement already satisfied: cffi in /usr/local/lib/python3.10/dist-packages (from fairseq==1.0.0a0+3369427) (1.16.0)\n",
      "Requirement already satisfied: cython in /usr/local/lib/python3.10/dist-packages (from fairseq==1.0.0a0+3369427) (3.0.10)\n",
      "Collecting hydra-core<1.1 (from fairseq==1.0.0a0+3369427)\n",
      "  Downloading hydra_core-1.0.7-py3-none-any.whl (123 kB)\n",
      "\u001b[2K     \u001b[90m━━━━━━━━━━━━━━━━━━━━━━━━━━━━━━━━━━━━━━━━\u001b[0m \u001b[32m123.8/123.8 kB\u001b[0m \u001b[31m1.5 MB/s\u001b[0m eta \u001b[36m0:00:00\u001b[0m\n",
      "\u001b[?25hCollecting omegaconf<2.1 (from fairseq==1.0.0a0+3369427)\n",
      "  Downloading omegaconf-2.0.6-py3-none-any.whl (36 kB)\n",
      "Requirement already satisfied: regex in /usr/local/lib/python3.10/dist-packages (from fairseq==1.0.0a0+3369427) (2023.12.25)\n",
      "Collecting sacrebleu>=1.4.12 (from fairseq==1.0.0a0+3369427)\n",
      "  Downloading sacrebleu-2.4.1-py3-none-any.whl (106 kB)\n",
      "\u001b[2K     \u001b[90m━━━━━━━━━━━━━━━━━━━━━━━━━━━━━━━━━━━━━━━━\u001b[0m \u001b[32m106.6/106.6 kB\u001b[0m \u001b[31m8.1 MB/s\u001b[0m eta \u001b[36m0:00:00\u001b[0m\n",
      "\u001b[?25hRequirement already satisfied: torch in /usr/local/lib/python3.10/dist-packages (from fairseq==1.0.0a0+3369427) (2.2.1+cu121)\n",
      "Requirement already satisfied: tqdm in /usr/local/lib/python3.10/dist-packages (from fairseq==1.0.0a0+3369427) (4.66.2)\n",
      "Collecting numpy (from fairseq==1.0.0a0+3369427)\n",
      "  Using cached numpy-1.26.4-cp310-cp310-manylinux_2_17_x86_64.manylinux2014_x86_64.whl (18.2 MB)\n",
      "Collecting antlr4-python3-runtime==4.8 (from hydra-core<1.1->fairseq==1.0.0a0+3369427)\n",
      "  Downloading antlr4-python3-runtime-4.8.tar.gz (112 kB)\n",
      "\u001b[2K     \u001b[90m━━━━━━━━━━━━━━━━━━━━━━━━━━━━━━━━━━━━━━━━\u001b[0m \u001b[32m112.4/112.4 kB\u001b[0m \u001b[31m10.5 MB/s\u001b[0m eta \u001b[36m0:00:00\u001b[0m\n",
      "\u001b[?25h  Preparing metadata (setup.py) ... \u001b[?25l\u001b[?25hdone\n",
      "Requirement already satisfied: PyYAML>=5.1.* in /usr/local/lib/python3.10/dist-packages (from omegaconf<2.1->fairseq==1.0.0a0+3369427) (6.0.1)\n",
      "Requirement already satisfied: typing-extensions in /usr/local/lib/python3.10/dist-packages (from omegaconf<2.1->fairseq==1.0.0a0+3369427) (4.10.0)\n",
      "Collecting portalocker (from sacrebleu>=1.4.12->fairseq==1.0.0a0+3369427)\n",
      "  Downloading portalocker-2.8.2-py3-none-any.whl (17 kB)\n",
      "Requirement already satisfied: tabulate>=0.8.9 in /usr/local/lib/python3.10/dist-packages (from sacrebleu>=1.4.12->fairseq==1.0.0a0+3369427) (0.9.0)\n",
      "Collecting colorama (from sacrebleu>=1.4.12->fairseq==1.0.0a0+3369427)\n",
      "  Downloading colorama-0.4.6-py2.py3-none-any.whl (25 kB)\n",
      "Requirement already satisfied: lxml in /usr/local/lib/python3.10/dist-packages (from sacrebleu>=1.4.12->fairseq==1.0.0a0+3369427) (4.9.4)\n",
      "Requirement already satisfied: pycparser in /usr/local/lib/python3.10/dist-packages (from cffi->fairseq==1.0.0a0+3369427) (2.22)\n",
      "Requirement already satisfied: filelock in /usr/local/lib/python3.10/dist-packages (from torch->fairseq==1.0.0a0+3369427) (3.13.3)\n",
      "Requirement already satisfied: sympy in /usr/local/lib/python3.10/dist-packages (from torch->fairseq==1.0.0a0+3369427) (1.12)\n",
      "Requirement already satisfied: networkx in /usr/local/lib/python3.10/dist-packages (from torch->fairseq==1.0.0a0+3369427) (3.2.1)\n",
      "Requirement already satisfied: jinja2 in /usr/local/lib/python3.10/dist-packages (from torch->fairseq==1.0.0a0+3369427) (3.1.3)\n",
      "Requirement already satisfied: fsspec in /usr/local/lib/python3.10/dist-packages (from torch->fairseq==1.0.0a0+3369427) (2023.6.0)\n",
      "Collecting nvidia-cuda-nvrtc-cu12==12.1.105 (from torch->fairseq==1.0.0a0+3369427)\n",
      "  Downloading nvidia_cuda_nvrtc_cu12-12.1.105-py3-none-manylinux1_x86_64.whl (23.7 MB)\n",
      "\u001b[2K     \u001b[90m━━━━━━━━━━━━━━━━━━━━━━━━━━━━━━━━━━━━━━━━\u001b[0m \u001b[32m23.7/23.7 MB\u001b[0m \u001b[31m47.2 MB/s\u001b[0m eta \u001b[36m0:00:00\u001b[0m\n",
      "\u001b[?25hCollecting nvidia-cuda-runtime-cu12==12.1.105 (from torch->fairseq==1.0.0a0+3369427)\n",
      "  Downloading nvidia_cuda_runtime_cu12-12.1.105-py3-none-manylinux1_x86_64.whl (823 kB)\n",
      "\u001b[2K     \u001b[90m━━━━━━━━━━━━━━━━━━━━━━━━━━━━━━━━━━━━━━━━\u001b[0m \u001b[32m823.6/823.6 kB\u001b[0m \u001b[31m48.0 MB/s\u001b[0m eta \u001b[36m0:00:00\u001b[0m\n",
      "\u001b[?25hCollecting nvidia-cuda-cupti-cu12==12.1.105 (from torch->fairseq==1.0.0a0+3369427)\n",
      "  Downloading nvidia_cuda_cupti_cu12-12.1.105-py3-none-manylinux1_x86_64.whl (14.1 MB)\n",
      "\u001b[2K     \u001b[90m━━━━━━━━━━━━━━━━━━━━━━━━━━━━━━━━━━━━━━━━\u001b[0m \u001b[32m14.1/14.1 MB\u001b[0m \u001b[31m18.9 MB/s\u001b[0m eta \u001b[36m0:00:00\u001b[0m\n",
      "\u001b[?25hCollecting nvidia-cudnn-cu12==8.9.2.26 (from torch->fairseq==1.0.0a0+3369427)\n",
      "  Downloading nvidia_cudnn_cu12-8.9.2.26-py3-none-manylinux1_x86_64.whl (731.7 MB)\n",
      "\u001b[2K     \u001b[90m━━━━━━━━━━━━━━━━━━━━━━━━━━━━━━━━━━━━━━━━\u001b[0m \u001b[32m731.7/731.7 MB\u001b[0m \u001b[31m797.7 kB/s\u001b[0m eta \u001b[36m0:00:00\u001b[0m\n",
      "\u001b[?25hCollecting nvidia-cublas-cu12==12.1.3.1 (from torch->fairseq==1.0.0a0+3369427)\n",
      "  Downloading nvidia_cublas_cu12-12.1.3.1-py3-none-manylinux1_x86_64.whl (410.6 MB)\n",
      "\u001b[2K     \u001b[90m━━━━━━━━━━━━━━━━━━━━━━━━━━━━━━━━━━━━━━━━\u001b[0m \u001b[32m410.6/410.6 MB\u001b[0m \u001b[31m1.7 MB/s\u001b[0m eta \u001b[36m0:00:00\u001b[0m\n",
      "\u001b[?25hCollecting nvidia-cufft-cu12==11.0.2.54 (from torch->fairseq==1.0.0a0+3369427)\n",
      "  Downloading nvidia_cufft_cu12-11.0.2.54-py3-none-manylinux1_x86_64.whl (121.6 MB)\n",
      "\u001b[2K     \u001b[90m━━━━━━━━━━━━━━━━━━━━━━━━━━━━━━━━━━━━━━━━\u001b[0m \u001b[32m121.6/121.6 MB\u001b[0m \u001b[31m2.3 MB/s\u001b[0m eta \u001b[36m0:00:00\u001b[0m\n",
      "\u001b[?25hCollecting nvidia-curand-cu12==10.3.2.106 (from torch->fairseq==1.0.0a0+3369427)\n",
      "  Downloading nvidia_curand_cu12-10.3.2.106-py3-none-manylinux1_x86_64.whl (56.5 MB)\n",
      "\u001b[2K     \u001b[90m━━━━━━━━━━━━━━━━━━━━━━━━━━━━━━━━━━━━━━━━\u001b[0m \u001b[32m56.5/56.5 MB\u001b[0m \u001b[31m2.1 MB/s\u001b[0m eta \u001b[36m0:00:00\u001b[0m\n",
      "\u001b[?25hCollecting nvidia-cusolver-cu12==11.4.5.107 (from torch->fairseq==1.0.0a0+3369427)\n",
      "  Downloading nvidia_cusolver_cu12-11.4.5.107-py3-none-manylinux1_x86_64.whl (124.2 MB)\n",
      "\u001b[2K     \u001b[90m━━━━━━━━━━━━━━━━━━━━━━━━━━━━━━━━━━━━━━━━\u001b[0m \u001b[32m124.2/124.2 MB\u001b[0m \u001b[31m2.6 MB/s\u001b[0m eta \u001b[36m0:00:00\u001b[0m\n",
      "\u001b[?25hCollecting nvidia-cusparse-cu12==12.1.0.106 (from torch->fairseq==1.0.0a0+3369427)\n",
      "  Downloading nvidia_cusparse_cu12-12.1.0.106-py3-none-manylinux1_x86_64.whl (196.0 MB)\n",
      "\u001b[2K     \u001b[90m━━━━━━━━━━━━━━━━━━━━━━━━━━━━━━━━━━━━━━━━\u001b[0m \u001b[32m196.0/196.0 MB\u001b[0m \u001b[31m1.1 MB/s\u001b[0m eta \u001b[36m0:00:00\u001b[0m\n",
      "\u001b[?25hCollecting nvidia-nccl-cu12==2.19.3 (from torch->fairseq==1.0.0a0+3369427)\n",
      "  Downloading nvidia_nccl_cu12-2.19.3-py3-none-manylinux1_x86_64.whl (166.0 MB)\n",
      "\u001b[2K     \u001b[90m━━━━━━━━━━━━━━━━━━━━━━━━━━━━━━━━━━━━━━━━\u001b[0m \u001b[32m166.0/166.0 MB\u001b[0m \u001b[31m1.6 MB/s\u001b[0m eta \u001b[36m0:00:00\u001b[0m\n",
      "\u001b[?25hCollecting nvidia-nvtx-cu12==12.1.105 (from torch->fairseq==1.0.0a0+3369427)\n",
      "  Downloading nvidia_nvtx_cu12-12.1.105-py3-none-manylinux1_x86_64.whl (99 kB)\n",
      "\u001b[2K     \u001b[90m━━━━━━━━━━━━━━━━━━━━━━━━━━━━━━━━━━━━━━━━\u001b[0m \u001b[32m99.1/99.1 kB\u001b[0m \u001b[31m2.1 MB/s\u001b[0m eta \u001b[36m0:00:00\u001b[0m\n",
      "\u001b[?25hRequirement already satisfied: triton==2.2.0 in /usr/local/lib/python3.10/dist-packages (from torch->fairseq==1.0.0a0+3369427) (2.2.0)\n",
      "Collecting nvidia-nvjitlink-cu12 (from nvidia-cusolver-cu12==11.4.5.107->torch->fairseq==1.0.0a0+3369427)\n",
      "  Downloading nvidia_nvjitlink_cu12-12.4.127-py3-none-manylinux2014_x86_64.whl (21.1 MB)\n",
      "\u001b[2K     \u001b[90m━━━━━━━━━━━━━━━━━━━━━━━━━━━━━━━━━━━━━━━━\u001b[0m \u001b[32m21.1/21.1 MB\u001b[0m \u001b[31m2.1 MB/s\u001b[0m eta \u001b[36m0:00:00\u001b[0m\n",
      "\u001b[?25hRequirement already satisfied: MarkupSafe>=2.0 in /usr/local/lib/python3.10/dist-packages (from jinja2->torch->fairseq==1.0.0a0+3369427) (2.1.5)\n",
      "Requirement already satisfied: mpmath>=0.19 in /usr/local/lib/python3.10/dist-packages (from sympy->torch->fairseq==1.0.0a0+3369427) (1.3.0)\n",
      "Building wheels for collected packages: fairseq, antlr4-python3-runtime\n",
      "  Building editable for fairseq (pyproject.toml) ... \u001b[?25l\u001b[?25hdone\n",
      "  Created wheel for fairseq: filename=fairseq-1.0.0a0+3369427-0.editable-cp310-cp310-linux_x86_64.whl size=8554 sha256=5280b417f2a1dcadfbfa4a3b91f2451b528b2fa9b2296f91ec7a1d894f633272\n",
      "  Stored in directory: /tmp/pip-ephem-wheel-cache-o1cosp01/wheels/c6/d7/db/bc419b1daa8266aa8de2a7c4d29f62dbfa814e8701fe4695a2\n",
      "  Building wheel for antlr4-python3-runtime (setup.py) ... \u001b[?25l\u001b[?25hdone\n",
      "  Created wheel for antlr4-python3-runtime: filename=antlr4_python3_runtime-4.8-py3-none-any.whl size=141211 sha256=2ddd35976ac51fbfa8f702308450b3c5ae40ef5c6eb0d49881673f1aefd41ae5\n",
      "  Stored in directory: /root/.cache/pip/wheels/a7/20/bd/e1477d664f22d99989fd28ee1a43d6633dddb5cb9e801350d5\n",
      "Successfully built fairseq antlr4-python3-runtime\n",
      "Installing collected packages: antlr4-python3-runtime, portalocker, omegaconf, nvidia-nvtx-cu12, nvidia-nvjitlink-cu12, nvidia-nccl-cu12, nvidia-curand-cu12, nvidia-cufft-cu12, nvidia-cuda-runtime-cu12, nvidia-cuda-nvrtc-cu12, nvidia-cuda-cupti-cu12, nvidia-cublas-cu12, numpy, colorama, sacrebleu, nvidia-cusparse-cu12, nvidia-cudnn-cu12, hydra-core, nvidia-cusolver-cu12, fairseq\n",
      "Successfully installed antlr4-python3-runtime-4.8 colorama-0.4.6 fairseq-1.0.0a0+3369427 hydra-core-1.0.7 numpy-1.26.4 nvidia-cublas-cu12-12.1.3.1 nvidia-cuda-cupti-cu12-12.1.105 nvidia-cuda-nvrtc-cu12-12.1.105 nvidia-cuda-runtime-cu12-12.1.105 nvidia-cudnn-cu12-8.9.2.26 nvidia-cufft-cu12-11.0.2.54 nvidia-curand-cu12-10.3.2.106 nvidia-cusolver-cu12-11.4.5.107 nvidia-cusparse-cu12-12.1.0.106 nvidia-nccl-cu12-2.19.3 nvidia-nvjitlink-cu12-12.4.127 nvidia-nvtx-cu12-12.1.105 omegaconf-2.0.6 portalocker-2.8.2 sacrebleu-2.4.1\n"
     ]
    },
    {
     "ename": "AttributeError",
     "evalue": "module 'numpy' has no attribute 'float'.\n`np.float` was a deprecated alias for the builtin `float`. To avoid this error in existing code, use `float` by itself. Doing this will not modify any behavior and is safe. If you specifically wanted the numpy scalar type, use `np.float64` here.\nThe aliases was originally deprecated in NumPy 1.20; for more details and guidance see the original release note at:\n    https://numpy.org/devdocs/release/1.20.0-notes.html#deprecations",
     "output_type": "error",
     "traceback": [
      "\u001b[0;31m---------------------------------------------------------------------------\u001b[0m",
      "\u001b[0;31mAttributeError\u001b[0m                            Traceback (most recent call last)",
      "\u001b[0;32m<ipython-input-4-1fe003324959>\u001b[0m in \u001b[0;36m<cell line: 6>\u001b[0;34m()\u001b[0m\n\u001b[1;32m      4\u001b[0m \u001b[0mget_ipython\u001b[0m\u001b[0;34m(\u001b[0m\u001b[0;34m)\u001b[0m\u001b[0;34m.\u001b[0m\u001b[0msystem\u001b[0m\u001b[0;34m(\u001b[0m\u001b[0;34m'pip install --editable ./'\u001b[0m\u001b[0;34m)\u001b[0m\u001b[0;34m\u001b[0m\u001b[0;34m\u001b[0m\u001b[0m\n\u001b[1;32m      5\u001b[0m \u001b[0;34m\u001b[0m\u001b[0m\n\u001b[0;32m----> 6\u001b[0;31m \u001b[0;32mimport\u001b[0m \u001b[0mfairseq\u001b[0m\u001b[0;34m\u001b[0m\u001b[0;34m\u001b[0m\u001b[0m\n\u001b[0m",
      "\u001b[0;32m/content/fairseq/fairseq/__init__.py\u001b[0m in \u001b[0;36m<module>\u001b[0;34m\u001b[0m\n\u001b[1;32m     28\u001b[0m \u001b[0mhydra_init\u001b[0m\u001b[0;34m(\u001b[0m\u001b[0;34m)\u001b[0m\u001b[0;34m\u001b[0m\u001b[0;34m\u001b[0m\u001b[0m\n\u001b[1;32m     29\u001b[0m \u001b[0;34m\u001b[0m\u001b[0m\n\u001b[0;32m---> 30\u001b[0;31m \u001b[0;32mimport\u001b[0m \u001b[0mfairseq\u001b[0m\u001b[0;34m.\u001b[0m\u001b[0mcriterions\u001b[0m  \u001b[0;31m# noqa\u001b[0m\u001b[0;34m\u001b[0m\u001b[0;34m\u001b[0m\u001b[0m\n\u001b[0m\u001b[1;32m     31\u001b[0m \u001b[0;32mimport\u001b[0m \u001b[0mfairseq\u001b[0m\u001b[0;34m.\u001b[0m\u001b[0mmodels\u001b[0m  \u001b[0;31m# noqa\u001b[0m\u001b[0;34m\u001b[0m\u001b[0;34m\u001b[0m\u001b[0m\n\u001b[1;32m     32\u001b[0m \u001b[0;32mimport\u001b[0m \u001b[0mfairseq\u001b[0m\u001b[0;34m.\u001b[0m\u001b[0mmodules\u001b[0m  \u001b[0;31m# noqa\u001b[0m\u001b[0;34m\u001b[0m\u001b[0;34m\u001b[0m\u001b[0m\n",
      "\u001b[0;32m/content/fairseq/fairseq/criterions/__init__.py\u001b[0m in \u001b[0;36m<module>\u001b[0;34m\u001b[0m\n\u001b[1;32m      9\u001b[0m \u001b[0;34m\u001b[0m\u001b[0m\n\u001b[1;32m     10\u001b[0m \u001b[0;32mfrom\u001b[0m \u001b[0mfairseq\u001b[0m \u001b[0;32mimport\u001b[0m \u001b[0mregistry\u001b[0m\u001b[0;34m\u001b[0m\u001b[0;34m\u001b[0m\u001b[0m\n\u001b[0;32m---> 11\u001b[0;31m from fairseq.criterions.fairseq_criterion import (  # noqa\n\u001b[0m\u001b[1;32m     12\u001b[0m     \u001b[0mFairseqCriterion\u001b[0m\u001b[0;34m,\u001b[0m\u001b[0;34m\u001b[0m\u001b[0;34m\u001b[0m\u001b[0m\n\u001b[1;32m     13\u001b[0m     \u001b[0mLegacyFairseqCriterion\u001b[0m\u001b[0;34m,\u001b[0m\u001b[0;34m\u001b[0m\u001b[0;34m\u001b[0m\u001b[0m\n",
      "\u001b[0;32m/content/fairseq/fairseq/criterions/fairseq_criterion.py\u001b[0m in \u001b[0;36m<module>\u001b[0;34m\u001b[0m\n\u001b[1;32m      7\u001b[0m \u001b[0;32mfrom\u001b[0m \u001b[0mtyping\u001b[0m \u001b[0;32mimport\u001b[0m \u001b[0mAny\u001b[0m\u001b[0;34m,\u001b[0m \u001b[0mDict\u001b[0m\u001b[0;34m,\u001b[0m \u001b[0mList\u001b[0m\u001b[0;34m\u001b[0m\u001b[0;34m\u001b[0m\u001b[0m\n\u001b[1;32m      8\u001b[0m \u001b[0;34m\u001b[0m\u001b[0m\n\u001b[0;32m----> 9\u001b[0;31m \u001b[0;32mfrom\u001b[0m \u001b[0mfairseq\u001b[0m \u001b[0;32mimport\u001b[0m \u001b[0mmetrics\u001b[0m\u001b[0;34m,\u001b[0m \u001b[0mutils\u001b[0m\u001b[0;34m\u001b[0m\u001b[0;34m\u001b[0m\u001b[0m\n\u001b[0m\u001b[1;32m     10\u001b[0m \u001b[0;32mfrom\u001b[0m \u001b[0mfairseq\u001b[0m\u001b[0;34m.\u001b[0m\u001b[0mdataclass\u001b[0m \u001b[0;32mimport\u001b[0m \u001b[0mFairseqDataclass\u001b[0m\u001b[0;34m\u001b[0m\u001b[0;34m\u001b[0m\u001b[0m\n\u001b[1;32m     11\u001b[0m \u001b[0;32mfrom\u001b[0m \u001b[0mfairseq\u001b[0m\u001b[0;34m.\u001b[0m\u001b[0mdataclass\u001b[0m\u001b[0;34m.\u001b[0m\u001b[0mutils\u001b[0m \u001b[0;32mimport\u001b[0m \u001b[0mgen_parser_from_dataclass\u001b[0m\u001b[0;34m\u001b[0m\u001b[0;34m\u001b[0m\u001b[0m\n",
      "\u001b[0;32m/content/fairseq/fairseq/utils.py\u001b[0m in \u001b[0;36m<module>\u001b[0;34m\u001b[0m\n\u001b[1;32m     18\u001b[0m \u001b[0;32mimport\u001b[0m \u001b[0mtorch\u001b[0m\u001b[0;34m\u001b[0m\u001b[0;34m\u001b[0m\u001b[0m\n\u001b[1;32m     19\u001b[0m \u001b[0;32mimport\u001b[0m \u001b[0mtorch\u001b[0m\u001b[0;34m.\u001b[0m\u001b[0mnn\u001b[0m\u001b[0;34m.\u001b[0m\u001b[0mfunctional\u001b[0m \u001b[0;32mas\u001b[0m \u001b[0mF\u001b[0m\u001b[0;34m\u001b[0m\u001b[0;34m\u001b[0m\u001b[0m\n\u001b[0;32m---> 20\u001b[0;31m \u001b[0;32mfrom\u001b[0m \u001b[0mfairseq\u001b[0m\u001b[0;34m.\u001b[0m\u001b[0mdata\u001b[0m \u001b[0;32mimport\u001b[0m \u001b[0miterators\u001b[0m\u001b[0;34m\u001b[0m\u001b[0;34m\u001b[0m\u001b[0m\n\u001b[0m\u001b[1;32m     21\u001b[0m \u001b[0;32mfrom\u001b[0m \u001b[0mfairseq\u001b[0m\u001b[0;34m.\u001b[0m\u001b[0mfile_io\u001b[0m \u001b[0;32mimport\u001b[0m \u001b[0mPathManager\u001b[0m\u001b[0;34m\u001b[0m\u001b[0;34m\u001b[0m\u001b[0m\n\u001b[1;32m     22\u001b[0m \u001b[0;32mfrom\u001b[0m \u001b[0mfairseq\u001b[0m\u001b[0;34m.\u001b[0m\u001b[0mlogging\u001b[0m\u001b[0;34m.\u001b[0m\u001b[0mmeters\u001b[0m \u001b[0;32mimport\u001b[0m \u001b[0msafe_round\u001b[0m\u001b[0;34m\u001b[0m\u001b[0;34m\u001b[0m\u001b[0m\n",
      "\u001b[0;32m/content/fairseq/fairseq/data/__init__.py\u001b[0m in \u001b[0;36m<module>\u001b[0;34m\u001b[0m\n\u001b[1;32m     21\u001b[0m \u001b[0;32mfrom\u001b[0m \u001b[0;34m.\u001b[0m\u001b[0mdenoising_dataset\u001b[0m \u001b[0;32mimport\u001b[0m \u001b[0mDenoisingDataset\u001b[0m\u001b[0;34m\u001b[0m\u001b[0;34m\u001b[0m\u001b[0m\n\u001b[1;32m     22\u001b[0m \u001b[0;32mfrom\u001b[0m \u001b[0;34m.\u001b[0m\u001b[0mid_dataset\u001b[0m \u001b[0;32mimport\u001b[0m \u001b[0mIdDataset\u001b[0m\u001b[0;34m\u001b[0m\u001b[0;34m\u001b[0m\u001b[0m\n\u001b[0;32m---> 23\u001b[0;31m from .indexed_dataset import (\n\u001b[0m\u001b[1;32m     24\u001b[0m     \u001b[0mIndexedCachedDataset\u001b[0m\u001b[0;34m,\u001b[0m\u001b[0;34m\u001b[0m\u001b[0;34m\u001b[0m\u001b[0m\n\u001b[1;32m     25\u001b[0m     \u001b[0mIndexedDataset\u001b[0m\u001b[0;34m,\u001b[0m\u001b[0;34m\u001b[0m\u001b[0;34m\u001b[0m\u001b[0m\n",
      "\u001b[0;32m/content/fairseq/fairseq/data/indexed_dataset.py\u001b[0m in \u001b[0;36m<module>\u001b[0;34m\u001b[0m\n\u001b[1;32m     99\u001b[0m     \u001b[0;36m4\u001b[0m\u001b[0;34m:\u001b[0m \u001b[0mnp\u001b[0m\u001b[0;34m.\u001b[0m\u001b[0mint32\u001b[0m\u001b[0;34m,\u001b[0m\u001b[0;34m\u001b[0m\u001b[0;34m\u001b[0m\u001b[0m\n\u001b[1;32m    100\u001b[0m     \u001b[0;36m5\u001b[0m\u001b[0;34m:\u001b[0m \u001b[0mnp\u001b[0m\u001b[0;34m.\u001b[0m\u001b[0mint64\u001b[0m\u001b[0;34m,\u001b[0m\u001b[0;34m\u001b[0m\u001b[0;34m\u001b[0m\u001b[0m\n\u001b[0;32m--> 101\u001b[0;31m     \u001b[0;36m6\u001b[0m\u001b[0;34m:\u001b[0m \u001b[0mnp\u001b[0m\u001b[0;34m.\u001b[0m\u001b[0mfloat\u001b[0m\u001b[0;34m,\u001b[0m\u001b[0;34m\u001b[0m\u001b[0;34m\u001b[0m\u001b[0m\n\u001b[0m\u001b[1;32m    102\u001b[0m     \u001b[0;36m7\u001b[0m\u001b[0;34m:\u001b[0m \u001b[0mnp\u001b[0m\u001b[0;34m.\u001b[0m\u001b[0mdouble\u001b[0m\u001b[0;34m,\u001b[0m\u001b[0;34m\u001b[0m\u001b[0;34m\u001b[0m\u001b[0m\n\u001b[1;32m    103\u001b[0m     \u001b[0;36m8\u001b[0m\u001b[0;34m:\u001b[0m \u001b[0mnp\u001b[0m\u001b[0;34m.\u001b[0m\u001b[0muint16\u001b[0m\u001b[0;34m,\u001b[0m\u001b[0;34m\u001b[0m\u001b[0;34m\u001b[0m\u001b[0m\n",
      "\u001b[0;32m/usr/local/lib/python3.10/dist-packages/numpy/__init__.py\u001b[0m in \u001b[0;36m__getattr__\u001b[0;34m(attr)\u001b[0m\n\u001b[1;32m    317\u001b[0m             \u001b[0;31m# And future warnings for those that will change, but also give\u001b[0m\u001b[0;34m\u001b[0m\u001b[0;34m\u001b[0m\u001b[0m\n\u001b[1;32m    318\u001b[0m             \u001b[0;31m# the AttributeError\u001b[0m\u001b[0;34m\u001b[0m\u001b[0;34m\u001b[0m\u001b[0m\n\u001b[0;32m--> 319\u001b[0;31m             warnings.warn(\n\u001b[0m\u001b[1;32m    320\u001b[0m                 \u001b[0;34mf\"In the future `np.{attr}` will be defined as the \"\u001b[0m\u001b[0;34m\u001b[0m\u001b[0;34m\u001b[0m\u001b[0m\n\u001b[1;32m    321\u001b[0m                 \"corresponding NumPy scalar.\", FutureWarning, stacklevel=2)\n",
      "\u001b[0;31mAttributeError\u001b[0m: module 'numpy' has no attribute 'float'.\n`np.float` was a deprecated alias for the builtin `float`. To avoid this error in existing code, use `float` by itself. Doing this will not modify any behavior and is safe. If you specifically wanted the numpy scalar type, use `np.float64` here.\nThe aliases was originally deprecated in NumPy 1.20; for more details and guidance see the original release note at:\n    https://numpy.org/devdocs/release/1.20.0-notes.html#deprecations"
     ]
    }
   ],
   "source": [
    "!git clone https://github.com/pytorch/fairseq\n",
    "%cd fairseq\n",
    "!git checkout 336942734c85791a90baa373c212d27e7c722662   # provided checkpoints are trained with this version\n",
    "!pip install --editable ./\n",
    "\n",
    "import fairseq"
   ]
  },
  {
   "cell_type": "code",
   "execution_count": null,
   "metadata": {
    "colab": {
     "base_uri": "https://localhost:8080/"
    },
    "id": "a0MEnV7hQAv5",
    "outputId": "61f0fa3e-5058-4652-887e-d0ee3d67dd50"
   },
   "outputs": [
    {
     "name": "stdout",
     "output_type": "stream",
     "text": [
      "/env/python\n",
      "/env/python:/content/fairseq/\n"
     ]
    }
   ],
   "source": [
    "! echo $PYTHONPATH\n",
    "\n",
    "import os\n",
    "os.environ['PYTHONPATH'] += \":/content/fairseq/\"\n",
    "\n",
    "! echo $PYTHONPATH"
   ]
  },
  {
   "cell_type": "markdown",
   "metadata": {
    "id": "LeDwcxf-cPhH",
    "jp-MarkdownHeadingCollapsed": true
   },
   "source": [
    "## Importing Muzic from Github"
   ]
  },
  {
   "cell_type": "code",
   "execution_count": null,
   "metadata": {
    "colab": {
     "base_uri": "https://localhost:8080/"
    },
    "id": "jesir4Y41YaB",
    "outputId": "8a281be5-1d62-4045-f85b-c3e4588f22fb"
   },
   "outputs": [
    {
     "name": "stdout",
     "output_type": "stream",
     "text": [
      "/content\n"
     ]
    }
   ],
   "source": [
    "%cd /content/"
   ]
  },
  {
   "cell_type": "code",
   "execution_count": null,
   "metadata": {
    "colab": {
     "base_uri": "https://localhost:8080/"
    },
    "id": "fBjPDpRRaz-0",
    "outputId": "ccc66688-7991-492e-b4eb-ca923e5c835f"
   },
   "outputs": [
    {
     "name": "stdout",
     "output_type": "stream",
     "text": [
      "Cloning into 'muzic'...\n",
      "remote: Enumerating objects: 1840, done.\u001b[K\n",
      "remote: Counting objects: 100% (355/355), done.\u001b[K\n",
      "remote: Compressing objects: 100% (249/249), done.\u001b[K\n",
      "remote: Total 1840 (delta 113), reused 323 (delta 94), pack-reused 1485\u001b[K\n",
      "Receiving objects: 100% (1840/1840), 78.17 MiB | 42.64 MiB/s, done.\n",
      "Resolving deltas: 100% (562/562), done.\n"
     ]
    }
   ],
   "source": [
    "!git clone https://github.com/microsoft/muzic.git"
   ]
  },
  {
   "cell_type": "code",
   "execution_count": null,
   "metadata": {
    "colab": {
     "base_uri": "https://localhost:8080/"
    },
    "id": "6xnGy9FRa0D-",
    "outputId": "99ff74ea-cb78-483a-b556-a3b3d36ab110"
   },
   "outputs": [
    {
     "name": "stdout",
     "output_type": "stream",
     "text": [
      "/content/muzic/musicbert\n"
     ]
    }
   ],
   "source": [
    "%cd /content/muzic/musicbert/"
   ]
  },
  {
   "cell_type": "code",
   "execution_count": null,
   "metadata": {
    "colab": {
     "base_uri": "https://localhost:8080/"
    },
    "id": "d97frhBwtXFO",
    "outputId": "151849bc-00a7-4ef6-9d93-3048a85da4d7"
   },
   "outputs": [
    {
     "name": "stdout",
     "output_type": "stream",
     "text": [
      "Looking in indexes: https://pypi.org/simple, https://us-python.pkg.dev/colab-wheels/public/simple/\n",
      "Collecting https://github.com/omit66/mido/tarball/master\n",
      "  Downloading https://github.com/omit66/mido/tarball/master\n",
      "\u001b[K     - 96 kB 3.3 MB/s\n",
      "\u001b[?25hBuilding wheels for collected packages: mido\n",
      "  Building wheel for mido (setup.py) ... \u001b[?25l\u001b[?25hdone\n",
      "  Created wheel for mido: filename=mido-1.2.9-py2.py3-none-any.whl size=51404 sha256=86cbc3b4cf535a4ad455ea431960ff7acad077e9e1ed624e3a113437d02942a1\n",
      "  Stored in directory: /tmp/pip-ephem-wheel-cache-a0n66a8h/wheels/68/78/71/d7b739d0e96a62d9d0ecea394f6c9b2aebafc61d7076697ca3\n",
      "Successfully built mido\n",
      "Installing collected packages: mido\n",
      "Successfully installed mido-1.2.9\n"
     ]
    }
   ],
   "source": [
    "!pip install --upgrade https://github.com/omit66/mido/tarball/master"
   ]
  },
  {
   "cell_type": "code",
   "execution_count": null,
   "metadata": {
    "colab": {
     "base_uri": "https://localhost:8080/"
    },
    "id": "IxYCGTGu4Lqs",
    "outputId": "85e69870-222c-4c66-f025-2474e9664c00"
   },
   "outputs": [
    {
     "name": "stdout",
     "output_type": "stream",
     "text": [
      "Looking in indexes: https://pypi.org/simple, https://us-python.pkg.dev/colab-wheels/public/simple/\n",
      "Collecting miditoolkit\n",
      "  Downloading miditoolkit-0.1.16-py3-none-any.whl (20 kB)\n",
      "Requirement already satisfied: numpy>=1.7.0 in /usr/local/lib/python3.7/dist-packages (from miditoolkit) (1.21.6)\n",
      "Requirement already satisfied: mido>=1.1.16 in /usr/local/lib/python3.7/dist-packages (from miditoolkit) (1.2.9)\n",
      "Installing collected packages: miditoolkit\n",
      "Successfully installed miditoolkit-0.1.16\n"
     ]
    }
   ],
   "source": [
    "!pip install miditoolkit"
   ]
  },
  {
   "cell_type": "code",
   "execution_count": null,
   "metadata": {
    "id": "ZeRkTOLrcSeP"
   },
   "outputs": [],
   "source": []
  },
  {
   "cell_type": "markdown",
   "metadata": {
    "id": "7ayYu78SYWs7",
    "jp-MarkdownHeadingCollapsed": true
   },
   "source": [
    "## Set up music21 for Colab (only for displaying MIDI files)\n",
    "\n"
   ]
  },
  {
   "cell_type": "markdown",
   "metadata": {
    "id": "jIWHrVZ8cVUf"
   },
   "source": [
    "Click the play button below to upgrade music21 and install MuseScore to use in Google Colab"
   ]
  },
  {
   "cell_type": "code",
   "execution_count": null,
   "metadata": {
    "colab": {
     "base_uri": "https://localhost:8080/"
    },
    "id": "0bh1YgqP56Gq",
    "outputId": "06e79477-44bc-4743-f234-1219d936d497"
   },
   "outputs": [
    {
     "name": "stdout",
     "output_type": "stream",
     "text": [
      "Looking in indexes: https://pypi.org/simple, https://us-python.pkg.dev/colab-wheels/public/simple/\n",
      "Requirement already satisfied: music21 in /usr/local/lib/python3.7/dist-packages (5.5.0)\n",
      "Collecting music21\n",
      "  Downloading music21-7.3.3-py3-none-any.whl (22.4 MB)\n",
      "\u001b[K     |████████████████████████████████| 22.4 MB 62.7 MB/s \n",
      "\u001b[?25hRequirement already satisfied: matplotlib in /usr/local/lib/python3.7/dist-packages (from music21) (3.2.2)\n",
      "Requirement already satisfied: more-itertools in /usr/local/lib/python3.7/dist-packages (from music21) (8.14.0)\n",
      "Collecting webcolors>=1.5\n",
      "  Downloading webcolors-1.12-py3-none-any.whl (9.9 kB)\n",
      "Requirement already satisfied: joblib in /usr/local/lib/python3.7/dist-packages (from music21) (1.1.0)\n",
      "Requirement already satisfied: chardet in /usr/local/lib/python3.7/dist-packages (from music21) (3.0.4)\n",
      "Requirement already satisfied: numpy in /usr/local/lib/python3.7/dist-packages (from music21) (1.21.6)\n",
      "Collecting jsonpickle\n",
      "  Downloading jsonpickle-2.2.0-py2.py3-none-any.whl (39 kB)\n",
      "Requirement already satisfied: importlib-metadata in /usr/local/lib/python3.7/dist-packages (from jsonpickle->music21) (4.12.0)\n",
      "Requirement already satisfied: zipp>=0.5 in /usr/local/lib/python3.7/dist-packages (from importlib-metadata->jsonpickle->music21) (3.8.1)\n",
      "Requirement already satisfied: typing-extensions>=3.6.4 in /usr/local/lib/python3.7/dist-packages (from importlib-metadata->jsonpickle->music21) (4.1.1)\n",
      "Requirement already satisfied: python-dateutil>=2.1 in /usr/local/lib/python3.7/dist-packages (from matplotlib->music21) (2.8.2)\n",
      "Requirement already satisfied: pyparsing!=2.0.4,!=2.1.2,!=2.1.6,>=2.0.1 in /usr/local/lib/python3.7/dist-packages (from matplotlib->music21) (3.0.9)\n",
      "Requirement already satisfied: kiwisolver>=1.0.1 in /usr/local/lib/python3.7/dist-packages (from matplotlib->music21) (1.4.4)\n",
      "Requirement already satisfied: cycler>=0.10 in /usr/local/lib/python3.7/dist-packages (from matplotlib->music21) (0.11.0)\n",
      "Requirement already satisfied: six>=1.5 in /usr/local/lib/python3.7/dist-packages (from python-dateutil>=2.1->matplotlib->music21) (1.15.0)\n",
      "Installing collected packages: webcolors, jsonpickle, music21\n",
      "  Attempting uninstall: music21\n",
      "    Found existing installation: music21 5.5.0\n",
      "    Uninstalling music21-5.5.0:\n",
      "      Successfully uninstalled music21-5.5.0\n",
      "Successfully installed jsonpickle-2.2.0 music21-7.3.3 webcolors-1.12\n"
     ]
    }
   ],
   "source": [
    "!pip install --upgrade music21"
   ]
  },
  {
   "cell_type": "code",
   "execution_count": null,
   "metadata": {
    "colab": {
     "base_uri": "https://localhost:8080/"
    },
    "id": "8r3K2_Tu7NUo",
    "outputId": "3a47b407-23d7-4996-ffd3-47c20a2f268c"
   },
   "outputs": [
    {
     "name": "stdout",
     "output_type": "stream",
     "text": [
      "Hit:1 http://archive.ubuntu.com/ubuntu bionic InRelease\n",
      "Get:2 http://archive.ubuntu.com/ubuntu bionic-updates InRelease [88.7 kB]\n",
      "Get:3 http://archive.ubuntu.com/ubuntu bionic-backports InRelease [74.6 kB]\n",
      "Get:4 http://security.ubuntu.com/ubuntu bionic-security InRelease [88.7 kB]\n",
      "Get:5 https://cloud.r-project.org/bin/linux/ubuntu bionic-cran40/ InRelease [3,626 B]\n",
      "Hit:6 http://ppa.launchpad.net/c2d4u.team/c2d4u4.0+/ubuntu bionic InRelease\n",
      "Hit:7 http://ppa.launchpad.net/cran/libgit2/ubuntu bionic InRelease\n",
      "Hit:8 http://ppa.launchpad.net/deadsnakes/ppa/ubuntu bionic InRelease\n",
      "Hit:9 http://ppa.launchpad.net/graphics-drivers/ppa/ubuntu bionic InRelease\n",
      "Get:10 http://archive.ubuntu.com/ubuntu bionic-updates/restricted amd64 Packages [1,162 kB]\n",
      "Get:11 http://ppa.launchpad.net/mscore-ubuntu/mscore-stable/ubuntu bionic InRelease [15.4 kB]\n",
      "Get:12 http://archive.ubuntu.com/ubuntu bionic-updates/main amd64 Packages [3,390 kB]\n",
      "Ign:13 https://developer.download.nvidia.com/compute/machine-learning/repos/ubuntu1804/x86_64  InRelease\n",
      "Hit:14 https://developer.download.nvidia.com/compute/cuda/repos/ubuntu1804/x86_64  InRelease\n",
      "Hit:15 https://developer.download.nvidia.com/compute/machine-learning/repos/ubuntu1804/x86_64  Release\n",
      "Get:16 http://security.ubuntu.com/ubuntu bionic-security/main amd64 Packages [2,959 kB]\n",
      "Get:17 http://security.ubuntu.com/ubuntu bionic-security/universe amd64 Packages [1,540 kB]\n",
      "Get:18 http://security.ubuntu.com/ubuntu bionic-security/restricted amd64 Packages [1,121 kB]\n",
      "Get:19 http://ppa.launchpad.net/mscore-ubuntu/mscore-stable/ubuntu bionic/main amd64 Packages [1,831 B]\n",
      "Fetched 10.4 MB in 3s (3,149 kB/s)\n",
      "Reading package lists... Done\n",
      "Hit:1 http://security.ubuntu.com/ubuntu bionic-security InRelease\n",
      "Hit:2 http://archive.ubuntu.com/ubuntu bionic InRelease\n",
      "Hit:3 http://archive.ubuntu.com/ubuntu bionic-updates InRelease\n",
      "Hit:4 https://cloud.r-project.org/bin/linux/ubuntu bionic-cran40/ InRelease\n",
      "Hit:5 http://archive.ubuntu.com/ubuntu bionic-backports InRelease\n",
      "Hit:6 http://ppa.launchpad.net/c2d4u.team/c2d4u4.0+/ubuntu bionic InRelease\n",
      "Hit:7 http://ppa.launchpad.net/cran/libgit2/ubuntu bionic InRelease\n",
      "Hit:8 http://ppa.launchpad.net/deadsnakes/ppa/ubuntu bionic InRelease\n",
      "Hit:9 http://ppa.launchpad.net/graphics-drivers/ppa/ubuntu bionic InRelease\n",
      "Ign:10 https://developer.download.nvidia.com/compute/machine-learning/repos/ubuntu1804/x86_64  InRelease\n",
      "Hit:11 http://ppa.launchpad.net/mscore-ubuntu/mscore-stable/ubuntu bionic InRelease\n",
      "Hit:12 https://developer.download.nvidia.com/compute/cuda/repos/ubuntu1804/x86_64  InRelease\n",
      "Hit:13 https://developer.download.nvidia.com/compute/machine-learning/repos/ubuntu1804/x86_64  Release\n",
      "Reading package lists... Done\n",
      "Reading package lists... Done\n",
      "Building dependency tree       \n",
      "Reading state information... Done\n",
      "The following package was automatically installed and is no longer required:\n",
      "  libnvidia-common-460\n",
      "Use 'apt autoremove' to remove it.\n",
      "The following additional packages will be installed:\n",
      "  desktop-file-utils fonts-freefont-ttf libgl1-mesa-glx libportaudio2\n",
      "  libportmidi0 libqt5help5 libqt5qml5 libqt5quick5 libqt5svg5\n",
      "  libqt5xmlpatterns5 musescore-common musescore-general-soundfont-small\n",
      "  qml-module-qtgraphicaleffects qml-module-qtquick-controls\n",
      "  qml-module-qtquick-dialogs qml-module-qtquick-layouts\n",
      "  qml-module-qtquick-privatewidgets qml-module-qtquick-window2\n",
      "  qml-module-qtquick2\n",
      "Suggested packages:\n",
      "  qt5-qmltooling-plugins pulseaudio-utils\n",
      "The following NEW packages will be installed:\n",
      "  desktop-file-utils fonts-freefont-ttf libgl1-mesa-glx libportaudio2\n",
      "  libportmidi0 libqt5help5 libqt5qml5 libqt5quick5 libqt5svg5\n",
      "  libqt5xmlpatterns5 musescore musescore-common\n",
      "  musescore-general-soundfont-small qml-module-qtgraphicaleffects\n",
      "  qml-module-qtquick-controls qml-module-qtquick-dialogs\n",
      "  qml-module-qtquick-layouts qml-module-qtquick-privatewidgets\n",
      "  qml-module-qtquick-window2 qml-module-qtquick2\n",
      "0 upgraded, 20 newly installed, 0 to remove and 25 not upgraded.\n",
      "Need to get 51.8 MB of archives.\n",
      "After this operation, 116 MB of additional disk space will be used.\n",
      "Get:1 http://archive.ubuntu.com/ubuntu bionic-updates/main amd64 libqt5svg5 amd64 5.9.5-0ubuntu1.1 [129 kB]\n",
      "Get:2 http://ppa.launchpad.net/mscore-ubuntu/mscore-stable/ubuntu bionic/main amd64 musescore-general-soundfont-small all 0.2.1-1~ppa [34.2 MB]\n",
      "Get:3 http://archive.ubuntu.com/ubuntu bionic-updates/universe amd64 libqt5qml5 amd64 5.9.5-0ubuntu1.1 [1,242 kB]\n",
      "Get:4 http://archive.ubuntu.com/ubuntu bionic-updates/universe amd64 libqt5quick5 amd64 5.9.5-0ubuntu1.1 [1,201 kB]\n",
      "Get:5 http://archive.ubuntu.com/ubuntu bionic-updates/universe amd64 qml-module-qtquick-window2 amd64 5.9.5-0ubuntu1.1 [18.1 kB]\n",
      "Get:6 http://archive.ubuntu.com/ubuntu bionic-updates/universe amd64 qml-module-qtquick2 amd64 5.9.5-0ubuntu1.1 [31.4 kB]\n",
      "Get:7 http://archive.ubuntu.com/ubuntu bionic/universe amd64 qml-module-qtgraphicaleffects amd64 5.9.5-0ubuntu1 [96.1 kB]\n",
      "Get:8 http://archive.ubuntu.com/ubuntu bionic-updates/universe amd64 qml-module-qtquick-layouts amd64 5.9.5-0ubuntu1.1 [44.9 kB]\n",
      "Get:9 http://archive.ubuntu.com/ubuntu bionic/universe amd64 qml-module-qtquick-controls amd64 5.9.5-0ubuntu1 [712 kB]\n",
      "Get:10 http://archive.ubuntu.com/ubuntu bionic-updates/main amd64 desktop-file-utils amd64 0.23-1ubuntu3.18.04.2 [51.4 kB]\n",
      "Get:11 http://archive.ubuntu.com/ubuntu bionic/main amd64 fonts-freefont-ttf all 20120503-7 [4,202 kB]\n",
      "Get:12 http://archive.ubuntu.com/ubuntu bionic-updates/main amd64 libgl1-mesa-glx amd64 20.0.8-0ubuntu1~18.04.1 [5,532 B]\n",
      "Get:13 http://archive.ubuntu.com/ubuntu bionic/universe amd64 libportaudio2 amd64 19.6.0-1 [64.6 kB]\n",
      "Get:14 http://archive.ubuntu.com/ubuntu bionic/universe amd64 libportmidi0 amd64 1:217-6 [17.8 kB]\n",
      "Get:15 http://archive.ubuntu.com/ubuntu bionic/universe amd64 libqt5help5 amd64 5.9.5-0ubuntu1 [133 kB]\n",
      "Get:16 http://archive.ubuntu.com/ubuntu bionic/universe amd64 libqt5xmlpatterns5 amd64 5.9.5-0ubuntu1 [916 kB]\n",
      "Get:17 http://archive.ubuntu.com/ubuntu bionic/universe amd64 qml-module-qtquick-privatewidgets amd64 5.9.5-0ubuntu1 [41.7 kB]\n",
      "Get:18 http://archive.ubuntu.com/ubuntu bionic/universe amd64 qml-module-qtquick-dialogs amd64 5.9.5-0ubuntu1 [122 kB]\n",
      "Get:19 http://ppa.launchpad.net/mscore-ubuntu/mscore-stable/ubuntu bionic/main amd64 musescore-common all 2.3.2+dfsg4-15~ppa1804+1 [3,358 kB]\n",
      "Get:20 http://ppa.launchpad.net/mscore-ubuntu/mscore-stable/ubuntu bionic/main amd64 musescore amd64 2.3.2+dfsg4-15~ppa1804+1 [5,271 kB]\n",
      "Fetched 51.8 MB in 4s (13.8 MB/s)\n",
      "Selecting previously unselected package libqt5svg5:amd64.\n",
      "(Reading database ... 155685 files and directories currently installed.)\n",
      "Preparing to unpack .../00-libqt5svg5_5.9.5-0ubuntu1.1_amd64.deb ...\n",
      "Unpacking libqt5svg5:amd64 (5.9.5-0ubuntu1.1) ...\n",
      "Selecting previously unselected package libqt5qml5:amd64.\n",
      "Preparing to unpack .../01-libqt5qml5_5.9.5-0ubuntu1.1_amd64.deb ...\n",
      "Unpacking libqt5qml5:amd64 (5.9.5-0ubuntu1.1) ...\n",
      "Selecting previously unselected package libqt5quick5:amd64.\n",
      "Preparing to unpack .../02-libqt5quick5_5.9.5-0ubuntu1.1_amd64.deb ...\n",
      "Unpacking libqt5quick5:amd64 (5.9.5-0ubuntu1.1) ...\n",
      "Selecting previously unselected package qml-module-qtquick-window2:amd64.\n",
      "Preparing to unpack .../03-qml-module-qtquick-window2_5.9.5-0ubuntu1.1_amd64.deb ...\n",
      "Unpacking qml-module-qtquick-window2:amd64 (5.9.5-0ubuntu1.1) ...\n",
      "Selecting previously unselected package qml-module-qtquick2:amd64.\n",
      "Preparing to unpack .../04-qml-module-qtquick2_5.9.5-0ubuntu1.1_amd64.deb ...\n",
      "Unpacking qml-module-qtquick2:amd64 (5.9.5-0ubuntu1.1) ...\n",
      "Selecting previously unselected package qml-module-qtgraphicaleffects:amd64.\n",
      "Preparing to unpack .../05-qml-module-qtgraphicaleffects_5.9.5-0ubuntu1_amd64.deb ...\n",
      "Unpacking qml-module-qtgraphicaleffects:amd64 (5.9.5-0ubuntu1) ...\n",
      "Selecting previously unselected package qml-module-qtquick-layouts:amd64.\n",
      "Preparing to unpack .../06-qml-module-qtquick-layouts_5.9.5-0ubuntu1.1_amd64.deb ...\n",
      "Unpacking qml-module-qtquick-layouts:amd64 (5.9.5-0ubuntu1.1) ...\n",
      "Selecting previously unselected package qml-module-qtquick-controls:amd64.\n",
      "Preparing to unpack .../07-qml-module-qtquick-controls_5.9.5-0ubuntu1_amd64.deb ...\n",
      "Unpacking qml-module-qtquick-controls:amd64 (5.9.5-0ubuntu1) ...\n",
      "Selecting previously unselected package desktop-file-utils.\n",
      "Preparing to unpack .../08-desktop-file-utils_0.23-1ubuntu3.18.04.2_amd64.deb ...\n",
      "Unpacking desktop-file-utils (0.23-1ubuntu3.18.04.2) ...\n",
      "Selecting previously unselected package fonts-freefont-ttf.\n",
      "Preparing to unpack .../09-fonts-freefont-ttf_20120503-7_all.deb ...\n",
      "Unpacking fonts-freefont-ttf (20120503-7) ...\n",
      "Selecting previously unselected package libgl1-mesa-glx:amd64.\n",
      "Preparing to unpack .../10-libgl1-mesa-glx_20.0.8-0ubuntu1~18.04.1_amd64.deb ...\n",
      "Unpacking libgl1-mesa-glx:amd64 (20.0.8-0ubuntu1~18.04.1) ...\n",
      "Selecting previously unselected package libportaudio2:amd64.\n",
      "Preparing to unpack .../11-libportaudio2_19.6.0-1_amd64.deb ...\n",
      "Unpacking libportaudio2:amd64 (19.6.0-1) ...\n",
      "Selecting previously unselected package libportmidi0:amd64.\n",
      "Preparing to unpack .../12-libportmidi0_1%3a217-6_amd64.deb ...\n",
      "Unpacking libportmidi0:amd64 (1:217-6) ...\n",
      "Selecting previously unselected package libqt5help5:amd64.\n",
      "Preparing to unpack .../13-libqt5help5_5.9.5-0ubuntu1_amd64.deb ...\n",
      "Unpacking libqt5help5:amd64 (5.9.5-0ubuntu1) ...\n",
      "Selecting previously unselected package libqt5xmlpatterns5:amd64.\n",
      "Preparing to unpack .../14-libqt5xmlpatterns5_5.9.5-0ubuntu1_amd64.deb ...\n",
      "Unpacking libqt5xmlpatterns5:amd64 (5.9.5-0ubuntu1) ...\n",
      "Selecting previously unselected package qml-module-qtquick-privatewidgets:amd64.\n",
      "Preparing to unpack .../15-qml-module-qtquick-privatewidgets_5.9.5-0ubuntu1_amd64.deb ...\n",
      "Unpacking qml-module-qtquick-privatewidgets:amd64 (5.9.5-0ubuntu1) ...\n",
      "Selecting previously unselected package qml-module-qtquick-dialogs:amd64.\n",
      "Preparing to unpack .../16-qml-module-qtquick-dialogs_5.9.5-0ubuntu1_amd64.deb ...\n",
      "Unpacking qml-module-qtquick-dialogs:amd64 (5.9.5-0ubuntu1) ...\n",
      "Selecting previously unselected package musescore-general-soundfont-small.\n",
      "Preparing to unpack .../17-musescore-general-soundfont-small_0.2.1-1~ppa_all.deb ...\n",
      "Unpacking musescore-general-soundfont-small (0.2.1-1~ppa) ...\n",
      "Selecting previously unselected package musescore-common.\n",
      "Preparing to unpack .../18-musescore-common_2.3.2+dfsg4-15~ppa1804+1_all.deb ...\n",
      "Unpacking musescore-common (2.3.2+dfsg4-15~ppa1804+1) ...\n",
      "Selecting previously unselected package musescore.\n",
      "Preparing to unpack .../19-musescore_2.3.2+dfsg4-15~ppa1804+1_amd64.deb ...\n",
      "Unpacking musescore (2.3.2+dfsg4-15~ppa1804+1) ...\n",
      "Setting up libqt5qml5:amd64 (5.9.5-0ubuntu1.1) ...\n",
      "Setting up libqt5quick5:amd64 (5.9.5-0ubuntu1.1) ...\n",
      "Setting up qml-module-qtquick2:amd64 (5.9.5-0ubuntu1.1) ...\n",
      "Setting up libportaudio2:amd64 (19.6.0-1) ...\n",
      "Setting up desktop-file-utils (0.23-1ubuntu3.18.04.2) ...\n",
      "Setting up qml-module-qtquick-layouts:amd64 (5.9.5-0ubuntu1.1) ...\n",
      "Setting up musescore-general-soundfont-small (0.2.1-1~ppa) ...\n",
      "update-alternatives: using /usr/share/sounds/sf3/MuseScore_General_Lite.sf3 to provide /usr/share/sounds/sf3/default-GM.sf3 (default-GM.sf3) in auto mode\n",
      "update-alternatives: using /usr/share/sounds/sf3/MuseScore_General_Lite.sf3 to provide /usr/share/sounds/sf3/MuseScore_General.sf3 (MuseScore_General.sf3) in auto mode\n",
      "Setting up libqt5help5:amd64 (5.9.5-0ubuntu1) ...\n",
      "Setting up libqt5xmlpatterns5:amd64 (5.9.5-0ubuntu1) ...\n",
      "Setting up musescore-common (2.3.2+dfsg4-15~ppa1804+1) ...\n",
      "Setting up qml-module-qtquick-privatewidgets:amd64 (5.9.5-0ubuntu1) ...\n",
      "Setting up libgl1-mesa-glx:amd64 (20.0.8-0ubuntu1~18.04.1) ...\n",
      "Setting up libportmidi0:amd64 (1:217-6) ...\n",
      "Setting up libqt5svg5:amd64 (5.9.5-0ubuntu1.1) ...\n",
      "Setting up qml-module-qtquick-window2:amd64 (5.9.5-0ubuntu1.1) ...\n",
      "Setting up qml-module-qtquick-dialogs:amd64 (5.9.5-0ubuntu1) ...\n",
      "Setting up fonts-freefont-ttf (20120503-7) ...\n",
      "Setting up qml-module-qtgraphicaleffects:amd64 (5.9.5-0ubuntu1) ...\n",
      "Setting up qml-module-qtquick-controls:amd64 (5.9.5-0ubuntu1) ...\n",
      "Setting up musescore (2.3.2+dfsg4-15~ppa1804+1) ...\n",
      "Processing triggers for libc-bin (2.27-3ubuntu1.5) ...\n",
      "Processing triggers for man-db (2.8.3-2ubuntu0.1) ...\n",
      "Processing triggers for shared-mime-info (1.9-2) ...\n",
      "Processing triggers for hicolor-icon-theme (0.17-2) ...\n",
      "Processing triggers for fontconfig (2.12.6-0ubuntu2) ...\n",
      "Processing triggers for mime-support (3.60ubuntu1) ...\n"
     ]
    }
   ],
   "source": [
    "!add-apt-repository ppa:mscore-ubuntu/mscore-stable -y\n",
    "!apt-get update\n",
    "!apt-get install musescore"
   ]
  },
  {
   "cell_type": "code",
   "execution_count": null,
   "metadata": {
    "colab": {
     "base_uri": "https://localhost:8080/"
    },
    "id": "Yxxz3oEIVkeI",
    "outputId": "dd51150c-43c5-436d-ce2a-a3f53fdb696b"
   },
   "outputs": [
    {
     "name": "stdout",
     "output_type": "stream",
     "text": [
      "Reading package lists... Done\n",
      "Building dependency tree       \n",
      "Reading state information... Done\n",
      "The following package was automatically installed and is no longer required:\n",
      "  libnvidia-common-460\n",
      "Use 'apt autoremove' to remove it.\n",
      "The following NEW packages will be installed:\n",
      "  xvfb\n",
      "0 upgraded, 1 newly installed, 0 to remove and 25 not upgraded.\n",
      "Need to get 785 kB of archives.\n",
      "After this operation, 2,271 kB of additional disk space will be used.\n",
      "Get:1 http://archive.ubuntu.com/ubuntu bionic-updates/universe amd64 xvfb amd64 2:1.19.6-1ubuntu4.11 [785 kB]\n",
      "Fetched 785 kB in 0s (3,295 kB/s)\n",
      "Selecting previously unselected package xvfb.\n",
      "(Reading database ... 156653 files and directories currently installed.)\n",
      "Preparing to unpack .../xvfb_2%3a1.19.6-1ubuntu4.11_amd64.deb ...\n",
      "Unpacking xvfb (2:1.19.6-1ubuntu4.11) ...\n",
      "Setting up xvfb (2:1.19.6-1ubuntu4.11) ...\n",
      "Processing triggers for man-db (2.8.3-2ubuntu0.1) ...\n"
     ]
    }
   ],
   "source": [
    "!apt-get install xvfb"
   ]
  },
  {
   "cell_type": "markdown",
   "metadata": {
    "id": "my_PrLy1ct7n"
   },
   "source": [
    "# Importing Dependencies"
   ]
  },
  {
   "cell_type": "code",
   "execution_count": 2,
   "metadata": {
    "id": "vWQUKDG9cSi9"
   },
   "outputs": [
    {
     "ename": "ModuleNotFoundError",
     "evalue": "No module named 'music21'",
     "output_type": "error",
     "traceback": [
      "\u001b[0;31m---------------------------------------------------------------------------\u001b[0m",
      "\u001b[0;31mModuleNotFoundError\u001b[0m                       Traceback (most recent call last)",
      "Cell \u001b[0;32mIn[2], line 1\u001b[0m\n\u001b[0;32m----> 1\u001b[0m \u001b[38;5;28;01mfrom\u001b[39;00m \u001b[38;5;21;01mmusic21\u001b[39;00m \u001b[38;5;28;01mimport\u001b[39;00m \u001b[38;5;241m*\u001b[39m\n\u001b[1;32m      2\u001b[0m us \u001b[38;5;241m=\u001b[39m environment\u001b[38;5;241m.\u001b[39mUserSettings()\n\u001b[1;32m      3\u001b[0m us[\u001b[38;5;124m'\u001b[39m\u001b[38;5;124mmusescoreDirectPNGPath\u001b[39m\u001b[38;5;124m'\u001b[39m] \u001b[38;5;241m=\u001b[39m \u001b[38;5;124m'\u001b[39m\u001b[38;5;124m/usr/bin/mscore\u001b[39m\u001b[38;5;124m'\u001b[39m\n",
      "\u001b[0;31mModuleNotFoundError\u001b[0m: No module named 'music21'"
     ]
    }
   ],
   "source": [
    "from music21 import *\n",
    "us = environment.UserSettings()\n",
    "us['musescoreDirectPNGPath'] = '/usr/bin/mscore'\n",
    "us['directoryScratch'] = '/tmp'\n",
    "\n",
    "# music21 is Open Source under the BSD License\n",
    "# Copyright (c) 2006-22 Michael Scott Asato Cuthbert and cuthbertLab\n",
    "# Support music21 by citing it in your research or produts:\n",
    "#\n",
    "#     Cuthbert, Michael Scott.\n",
    "#     _music21: a Toolkit for Computer-Aided Music Research_\n",
    "#     https://web.mit.edu/music21\n",
    "#     2006-22"
   ]
  },
  {
   "cell_type": "code",
   "execution_count": 4,
   "metadata": {
    "id": "DR45mQPrc0fj"
   },
   "outputs": [],
   "source": [
    "from tqdm import tqdm\n",
    "from enum import Enum\n",
    "from itertools import chain"
   ]
  },
  {
   "cell_type": "markdown",
   "metadata": {
    "id": "eAwu3o2gegX-"
   },
   "source": [
    "# Importing base scripts and model"
   ]
  },
  {
   "cell_type": "markdown",
   "metadata": {
    "id": "Pk1AyIMFekaS"
   },
   "source": [
    "https://github.com/microsoft/muzic/blob/main/musicbert/preprocess.py"
   ]
  },
  {
   "cell_type": "markdown",
   "metadata": {
    "id": "5cbUiE_Hhean"
   },
   "source": [
    "## Source code"
   ]
  },
  {
   "cell_type": "code",
   "execution_count": 3,
   "metadata": {
    "id": "HLGRCI90ef3V"
   },
   "outputs": [],
   "source": [
    "# Copyright (c) Microsoft Corporation. All rights reserved.\n",
    "# Licensed under the MIT License.\n",
    "#\n",
    "\n",
    "import os\n",
    "import sys\n",
    "import io\n",
    "import zipfile\n",
    "import miditoolkit\n",
    "import random\n",
    "import time\n",
    "import math\n",
    "import signal\n",
    "import hashlib\n",
    "import numpy as np\n",
    "import fairseq\n",
    "from multiprocessing import Pool, Lock, Manager"
   ]
  },
  {
   "cell_type": "markdown",
   "metadata": {
    "id": "PB2OLM9pYUTI"
   },
   "source": [
    "### Setting `bar_max` used in `encoding_to_str` function"
   ]
  },
  {
   "cell_type": "markdown",
   "metadata": {
    "id": "YqXhfmZ4Yvj-"
   },
   "source": [
    "If `bar_max` is too low song gets clipped while encoding to Octuple tokens from MIDI"
   ]
  },
  {
   "cell_type": "code",
   "execution_count": 5,
   "metadata": {
    "id": "btksu-IoYTnI"
   },
   "outputs": [],
   "source": [
    "bar_max = 256 #@param {type:\"integer\"}"
   ]
  },
  {
   "cell_type": "code",
   "execution_count": 6,
   "metadata": {
    "id": "9ruWQwXQef8_"
   },
   "outputs": [],
   "source": [
    "pos_resolution = 16  # per beat (quarter note)\n",
    "\n",
    "velocity_quant = 4\n",
    "tempo_quant = 12  # 2 ** (1 / 12)\n",
    "min_tempo = 16\n",
    "max_tempo = 256\n",
    "duration_max = 8  # 2 ** 8 * beat\n",
    "max_ts_denominator = 6  # x/1 x/2 x/4 ... x/64\n",
    "max_notes_per_bar = 2  # 1/64 ... 128/64\n",
    "beat_note_factor = 4  # In MIDI format a note is always 4 beats\n",
    "deduplicate = True\n",
    "filter_symbolic = False\n",
    "filter_symbolic_ppl = 16\n",
    "trunc_pos = 2 ** 16  # approx 30 minutes (1024 measures)\n",
    "sample_len_max = 1000  # window length max\n",
    "sample_overlap_rate = 4\n",
    "ts_filter = False\n",
    "pool_num = 24\n",
    "max_inst = 127\n",
    "max_pitch = 127\n",
    "max_velocity = 127\n",
    "\n",
    "data_zip = None\n",
    "output_file = None\n"
   ]
  },
  {
   "cell_type": "code",
   "execution_count": 7,
   "metadata": {
    "id": "wY43GZF8a3pJ"
   },
   "outputs": [],
   "source": [
    "lock_file = Lock()\n",
    "lock_write = Lock()\n",
    "lock_set = Lock()\n",
    "manager = Manager()\n",
    "midi_dict = manager.dict()"
   ]
  },
  {
   "cell_type": "code",
   "execution_count": 8,
   "metadata": {
    "id": "fw4FRwzba3jh"
   },
   "outputs": [],
   "source": [
    "# (0 Measure, 1 Pos, 2 Program, 3 Pitch, 4 Duration, 5 Velocity, 6 TimeSig, 7 Tempo)\n",
    "# (Measure, TimeSig)\n",
    "# (Pos, Tempo)\n",
    "# Percussion: Program=128 Pitch=[128,255]\n",
    "\n",
    "# drum ins -> 6 ins kick, cymbal, snare, ...."
   ]
  },
  {
   "cell_type": "code",
   "execution_count": 9,
   "metadata": {
    "id": "OpP6vZqCa3hh"
   },
   "outputs": [],
   "source": [
    "\n",
    "\n",
    "\n",
    "ts_dict = dict()\n",
    "ts_list = list()\n",
    "for i in range(0, max_ts_denominator + 1):  # 1 ~ 64\n",
    "    for j in range(1, ((2 ** i) * max_notes_per_bar) + 1):\n",
    "        ts_dict[(j, 2 ** i)] = len(ts_dict)\n",
    "        ts_list.append((j, 2 ** i))\n",
    "dur_enc = list()\n",
    "dur_dec = list()\n",
    "for i in range(duration_max):\n",
    "    for j in range(pos_resolution):\n",
    "        dur_dec.append(len(dur_enc))\n",
    "        for k in range(2 ** i):\n",
    "            dur_enc.append(len(dur_dec) - 1)"
   ]
  },
  {
   "cell_type": "code",
   "execution_count": 10,
   "metadata": {
    "colab": {
     "base_uri": "https://localhost:8080/"
    },
    "id": "HX-wPeyPgALv",
    "outputId": "e09ec904-c4d2-4903-dc18-4425f7fe63be"
   },
   "outputs": [
    {
     "name": "stdout",
     "output_type": "stream",
     "text": [
      "{(1, 1): 0, (2, 1): 1, (1, 2): 2, (2, 2): 3, (3, 2): 4, (4, 2): 5, (1, 4): 6, (2, 4): 7, (3, 4): 8, (4, 4): 9, (5, 4): 10, (6, 4): 11, (7, 4): 12, (8, 4): 13, (1, 8): 14, (2, 8): 15, (3, 8): 16, (4, 8): 17, (5, 8): 18, (6, 8): 19, (7, 8): 20, (8, 8): 21, (9, 8): 22, (10, 8): 23, (11, 8): 24, (12, 8): 25, (13, 8): 26, (14, 8): 27, (15, 8): 28, (16, 8): 29, (1, 16): 30, (2, 16): 31, (3, 16): 32, (4, 16): 33, (5, 16): 34, (6, 16): 35, (7, 16): 36, (8, 16): 37, (9, 16): 38, (10, 16): 39, (11, 16): 40, (12, 16): 41, (13, 16): 42, (14, 16): 43, (15, 16): 44, (16, 16): 45, (17, 16): 46, (18, 16): 47, (19, 16): 48, (20, 16): 49, (21, 16): 50, (22, 16): 51, (23, 16): 52, (24, 16): 53, (25, 16): 54, (26, 16): 55, (27, 16): 56, (28, 16): 57, (29, 16): 58, (30, 16): 59, (31, 16): 60, (32, 16): 61, (1, 32): 62, (2, 32): 63, (3, 32): 64, (4, 32): 65, (5, 32): 66, (6, 32): 67, (7, 32): 68, (8, 32): 69, (9, 32): 70, (10, 32): 71, (11, 32): 72, (12, 32): 73, (13, 32): 74, (14, 32): 75, (15, 32): 76, (16, 32): 77, (17, 32): 78, (18, 32): 79, (19, 32): 80, (20, 32): 81, (21, 32): 82, (22, 32): 83, (23, 32): 84, (24, 32): 85, (25, 32): 86, (26, 32): 87, (27, 32): 88, (28, 32): 89, (29, 32): 90, (30, 32): 91, (31, 32): 92, (32, 32): 93, (33, 32): 94, (34, 32): 95, (35, 32): 96, (36, 32): 97, (37, 32): 98, (38, 32): 99, (39, 32): 100, (40, 32): 101, (41, 32): 102, (42, 32): 103, (43, 32): 104, (44, 32): 105, (45, 32): 106, (46, 32): 107, (47, 32): 108, (48, 32): 109, (49, 32): 110, (50, 32): 111, (51, 32): 112, (52, 32): 113, (53, 32): 114, (54, 32): 115, (55, 32): 116, (56, 32): 117, (57, 32): 118, (58, 32): 119, (59, 32): 120, (60, 32): 121, (61, 32): 122, (62, 32): 123, (63, 32): 124, (64, 32): 125, (1, 64): 126, (2, 64): 127, (3, 64): 128, (4, 64): 129, (5, 64): 130, (6, 64): 131, (7, 64): 132, (8, 64): 133, (9, 64): 134, (10, 64): 135, (11, 64): 136, (12, 64): 137, (13, 64): 138, (14, 64): 139, (15, 64): 140, (16, 64): 141, (17, 64): 142, (18, 64): 143, (19, 64): 144, (20, 64): 145, (21, 64): 146, (22, 64): 147, (23, 64): 148, (24, 64): 149, (25, 64): 150, (26, 64): 151, (27, 64): 152, (28, 64): 153, (29, 64): 154, (30, 64): 155, (31, 64): 156, (32, 64): 157, (33, 64): 158, (34, 64): 159, (35, 64): 160, (36, 64): 161, (37, 64): 162, (38, 64): 163, (39, 64): 164, (40, 64): 165, (41, 64): 166, (42, 64): 167, (43, 64): 168, (44, 64): 169, (45, 64): 170, (46, 64): 171, (47, 64): 172, (48, 64): 173, (49, 64): 174, (50, 64): 175, (51, 64): 176, (52, 64): 177, (53, 64): 178, (54, 64): 179, (55, 64): 180, (56, 64): 181, (57, 64): 182, (58, 64): 183, (59, 64): 184, (60, 64): 185, (61, 64): 186, (62, 64): 187, (63, 64): 188, (64, 64): 189, (65, 64): 190, (66, 64): 191, (67, 64): 192, (68, 64): 193, (69, 64): 194, (70, 64): 195, (71, 64): 196, (72, 64): 197, (73, 64): 198, (74, 64): 199, (75, 64): 200, (76, 64): 201, (77, 64): 202, (78, 64): 203, (79, 64): 204, (80, 64): 205, (81, 64): 206, (82, 64): 207, (83, 64): 208, (84, 64): 209, (85, 64): 210, (86, 64): 211, (87, 64): 212, (88, 64): 213, (89, 64): 214, (90, 64): 215, (91, 64): 216, (92, 64): 217, (93, 64): 218, (94, 64): 219, (95, 64): 220, (96, 64): 221, (97, 64): 222, (98, 64): 223, (99, 64): 224, (100, 64): 225, (101, 64): 226, (102, 64): 227, (103, 64): 228, (104, 64): 229, (105, 64): 230, (106, 64): 231, (107, 64): 232, (108, 64): 233, (109, 64): 234, (110, 64): 235, (111, 64): 236, (112, 64): 237, (113, 64): 238, (114, 64): 239, (115, 64): 240, (116, 64): 241, (117, 64): 242, (118, 64): 243, (119, 64): 244, (120, 64): 245, (121, 64): 246, (122, 64): 247, (123, 64): 248, (124, 64): 249, (125, 64): 250, (126, 64): 251, (127, 64): 252, (128, 64): 253}\n",
      "[(1, 1), (2, 1), (1, 2), (2, 2), (3, 2), (4, 2), (1, 4), (2, 4), (3, 4), (4, 4), (5, 4), (6, 4), (7, 4), (8, 4), (1, 8), (2, 8), (3, 8), (4, 8), (5, 8), (6, 8), (7, 8), (8, 8), (9, 8), (10, 8), (11, 8), (12, 8), (13, 8), (14, 8), (15, 8), (16, 8), (1, 16), (2, 16), (3, 16), (4, 16), (5, 16), (6, 16), (7, 16), (8, 16), (9, 16), (10, 16), (11, 16), (12, 16), (13, 16), (14, 16), (15, 16), (16, 16), (17, 16), (18, 16), (19, 16), (20, 16), (21, 16), (22, 16), (23, 16), (24, 16), (25, 16), (26, 16), (27, 16), (28, 16), (29, 16), (30, 16), (31, 16), (32, 16), (1, 32), (2, 32), (3, 32), (4, 32), (5, 32), (6, 32), (7, 32), (8, 32), (9, 32), (10, 32), (11, 32), (12, 32), (13, 32), (14, 32), (15, 32), (16, 32), (17, 32), (18, 32), (19, 32), (20, 32), (21, 32), (22, 32), (23, 32), (24, 32), (25, 32), (26, 32), (27, 32), (28, 32), (29, 32), (30, 32), (31, 32), (32, 32), (33, 32), (34, 32), (35, 32), (36, 32), (37, 32), (38, 32), (39, 32), (40, 32), (41, 32), (42, 32), (43, 32), (44, 32), (45, 32), (46, 32), (47, 32), (48, 32), (49, 32), (50, 32), (51, 32), (52, 32), (53, 32), (54, 32), (55, 32), (56, 32), (57, 32), (58, 32), (59, 32), (60, 32), (61, 32), (62, 32), (63, 32), (64, 32), (1, 64), (2, 64), (3, 64), (4, 64), (5, 64), (6, 64), (7, 64), (8, 64), (9, 64), (10, 64), (11, 64), (12, 64), (13, 64), (14, 64), (15, 64), (16, 64), (17, 64), (18, 64), (19, 64), (20, 64), (21, 64), (22, 64), (23, 64), (24, 64), (25, 64), (26, 64), (27, 64), (28, 64), (29, 64), (30, 64), (31, 64), (32, 64), (33, 64), (34, 64), (35, 64), (36, 64), (37, 64), (38, 64), (39, 64), (40, 64), (41, 64), (42, 64), (43, 64), (44, 64), (45, 64), (46, 64), (47, 64), (48, 64), (49, 64), (50, 64), (51, 64), (52, 64), (53, 64), (54, 64), (55, 64), (56, 64), (57, 64), (58, 64), (59, 64), (60, 64), (61, 64), (62, 64), (63, 64), (64, 64), (65, 64), (66, 64), (67, 64), (68, 64), (69, 64), (70, 64), (71, 64), (72, 64), (73, 64), (74, 64), (75, 64), (76, 64), (77, 64), (78, 64), (79, 64), (80, 64), (81, 64), (82, 64), (83, 64), (84, 64), (85, 64), (86, 64), (87, 64), (88, 64), (89, 64), (90, 64), (91, 64), (92, 64), (93, 64), (94, 64), (95, 64), (96, 64), (97, 64), (98, 64), (99, 64), (100, 64), (101, 64), (102, 64), (103, 64), (104, 64), (105, 64), (106, 64), (107, 64), (108, 64), (109, 64), (110, 64), (111, 64), (112, 64), (113, 64), (114, 64), (115, 64), (116, 64), (117, 64), (118, 64), (119, 64), (120, 64), (121, 64), (122, 64), (123, 64), (124, 64), (125, 64), (126, 64), (127, 64), (128, 64)]\n"
     ]
    }
   ],
   "source": [
    "print(ts_dict)\n",
    "print(ts_list)"
   ]
  },
  {
   "cell_type": "code",
   "execution_count": 11,
   "metadata": {
    "id": "yfi_3_Uxfw7e"
   },
   "outputs": [],
   "source": [
    "class timeout:\n",
    "    def __init__(self, seconds=1, error_message='Timeout'):\n",
    "        self.seconds = seconds\n",
    "        self.error_message = error_message\n",
    "\n",
    "    def handle_timeout(self, signum, frame):\n",
    "        raise TimeoutError(self.error_message)\n",
    "\n",
    "    def __enter__(self):\n",
    "        signal.signal(signal.SIGALRM, self.handle_timeout)\n",
    "        signal.alarm(self.seconds)\n",
    "\n",
    "    def __exit__(self, exc_type, value, traceback):\n",
    "        signal.alarm(0)\n",
    "\n",
    "\n",
    "def t2e(x):\n",
    "    assert x in ts_dict, 'unsupported time signature: ' + str(x)\n",
    "    return ts_dict[x]\n",
    "\n",
    "\n",
    "def e2t(x):\n",
    "    return ts_list[x]\n",
    "\n",
    "\n",
    "def d2e(x):\n",
    "    return dur_enc[x] if x < len(dur_enc) else dur_enc[-1]\n",
    "\n",
    "\n",
    "def e2d(x):\n",
    "    return dur_dec[x] if x < len(dur_dec) else dur_dec[-1]\n",
    "\n",
    "\n",
    "def v2e(x):\n",
    "    return x // velocity_quant\n",
    "\n",
    "\n",
    "def e2v(x):\n",
    "    return (x * velocity_quant) + (velocity_quant // 2)\n",
    "\n",
    "\n",
    "def b2e(x):\n",
    "    x = max(x, min_tempo)\n",
    "    x = min(x, max_tempo)\n",
    "    x = x / min_tempo\n",
    "    e = round(math.log2(x) * tempo_quant)\n",
    "    return e\n",
    "\n",
    "\n",
    "def e2b(x):\n",
    "    return 2 ** (x / tempo_quant) * min_tempo"
   ]
  },
  {
   "cell_type": "code",
   "execution_count": 12,
   "metadata": {
    "id": "YtGmFtXHf1i4"
   },
   "outputs": [],
   "source": [
    "def time_signature_reduce(numerator, denominator):\n",
    "    # reduction (when denominator is too large)\n",
    "    while denominator > 2 ** max_ts_denominator and denominator % 2 == 0 and numerator % 2 == 0:\n",
    "        denominator //= 2\n",
    "        numerator //= 2\n",
    "    # decomposition (when length of a bar exceed max_notes_per_bar)\n",
    "    while numerator > max_notes_per_bar * denominator:\n",
    "        for i in range(2, numerator + 1):\n",
    "            if numerator % i == 0:\n",
    "                numerator //= i\n",
    "                break\n",
    "    return numerator, denominator\n",
    "\n",
    "\n",
    "def writer(file_name, output_str_list):\n",
    "    # note: parameter \"file_name\" is reserved for patching\n",
    "    with open(output_file, 'a') as f:\n",
    "        for output_str in output_str_list:\n",
    "            f.write(output_str + '\\n')"
   ]
  },
  {
   "cell_type": "code",
   "execution_count": 13,
   "metadata": {
    "id": "vQyXtZyMgMdE"
   },
   "outputs": [],
   "source": [
    "def gen_dictionary(file_name):\n",
    "    num = 0\n",
    "    with open(file_name, 'w') as f:\n",
    "        for j in range(bar_max):\n",
    "            print('<0-{}>'.format(j), num, file=f)\n",
    "        for j in range(beat_note_factor * max_notes_per_bar * pos_resolution):\n",
    "            print('<1-{}>'.format(j), num, file=f)\n",
    "        for j in range(max_inst + 1 + 1):\n",
    "            # max_inst + 1 for percussion\n",
    "            print('<2-{}>'.format(j), num, file=f)\n",
    "        for j in range(2 * max_pitch + 1 + 1):\n",
    "            # max_pitch + 1 ~ 2 * max_pitch + 1 for percussion\n",
    "            print('<3-{}>'.format(j), num, file=f)\n",
    "        for j in range(duration_max * pos_resolution):\n",
    "            print('<4-{}>'.format(j), num, file=f)\n",
    "        for j in range(v2e(max_velocity) + 1):\n",
    "            print('<5-{}>'.format(j), num, file=f)\n",
    "        for j in range(len(ts_list)):\n",
    "            print('<6-{}>'.format(j), num, file=f)\n",
    "        for j in range(b2e(max_tempo) + 1):\n",
    "            print('<7-{}>'.format(j), num, file=f)"
   ]
  },
  {
   "cell_type": "code",
   "execution_count": 14,
   "metadata": {
    "id": "Xhkm6k3AgMwl"
   },
   "outputs": [],
   "source": [
    "def MIDI_to_encoding(midi_obj):\n",
    "    def time_to_pos(t):\n",
    "        return round(t * pos_resolution / midi_obj.ticks_per_beat)\n",
    "    notes_start_pos = [time_to_pos(j.start)\n",
    "                       for i in midi_obj.instruments for j in i.notes]\n",
    "    if len(notes_start_pos) == 0:\n",
    "        return list()\n",
    "    max_pos = min(max(notes_start_pos) + 1, trunc_pos)\n",
    "    pos_to_info = [[None for _ in range(4)] for _ in range(\n",
    "        max_pos)]  # (Measure, TimeSig, Pos, Tempo)\n",
    "    tsc = midi_obj.time_signature_changes\n",
    "    tpc = midi_obj.tempo_changes\n",
    "    for i in range(len(tsc)):\n",
    "        for j in range(time_to_pos(tsc[i].time), time_to_pos(tsc[i + 1].time) if i < len(tsc) - 1 else max_pos):\n",
    "            if j < len(pos_to_info):\n",
    "                pos_to_info[j][1] = t2e(time_signature_reduce(\n",
    "                    tsc[i].numerator, tsc[i].denominator))\n",
    "    for i in range(len(tpc)):\n",
    "        for j in range(time_to_pos(tpc[i].time), time_to_pos(tpc[i + 1].time) if i < len(tpc) - 1 else max_pos):\n",
    "            if j < len(pos_to_info):\n",
    "                pos_to_info[j][3] = b2e(tpc[i].tempo)\n",
    "    for j in range(len(pos_to_info)):\n",
    "        if pos_to_info[j][1] is None:\n",
    "            # MIDI default time signature\n",
    "            pos_to_info[j][1] = t2e(time_signature_reduce(4, 4))\n",
    "        if pos_to_info[j][3] is None:\n",
    "            pos_to_info[j][3] = b2e(120.0)  # MIDI default tempo (BPM)\n",
    "    cnt = 0\n",
    "    bar = 0\n",
    "    measure_length = None\n",
    "    for j in range(len(pos_to_info)):\n",
    "        ts = e2t(pos_to_info[j][1])\n",
    "        if cnt == 0:\n",
    "            measure_length = ts[0] * beat_note_factor * pos_resolution // ts[1]\n",
    "        pos_to_info[j][0] = bar\n",
    "        pos_to_info[j][2] = cnt\n",
    "        cnt += 1\n",
    "        if cnt >= measure_length:\n",
    "            assert cnt == measure_length, 'invalid time signature change: pos = {}'.format(\n",
    "                j)\n",
    "            cnt -= measure_length\n",
    "            bar += 1\n",
    "    encoding = []\n",
    "    start_distribution = [0] * pos_resolution\n",
    "    for inst in midi_obj.instruments:\n",
    "        for note in inst.notes:\n",
    "            if time_to_pos(note.start) >= trunc_pos:\n",
    "                continue\n",
    "            start_distribution[time_to_pos(note.start) % pos_resolution] += 1\n",
    "            info = pos_to_info[time_to_pos(note.start)]\n",
    "            encoding.append((info[0], info[2], max_inst + 1 if inst.is_drum else inst.program, note.pitch + max_pitch +\n",
    "                             1 if inst.is_drum else note.pitch, d2e(time_to_pos(note.end) - time_to_pos(note.start)), v2e(note.velocity), info[1], info[3]))\n",
    "    if len(encoding) == 0:\n",
    "        return list()\n",
    "    tot = sum(start_distribution)\n",
    "    start_ppl = 2 ** sum((0 if x == 0 else -(x / tot) *\n",
    "                          math.log2((x / tot)) for x in start_distribution))\n",
    "    # filter unaligned music\n",
    "    if filter_symbolic:\n",
    "        assert start_ppl <= filter_symbolic_ppl, 'filtered out by the symbolic filter: ppl = {:.2f}'.format(\n",
    "            start_ppl)\n",
    "    encoding.sort()\n",
    "    return encoding"
   ]
  },
  {
   "cell_type": "code",
   "execution_count": 15,
   "metadata": {
    "id": "DS2JEuTxgM1f"
   },
   "outputs": [],
   "source": [
    "def encoding_to_MIDI(encoding):\n",
    "    # TODO: filter out non-valid notes and error handling\n",
    "    bar_to_timesig = [list()\n",
    "                      for _ in range(max(map(lambda x: x[0], encoding)) + 1)]\n",
    "    for i in encoding:\n",
    "        bar_to_timesig[i[0]].append(i[6])\n",
    "    bar_to_timesig = [max(set(i), key=i.count) if len(\n",
    "        i) > 0 else None for i in bar_to_timesig]\n",
    "    for i in range(len(bar_to_timesig)):\n",
    "        if bar_to_timesig[i] is None:\n",
    "            bar_to_timesig[i] = t2e(time_signature_reduce(\n",
    "                4, 4)) if i == 0 else bar_to_timesig[i - 1]\n",
    "    bar_to_pos = [None] * len(bar_to_timesig)\n",
    "    cur_pos = 0\n",
    "    for i in range(len(bar_to_pos)):\n",
    "        bar_to_pos[i] = cur_pos\n",
    "        ts = e2t(bar_to_timesig[i])\n",
    "        measure_length = ts[0] * beat_note_factor * pos_resolution // ts[1]\n",
    "        cur_pos += measure_length\n",
    "    pos_to_tempo = [list() for _ in range(\n",
    "        cur_pos + max(map(lambda x: x[1], encoding)))]\n",
    "    for i in encoding:\n",
    "        pos_to_tempo[bar_to_pos[i[0]] + i[1]].append(i[7])\n",
    "    pos_to_tempo = [round(sum(i) / len(i)) if len(i) >\n",
    "                    0 else None for i in pos_to_tempo]\n",
    "    for i in range(len(pos_to_tempo)):\n",
    "        if pos_to_tempo[i] is None:\n",
    "            pos_to_tempo[i] = b2e(120.0) if i == 0 else pos_to_tempo[i - 1]\n",
    "    midi_obj = miditoolkit.midi.parser.MidiFile()\n",
    "\n",
    "    def get_tick(bar, pos):\n",
    "        return (bar_to_pos[bar] + pos) * midi_obj.ticks_per_beat // pos_resolution\n",
    "    midi_obj.instruments = [miditoolkit.containers.Instrument(program=(\n",
    "        0 if i == 128 else i), is_drum=(i == 128), name=str(i)) for i in range(128 + 1)]\n",
    "    for i in encoding:\n",
    "        start = get_tick(i[0], i[1])\n",
    "        program = i[2]\n",
    "        pitch = (i[3] - 128 if program == 128 else i[3])\n",
    "        duration = get_tick(0, e2d(i[4]))\n",
    "        if duration == 0:\n",
    "            duration = 1\n",
    "        end = start + duration\n",
    "        velocity = e2v(i[5])\n",
    "        midi_obj.instruments[program].notes.append(miditoolkit.containers.Note(\n",
    "            start=start, end=end, pitch=pitch, velocity=velocity))\n",
    "    midi_obj.instruments = [\n",
    "        i for i in midi_obj.instruments if len(i.notes) > 0]\n",
    "    cur_ts = None\n",
    "    for i in range(len(bar_to_timesig)):\n",
    "        new_ts = bar_to_timesig[i]\n",
    "        if new_ts != cur_ts:\n",
    "            numerator, denominator = e2t(new_ts)\n",
    "            midi_obj.time_signature_changes.append(miditoolkit.containers.TimeSignature(\n",
    "                numerator=numerator, denominator=denominator, time=get_tick(i, 0)))\n",
    "            cur_ts = new_ts\n",
    "    cur_tp = None\n",
    "    for i in range(len(pos_to_tempo)):\n",
    "        new_tp = pos_to_tempo[i]\n",
    "        if new_tp != cur_tp:\n",
    "            tempo = e2b(new_tp)\n",
    "            midi_obj.tempo_changes.append(\n",
    "                miditoolkit.containers.TempoChange(tempo=tempo, time=get_tick(0, i)))\n",
    "            cur_tp = new_tp\n",
    "    return midi_obj"
   ]
  },
  {
   "cell_type": "code",
   "execution_count": 16,
   "metadata": {
    "id": "e_CldWtbgcj2"
   },
   "outputs": [],
   "source": [
    "def get_hash(encoding):\n",
    "    # add i[4] and i[5] for stricter match\n",
    "    midi_tuple = tuple((i[2], i[3]) for i in encoding)\n",
    "    midi_hash = hashlib.md5(str(midi_tuple).encode('ascii')).hexdigest()\n",
    "    return midi_hash"
   ]
  },
  {
   "cell_type": "code",
   "execution_count": 17,
   "metadata": {
    "id": "XgJH1YS7gcnu"
   },
   "outputs": [],
   "source": [
    "def F(file_name):\n",
    "    try_times = 10\n",
    "    midi_file = None\n",
    "    for _ in range(try_times):\n",
    "        try:\n",
    "            lock_file.acquire()\n",
    "            with data_zip.open(file_name) as f:\n",
    "                # this may fail due to unknown bug\n",
    "                midi_file = io.BytesIO(f.read())\n",
    "        except BaseException as e:\n",
    "            try_times -= 1\n",
    "            time.sleep(1)\n",
    "            if try_times == 0:\n",
    "                print('ERROR(READ): ' + file_name +\n",
    "                      ' ' + str(e) + '\\n', end='')\n",
    "                return None\n",
    "        finally:\n",
    "            lock_file.release()\n",
    "    try:\n",
    "        with timeout(seconds=600):\n",
    "            midi_obj = miditoolkit.midi.parser.MidiFile(file=midi_file)\n",
    "        # check abnormal values in parse result\n",
    "        assert all(0 <= j.start < 2 ** 31 and 0 <= j.end < 2 **\n",
    "                   31 for i in midi_obj.instruments for j in i.notes), 'bad note time'\n",
    "        assert all(0 < j.numerator < 2 ** 31 and 0 < j.denominator < 2 **\n",
    "                   31 for j in midi_obj.time_signature_changes), 'bad time signature value'\n",
    "        assert 0 < midi_obj.ticks_per_beat < 2 ** 31, 'bad ticks per beat'\n",
    "    except BaseException as e:\n",
    "        print('ERROR(PARSE): ' + file_name + ' ' + str(e) + '\\n', end='')\n",
    "        return None\n",
    "    midi_notes_count = sum(len(inst.notes) for inst in midi_obj.instruments)\n",
    "    if midi_notes_count == 0:\n",
    "        print('ERROR(BLANK): ' + file_name + '\\n', end='')\n",
    "        return None\n",
    "    try:\n",
    "        e = MIDI_to_encoding(midi_obj)\n",
    "        if len(e) == 0:\n",
    "            print('ERROR(BLANK): ' + file_name + '\\n', end='')\n",
    "            return None\n",
    "        if ts_filter:\n",
    "            allowed_ts = t2e(time_signature_reduce(4, 4))\n",
    "            if not all(i[6] == allowed_ts for i in e):\n",
    "                print('ERROR(TSFILT): ' + file_name + '\\n', end='')\n",
    "                return None\n",
    "        if deduplicate:\n",
    "            duplicated = False\n",
    "            dup_file_name = ''\n",
    "            midi_hash = '0' * 32\n",
    "            try:\n",
    "                midi_hash = get_hash(e)\n",
    "            except BaseException as e:\n",
    "                pass\n",
    "            lock_set.acquire()\n",
    "            if midi_hash in midi_dict:\n",
    "                dup_file_name = midi_dict[midi_hash]\n",
    "                duplicated = True\n",
    "            else:\n",
    "                midi_dict[midi_hash] = file_name\n",
    "            lock_set.release()\n",
    "            if duplicated:\n",
    "                print('ERROR(DUPLICATED): ' + midi_hash + ' ' +\n",
    "                      file_name + ' == ' + dup_file_name + '\\n', end='')\n",
    "                return None\n",
    "        output_str_list = []\n",
    "        sample_step = max(round(sample_len_max / sample_overlap_rate), 1)\n",
    "        for p in range(0 - random.randint(0, sample_len_max - 1), len(e), sample_step):\n",
    "            L = max(p, 0)\n",
    "            R = min(p + sample_len_max, len(e)) - 1\n",
    "            bar_index_list = [e[i][0]\n",
    "                              for i in range(L, R + 1) if e[i][0] is not None]\n",
    "            bar_index_min = 0\n",
    "            bar_index_max = 0\n",
    "            if len(bar_index_list) > 0:\n",
    "                bar_index_min = min(bar_index_list)\n",
    "                bar_index_max = max(bar_index_list)\n",
    "            offset_lower_bound = -bar_index_min\n",
    "            offset_upper_bound = bar_max - 1 - bar_index_max\n",
    "            # to make bar index distribute in [0, bar_max)\n",
    "            bar_index_offset = random.randint(\n",
    "                offset_lower_bound, offset_upper_bound) if offset_lower_bound <= offset_upper_bound else offset_lower_bound\n",
    "            e_segment = []\n",
    "            for i in e[L: R + 1]:\n",
    "                if i[0] is None or i[0] + bar_index_offset < bar_max:\n",
    "                    e_segment.append(i)\n",
    "                else:\n",
    "                    break\n",
    "            tokens_per_note = 8\n",
    "            output_words = (['<s>'] * tokens_per_note) \\\n",
    "                + [('<{}-{}>'.format(j, k if j > 0 else k + bar_index_offset) if k is not None else '<unk>') for i in e_segment for j, k in enumerate(i)] \\\n",
    "                + (['</s>'] * (tokens_per_note - 1)\n",
    "                   )  # tokens_per_note - 1 for append_eos functionality of binarizer in fairseq\n",
    "            output_str_list.append(' '.join(output_words))\n",
    "\n",
    "        # no empty\n",
    "        if not all(len(i.split()) > tokens_per_note * 2 - 1 for i in output_str_list):\n",
    "            print('ERROR(ENCODE): ' + file_name + ' ' + str(e) + '\\n', end='')\n",
    "            return False\n",
    "        try:\n",
    "            lock_write.acquire()\n",
    "            writer(file_name, output_str_list)\n",
    "        except BaseException as e:\n",
    "            print('ERROR(WRITE): ' + file_name + ' ' + str(e) + '\\n', end='')\n",
    "            return False\n",
    "        finally:\n",
    "            lock_write.release()\n",
    "        print('SUCCESS: ' + file_name + '\\n', end='')\n",
    "        return True\n",
    "    except BaseException as e:\n",
    "        print('ERROR(PROCESS): ' + file_name + ' ' + str(e) + '\\n', end='')\n",
    "        return False\n",
    "    print('ERROR(GENERAL): ' + file_name + '\\n', end='')\n",
    "    return False\n",
    "\n",
    "\n",
    "def G(file_name):\n",
    "    try:\n",
    "        return F(file_name)\n",
    "    except BaseException as e:\n",
    "        print('ERROR(UNCAUGHT): ' + file_name + '\\n', end='')\n",
    "        return False"
   ]
  },
  {
   "cell_type": "code",
   "execution_count": 18,
   "metadata": {
    "id": "krRjjck_gM5y"
   },
   "outputs": [],
   "source": [
    "def str_to_encoding(s):\n",
    "    encoding = [int(i[3: -1]) for i in s.split() if 's' not in i]\n",
    "    tokens_per_note = 8\n",
    "    assert len(encoding) % tokens_per_note == 0\n",
    "    encoding = [tuple(encoding[i + j] for j in range(tokens_per_note))\n",
    "                for i in range(0, len(encoding), tokens_per_note)]\n",
    "    return encoding\n"
   ]
  },
  {
   "cell_type": "code",
   "execution_count": 19,
   "metadata": {
    "id": "TG_n87S7g9dP"
   },
   "outputs": [],
   "source": [
    "def encoding_to_str(e, bar_max = bar_max):\n",
    "    bar_index_offset = 0\n",
    "    p = 0\n",
    "    tokens_per_note = 8\n",
    "    return ' '.join((['<s>'] * tokens_per_note)\n",
    "                    + ['<{}-{}>'.format(j, k if j > 0 else k + bar_index_offset) for i in e[p: p +\n",
    "                                                                                            sample_len_max] if i[0] + bar_index_offset < bar_max for j, k in enumerate(i)]\n",
    "                    + (['</s>'] * (tokens_per_note\n",
    "                                   - 1)))   # 8 - 1 for append_eos functionality of binarizer in fairseq"
   ]
  },
  {
   "cell_type": "markdown",
   "metadata": {
    "id": "nN04JzAwiuIn"
   },
   "source": [
    "### Preprocessing zip to OctupleMIDI"
   ]
  },
  {
   "cell_type": "markdown",
   "metadata": {
    "id": "Cyu0RHq-dPS-"
   },
   "source": [
    "Uncomment to run"
   ]
  },
  {
   "cell_type": "code",
   "execution_count": null,
   "metadata": {
    "id": "HyK_rwzXitbw"
   },
   "outputs": [],
   "source": [
    "# data_path = input('Dataset zip path: ')\n",
    "# prefix = input('OctupleMIDI output path: ')\n",
    "# if os.path.exists(prefix):\n",
    "#     print('Output path {} already exists!'.format(prefix))\n",
    "#     sys.exit(0)\n",
    "# os.system('mkdir -p {}'.format(prefix))\n",
    "# data_zip = zipfile.ZipFile(data_path, 'r')\n",
    "# file_list = [n for n in data_zip.namelist() if n[-4:].lower()\n",
    "#               == '.mid' or n[-5:].lower() == '.midi']"
   ]
  },
  {
   "cell_type": "code",
   "execution_count": null,
   "metadata": {
    "id": "OyXFROBCi7o-"
   },
   "outputs": [],
   "source": [
    "# print(file_list[:10])"
   ]
  },
  {
   "cell_type": "markdown",
   "metadata": {
    "id": "010X3PiShhDH"
   },
   "source": [
    "## Working on single MIDI"
   ]
  },
  {
   "cell_type": "code",
   "execution_count": null,
   "metadata": {
    "id": "9jzle41dg_p-"
   },
   "outputs": [],
   "source": [
    "# sample_midi_path = '/content/Unforgiven2.mid'\n",
    "# sample_midi_path = '/content/forgetmenots.mid'"
   ]
  },
  {
   "cell_type": "code",
   "execution_count": null,
   "metadata": {
    "id": "C9Xvb1v1g_um"
   },
   "outputs": [],
   "source": [
    "# midi_obj = miditoolkit.midi.parser.MidiFile(sample_midi_path)"
   ]
  },
  {
   "cell_type": "code",
   "execution_count": null,
   "metadata": {
    "id": "gXEi7tgTpDID"
   },
   "outputs": [],
   "source": [
    "# print(midi_obj)"
   ]
  },
  {
   "cell_type": "code",
   "execution_count": null,
   "metadata": {
    "id": "H5CaoPujg9g5"
   },
   "outputs": [],
   "source": [
    "# assert all(0 <= j.start < 2 ** 31 and 0 <= j.end < 2 **\n",
    "#                    31 for i in midi_obj.instruments for j in i.notes), 'bad note time'\n",
    "# assert all(0 < j.numerator < 2 ** 31 and 0 < j.denominator < 2 **\n",
    "#             31 for j in midi_obj.time_signature_changes), 'bad time signature value'\n",
    "# assert 0 < midi_obj.ticks_per_beat < 2 ** 31, 'bad ticks per beat'"
   ]
  },
  {
   "cell_type": "code",
   "execution_count": null,
   "metadata": {
    "id": "1o20iNpKohq1"
   },
   "outputs": [],
   "source": [
    "# for ins in midi_obj.instruments:\n",
    "#   print(ins)"
   ]
  },
  {
   "cell_type": "code",
   "execution_count": null,
   "metadata": {
    "id": "Pc8wmK1mg9k_"
   },
   "outputs": [],
   "source": [
    "# midi_notes_count = sum(len(inst.notes) for inst in midi_obj.instruments)\n",
    "# if midi_notes_count == 0:\n",
    "#   print('ERROR(BLANK): ' + file_name + '\\n', end='')"
   ]
  },
  {
   "cell_type": "markdown",
   "metadata": {
    "id": "Wl2Hyr7Ulo1l"
   },
   "source": [
    "### Obtained 8 tuple representation"
   ]
  },
  {
   "cell_type": "code",
   "execution_count": null,
   "metadata": {
    "id": "NSmutI0qmZhM"
   },
   "outputs": [],
   "source": [
    "# (0 Measure, 1 Pos, 2 Program, 3 Pitch, 4 Duration, 5 Velocity, 6 TimeSig, 7 Tempo)\n",
    "# (Measure, TimeSig)\n",
    "# (Pos, Tempo)\n",
    "# Percussion: Program=128 Pitch=[128,255]"
   ]
  },
  {
   "cell_type": "code",
   "execution_count": null,
   "metadata": {
    "id": "yG65y2lRlIft"
   },
   "outputs": [],
   "source": [
    "# print(e)"
   ]
  },
  {
   "cell_type": "code",
   "execution_count": null,
   "metadata": {
    "id": "vjhow7BxlrC9"
   },
   "outputs": [],
   "source": [
    "# print(len(e))"
   ]
  },
  {
   "cell_type": "code",
   "execution_count": null,
   "metadata": {
    "id": "E_BNu3R2loWI"
   },
   "outputs": [],
   "source": [
    "# output_str_list = []\n",
    "# sample_step = max(round(sample_len_max / sample_overlap_rate), 1)"
   ]
  },
  {
   "cell_type": "code",
   "execution_count": null,
   "metadata": {
    "id": "AIVDm0ODl1B_"
   },
   "outputs": [],
   "source": [
    "# for p in range(0 - random.randint(0, sample_len_max - 1), len(e), sample_step):\n",
    "#   L = max(p, 0)\n",
    "#   R = min(p + sample_len_max, len(e)) - 1\n",
    "#   bar_index_list = [e[i][0]\n",
    "#                     for i in range(L, R + 1) if e[i][0] is not None]\n",
    "#   bar_index_min = 0\n",
    "#   bar_index_max = 0\n",
    "#   if len(bar_index_list) > 0:\n",
    "#       bar_index_min = min(bar_index_list)\n",
    "#       bar_index_max = max(bar_index_list)\n",
    "#   offset_lower_bound = -bar_index_min\n",
    "#   offset_upper_bound = bar_max - 1 - bar_index_max\n",
    "#   # to make bar index distribute in [0, bar_max)\n",
    "#   bar_index_offset = random.randint(\n",
    "#       offset_lower_bound, offset_upper_bound) if offset_lower_bound <= offset_upper_bound else offset_lower_bound\n",
    "#   e_segment = []\n",
    "#   for i in e[L: R + 1]:\n",
    "#       if i[0] is None or i[0] + bar_index_offset < bar_max:\n",
    "#           e_segment.append(i)\n",
    "#       else:\n",
    "#           break\n",
    "#   tokens_per_note = 8\n",
    "#   output_words = (['<s>'] * tokens_per_note) \\\n",
    "#       + [('<{}-{}>'.format(j, k if j > 0 else k + bar_index_offset) if k is not None else '<unk>') for i in e_segment for j, k in enumerate(i)] \\\n",
    "#       + (['</s>'] * (tokens_per_note - 1)\n",
    "#           )  # tokens_per_note - 1 for append_eos functionality of binarizer in fairseq\n",
    "#   output_str_list.append(' '.join(output_words))"
   ]
  },
  {
   "cell_type": "code",
   "execution_count": null,
   "metadata": {
    "id": "mOR3lasvmfoJ"
   },
   "outputs": [],
   "source": [
    "# print(e)"
   ]
  },
  {
   "cell_type": "code",
   "execution_count": null,
   "metadata": {
    "id": "0Y7kem1Zl8aU"
   },
   "outputs": [],
   "source": [
    "# print(output_str_list)"
   ]
  },
  {
   "cell_type": "markdown",
   "metadata": {
    "id": "ymem_KQvr9TU"
   },
   "source": [
    "## Loading pretrained MusicBERT (derived from fairseq RoBERTa)"
   ]
  },
  {
   "cell_type": "code",
   "execution_count": 22,
   "metadata": {
    "colab": {
     "base_uri": "https://localhost:8080/"
    },
    "id": "_EMzz_J3sfOC",
    "outputId": "0bb881b0-19e4-4823-a266-454d6c21930a"
   },
   "outputs": [
    {
     "name": "stdout",
     "output_type": "stream",
     "text": [
      "/usr/src/app/muzic/repo/musicbert\n"
     ]
    }
   ],
   "source": [
    "%cd repo/musicbert"
   ]
  },
  {
   "cell_type": "code",
   "execution_count": null,
   "metadata": {},
   "outputs": [],
   "source": [
    "pip install gdown"
   ]
  },
  {
   "cell_type": "code",
   "execution_count": 23,
   "metadata": {
    "colab": {
     "base_uri": "https://localhost:8080/"
    },
    "id": "SaHjbelgQIGH",
    "outputId": "d43b020c-4f2b-4a50-dc76-70deef768257"
   },
   "outputs": [
    {
     "name": "stdout",
     "output_type": "stream",
     "text": [
      "/bin/sh: 1: gdown: not found\n"
     ]
    }
   ],
   "source": [
    "# !gdown --id 1-BW45Vu80GU86ejTT4PFkgjvDhhYWatS\n",
    "!gdown --id 1XwW3C65VNWckKUcoG23FEm2qCZYZjAOc"
   ]
  },
  {
   "cell_type": "code",
   "execution_count": null,
   "metadata": {
    "colab": {
     "base_uri": "https://localhost:8080/"
    },
    "id": "vFNOCK7CtTDR",
    "outputId": "13cbde36-00ff-434c-d629-dadaceaaef66"
   },
   "outputs": [
    {
     "name": "stdout",
     "output_type": "stream",
     "text": [
      "/usr/local/lib/python3.7/dist-packages/gdown/cli.py:131: FutureWarning: Option `--id` was deprecated in version 4.3.1 and will be removed in 5.0. You don't need to pass it anymore to use a file ID.\n",
      "  category=FutureWarning,\n",
      "Downloading...\n",
      "From: https://drive.google.com/uc?id=1-6GJyolMS-z-WHdrwzmZGzzeTc01CldF\n",
      "To: /content/muzic/musicbert/checkpoint_last_musicbert_base_w_genre_head.pt\n",
      "100% 1.23G/1.23G [00:08<00:00, 139MB/s]\n"
     ]
    }
   ],
   "source": [
    "# !gdown --id 1-6GJyolMS-z-WHdrwzmZGzzeTc01CldF\n",
    "!gdown --id 1bN1DEFwCz9b3du13Ai9SezujzUlzeRSJ"
   ]
  },
  {
   "cell_type": "code",
   "execution_count": null,
   "metadata": {
    "id": "fbnMfmOFQqkq"
   },
   "outputs": [],
   "source": [
    "!mkdir -p checkpoints"
   ]
  },
  {
   "cell_type": "code",
   "execution_count": null,
   "metadata": {
    "id": "NfWPiWqGQF9j"
   },
   "outputs": [],
   "source": [
    "!mv checkpoint_last_musicbert_small_w_genre_head.pt checkpoints/\n",
    "!mv checkpoint_last_musicbert_base_w_genre_head.pt checkpoints/"
   ]
  },
  {
   "cell_type": "code",
   "execution_count": null,
   "metadata": {
    "colab": {
     "base_uri": "https://localhost:8080/"
    },
    "id": "N6-41SqvsPDB",
    "outputId": "7bbab36c-8166-4f59-e111-343f71795d7f"
   },
   "outputs": [
    {
     "name": "stdout",
     "output_type": "stream",
     "text": [
      "disable_cp = False\n",
      "mask_strategy = ['bar']\n",
      "convert_encoding = OCTMIDI\n",
      "crop_length = None\n"
     ]
    }
   ],
   "source": [
    "# Copyright (c) Microsoft Corporation. All rights reserved.\n",
    "# Licensed under the MIT License.\n",
    "#\n",
    "\n",
    "from fairseq.models.roberta import RobertaModel\n",
    "# from fairseq.models.transformer import TransformerModel\n",
    "import numpy as np\n",
    "import torch\n",
    "import torch.nn.functional as F\n",
    "import sys\n",
    "from musicbert import *\n"
   ]
  },
  {
   "cell_type": "code",
   "execution_count": null,
   "metadata": {
    "id": "AK1od2nRt-MU"
   },
   "outputs": [],
   "source": [
    "def gen_dictionary(file_name):\n",
    "    num = 0\n",
    "    with open(file_name, 'w') as f:\n",
    "        for j in range(bar_max):\n",
    "            print('<0-{}>'.format(j), num, file=f)\n",
    "        for j in range(beat_note_factor * max_notes_per_bar * pos_resolution):\n",
    "            print('<1-{}>'.format(j), num, file=f)\n",
    "        for j in range(max_inst + 1 + 1):\n",
    "            # max_inst + 1 for percussion\n",
    "            print('<2-{}>'.format(j), num, file=f)\n",
    "        for j in range(2 * max_pitch + 1 + 1):\n",
    "            # max_pitch + 1 ~ 2 * max_pitch + 1 for percussion\n",
    "            print('<3-{}>'.format(j), num, file=f)\n",
    "        for j in range(duration_max * pos_resolution):\n",
    "            print('<4-{}>'.format(j), num, file=f)\n",
    "        for j in range(v2e(max_velocity) + 1):\n",
    "            print('<5-{}>'.format(j), num, file=f)\n",
    "        for j in range(len(ts_list)):\n",
    "            print('<6-{}>'.format(j), num, file=f)\n",
    "        for j in range(b2e(max_tempo) + 1):\n",
    "            print('<7-{}>'.format(j), num, file=f)\n"
   ]
  },
  {
   "cell_type": "code",
   "execution_count": null,
   "metadata": {
    "id": "5oH8y29oR_rY"
   },
   "outputs": [],
   "source": [
    "!mkdir -p input0\n",
    "ROOT = '/content/muzic/musicbert/input0'\n",
    "gen_dictionary('{}/dict.txt'.format(ROOT))"
   ]
  },
  {
   "cell_type": "code",
   "execution_count": null,
   "metadata": {
    "id": "EQFxUixXSQxq"
   },
   "outputs": [],
   "source": [
    "!mkdir -p label\n",
    "ROOT = '/content/muzic/musicbert/label'\n",
    "gen_dictionary('{}/dict.txt'.format(ROOT))"
   ]
  },
  {
   "cell_type": "markdown",
   "metadata": {
    "id": "ZRgmn2Kz6WMu"
   },
   "source": [
    "mentioned in https://github.com/microsoft/muzic/issues/51#issuecomment-1115821739_"
   ]
  },
  {
   "cell_type": "markdown",
   "metadata": {
    "id": "uaJ-9RgkM1Av"
   },
   "source": [
    "https://fairseq.readthedocs.io/en/v0.10.2/_modules/fairseq/models.html\n",
    "\n",
    "https://fairseq.readthedocs.io/en/v0.10.2/command_line_tools.html\n",
    "\n",
    "https://github.com/facebookresearch/fairseq/issues/2546"
   ]
  },
  {
   "cell_type": "code",
   "execution_count": null,
   "metadata": {
    "colab": {
     "base_uri": "https://localhost:8080/"
    },
    "id": "klQIW1GajWuI",
    "outputId": "6337195a-ac36-4571-e2dd-d6f40d46d440"
   },
   "outputs": [
    {
     "name": "stdout",
     "output_type": "stream",
     "text": [
      "/content/muzic/musicbert\n"
     ]
    }
   ],
   "source": [
    "%cd /content/muzic/musicbert"
   ]
  },
  {
   "cell_type": "markdown",
   "metadata": {
    "id": "hKbBIOnJuKqE"
   },
   "source": [
    "`https://github.com/microsoft/muzic/blob/main/musicbert/musicbert/__init__.py`"
   ]
  },
  {
   "cell_type": "code",
   "execution_count": null,
   "metadata": {
    "colab": {
     "base_uri": "https://localhost:8080/"
    },
    "id": "KL8is1qxUGrL",
    "outputId": "0981daa4-7688-4b83-8cc0-b0ba8b9f82f7"
   },
   "outputs": [
    {
     "name": "stdout",
     "output_type": "stream",
     "text": [
      "loading model and data\n"
     ]
    },
    {
     "name": "stderr",
     "output_type": "stream",
     "text": [
      "1042301B [00:00, 2094561.68B/s]\n",
      "456318B [00:00, 1514740.25B/s]\n"
     ]
    }
   ],
   "source": [
    "print('loading model and data')\n",
    "\n",
    "roberta_base = MusicBERTModel.from_pretrained('.',\n",
    "  checkpoint_file = 'checkpoints/checkpoint_last_musicbert_base_w_genre_head.pt',\n",
    "  # user_dir='musicbert'    # activate the MusicBERT plugin with this keyword\n",
    ")\n",
    "#,\n",
    " # data_name_or_path = '.')"
   ]
  },
  {
   "cell_type": "code",
   "execution_count": null,
   "metadata": {
    "colab": {
     "base_uri": "https://localhost:8080/"
    },
    "id": "IlPwnJf4wtfv",
    "outputId": "4b9fab4c-39e2-437e-cd96-6157642e8856"
   },
   "outputs": [
    {
     "name": "stdout",
     "output_type": "stream",
     "text": [
      "RobertaHubInterface(\n",
      "  (model): MusicBERTModel(\n",
      "    (encoder): MusicBERTEncoder(\n",
      "      (sentence_encoder): OctupleEncoder(\n",
      "        (dropout_module): FairseqDropout()\n",
      "        (embed_tokens): Embedding(1237, 768, padding_idx=1)\n",
      "        (embed_positions): LearnedPositionalEmbedding(8194, 768, padding_idx=1)\n",
      "        (emb_layer_norm): LayerNorm((768,), eps=1e-05, elementwise_affine=True)\n",
      "        (layers): ModuleList(\n",
      "          (0): TransformerSentenceEncoderLayer(\n",
      "            (dropout_module): FairseqDropout()\n",
      "            (activation_dropout_module): FairseqDropout()\n",
      "            (self_attn): MultiheadAttention(\n",
      "              (dropout_module): FairseqDropout()\n",
      "              (k_proj): Linear(in_features=768, out_features=768, bias=True)\n",
      "              (v_proj): Linear(in_features=768, out_features=768, bias=True)\n",
      "              (q_proj): Linear(in_features=768, out_features=768, bias=True)\n",
      "              (out_proj): Linear(in_features=768, out_features=768, bias=True)\n",
      "            )\n",
      "            (self_attn_layer_norm): LayerNorm((768,), eps=1e-05, elementwise_affine=True)\n",
      "            (fc1): Linear(in_features=768, out_features=3072, bias=True)\n",
      "            (fc2): Linear(in_features=3072, out_features=768, bias=True)\n",
      "            (final_layer_norm): LayerNorm((768,), eps=1e-05, elementwise_affine=True)\n",
      "          )\n",
      "          (1): TransformerSentenceEncoderLayer(\n",
      "            (dropout_module): FairseqDropout()\n",
      "            (activation_dropout_module): FairseqDropout()\n",
      "            (self_attn): MultiheadAttention(\n",
      "              (dropout_module): FairseqDropout()\n",
      "              (k_proj): Linear(in_features=768, out_features=768, bias=True)\n",
      "              (v_proj): Linear(in_features=768, out_features=768, bias=True)\n",
      "              (q_proj): Linear(in_features=768, out_features=768, bias=True)\n",
      "              (out_proj): Linear(in_features=768, out_features=768, bias=True)\n",
      "            )\n",
      "            (self_attn_layer_norm): LayerNorm((768,), eps=1e-05, elementwise_affine=True)\n",
      "            (fc1): Linear(in_features=768, out_features=3072, bias=True)\n",
      "            (fc2): Linear(in_features=3072, out_features=768, bias=True)\n",
      "            (final_layer_norm): LayerNorm((768,), eps=1e-05, elementwise_affine=True)\n",
      "          )\n",
      "          (2): TransformerSentenceEncoderLayer(\n",
      "            (dropout_module): FairseqDropout()\n",
      "            (activation_dropout_module): FairseqDropout()\n",
      "            (self_attn): MultiheadAttention(\n",
      "              (dropout_module): FairseqDropout()\n",
      "              (k_proj): Linear(in_features=768, out_features=768, bias=True)\n",
      "              (v_proj): Linear(in_features=768, out_features=768, bias=True)\n",
      "              (q_proj): Linear(in_features=768, out_features=768, bias=True)\n",
      "              (out_proj): Linear(in_features=768, out_features=768, bias=True)\n",
      "            )\n",
      "            (self_attn_layer_norm): LayerNorm((768,), eps=1e-05, elementwise_affine=True)\n",
      "            (fc1): Linear(in_features=768, out_features=3072, bias=True)\n",
      "            (fc2): Linear(in_features=3072, out_features=768, bias=True)\n",
      "            (final_layer_norm): LayerNorm((768,), eps=1e-05, elementwise_affine=True)\n",
      "          )\n",
      "          (3): TransformerSentenceEncoderLayer(\n",
      "            (dropout_module): FairseqDropout()\n",
      "            (activation_dropout_module): FairseqDropout()\n",
      "            (self_attn): MultiheadAttention(\n",
      "              (dropout_module): FairseqDropout()\n",
      "              (k_proj): Linear(in_features=768, out_features=768, bias=True)\n",
      "              (v_proj): Linear(in_features=768, out_features=768, bias=True)\n",
      "              (q_proj): Linear(in_features=768, out_features=768, bias=True)\n",
      "              (out_proj): Linear(in_features=768, out_features=768, bias=True)\n",
      "            )\n",
      "            (self_attn_layer_norm): LayerNorm((768,), eps=1e-05, elementwise_affine=True)\n",
      "            (fc1): Linear(in_features=768, out_features=3072, bias=True)\n",
      "            (fc2): Linear(in_features=3072, out_features=768, bias=True)\n",
      "            (final_layer_norm): LayerNorm((768,), eps=1e-05, elementwise_affine=True)\n",
      "          )\n",
      "          (4): TransformerSentenceEncoderLayer(\n",
      "            (dropout_module): FairseqDropout()\n",
      "            (activation_dropout_module): FairseqDropout()\n",
      "            (self_attn): MultiheadAttention(\n",
      "              (dropout_module): FairseqDropout()\n",
      "              (k_proj): Linear(in_features=768, out_features=768, bias=True)\n",
      "              (v_proj): Linear(in_features=768, out_features=768, bias=True)\n",
      "              (q_proj): Linear(in_features=768, out_features=768, bias=True)\n",
      "              (out_proj): Linear(in_features=768, out_features=768, bias=True)\n",
      "            )\n",
      "            (self_attn_layer_norm): LayerNorm((768,), eps=1e-05, elementwise_affine=True)\n",
      "            (fc1): Linear(in_features=768, out_features=3072, bias=True)\n",
      "            (fc2): Linear(in_features=3072, out_features=768, bias=True)\n",
      "            (final_layer_norm): LayerNorm((768,), eps=1e-05, elementwise_affine=True)\n",
      "          )\n",
      "          (5): TransformerSentenceEncoderLayer(\n",
      "            (dropout_module): FairseqDropout()\n",
      "            (activation_dropout_module): FairseqDropout()\n",
      "            (self_attn): MultiheadAttention(\n",
      "              (dropout_module): FairseqDropout()\n",
      "              (k_proj): Linear(in_features=768, out_features=768, bias=True)\n",
      "              (v_proj): Linear(in_features=768, out_features=768, bias=True)\n",
      "              (q_proj): Linear(in_features=768, out_features=768, bias=True)\n",
      "              (out_proj): Linear(in_features=768, out_features=768, bias=True)\n",
      "            )\n",
      "            (self_attn_layer_norm): LayerNorm((768,), eps=1e-05, elementwise_affine=True)\n",
      "            (fc1): Linear(in_features=768, out_features=3072, bias=True)\n",
      "            (fc2): Linear(in_features=3072, out_features=768, bias=True)\n",
      "            (final_layer_norm): LayerNorm((768,), eps=1e-05, elementwise_affine=True)\n",
      "          )\n",
      "          (6): TransformerSentenceEncoderLayer(\n",
      "            (dropout_module): FairseqDropout()\n",
      "            (activation_dropout_module): FairseqDropout()\n",
      "            (self_attn): MultiheadAttention(\n",
      "              (dropout_module): FairseqDropout()\n",
      "              (k_proj): Linear(in_features=768, out_features=768, bias=True)\n",
      "              (v_proj): Linear(in_features=768, out_features=768, bias=True)\n",
      "              (q_proj): Linear(in_features=768, out_features=768, bias=True)\n",
      "              (out_proj): Linear(in_features=768, out_features=768, bias=True)\n",
      "            )\n",
      "            (self_attn_layer_norm): LayerNorm((768,), eps=1e-05, elementwise_affine=True)\n",
      "            (fc1): Linear(in_features=768, out_features=3072, bias=True)\n",
      "            (fc2): Linear(in_features=3072, out_features=768, bias=True)\n",
      "            (final_layer_norm): LayerNorm((768,), eps=1e-05, elementwise_affine=True)\n",
      "          )\n",
      "          (7): TransformerSentenceEncoderLayer(\n",
      "            (dropout_module): FairseqDropout()\n",
      "            (activation_dropout_module): FairseqDropout()\n",
      "            (self_attn): MultiheadAttention(\n",
      "              (dropout_module): FairseqDropout()\n",
      "              (k_proj): Linear(in_features=768, out_features=768, bias=True)\n",
      "              (v_proj): Linear(in_features=768, out_features=768, bias=True)\n",
      "              (q_proj): Linear(in_features=768, out_features=768, bias=True)\n",
      "              (out_proj): Linear(in_features=768, out_features=768, bias=True)\n",
      "            )\n",
      "            (self_attn_layer_norm): LayerNorm((768,), eps=1e-05, elementwise_affine=True)\n",
      "            (fc1): Linear(in_features=768, out_features=3072, bias=True)\n",
      "            (fc2): Linear(in_features=3072, out_features=768, bias=True)\n",
      "            (final_layer_norm): LayerNorm((768,), eps=1e-05, elementwise_affine=True)\n",
      "          )\n",
      "          (8): TransformerSentenceEncoderLayer(\n",
      "            (dropout_module): FairseqDropout()\n",
      "            (activation_dropout_module): FairseqDropout()\n",
      "            (self_attn): MultiheadAttention(\n",
      "              (dropout_module): FairseqDropout()\n",
      "              (k_proj): Linear(in_features=768, out_features=768, bias=True)\n",
      "              (v_proj): Linear(in_features=768, out_features=768, bias=True)\n",
      "              (q_proj): Linear(in_features=768, out_features=768, bias=True)\n",
      "              (out_proj): Linear(in_features=768, out_features=768, bias=True)\n",
      "            )\n",
      "            (self_attn_layer_norm): LayerNorm((768,), eps=1e-05, elementwise_affine=True)\n",
      "            (fc1): Linear(in_features=768, out_features=3072, bias=True)\n",
      "            (fc2): Linear(in_features=3072, out_features=768, bias=True)\n",
      "            (final_layer_norm): LayerNorm((768,), eps=1e-05, elementwise_affine=True)\n",
      "          )\n",
      "          (9): TransformerSentenceEncoderLayer(\n",
      "            (dropout_module): FairseqDropout()\n",
      "            (activation_dropout_module): FairseqDropout()\n",
      "            (self_attn): MultiheadAttention(\n",
      "              (dropout_module): FairseqDropout()\n",
      "              (k_proj): Linear(in_features=768, out_features=768, bias=True)\n",
      "              (v_proj): Linear(in_features=768, out_features=768, bias=True)\n",
      "              (q_proj): Linear(in_features=768, out_features=768, bias=True)\n",
      "              (out_proj): Linear(in_features=768, out_features=768, bias=True)\n",
      "            )\n",
      "            (self_attn_layer_norm): LayerNorm((768,), eps=1e-05, elementwise_affine=True)\n",
      "            (fc1): Linear(in_features=768, out_features=3072, bias=True)\n",
      "            (fc2): Linear(in_features=3072, out_features=768, bias=True)\n",
      "            (final_layer_norm): LayerNorm((768,), eps=1e-05, elementwise_affine=True)\n",
      "          )\n",
      "          (10): TransformerSentenceEncoderLayer(\n",
      "            (dropout_module): FairseqDropout()\n",
      "            (activation_dropout_module): FairseqDropout()\n",
      "            (self_attn): MultiheadAttention(\n",
      "              (dropout_module): FairseqDropout()\n",
      "              (k_proj): Linear(in_features=768, out_features=768, bias=True)\n",
      "              (v_proj): Linear(in_features=768, out_features=768, bias=True)\n",
      "              (q_proj): Linear(in_features=768, out_features=768, bias=True)\n",
      "              (out_proj): Linear(in_features=768, out_features=768, bias=True)\n",
      "            )\n",
      "            (self_attn_layer_norm): LayerNorm((768,), eps=1e-05, elementwise_affine=True)\n",
      "            (fc1): Linear(in_features=768, out_features=3072, bias=True)\n",
      "            (fc2): Linear(in_features=3072, out_features=768, bias=True)\n",
      "            (final_layer_norm): LayerNorm((768,), eps=1e-05, elementwise_affine=True)\n",
      "          )\n",
      "          (11): TransformerSentenceEncoderLayer(\n",
      "            (dropout_module): FairseqDropout()\n",
      "            (activation_dropout_module): FairseqDropout()\n",
      "            (self_attn): MultiheadAttention(\n",
      "              (dropout_module): FairseqDropout()\n",
      "              (k_proj): Linear(in_features=768, out_features=768, bias=True)\n",
      "              (v_proj): Linear(in_features=768, out_features=768, bias=True)\n",
      "              (q_proj): Linear(in_features=768, out_features=768, bias=True)\n",
      "              (out_proj): Linear(in_features=768, out_features=768, bias=True)\n",
      "            )\n",
      "            (self_attn_layer_norm): LayerNorm((768,), eps=1e-05, elementwise_affine=True)\n",
      "            (fc1): Linear(in_features=768, out_features=3072, bias=True)\n",
      "            (fc2): Linear(in_features=3072, out_features=768, bias=True)\n",
      "            (final_layer_norm): LayerNorm((768,), eps=1e-05, elementwise_affine=True)\n",
      "          )\n",
      "        )\n",
      "        (downsampling): Sequential(\n",
      "          (0): Linear(in_features=6144, out_features=768, bias=True)\n",
      "        )\n",
      "        (upsampling): Sequential(\n",
      "          (0): Linear(in_features=768, out_features=6144, bias=True)\n",
      "        )\n",
      "      )\n",
      "      (lm_head): RobertaLMHead(\n",
      "        (dense): Linear(in_features=768, out_features=768, bias=True)\n",
      "        (layer_norm): LayerNorm((768,), eps=1e-05, elementwise_affine=True)\n",
      "      )\n",
      "    )\n",
      "    (classification_heads): ModuleDict(\n",
      "      (topmagd_head): RobertaClassificationHead(\n",
      "        (dense): Linear(in_features=768, out_features=768, bias=True)\n",
      "        (dropout): Dropout(p=0.0, inplace=False)\n",
      "        (out_proj): Linear(in_features=768, out_features=13, bias=True)\n",
      "      )\n",
      "    )\n",
      "  )\n",
      ")\n"
     ]
    }
   ],
   "source": [
    "print(roberta_base)"
   ]
  },
  {
   "cell_type": "code",
   "execution_count": null,
   "metadata": {
    "colab": {
     "base_uri": "https://localhost:8080/"
    },
    "id": "gRLp3avyUywc",
    "outputId": "cef1894a-23a8-49ca-ea2f-c314792ed01f"
   },
   "outputs": [
    {
     "name": "stdout",
     "output_type": "stream",
     "text": [
      "OctupleEncoder(\n",
      "  (dropout_module): FairseqDropout()\n",
      "  (embed_tokens): Embedding(1237, 768, padding_idx=1)\n",
      "  (embed_positions): LearnedPositionalEmbedding(8194, 768, padding_idx=1)\n",
      "  (emb_layer_norm): LayerNorm((768,), eps=1e-05, elementwise_affine=True)\n",
      "  (layers): ModuleList(\n",
      "    (0): TransformerSentenceEncoderLayer(\n",
      "      (dropout_module): FairseqDropout()\n",
      "      (activation_dropout_module): FairseqDropout()\n",
      "      (self_attn): MultiheadAttention(\n",
      "        (dropout_module): FairseqDropout()\n",
      "        (k_proj): Linear(in_features=768, out_features=768, bias=True)\n",
      "        (v_proj): Linear(in_features=768, out_features=768, bias=True)\n",
      "        (q_proj): Linear(in_features=768, out_features=768, bias=True)\n",
      "        (out_proj): Linear(in_features=768, out_features=768, bias=True)\n",
      "      )\n",
      "      (self_attn_layer_norm): LayerNorm((768,), eps=1e-05, elementwise_affine=True)\n",
      "      (fc1): Linear(in_features=768, out_features=3072, bias=True)\n",
      "      (fc2): Linear(in_features=3072, out_features=768, bias=True)\n",
      "      (final_layer_norm): LayerNorm((768,), eps=1e-05, elementwise_affine=True)\n",
      "    )\n",
      "    (1): TransformerSentenceEncoderLayer(\n",
      "      (dropout_module): FairseqDropout()\n",
      "      (activation_dropout_module): FairseqDropout()\n",
      "      (self_attn): MultiheadAttention(\n",
      "        (dropout_module): FairseqDropout()\n",
      "        (k_proj): Linear(in_features=768, out_features=768, bias=True)\n",
      "        (v_proj): Linear(in_features=768, out_features=768, bias=True)\n",
      "        (q_proj): Linear(in_features=768, out_features=768, bias=True)\n",
      "        (out_proj): Linear(in_features=768, out_features=768, bias=True)\n",
      "      )\n",
      "      (self_attn_layer_norm): LayerNorm((768,), eps=1e-05, elementwise_affine=True)\n",
      "      (fc1): Linear(in_features=768, out_features=3072, bias=True)\n",
      "      (fc2): Linear(in_features=3072, out_features=768, bias=True)\n",
      "      (final_layer_norm): LayerNorm((768,), eps=1e-05, elementwise_affine=True)\n",
      "    )\n",
      "    (2): TransformerSentenceEncoderLayer(\n",
      "      (dropout_module): FairseqDropout()\n",
      "      (activation_dropout_module): FairseqDropout()\n",
      "      (self_attn): MultiheadAttention(\n",
      "        (dropout_module): FairseqDropout()\n",
      "        (k_proj): Linear(in_features=768, out_features=768, bias=True)\n",
      "        (v_proj): Linear(in_features=768, out_features=768, bias=True)\n",
      "        (q_proj): Linear(in_features=768, out_features=768, bias=True)\n",
      "        (out_proj): Linear(in_features=768, out_features=768, bias=True)\n",
      "      )\n",
      "      (self_attn_layer_norm): LayerNorm((768,), eps=1e-05, elementwise_affine=True)\n",
      "      (fc1): Linear(in_features=768, out_features=3072, bias=True)\n",
      "      (fc2): Linear(in_features=3072, out_features=768, bias=True)\n",
      "      (final_layer_norm): LayerNorm((768,), eps=1e-05, elementwise_affine=True)\n",
      "    )\n",
      "    (3): TransformerSentenceEncoderLayer(\n",
      "      (dropout_module): FairseqDropout()\n",
      "      (activation_dropout_module): FairseqDropout()\n",
      "      (self_attn): MultiheadAttention(\n",
      "        (dropout_module): FairseqDropout()\n",
      "        (k_proj): Linear(in_features=768, out_features=768, bias=True)\n",
      "        (v_proj): Linear(in_features=768, out_features=768, bias=True)\n",
      "        (q_proj): Linear(in_features=768, out_features=768, bias=True)\n",
      "        (out_proj): Linear(in_features=768, out_features=768, bias=True)\n",
      "      )\n",
      "      (self_attn_layer_norm): LayerNorm((768,), eps=1e-05, elementwise_affine=True)\n",
      "      (fc1): Linear(in_features=768, out_features=3072, bias=True)\n",
      "      (fc2): Linear(in_features=3072, out_features=768, bias=True)\n",
      "      (final_layer_norm): LayerNorm((768,), eps=1e-05, elementwise_affine=True)\n",
      "    )\n",
      "    (4): TransformerSentenceEncoderLayer(\n",
      "      (dropout_module): FairseqDropout()\n",
      "      (activation_dropout_module): FairseqDropout()\n",
      "      (self_attn): MultiheadAttention(\n",
      "        (dropout_module): FairseqDropout()\n",
      "        (k_proj): Linear(in_features=768, out_features=768, bias=True)\n",
      "        (v_proj): Linear(in_features=768, out_features=768, bias=True)\n",
      "        (q_proj): Linear(in_features=768, out_features=768, bias=True)\n",
      "        (out_proj): Linear(in_features=768, out_features=768, bias=True)\n",
      "      )\n",
      "      (self_attn_layer_norm): LayerNorm((768,), eps=1e-05, elementwise_affine=True)\n",
      "      (fc1): Linear(in_features=768, out_features=3072, bias=True)\n",
      "      (fc2): Linear(in_features=3072, out_features=768, bias=True)\n",
      "      (final_layer_norm): LayerNorm((768,), eps=1e-05, elementwise_affine=True)\n",
      "    )\n",
      "    (5): TransformerSentenceEncoderLayer(\n",
      "      (dropout_module): FairseqDropout()\n",
      "      (activation_dropout_module): FairseqDropout()\n",
      "      (self_attn): MultiheadAttention(\n",
      "        (dropout_module): FairseqDropout()\n",
      "        (k_proj): Linear(in_features=768, out_features=768, bias=True)\n",
      "        (v_proj): Linear(in_features=768, out_features=768, bias=True)\n",
      "        (q_proj): Linear(in_features=768, out_features=768, bias=True)\n",
      "        (out_proj): Linear(in_features=768, out_features=768, bias=True)\n",
      "      )\n",
      "      (self_attn_layer_norm): LayerNorm((768,), eps=1e-05, elementwise_affine=True)\n",
      "      (fc1): Linear(in_features=768, out_features=3072, bias=True)\n",
      "      (fc2): Linear(in_features=3072, out_features=768, bias=True)\n",
      "      (final_layer_norm): LayerNorm((768,), eps=1e-05, elementwise_affine=True)\n",
      "    )\n",
      "    (6): TransformerSentenceEncoderLayer(\n",
      "      (dropout_module): FairseqDropout()\n",
      "      (activation_dropout_module): FairseqDropout()\n",
      "      (self_attn): MultiheadAttention(\n",
      "        (dropout_module): FairseqDropout()\n",
      "        (k_proj): Linear(in_features=768, out_features=768, bias=True)\n",
      "        (v_proj): Linear(in_features=768, out_features=768, bias=True)\n",
      "        (q_proj): Linear(in_features=768, out_features=768, bias=True)\n",
      "        (out_proj): Linear(in_features=768, out_features=768, bias=True)\n",
      "      )\n",
      "      (self_attn_layer_norm): LayerNorm((768,), eps=1e-05, elementwise_affine=True)\n",
      "      (fc1): Linear(in_features=768, out_features=3072, bias=True)\n",
      "      (fc2): Linear(in_features=3072, out_features=768, bias=True)\n",
      "      (final_layer_norm): LayerNorm((768,), eps=1e-05, elementwise_affine=True)\n",
      "    )\n",
      "    (7): TransformerSentenceEncoderLayer(\n",
      "      (dropout_module): FairseqDropout()\n",
      "      (activation_dropout_module): FairseqDropout()\n",
      "      (self_attn): MultiheadAttention(\n",
      "        (dropout_module): FairseqDropout()\n",
      "        (k_proj): Linear(in_features=768, out_features=768, bias=True)\n",
      "        (v_proj): Linear(in_features=768, out_features=768, bias=True)\n",
      "        (q_proj): Linear(in_features=768, out_features=768, bias=True)\n",
      "        (out_proj): Linear(in_features=768, out_features=768, bias=True)\n",
      "      )\n",
      "      (self_attn_layer_norm): LayerNorm((768,), eps=1e-05, elementwise_affine=True)\n",
      "      (fc1): Linear(in_features=768, out_features=3072, bias=True)\n",
      "      (fc2): Linear(in_features=3072, out_features=768, bias=True)\n",
      "      (final_layer_norm): LayerNorm((768,), eps=1e-05, elementwise_affine=True)\n",
      "    )\n",
      "    (8): TransformerSentenceEncoderLayer(\n",
      "      (dropout_module): FairseqDropout()\n",
      "      (activation_dropout_module): FairseqDropout()\n",
      "      (self_attn): MultiheadAttention(\n",
      "        (dropout_module): FairseqDropout()\n",
      "        (k_proj): Linear(in_features=768, out_features=768, bias=True)\n",
      "        (v_proj): Linear(in_features=768, out_features=768, bias=True)\n",
      "        (q_proj): Linear(in_features=768, out_features=768, bias=True)\n",
      "        (out_proj): Linear(in_features=768, out_features=768, bias=True)\n",
      "      )\n",
      "      (self_attn_layer_norm): LayerNorm((768,), eps=1e-05, elementwise_affine=True)\n",
      "      (fc1): Linear(in_features=768, out_features=3072, bias=True)\n",
      "      (fc2): Linear(in_features=3072, out_features=768, bias=True)\n",
      "      (final_layer_norm): LayerNorm((768,), eps=1e-05, elementwise_affine=True)\n",
      "    )\n",
      "    (9): TransformerSentenceEncoderLayer(\n",
      "      (dropout_module): FairseqDropout()\n",
      "      (activation_dropout_module): FairseqDropout()\n",
      "      (self_attn): MultiheadAttention(\n",
      "        (dropout_module): FairseqDropout()\n",
      "        (k_proj): Linear(in_features=768, out_features=768, bias=True)\n",
      "        (v_proj): Linear(in_features=768, out_features=768, bias=True)\n",
      "        (q_proj): Linear(in_features=768, out_features=768, bias=True)\n",
      "        (out_proj): Linear(in_features=768, out_features=768, bias=True)\n",
      "      )\n",
      "      (self_attn_layer_norm): LayerNorm((768,), eps=1e-05, elementwise_affine=True)\n",
      "      (fc1): Linear(in_features=768, out_features=3072, bias=True)\n",
      "      (fc2): Linear(in_features=3072, out_features=768, bias=True)\n",
      "      (final_layer_norm): LayerNorm((768,), eps=1e-05, elementwise_affine=True)\n",
      "    )\n",
      "    (10): TransformerSentenceEncoderLayer(\n",
      "      (dropout_module): FairseqDropout()\n",
      "      (activation_dropout_module): FairseqDropout()\n",
      "      (self_attn): MultiheadAttention(\n",
      "        (dropout_module): FairseqDropout()\n",
      "        (k_proj): Linear(in_features=768, out_features=768, bias=True)\n",
      "        (v_proj): Linear(in_features=768, out_features=768, bias=True)\n",
      "        (q_proj): Linear(in_features=768, out_features=768, bias=True)\n",
      "        (out_proj): Linear(in_features=768, out_features=768, bias=True)\n",
      "      )\n",
      "      (self_attn_layer_norm): LayerNorm((768,), eps=1e-05, elementwise_affine=True)\n",
      "      (fc1): Linear(in_features=768, out_features=3072, bias=True)\n",
      "      (fc2): Linear(in_features=3072, out_features=768, bias=True)\n",
      "      (final_layer_norm): LayerNorm((768,), eps=1e-05, elementwise_affine=True)\n",
      "    )\n",
      "    (11): TransformerSentenceEncoderLayer(\n",
      "      (dropout_module): FairseqDropout()\n",
      "      (activation_dropout_module): FairseqDropout()\n",
      "      (self_attn): MultiheadAttention(\n",
      "        (dropout_module): FairseqDropout()\n",
      "        (k_proj): Linear(in_features=768, out_features=768, bias=True)\n",
      "        (v_proj): Linear(in_features=768, out_features=768, bias=True)\n",
      "        (q_proj): Linear(in_features=768, out_features=768, bias=True)\n",
      "        (out_proj): Linear(in_features=768, out_features=768, bias=True)\n",
      "      )\n",
      "      (self_attn_layer_norm): LayerNorm((768,), eps=1e-05, elementwise_affine=True)\n",
      "      (fc1): Linear(in_features=768, out_features=3072, bias=True)\n",
      "      (fc2): Linear(in_features=3072, out_features=768, bias=True)\n",
      "      (final_layer_norm): LayerNorm((768,), eps=1e-05, elementwise_affine=True)\n",
      "    )\n",
      "  )\n",
      "  (downsampling): Sequential(\n",
      "    (0): Linear(in_features=6144, out_features=768, bias=True)\n",
      "  )\n",
      "  (upsampling): Sequential(\n",
      "    (0): Linear(in_features=768, out_features=6144, bias=True)\n",
      "  )\n",
      ")\n"
     ]
    }
   ],
   "source": [
    "samp = roberta_base.model.encoder.sentence_encoder\n",
    "print(samp)\n",
    "del samp"
   ]
  },
  {
   "cell_type": "code",
   "execution_count": null,
   "metadata": {
    "colab": {
     "base_uri": "https://localhost:8080/"
    },
    "id": "EmDnZZa1Uarx",
    "outputId": "7fc18783-f5f2-499d-914a-84ed5c0f5241"
   },
   "outputs": [
    {
     "name": "stdout",
     "output_type": "stream",
     "text": [
      "RobertaLMHead(\n",
      "  (dense): Linear(in_features=768, out_features=768, bias=True)\n",
      "  (layer_norm): LayerNorm((768,), eps=1e-05, elementwise_affine=True)\n",
      ")\n"
     ]
    }
   ],
   "source": [
    "samp = roberta_base.model.encoder.lm_head\n",
    "print(samp)\n",
    "del samp"
   ]
  },
  {
   "cell_type": "code",
   "execution_count": null,
   "metadata": {
    "colab": {
     "base_uri": "https://localhost:8080/"
    },
    "id": "6ef7Ap_zD74Y",
    "outputId": "08850b7e-defe-4c6a-9395-0a93815b1274"
   },
   "outputs": [
    {
     "data": {
      "text/plain": [
       "RobertaHubInterface(\n",
       "  (model): MusicBERTModel(\n",
       "    (encoder): MusicBERTEncoder(\n",
       "      (sentence_encoder): OctupleEncoder(\n",
       "        (dropout_module): FairseqDropout()\n",
       "        (embed_tokens): Embedding(1237, 768, padding_idx=1)\n",
       "        (embed_positions): LearnedPositionalEmbedding(8194, 768, padding_idx=1)\n",
       "        (emb_layer_norm): LayerNorm((768,), eps=1e-05, elementwise_affine=True)\n",
       "        (layers): ModuleList(\n",
       "          (0): TransformerSentenceEncoderLayer(\n",
       "            (dropout_module): FairseqDropout()\n",
       "            (activation_dropout_module): FairseqDropout()\n",
       "            (self_attn): MultiheadAttention(\n",
       "              (dropout_module): FairseqDropout()\n",
       "              (k_proj): Linear(in_features=768, out_features=768, bias=True)\n",
       "              (v_proj): Linear(in_features=768, out_features=768, bias=True)\n",
       "              (q_proj): Linear(in_features=768, out_features=768, bias=True)\n",
       "              (out_proj): Linear(in_features=768, out_features=768, bias=True)\n",
       "            )\n",
       "            (self_attn_layer_norm): LayerNorm((768,), eps=1e-05, elementwise_affine=True)\n",
       "            (fc1): Linear(in_features=768, out_features=3072, bias=True)\n",
       "            (fc2): Linear(in_features=3072, out_features=768, bias=True)\n",
       "            (final_layer_norm): LayerNorm((768,), eps=1e-05, elementwise_affine=True)\n",
       "          )\n",
       "          (1): TransformerSentenceEncoderLayer(\n",
       "            (dropout_module): FairseqDropout()\n",
       "            (activation_dropout_module): FairseqDropout()\n",
       "            (self_attn): MultiheadAttention(\n",
       "              (dropout_module): FairseqDropout()\n",
       "              (k_proj): Linear(in_features=768, out_features=768, bias=True)\n",
       "              (v_proj): Linear(in_features=768, out_features=768, bias=True)\n",
       "              (q_proj): Linear(in_features=768, out_features=768, bias=True)\n",
       "              (out_proj): Linear(in_features=768, out_features=768, bias=True)\n",
       "            )\n",
       "            (self_attn_layer_norm): LayerNorm((768,), eps=1e-05, elementwise_affine=True)\n",
       "            (fc1): Linear(in_features=768, out_features=3072, bias=True)\n",
       "            (fc2): Linear(in_features=3072, out_features=768, bias=True)\n",
       "            (final_layer_norm): LayerNorm((768,), eps=1e-05, elementwise_affine=True)\n",
       "          )\n",
       "          (2): TransformerSentenceEncoderLayer(\n",
       "            (dropout_module): FairseqDropout()\n",
       "            (activation_dropout_module): FairseqDropout()\n",
       "            (self_attn): MultiheadAttention(\n",
       "              (dropout_module): FairseqDropout()\n",
       "              (k_proj): Linear(in_features=768, out_features=768, bias=True)\n",
       "              (v_proj): Linear(in_features=768, out_features=768, bias=True)\n",
       "              (q_proj): Linear(in_features=768, out_features=768, bias=True)\n",
       "              (out_proj): Linear(in_features=768, out_features=768, bias=True)\n",
       "            )\n",
       "            (self_attn_layer_norm): LayerNorm((768,), eps=1e-05, elementwise_affine=True)\n",
       "            (fc1): Linear(in_features=768, out_features=3072, bias=True)\n",
       "            (fc2): Linear(in_features=3072, out_features=768, bias=True)\n",
       "            (final_layer_norm): LayerNorm((768,), eps=1e-05, elementwise_affine=True)\n",
       "          )\n",
       "          (3): TransformerSentenceEncoderLayer(\n",
       "            (dropout_module): FairseqDropout()\n",
       "            (activation_dropout_module): FairseqDropout()\n",
       "            (self_attn): MultiheadAttention(\n",
       "              (dropout_module): FairseqDropout()\n",
       "              (k_proj): Linear(in_features=768, out_features=768, bias=True)\n",
       "              (v_proj): Linear(in_features=768, out_features=768, bias=True)\n",
       "              (q_proj): Linear(in_features=768, out_features=768, bias=True)\n",
       "              (out_proj): Linear(in_features=768, out_features=768, bias=True)\n",
       "            )\n",
       "            (self_attn_layer_norm): LayerNorm((768,), eps=1e-05, elementwise_affine=True)\n",
       "            (fc1): Linear(in_features=768, out_features=3072, bias=True)\n",
       "            (fc2): Linear(in_features=3072, out_features=768, bias=True)\n",
       "            (final_layer_norm): LayerNorm((768,), eps=1e-05, elementwise_affine=True)\n",
       "          )\n",
       "          (4): TransformerSentenceEncoderLayer(\n",
       "            (dropout_module): FairseqDropout()\n",
       "            (activation_dropout_module): FairseqDropout()\n",
       "            (self_attn): MultiheadAttention(\n",
       "              (dropout_module): FairseqDropout()\n",
       "              (k_proj): Linear(in_features=768, out_features=768, bias=True)\n",
       "              (v_proj): Linear(in_features=768, out_features=768, bias=True)\n",
       "              (q_proj): Linear(in_features=768, out_features=768, bias=True)\n",
       "              (out_proj): Linear(in_features=768, out_features=768, bias=True)\n",
       "            )\n",
       "            (self_attn_layer_norm): LayerNorm((768,), eps=1e-05, elementwise_affine=True)\n",
       "            (fc1): Linear(in_features=768, out_features=3072, bias=True)\n",
       "            (fc2): Linear(in_features=3072, out_features=768, bias=True)\n",
       "            (final_layer_norm): LayerNorm((768,), eps=1e-05, elementwise_affine=True)\n",
       "          )\n",
       "          (5): TransformerSentenceEncoderLayer(\n",
       "            (dropout_module): FairseqDropout()\n",
       "            (activation_dropout_module): FairseqDropout()\n",
       "            (self_attn): MultiheadAttention(\n",
       "              (dropout_module): FairseqDropout()\n",
       "              (k_proj): Linear(in_features=768, out_features=768, bias=True)\n",
       "              (v_proj): Linear(in_features=768, out_features=768, bias=True)\n",
       "              (q_proj): Linear(in_features=768, out_features=768, bias=True)\n",
       "              (out_proj): Linear(in_features=768, out_features=768, bias=True)\n",
       "            )\n",
       "            (self_attn_layer_norm): LayerNorm((768,), eps=1e-05, elementwise_affine=True)\n",
       "            (fc1): Linear(in_features=768, out_features=3072, bias=True)\n",
       "            (fc2): Linear(in_features=3072, out_features=768, bias=True)\n",
       "            (final_layer_norm): LayerNorm((768,), eps=1e-05, elementwise_affine=True)\n",
       "          )\n",
       "          (6): TransformerSentenceEncoderLayer(\n",
       "            (dropout_module): FairseqDropout()\n",
       "            (activation_dropout_module): FairseqDropout()\n",
       "            (self_attn): MultiheadAttention(\n",
       "              (dropout_module): FairseqDropout()\n",
       "              (k_proj): Linear(in_features=768, out_features=768, bias=True)\n",
       "              (v_proj): Linear(in_features=768, out_features=768, bias=True)\n",
       "              (q_proj): Linear(in_features=768, out_features=768, bias=True)\n",
       "              (out_proj): Linear(in_features=768, out_features=768, bias=True)\n",
       "            )\n",
       "            (self_attn_layer_norm): LayerNorm((768,), eps=1e-05, elementwise_affine=True)\n",
       "            (fc1): Linear(in_features=768, out_features=3072, bias=True)\n",
       "            (fc2): Linear(in_features=3072, out_features=768, bias=True)\n",
       "            (final_layer_norm): LayerNorm((768,), eps=1e-05, elementwise_affine=True)\n",
       "          )\n",
       "          (7): TransformerSentenceEncoderLayer(\n",
       "            (dropout_module): FairseqDropout()\n",
       "            (activation_dropout_module): FairseqDropout()\n",
       "            (self_attn): MultiheadAttention(\n",
       "              (dropout_module): FairseqDropout()\n",
       "              (k_proj): Linear(in_features=768, out_features=768, bias=True)\n",
       "              (v_proj): Linear(in_features=768, out_features=768, bias=True)\n",
       "              (q_proj): Linear(in_features=768, out_features=768, bias=True)\n",
       "              (out_proj): Linear(in_features=768, out_features=768, bias=True)\n",
       "            )\n",
       "            (self_attn_layer_norm): LayerNorm((768,), eps=1e-05, elementwise_affine=True)\n",
       "            (fc1): Linear(in_features=768, out_features=3072, bias=True)\n",
       "            (fc2): Linear(in_features=3072, out_features=768, bias=True)\n",
       "            (final_layer_norm): LayerNorm((768,), eps=1e-05, elementwise_affine=True)\n",
       "          )\n",
       "          (8): TransformerSentenceEncoderLayer(\n",
       "            (dropout_module): FairseqDropout()\n",
       "            (activation_dropout_module): FairseqDropout()\n",
       "            (self_attn): MultiheadAttention(\n",
       "              (dropout_module): FairseqDropout()\n",
       "              (k_proj): Linear(in_features=768, out_features=768, bias=True)\n",
       "              (v_proj): Linear(in_features=768, out_features=768, bias=True)\n",
       "              (q_proj): Linear(in_features=768, out_features=768, bias=True)\n",
       "              (out_proj): Linear(in_features=768, out_features=768, bias=True)\n",
       "            )\n",
       "            (self_attn_layer_norm): LayerNorm((768,), eps=1e-05, elementwise_affine=True)\n",
       "            (fc1): Linear(in_features=768, out_features=3072, bias=True)\n",
       "            (fc2): Linear(in_features=3072, out_features=768, bias=True)\n",
       "            (final_layer_norm): LayerNorm((768,), eps=1e-05, elementwise_affine=True)\n",
       "          )\n",
       "          (9): TransformerSentenceEncoderLayer(\n",
       "            (dropout_module): FairseqDropout()\n",
       "            (activation_dropout_module): FairseqDropout()\n",
       "            (self_attn): MultiheadAttention(\n",
       "              (dropout_module): FairseqDropout()\n",
       "              (k_proj): Linear(in_features=768, out_features=768, bias=True)\n",
       "              (v_proj): Linear(in_features=768, out_features=768, bias=True)\n",
       "              (q_proj): Linear(in_features=768, out_features=768, bias=True)\n",
       "              (out_proj): Linear(in_features=768, out_features=768, bias=True)\n",
       "            )\n",
       "            (self_attn_layer_norm): LayerNorm((768,), eps=1e-05, elementwise_affine=True)\n",
       "            (fc1): Linear(in_features=768, out_features=3072, bias=True)\n",
       "            (fc2): Linear(in_features=3072, out_features=768, bias=True)\n",
       "            (final_layer_norm): LayerNorm((768,), eps=1e-05, elementwise_affine=True)\n",
       "          )\n",
       "          (10): TransformerSentenceEncoderLayer(\n",
       "            (dropout_module): FairseqDropout()\n",
       "            (activation_dropout_module): FairseqDropout()\n",
       "            (self_attn): MultiheadAttention(\n",
       "              (dropout_module): FairseqDropout()\n",
       "              (k_proj): Linear(in_features=768, out_features=768, bias=True)\n",
       "              (v_proj): Linear(in_features=768, out_features=768, bias=True)\n",
       "              (q_proj): Linear(in_features=768, out_features=768, bias=True)\n",
       "              (out_proj): Linear(in_features=768, out_features=768, bias=True)\n",
       "            )\n",
       "            (self_attn_layer_norm): LayerNorm((768,), eps=1e-05, elementwise_affine=True)\n",
       "            (fc1): Linear(in_features=768, out_features=3072, bias=True)\n",
       "            (fc2): Linear(in_features=3072, out_features=768, bias=True)\n",
       "            (final_layer_norm): LayerNorm((768,), eps=1e-05, elementwise_affine=True)\n",
       "          )\n",
       "          (11): TransformerSentenceEncoderLayer(\n",
       "            (dropout_module): FairseqDropout()\n",
       "            (activation_dropout_module): FairseqDropout()\n",
       "            (self_attn): MultiheadAttention(\n",
       "              (dropout_module): FairseqDropout()\n",
       "              (k_proj): Linear(in_features=768, out_features=768, bias=True)\n",
       "              (v_proj): Linear(in_features=768, out_features=768, bias=True)\n",
       "              (q_proj): Linear(in_features=768, out_features=768, bias=True)\n",
       "              (out_proj): Linear(in_features=768, out_features=768, bias=True)\n",
       "            )\n",
       "            (self_attn_layer_norm): LayerNorm((768,), eps=1e-05, elementwise_affine=True)\n",
       "            (fc1): Linear(in_features=768, out_features=3072, bias=True)\n",
       "            (fc2): Linear(in_features=3072, out_features=768, bias=True)\n",
       "            (final_layer_norm): LayerNorm((768,), eps=1e-05, elementwise_affine=True)\n",
       "          )\n",
       "        )\n",
       "        (downsampling): Sequential(\n",
       "          (0): Linear(in_features=6144, out_features=768, bias=True)\n",
       "        )\n",
       "        (upsampling): Sequential(\n",
       "          (0): Linear(in_features=768, out_features=6144, bias=True)\n",
       "        )\n",
       "      )\n",
       "      (lm_head): RobertaLMHead(\n",
       "        (dense): Linear(in_features=768, out_features=768, bias=True)\n",
       "        (layer_norm): LayerNorm((768,), eps=1e-05, elementwise_affine=True)\n",
       "      )\n",
       "    )\n",
       "    (classification_heads): ModuleDict(\n",
       "      (topmagd_head): RobertaClassificationHead(\n",
       "        (dense): Linear(in_features=768, out_features=768, bias=True)\n",
       "        (dropout): Dropout(p=0.0, inplace=False)\n",
       "        (out_proj): Linear(in_features=768, out_features=13, bias=True)\n",
       "      )\n",
       "    )\n",
       "  )\n",
       ")"
      ]
     },
     "execution_count": 63,
     "metadata": {},
     "output_type": "execute_result"
    }
   ],
   "source": [
    "roberta_base.cuda()\n",
    "roberta_base.eval()"
   ]
  },
  {
   "cell_type": "code",
   "execution_count": null,
   "metadata": {
    "id": "rTVIP-cBQxEr"
   },
   "outputs": [],
   "source": [
    "# print('loading model and data')\n",
    "\n",
    "# roberta_base = RobertaModel.from_pretrained('.',\n",
    "#   checkpoint_file = 'checkpoints/checkpoint_last_musicbert_base_w_genre_head.pt',\n",
    "#   user_dir='musicbert'    # activate the MusicBERT plugin with this keyword\n",
    "# )\n",
    "# #,\n",
    "#  # data_name_or_path = '.')"
   ]
  },
  {
   "cell_type": "code",
   "execution_count": null,
   "metadata": {
    "id": "tFxiZX6s9HYI"
   },
   "outputs": [],
   "source": [
    "# print('loading model and data')\n",
    "\n",
    "# roberta_small = MusicBERTModel.from_pretrained('.',\n",
    "#   checkpoint_file = 'checkpoints/checkpoint_last_musicbert_small_w_genre_head.pt',\n",
    "#   user_dir='musicbert'    # activate the MusicBERT plugin with this keyword\n",
    "# )\n"
   ]
  },
  {
   "cell_type": "code",
   "execution_count": null,
   "metadata": {
    "id": "ORnWkJmA9G1c"
   },
   "outputs": [],
   "source": [
    "# print(roberta_small)"
   ]
  },
  {
   "cell_type": "markdown",
   "metadata": {
    "id": "xivbPBCKcL2w"
   },
   "source": [
    "## Optional: Checking model specifications"
   ]
  },
  {
   "cell_type": "markdown",
   "metadata": {
    "id": "AyDWWDgSatBJ"
   },
   "source": [
    "https://github.com/facebookresearch/fairseq/tree/336942734c85791a90baa373c212d27e7c722662/fairseq/models/roberta"
   ]
  },
  {
   "cell_type": "markdown",
   "metadata": {
    "id": "_FRTX1bneBij"
   },
   "source": [
    "### Maximum number of octuples supported by model"
   ]
  },
  {
   "cell_type": "markdown",
   "metadata": {
    "id": "UZNzXyXqqEtX"
   },
   "source": [
    "https://github.com/microsoft/muzic/blob/main/musicbert/musicbert/__init__.py"
   ]
  },
  {
   "cell_type": "markdown",
   "metadata": {
    "id": "jWMGPZcHrboG"
   },
   "source": [
    "`disable_cp` is False by default"
   ]
  },
  {
   "cell_type": "markdown",
   "metadata": {
    "id": "wFpDteZgraiv"
   },
   "source": [
    "![image.png](data:image/png;base64,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)"
   ]
  },
  {
   "cell_type": "markdown",
   "metadata": {
    "id": "8es-pe-wrDyR"
   },
   "source": [
    "`ratio = 8` for forming octuples"
   ]
  },
  {
   "cell_type": "markdown",
   "metadata": {
    "id": "RYAXPNjUrRLP"
   },
   "source": [
    "![image.png](data:image/png;base64,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)"
   ]
  },
  {
   "cell_type": "markdown",
   "metadata": {
    "id": "CzeRqCPAp6pX"
   },
   "source": [
    "![image.png](data:image/png;base64,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)"
   ]
  },
  {
   "cell_type": "markdown",
   "metadata": {
    "id": "qPZoc3Ocp_KP"
   },
   "source": [
    "![image.png](data:image/png;base64,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)"
   ]
  },
  {
   "cell_type": "markdown",
   "metadata": {
    "id": "HP7xiKYBqRG4"
   },
   "source": [
    "![image.png](data:image/png;base64,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)"
   ]
  },
  {
   "cell_type": "markdown",
   "metadata": {
    "id": "AmxOPxw3qKtv"
   },
   "source": [
    "Since Positional encoding happens **after** calling `self.downsampling`, that logically means that 8194 octuples can be inputted to model"
   ]
  },
  {
   "cell_type": "markdown",
   "metadata": {
    "id": "EKJVHplLruQJ"
   },
   "source": [
    "That means that 8194 * 8 = 65552 length token sequence can be inputted (token sequence obtained by `roberta_base.task.label_dictionary.encode_list( encoding_to_str( MIDI_to_encoding(midi_obj) ) )`, where `midi_obj = miditoolkit.midi.parser.MidiFile(midi_path)`"
   ]
  },
  {
   "cell_type": "code",
   "execution_count": null,
   "metadata": {
    "colab": {
     "base_uri": "https://localhost:8080/"
    },
    "id": "HLlf38cRcVHc",
    "outputId": "bfd38954-0cca-403c-9a43-ddf321dfb108"
   },
   "outputs": [
    {
     "data": {
      "text/plain": [
       "8192"
      ]
     },
     "execution_count": 67,
     "metadata": {},
     "output_type": "execute_result"
    }
   ],
   "source": [
    "roberta_base.model.max_positions()"
   ]
  },
  {
   "cell_type": "markdown",
   "metadata": {
    "id": "TPP6-2bUstHv"
   },
   "source": [
    "### `OctupleEncoder` output"
   ]
  },
  {
   "cell_type": "markdown",
   "metadata": {
    "id": "zOb-NSMLtelw"
   },
   "source": [
    "`RobertaEncoder.forward` (inherited as [`MusicBERTEncoder.forward`](https://github.com/microsoft/muzic/blob/f833b4f383e3df06235913fd50d94c2600e7af23/musicbert/musicbert/__init__.py#L315)) in [fairseq models](https://github.com/facebookresearch/fairseq/blob/336942734c85791a90baa373c212d27e7c722662/fairseq/models/roberta/model.py#L435) passes through both `SentenceEncoder`([`OctupleEncoder`](https://github.com/microsoft/muzic/blob/f833b4f383e3df06235913fd50d94c2600e7af23/musicbert/musicbert/__init__.py#L219) in our case) and `LMHead` (refer [RobertaEncoder.forward](https://github.com/facebookresearch/fairseq/blob/336942734c85791a90baa373c212d27e7c722662/fairseq/models/roberta/model.py#L459-L476))"
   ]
  },
  {
   "cell_type": "markdown",
   "metadata": {
    "id": "72c6PE5wvWv3"
   },
   "source": [
    "The final output of the model has similar format as"
   ]
  },
  {
   "cell_type": "code",
   "execution_count": null,
   "metadata": {
    "id": "h9wyQLTcstA-"
   },
   "outputs": [],
   "source": []
  },
  {
   "cell_type": "code",
   "execution_count": null,
   "metadata": {
    "id": "gc5OTWLBss7W"
   },
   "outputs": [],
   "source": []
  },
  {
   "cell_type": "code",
   "execution_count": null,
   "metadata": {
    "id": "vhusHBvJss5Q"
   },
   "outputs": [],
   "source": []
  },
  {
   "cell_type": "markdown",
   "metadata": {
    "id": "JEEZXQChWUEv"
   },
   "source": [
    "*italicised text*# **Evaluation**\n"
   ]
  },
  {
   "cell_type": "markdown",
   "metadata": {
    "id": "sCbEos6DUy49"
   },
   "source": [
    "## Pipeline on single MIDI"
   ]
  },
  {
   "cell_type": "markdown",
   "metadata": {
    "id": "mkYdGn38i5EX"
   },
   "source": [
    "### Helper functions"
   ]
  },
  {
   "cell_type": "markdown",
   "metadata": {
    "id": "pOttnMS9MElC"
   },
   "source": [
    "#### Miditoolkit, MIDI & OctupleMIDI helper functions"
   ]
  },
  {
   "cell_type": "code",
   "execution_count": null,
   "metadata": {
    "id": "476lihP3MEZL"
   },
   "outputs": [],
   "source": [
    "def playMidi(filename):\n",
    "  mf = midi.MidiFile()\n",
    "  mf.open(filename)\n",
    "  mf.read()\n",
    "  mf.close()\n",
    "  s = midi.translate.midiFileToStream(mf)\n",
    "  s.show('midi')"
   ]
  },
  {
   "cell_type": "code",
   "execution_count": null,
   "metadata": {
    "id": "2mwx-vcqPRRG"
   },
   "outputs": [],
   "source": [
    "def parse_midi_file(sample_midi_path: str):\n",
    "  midi_obj = miditoolkit.midi.parser.MidiFile(sample_midi_path)\n",
    "  midi_name = sample_midi_path.split('/')[-1].split('.')[0]\n",
    "  return midi_obj, midi_name"
   ]
  },
  {
   "cell_type": "code",
   "execution_count": null,
   "metadata": {
    "id": "quuR_HMxPcf3"
   },
   "outputs": [],
   "source": [
    "'''\n",
    "set `track_ids` as a list of indices of track IDs to keep, else leave it as [] for taking all tracks in MIDI\n",
    "'''\n",
    "def filter_tracks(midi_obj: miditoolkit.midi.parser.MidiFile, root_folder:str = '.',\n",
    "                    cache_folder:str = \"musicbert_cache\", midi_name:str = \"final\", track_ids:list = []):\n",
    "\n",
    "  if len(track_ids) > 0:\n",
    "    new_midi_obj = miditoolkit.midi.parser.MidiFile()\n",
    "    new_midi_obj.instruments = [midi_obj.instruments[i] for i in track_ids]\n",
    "\n",
    "    new_midi_obj.ticks_per_beat = midi_obj.ticks_per_beat\n",
    "    new_midi_obj.time_signature_changes = midi_obj.time_signature_changes\n",
    "    new_midi_obj.tempo_changes = midi_obj.tempo_changes\n",
    "\n",
    "    midi_obj = new_midi_obj\n",
    "\n",
    "  midi_obj.dump(f'{root_folder}/{cache_folder}/{midi_name}_track_filtered.mid')\n",
    "\n",
    "  print(f\"> Parsed MIDI: {midi_name}\")\n",
    "  print(f\"> Saved Parsed MIDI as : {root_folder}/{cache_folder}/{midi_name}_track_filtered.mid\")\n",
    "    # playMidi(f'/content/{midi_name}_track_filtered.mid')\n",
    "\n",
    "  return midi_obj\n"
   ]
  },
  {
   "cell_type": "code",
   "execution_count": null,
   "metadata": {
    "id": "wFQImeuhPLOx"
   },
   "outputs": [],
   "source": [
    "def cache_midi_tracks(midi_obj: miditoolkit.midi.parser.MidiFile, midi_name, root_folder = '.',\n",
    "                      cache_folder = \"musicbert_cache\", verbose = False):\n",
    "  instrument_progs = []\n",
    "\n",
    "  for track_idx, ins_track in enumerate(midi_obj.instruments):\n",
    "    temp_midi_obj = miditoolkit.midi.parser.MidiFile()\n",
    "    temp_midi_obj.instruments = [ins_track]\n",
    "\n",
    "    temp_midi_obj.ticks_per_beat = midi_obj.ticks_per_beat\n",
    "    temp_midi_obj.time_signature_changes = midi_obj.time_signature_changes\n",
    "    temp_midi_obj.tempo_changes = midi_obj.tempo_changes\n",
    "\n",
    "    instrument_progs.append(ins_track.program)\n",
    "    temp_midi_obj.dump(f'{root_folder}/{cache_folder}/{midi_name}_track_{track_idx}_prog_{ins_track.program}.mid')\n",
    "\n",
    "  if verbose:\n",
    "    print(f'The input MIDI has {len(midi_obj.instruments)} tracks with program IDs {instrument_progs} respectively.')"
   ]
  },
  {
   "cell_type": "code",
   "execution_count": null,
   "metadata": {
    "id": "X9PZe6fBWmLz"
   },
   "outputs": [],
   "source": [
    "def save_output_midi(out_midi_obj, prediction_strategy,\n",
    "    program_id, replacement_program_id,\n",
    "    program_percentage_mask, midi_name,\n",
    "    root_folder = '.', cache_folder = 'musicbert_cache'):\n",
    "\n",
    "    out_path = None\n",
    "\n",
    "    if program_id == replacement_program_id:\n",
    "        if program_percentage_mask == 100:\n",
    "            out_path = f'{root_folder}/{cache_folder}/{midi_name}_fullprogram{program_id}_maskpred_{prediction_strategy}.mid'\n",
    "            out_midi_obj.dump(out_path)\n",
    "        else:\n",
    "            out_path = f'{root_folder}/{cache_folder}/{midi_name}_program{program_id}_{program_percentage_mask}percentmaskpred_minbarmask{min_bar_mask}_{prediction_strategy}.mid'\n",
    "            out_midi_obj.dump(out_path)\n",
    "    else:\n",
    "        out_path = f'{root_folder}/{cache_folder}/{midi_name}_fullprogram{program_id}masked_program{replacement_program_id}pred_{prediction_strategy}.mid'\n",
    "        out_midi_obj.dump(out_path)\n",
    "    print(f\"> Output MIDI saved to path {out_path}\")\n"
   ]
  },
  {
   "cell_type": "markdown",
   "metadata": {
    "id": "xmR8y-CBMBJy"
   },
   "source": [
    "#### Prediction helper functions"
   ]
  },
  {
   "cell_type": "code",
   "execution_count": null,
   "metadata": {
    "id": "2HT-ZIkWDZ2I"
   },
   "outputs": [],
   "source": [
    "#Returns dictionary with keys = token_ids & values = token strings\n",
    "def reverse_label_dict(label_dict: fairseq.data.dictionary.Dictionary):\n",
    "  return {v: k for k, v in label_dict.indices.items()}"
   ]
  },
  {
   "cell_type": "code",
   "execution_count": null,
   "metadata": {
    "id": "5NatEtIGi49Q"
   },
   "outputs": [],
   "source": [
    "def decode_w_label_dict(label_dict: fairseq.data.dictionary.Dictionary, octuple_midi_enc:torch.Tensor,\n",
    "                        skip_masked_tokens = False):\n",
    "  octuple_midi_enc_copy = octuple_midi_enc.clone().tolist()\n",
    "  seq = []\n",
    "  rev_inv_map = reverse_label_dict(label_dict)\n",
    "  for token in octuple_midi_enc_copy:\n",
    "    seq.append(rev_inv_map[token])\n",
    "\n",
    "  seq_str = \" \".join(seq)\n",
    "\n",
    "  if skip_masked_tokens:\n",
    "    seq = seq_str.split()\n",
    "    masked_oct_idxs = set([(idx - idx%8) for idx, elem in enumerate(seq) if elem == '<mask>'])\n",
    "\n",
    "    #Deleting Octuples with any <mask> element until none remains\n",
    "    try:\n",
    "      while(True):\n",
    "        masked_oct_idx = seq.index('<mask>')\n",
    "        masked_oct_idx = masked_oct_idx - masked_oct_idx%8\n",
    "        del seq[masked_oct_idx: masked_oct_idx+8]\n",
    "    except ValueError: #Error: substring not found\n",
    "      pass\n",
    "\n",
    "    seq_str = \" \".join(seq)\n",
    "\n",
    "  del octuple_midi_enc_copy\n",
    "  return seq_str"
   ]
  },
  {
   "cell_type": "markdown",
   "metadata": {
    "id": "fqFVAEz32ecD"
   },
   "source": [
    "#### Masking helper functions"
   ]
  },
  {
   "cell_type": "code",
   "execution_count": null,
   "metadata": {
    "id": "C6Rt-7eMGnI3"
   },
   "outputs": [],
   "source": [
    "def get_bar_idx(octuple_encoding, bar):\n",
    "    max_bars = octuple_encoding[-1][0]\n",
    "\n",
    "    if(bar > max_bars):\n",
    "      print('starting bar greater than total no. of bars')\n",
    "      return\n",
    "\n",
    "    bars = list(zip(*octuple_encoding))[0]\n",
    "\n",
    "    return bars.index(bar)\n",
    "\n",
    "def shift_bar_to_front(octuple_encoding):\n",
    "    min_bar = octuple_encoding[0][0]\n",
    "\n",
    "    for index, oct in enumerate(octuple_encoding):\n",
    "        oct_lst = list(oct)\n",
    "        oct_lst[0] -= min_bar\n",
    "        octuple_encoding[index] = tuple(oct_lst)\n",
    "\n",
    "    return octuple_encoding"
   ]
  },
  {
   "cell_type": "code",
   "execution_count": null,
   "metadata": {
    "id": "eG7DRTTjcnup"
   },
   "outputs": [],
   "source": [
    "def get_min_bar_idx_from_oct(octuple_midi_str_aslist = (\"<s> \"*8).split() + (\" </s>\"*8).split()\n",
    "              , min_bar_mask: int = 0):\n",
    "\n",
    "  max_bars = int(octuple_midi_str_aslist[-16][3:-1])\n",
    "  # print(f'max_bars = {max_bars}')\n",
    "  try:\n",
    "    assert min_bar_mask <= max_bars\n",
    "  except:\n",
    "    raise Exception(f\"The input MIDI does not have {min_bar_mask} bars, it has {octuple_midi_str_aslist[-16][3:-2]} bars\")\n",
    "\n",
    "\n",
    "  try:\n",
    "    # '<0-min_bar_mask>' should be present if a note from bar `min_bar_mask` is present\n",
    "    min_idx = octuple_midi_str_aslist.index(f'<0-{min_bar_mask}>')\n",
    "  except:\n",
    "    return get_min_bar_idx_from_oct(octuple_midi_str_aslist, min_bar_mask + 1)\n",
    "\n",
    "\n",
    "  # #Exception, if no note from the bar `min_bar_mask` is present, program fails\n",
    "  try:\n",
    "    assert min_idx % 8 == 0\n",
    "  except:\n",
    "    raise Exception(\"Fatal backend error!: min_idx not a multiple of 8\")\n",
    "\n",
    "  print(f'Minimum index having {min_bar_mask} bars is {min_idx} belonging to octuple with index {int(min_idx/8)} ')\n",
    "\n",
    "  return min_idx\n",
    "\n",
    "\n",
    "#Masks every element of octuples with `program` except the program entry, predicting masks on this leads to remixed instrument\n",
    "\n",
    "#program: instrument ID (https://jazz-soft.net/demo/GeneralMidi.html)\n",
    "#octuplemidi_token_encoding: like torch.Tensor([0, 0, 0, 0, 0, 0, 0, 0, ......., 2, 2, 2, 2, 2, 2, 2, 2])\n",
    "#percentage_mask: how much percentage of notes of `program` instrument are to be masked\n",
    "#replacement_program: the `replacement_program` instrument that will replace the masked octuples,\n",
    "#                       perform mask prediction to predict notes of `replacement_program` in place\n",
    "#mask_attribs: Only these elements of octuples will be masked from the chosen octuples that are to be masked,\n",
    "# e.g: If `mask_attribs` = [0,1,3,4,5,6,7], everything except `program` will be masked in octuples, similarly,\n",
    "# If `mask_attribs` = [3], only `pitch` will be masked in chosen octuples\n",
    "\n",
    "def mask_instrument_notes_program(program: int, octuplemidi_token_encoding: torch.Tensor, \\\n",
    "                    label_dict: fairseq.data.dictionary.Dictionary, percentage_mask = 100,\n",
    "                    replacement_program:int = None, mask_attribs = [0, 1, 3, 4, 5, 6, 7],\n",
    "                    min_bar_mask = 0, seed = 42):\n",
    "  np.random.seed(seed)\n",
    "\n",
    "  octuplemidi_token_encoding = octuplemidi_token_encoding.clone()\n",
    "  rev_label_dict = reverse_label_dict(label_dict)\n",
    "  octuple_midi_str_aslist = [rev_label_dict[x] for x in octuplemidi_token_encoding.tolist()]\n",
    "\n",
    "  #Find minimum index having `positon` equal to `min_bar_mask`\n",
    "  #https://stackoverflow.com/questions/2361426/get-the-first-item-from-an-iterable-that-matches-a-condition\n",
    "  min_idx = get_min_bar_idx_from_oct(octuple_midi_str_aslist, min_bar_mask)\n",
    "  print(min_idx)\n",
    "\n",
    "  #Expecting soft copies to be made, i.e, changing `octuplemidi_token_encoding_mutable` also changes `octuplemidi_token_encoding`\n",
    "  octuplemidi_token_encoding_mutable = octuplemidi_token_encoding[min_idx: ]\n",
    "  octuple_midi_str_aslist_mutable = octuple_midi_str_aslist[min_idx: ]\n",
    "\n",
    "  instrument_octuple_indices = [int(index/8) for index,value in enumerate(octuple_midi_str_aslist_mutable) if value == f'<2-{program}>' ]\n",
    "\n",
    "  try:\n",
    "    assert len(instrument_octuple_indices) > 0\n",
    "  except:\n",
    "    raise Exception(f\"No notes found with program = {program}\")\n",
    "\n",
    "  print(f'Found {len(instrument_octuple_indices)} octuples with program = {program}')\n",
    "  print(f'Choosing {int(len(instrument_octuple_indices) * (percentage_mask/100) )} octuples to mask....')\n",
    "\n",
    "  if percentage_mask <= 100 and percentage_mask >= 0:\n",
    "    masked_octs = np.random.choice( a =  instrument_octuple_indices , \\\n",
    "                               size = int( len(instrument_octuple_indices) * (percentage_mask/100) ), \\\n",
    "                               replace = False)\n",
    "\n",
    "    masked_octs = list(masked_octs)\n",
    "    masked_octs.sort(reverse = False)\n",
    "\n",
    "    #Prints octuple indices valid for original input `octuplemidi_token_encoding` and NOT `octuplemidi_token_encoding_mutable`\n",
    "    masked_octs_orig = [( int(min_idx/8) + x ) for x in masked_octs]\n",
    "    print(f'Masking octuple numbers: { masked_octs_orig}')\n",
    "\n",
    "    mask_idx = label_dict.index('<mask>')\n",
    "\n",
    "    replacement_program_idx = None\n",
    "    if replacement_program is not None:\n",
    "      replacement_program_idx = label_dict.index(f'<2-{replacement_program}>')\n",
    "\n",
    "    for masked_oct in masked_octs:\n",
    "\n",
    "      octuplemidi_token_encoding_mutable.index_fill_(0, torch.tensor( masked_oct * 8 + mask_attribs ), mask_idx)\n",
    "\n",
    "      if replacement_program is not None:\n",
    "        octuplemidi_token_encoding_mutable.index_fill_(0, torch.tensor( [\n",
    "                      masked_oct * 8 + 2\n",
    "                      ]) , replacement_program_idx)\n",
    "      # octuplemidi_token_encoding[ masked_oct * 8: (masked_oct + 1)*8 ] = mask_idx\n",
    "  else:\n",
    "    raise IndexError\n",
    "\n",
    "  #Expecting `octuplemidi_token_encoding` to have changed when we changed `octuplemidi_token_encoding_mutable` above\n",
    "\n",
    "  octuplemidi_token_encoding[min_idx: ] = octuplemidi_token_encoding_mutable\n",
    "\n",
    "  return octuplemidi_token_encoding, masked_octs_orig"
   ]
  },
  {
   "cell_type": "markdown",
   "metadata": {
    "id": "mQu5cxVPoya-"
   },
   "source": [
    "https://ramsrigoutham.medium.com/sized-fill-in-the-blank-or-multi-mask-filling-with-roberta-and-huggingface-transformers-58eb9e7fb0c"
   ]
  },
  {
   "cell_type": "markdown",
   "metadata": {
    "id": "3M3gb0ixCSmn"
   },
   "source": [
    "#### Mask prediction helper functions"
   ]
  },
  {
   "cell_type": "code",
   "execution_count": null,
   "metadata": {
    "id": "EGn4lq6i4mtZ"
   },
   "outputs": [],
   "source": [
    "BAR_START = \"<0-0>\"\n",
    "BAR_END = \"<0-255>\"\n",
    "\n",
    "POS_START = \"<1-0>\"\n",
    "POS_END = \"<1-127>\"\n",
    "\n",
    "INS_START = \"<2-0>\"\n",
    "INS_END = \"<2-127>\"\n",
    "\n",
    "PITCH_START = \"<3-0>\"\n",
    "PITCH_END = \"<3-255>\"\n",
    "\n",
    "DUR_START = \"<4-0>\"\n",
    "DUR_END = \"<4-127>\"\n",
    "\n",
    "VEL_START = \"<5-0>\"\n",
    "VEL_END = \"<5-31>\"\n",
    "\n",
    "SIG_START = \"<6-0>\"\n",
    "SIG_END = \"<6-253>\"\n",
    "\n",
    "TEMPO_START = \"<7-0>\"\n",
    "TEMPO_END = \"<7-48>\"\n",
    "\n",
    "SPECIAL_TOKENS = ['<mask>', '<s>', '<pad>', '</s>', '<unk>']\n",
    "\n",
    "def bar_range(label_dict): return label_dict.index(BAR_START), label_dict.index(BAR_END)+1\n",
    "def pos_range(label_dict): return label_dict.index(POS_START), label_dict.index(POS_END)+1\n",
    "def ins_range(label_dict): return label_dict.index(INS_START), label_dict.index(INS_END)+1\n",
    "def pitch_range(label_dict): return label_dict.index(PITCH_START), label_dict.index(PITCH_END)+1\n",
    "def dur_range(label_dict): return label_dict.index(DUR_START), label_dict.index(DUR_END)+1\n",
    "def vel_range(label_dict): return label_dict.index(VEL_START), label_dict.index(VEL_END)+1\n",
    "def sig_range(label_dict): return label_dict.index(SIG_START), label_dict.index(SIG_END)+1\n",
    "def tempo_range(label_dict): return label_dict.index(TEMPO_START), label_dict.index(TEMPO_END)+1"
   ]
  },
  {
   "cell_type": "code",
   "execution_count": null,
   "metadata": {
    "id": "GXwXnAcrtWYI"
   },
   "outputs": [],
   "source": [
    "def top_k_top_p(logits_batch, top_k=0, top_p=0.0, filter_value=-float('Inf')):\n",
    "    \"\"\" Filter a distribution of logits using top-k and/or nucleus (top-p) filtering\n",
    "        Args:\n",
    "            logits: logits distribution shape (vocabulary size)\n",
    "            top_k >0: keep only top k tokens with highest probability (top-k filtering).\n",
    "            top_p >0.0: keep the top tokens with cumulative probability >= top_p (nucleus filtering).\n",
    "    \"\"\"\n",
    "\n",
    "    logits_batch = logits_batch.clone()\n",
    "\n",
    "    # print(logits_batch.dim())\n",
    "\n",
    "    if(logits_batch.dim() == 1):\n",
    "      logits_batch = logits_batch.unsqueeze(0)\n",
    "\n",
    "    assert logits_batch.dim() == 2  # batch size 1 for now - could be updated for more but the code would be less clear\n",
    "\n",
    "    # iterate through batch size\n",
    "    for index, logits in enumerate(logits_batch):\n",
    "      top_k = min(top_k, logits.size(-1))  # Safety check\n",
    "      if top_k > 0:\n",
    "          # Remove all tokens with a probability less than the last token of the top-k\n",
    "          indices_to_remove = logits < torch.topk(logits, top_k)[0][..., -1, None]\n",
    "          logits[indices_to_remove] = filter_value\n",
    "\n",
    "      if top_p > 0.0:\n",
    "          sorted_logits, sorted_indices = torch.sort(logits, descending=True)\n",
    "          cumulative_probs = torch.cumsum(F.softmax(sorted_logits, dim=-1), dim=-1)\n",
    "\n",
    "          # Remove tokens with cumulative probability above the threshold\n",
    "          sorted_indices_to_remove = cumulative_probs > top_p\n",
    "          # Shift the indices to the right to keep also the first token above the threshold\n",
    "          sorted_indices_to_remove[..., 1:] = sorted_indices_to_remove[..., :-1].clone()\n",
    "          sorted_indices_to_remove[..., 0] = 0\n",
    "\n",
    "          indices_to_remove = sorted_indices[sorted_indices_to_remove]\n",
    "          logits[indices_to_remove] = filter_value\n",
    "    return logits_batch"
   ]
  },
  {
   "cell_type": "code",
   "execution_count": null,
   "metadata": {
    "id": "buQHkcySvzpN"
   },
   "outputs": [],
   "source": [
    "# The tokens should be in order (`0-bar`, `1-position`, `2-instrument`, `3-pitch`, `4-duration`, `5-velocity`, `6-timesig` , `7-tempo`) so we switch temperature value accordingly\n",
    "# Limit to some specific fields such as pitch temp, duration temp, velocity temp, instrument temp\n",
    "def switch_temperature(prev_index: int, label_dict, temperature_dict):\n",
    "  \"\"\" Changes temperature to value for one of the eight fields in octuple\n",
    "      Args:\n",
    "        logits: logits distribution shape (vocabulary size)\n",
    "        prev_index: previous predicted token\n",
    "        label_dict : dictionary mapping string octuple encodings to indices\n",
    "        temperature_dict : dict containing temperature values for all the 8 individual octuple elements\n",
    "      Returns: next temperature value\n",
    "  \"\"\"\n",
    "  # First we convert the token to it's string mapping\n",
    "  prev_index = prev_index.item()\n",
    "  rev_inv_map = reverse_label_dict(label_dict)\n",
    "  str_encoding = rev_inv_map[prev_index]\n",
    "\n",
    "  # print(((int(str_encoding[1]) + 1)%8))\n",
    "  # print(str_encoding)\n",
    "\n",
    "  return temperature_dict[((int(str_encoding[1]) + 1)%(8))]\n",
    "\n",
    "def filter_invalid_indexes(logits, prev_index, label_dict, filter_value=-float('Inf')):\n",
    "  \"\"\" Filter a distribution of logits using prev_predicted token\n",
    "        Args:\n",
    "            logits: logits distribution shape (vocabulary size)\n",
    "            prev_index: previous predicted token\n",
    "            label_dict : dictionary mapping string octuple encodings to indices\n",
    "      Returns: filtered logits according to prev_idx\n",
    "  \"\"\"\n",
    "\n",
    "  logits = logits.clone()\n",
    "\n",
    "  prev_index = prev_index.item()\n",
    "  rev_inv_map = reverse_label_dict(label_dict)\n",
    "  str_encoding = rev_inv_map[prev_index]\n",
    "\n",
    "  # For example if previous index was pitch than according to Octuple encoding next note should be duration\n",
    "  # Therefore we fill up all the other 7 element ranges with infinity\n",
    "\n",
    "  for tok in SPECIAL_TOKENS:\n",
    "      logits[label_dict.index(tok)] = filter_value\n",
    "\n",
    "  # if previous token was 'bar' then we mask everything excluding 'pos'\n",
    "  if(str_encoding[1] == '0'):\n",
    "    logits[list(range(*bar_range(label_dict)))] = filter_value\n",
    "    logits[list(range(*ins_range(label_dict)))] = filter_value\n",
    "    logits[list(range(*pitch_range(label_dict)))] = filter_value\n",
    "    logits[list(range(*dur_range(label_dict)))] = filter_value\n",
    "    logits[list(range(*vel_range(label_dict)))] = filter_value\n",
    "    logits[list(range(*sig_range(label_dict)))] = filter_value\n",
    "    logits[list(range(*tempo_range(label_dict)))] = filter_value\n",
    "  # pos\n",
    "  elif(str_encoding[1] == '1'):\n",
    "    logits[list(range(*bar_range(label_dict)))] = filter_value\n",
    "    logits[list(range(*pos_range(label_dict)))] = filter_value\n",
    "    logits[list(range(*pitch_range(label_dict)))] = filter_value\n",
    "    logits[list(range(*dur_range(label_dict)))] = filter_value\n",
    "    logits[list(range(*vel_range(label_dict)))] = filter_value\n",
    "    logits[list(range(*sig_range(label_dict)))] = filter_value\n",
    "    logits[list(range(*tempo_range(label_dict)))] = filter_value\n",
    "  # ins\n",
    "  elif(str_encoding[1] == '2'):\n",
    "    logits[list(range(*bar_range(label_dict)))] = filter_value\n",
    "    logits[list(range(*pos_range(label_dict)))] = filter_value\n",
    "    logits[list(range(*ins_range(label_dict)))] = filter_value\n",
    "    logits[list(range(*dur_range(label_dict)))] = filter_value\n",
    "    logits[list(range(*vel_range(label_dict)))] = filter_value\n",
    "    logits[list(range(*sig_range(label_dict)))] = filter_value\n",
    "    logits[list(range(*tempo_range(label_dict)))] = filter_value\n",
    "  # pitch\n",
    "  elif(str_encoding[1] == '3'):\n",
    "    logits[list(range(*bar_range(label_dict)))] = filter_value\n",
    "    logits[list(range(*pos_range(label_dict)))] = filter_value\n",
    "    logits[list(range(*ins_range(label_dict)))] = filter_value\n",
    "    logits[list(range(*pitch_range(label_dict)))] = filter_value\n",
    "    logits[list(range(*vel_range(label_dict)))] = filter_value\n",
    "    logits[list(range(*sig_range(label_dict)))] = filter_value\n",
    "    logits[list(range(*tempo_range(label_dict)))] = filter_value\n",
    "  # dur\n",
    "  elif(str_encoding[1] == '4'):\n",
    "    logits[list(range(*bar_range(label_dict)))] = filter_value\n",
    "    logits[list(range(*pos_range(label_dict)))] = filter_value\n",
    "    logits[list(range(*ins_range(label_dict)))] = filter_value\n",
    "    logits[list(range(*pitch_range(label_dict)))] = filter_value\n",
    "    logits[list(range(*dur_range(label_dict)))] = filter_value\n",
    "    logits[list(range(*sig_range(label_dict)))] = filter_value\n",
    "    logits[list(range(*tempo_range(label_dict)))] = filter_value\n",
    "  # vel\n",
    "  elif(str_encoding[1] == '5'):\n",
    "    logits[list(range(*bar_range(label_dict)))] = filter_value\n",
    "    logits[list(range(*pos_range(label_dict)))] = filter_value\n",
    "    logits[list(range(*ins_range(label_dict)))] = filter_value\n",
    "    logits[list(range(*pitch_range(label_dict)))] = filter_value\n",
    "    logits[list(range(*dur_range(label_dict)))] = filter_value\n",
    "    logits[list(range(*vel_range(label_dict)))] = filter_value\n",
    "    logits[list(range(*tempo_range(label_dict)))] = filter_value\n",
    "  # sig\n",
    "  elif(str_encoding[1] == '6'):\n",
    "    logits[list(range(*bar_range(label_dict)))] = filter_value\n",
    "    logits[list(range(*pos_range(label_dict)))] = filter_value\n",
    "    logits[list(range(*ins_range(label_dict)))] = filter_value\n",
    "    logits[list(range(*pitch_range(label_dict)))] = filter_value\n",
    "    logits[list(range(*dur_range(label_dict)))] = filter_value\n",
    "    logits[list(range(*vel_range(label_dict)))] = filter_value\n",
    "    logits[list(range(*sig_range(label_dict)))] = filter_value\n",
    "  # tempo\n",
    "  elif(str_encoding[1] == '7'):\n",
    "    logits[list(range(*pos_range(label_dict)))] = filter_value\n",
    "    logits[list(range(*ins_range(label_dict)))] = filter_value\n",
    "    logits[list(range(*pitch_range(label_dict)))] = filter_value\n",
    "    logits[list(range(*dur_range(label_dict)))] = filter_value\n",
    "    logits[list(range(*vel_range(label_dict)))] = filter_value\n",
    "    logits[list(range(*sig_range(label_dict)))] = filter_value\n",
    "    logits[list(range(*tempo_range(label_dict)))] = filter_value\n",
    "\n",
    "  return logits"
   ]
  },
  {
   "cell_type": "code",
   "execution_count": null,
   "metadata": {
    "id": "GOupOekuEl0M"
   },
   "outputs": [],
   "source": [
    "class PRED_MODE(Enum):\n",
    "    VANILLA = 1\n",
    "    OCTUPLE_MODE = 2\n",
    "\n",
    "#Helper function for OCTUPLE_MODE and MULTI_OCTUPLE_MODE\n",
    "# https://www.geeksforgeeks.org/break-list-chunks-size-n-python/\n",
    "def split_multi_oct(list_a, chunk_size):\n",
    "  for i in range(0, len(list_a), chunk_size):\n",
    "    yield list(chain(*list_a[i:i + chunk_size]))\n",
    "\n",
    "#Predict missing masks in sequence from left to right\n",
    "\n",
    "'''\n",
    "NOTE: Predicts ONLY the masked octuples provided in `masked_octuples` if `prediction_mode` is NOT Vanilla\n",
    "Else if prediction_mode is Vanilla, it predicts all the masks in the input `octuplemidi_token_encoding`\n",
    "'''\n",
    "\n",
    "#octuplemidi_token_encoding: of the format torch.Tensor([0,0,0,0,0,0,0,0, ..........., 2,2,2,2,2,2,2,2]), where 0 is label_dict.bos_idx & 2 is label_dict.eos_idx\n",
    "#prediction_mode: decides the speed of the mask prediction\n",
    "#mask_attribs: decides which of the (`bar`, `position`, `instrument`, `pitch`, `duration`, `velocity`, `timesig` , `tempo`) are masked\n",
    "\n",
    "#masked_octuples: List of the octuple indices in `octuplemidi_token_encoding` that are masked, note that the element indices for `bar` field of these elements would be (mask_octuple_idxs * 8)\n",
    "\n",
    "def predict_all_masks(roberta_model, roberta_label_dict, temperature_dict, octuplemidi_token_encoding:torch.Tensor, masked_octuples:list = None,\n",
    "                      prediction_mode:PRED_MODE = PRED_MODE.VANILLA, mask_attribs:list = [3,4,5] ,num_multi_octuples:int = None,\n",
    "                      temperature = 1.0, top_k=30, top_p=0.6,\n",
    "                      verbose = False):\n",
    "  mask_idx = 1236\n",
    "  octuplemidi_token_encoding = octuplemidi_token_encoding.clone()\n",
    "\n",
    "  try:\n",
    "    assert octuplemidi_token_encoding.dim() == 1\n",
    "  except:\n",
    "    raise Exception('Please input single dimensional octuple sequence')\n",
    "\n",
    "  try:\n",
    "    bos_idx = roberta_label_dict.bos_index\n",
    "    eos_idx = roberta_label_dict.eos_index\n",
    "    tens_type = octuplemidi_token_encoding.dtype\n",
    "    assert torch.equal(octuplemidi_token_encoding[:8], torch.Tensor([bos_idx]*8).type(tens_type)) and \\\n",
    "      torch.equal(octuplemidi_token_encoding[-8:], torch.Tensor([eos_idx]*8).type(tens_type))\n",
    "  except:\n",
    "    print('Start:', octuplemidi_token_encoding[:8] )\n",
    "    print(torch.Tensor([bos_idx]*8))\n",
    "    print('End:', octuplemidi_token_encoding[-8:])\n",
    "    print(torch.Tensor([bos_idx]*8))\n",
    "    raise Exception('`octuplemidi_token_encoding` either does not have 8 <s> tokens or 8 </s> tokens at beginning and end')\n",
    "\n",
    "\n",
    "  #---------------------------------------------------------------\n",
    "  # Altering input mask list based on `prediction_mode`\n",
    "  #---------------------------------------------------------------\n",
    "\n",
    "  mask_indices = None\n",
    "\n",
    "  # If `masked_octuples` not provided, then the `prediction_mode` MUST be Vanilla\n",
    "  if masked_octuples == None:\n",
    "    try:\n",
    "      assert prediction_mode == PRED_MODE.VANILLA\n",
    "    except:\n",
    "      #Since the current faster implementations involves the premise that in all the masked notes, same fields of each octuple is masked,\n",
    "      #For example, we are not considering that in the sequence one octuple has just `duration` masked and another has just `pitch` masked\n",
    "      raise Exception(\"Error: Please choose `prediction_mode` as Vanilla since `masked_octuples` is not provided, to use faster modes provide `mask_indices`\")\n",
    "\n",
    "    mask_indices = [i for i, x in enumerate(octuplemidi_token_encoding.tolist()) if x == mask_idx]\n",
    "\n",
    "  elif prediction_mode == PRED_MODE.VANILLA:\n",
    "\n",
    "    print('Warning: Ignoring `masked_octuples`, `mask_attribs` & `num_multi_octuples` as `prediction_mode` is set as Vanilla')\n",
    "    mask_indices = [i for i, x in enumerate(octuplemidi_token_encoding.tolist()) if x == mask_idx]\n",
    "\n",
    "  elif prediction_mode == PRED_MODE.OCTUPLE_MODE:\n",
    "\n",
    "    if num_multi_octuples is not None:\n",
    "      print('Warning: Ignoring `num_multi_octuples` as `prediction_mode` is set as Octuple mode (not Multi-octuple mode)')\n",
    "\n",
    "    mask_indices = [ [x*8 + y for y in mask_attribs] for x in masked_octuples]\n",
    "\n",
    "  else:\n",
    "    raise Exception(\"Invalid `prediction_mode`\")\n",
    "\n",
    "\n",
    "  try:\n",
    "    assert len(mask_indices) > 0\n",
    "  except AssertionError:\n",
    "    raise Exception('Please input sentence tokens with at least one mask token')\n",
    "\n",
    "  try:\n",
    "    assert all( torch.all(octuplemidi_token_encoding[octuple_midi_mask_elem] == mask_idx) for octuple_midi_mask_elem in mask_indices )\n",
    "  except:\n",
    "    print([octuplemidi_token_encoding[octuple_midi_mask_elem] == mask_idx for octuple_midi_mask_elem in mask_indices])\n",
    "    raise Exception('Fatal error: At least one element of `mask_indices` is not <mask> (1236)')\n",
    "\n",
    "  #--------------------------------------------------------------\n",
    "  # Inputting masked indices to model using `prediction_strategy`\n",
    "  #--------------------------------------------------------------\n",
    "\n",
    "  if prediction_mode == PRED_MODE.VANILLA:\n",
    "    pass\n",
    "\n",
    "  elif prediction_mode == PRED_MODE.OCTUPLE_MODE:\n",
    "\n",
    "    #Checking if `mask_attribs` is fine\n",
    "    try:\n",
    "      mask_attribs_len = len(mask_attribs)\n",
    "      assert mask_attribs_len > 0 and \\\n",
    "      len(set(mask_attribs)) == mask_attribs_len and \\\n",
    "      all( (x >= 0 and x < 8) for x in mask_attribs)\n",
    "    except:\n",
    "      raise Exception(\"`mask_attribs` not appropriate\")\n",
    "\n",
    "  print(f'Final mask indices list sent to model: {mask_indices}')\n",
    "  print(f'Out of total input size: {len(octuplemidi_token_encoding.tolist())}')\n",
    "\n",
    "\n",
    "  #Let's take an example where `mask_attribs` = [3,4,5] and at least\n",
    "\n",
    "  # `final_mask_indices` is of form [3,4,5,11,12,13....] in `Vanilla` prediction mode\n",
    "  # `final_mask_indices` is of form [[3,4,5],[11,12,13]......] in `Octuple` prediction mode\n",
    "  # `final_mask_indices` is of form [[3,4,5,11,12,13]......] in `Multi Octuple` prediction mode, in this case num_multi_octuples = 2\n",
    "\n",
    "  filter_value = -float('Inf')\n",
    "  octuplemidi_token_encoding_device = octuplemidi_token_encoding.device\n",
    "\n",
    "  # Finally predicting masks based on `prediction_strategy`\n",
    "\n",
    "  ################################\n",
    "  # Vanilla Mode Prediction mode #\n",
    "  ################################\n",
    "\n",
    "  if prediction_mode == PRED_MODE.VANILLA:\n",
    "\n",
    "    repeat_count = 0\n",
    "\n",
    "    for mask_idx_batch in tqdm(mask_indices):\n",
    "        input = octuplemidi_token_encoding.unsqueeze(0).cuda()\n",
    "        prev_idx = octuplemidi_token_encoding[mask_idx_batch-1]\n",
    "\n",
    "        with torch.no_grad():\n",
    "          # extr_features shape -> [1, 8016, 1237]\n",
    "          # Here 1 is the batch size, 8016 is embedding dimension and 1237 is the vocab size\n",
    "          extr_features, _ = roberta_model.model.extract_features(input)\n",
    "          # filter the mask indices from the extracted feature tokens (1000 octuples)\n",
    "          logits = extr_features[0, mask_idx_batch]\n",
    "\n",
    "          temperature = switch_temperature(prev_idx, roberta_label_dict, temperature_dict)\n",
    "          repeat_penalty = max(0, np.log((repeat_count+1)/4)/5) * temperature\n",
    "          temperature += repeat_penalty\n",
    "\n",
    "          if temperature != 1. : logits = logits/temperature\n",
    "\n",
    "          logits = filter_invalid_indexes(logits, prev_idx, label_dict, filter_value=filter_value)\n",
    "          logits = top_k_top_p(logits, top_k=top_k, top_p=top_p, filter_value=filter_value)\n",
    "\n",
    "          probs = torch.softmax(logits, dim = -1)\n",
    "          if probs.dim() == 1:\n",
    "            probs = probs.unsqueeze(0)\n",
    "\n",
    "          # Update repeat count\n",
    "          num_choices = len(probs.nonzero().reshape(-1))\n",
    "          if num_choices <= 2: repeat_count += 1\n",
    "          else: repeat_count = repeat_count // 2\n",
    "\n",
    "          if(temperature != 1 or top_k != 0 or top_p != 0):\n",
    "            # We sample from a multinomial distribution\n",
    "            top_preds = torch.multinomial(probs, 1)\n",
    "            top_preds = top_preds.reshape(-1)\n",
    "          else:\n",
    "            # We take the argmax or only choose the top candidate\n",
    "            # print('Predicting argmax mode!')\n",
    "            top_preds = torch.argmax(probs, dim = 1)\n",
    "\n",
    "        # Assign the token\n",
    "        octuplemidi_token_encoding_type = octuplemidi_token_encoding.dtype\n",
    "        octuplemidi_token_encoding[mask_idx_batch] = top_preds.\\\n",
    "                                                    type(octuplemidi_token_encoding_type). \\\n",
    "                                                    to(octuplemidi_token_encoding_device)\n",
    "\n",
    "  ################################\n",
    "  # Octuple Mode Prediction mode #\n",
    "  ################################\n",
    "\n",
    "  # For Octuple mod switching temperature is not possible so we only use one value\n",
    "  elif prediction_mode == PRED_MODE.OCTUPLE_MODE:\n",
    "\n",
    "    # iterate through all the mask indices\n",
    "    for mask_idx_batch in tqdm(mask_indices):\n",
    "        input = octuplemidi_token_encoding.unsqueeze(0).cuda()\n",
    "\n",
    "        with torch.no_grad():\n",
    "          # extr_features shape -> [1, 8016, 1237]\n",
    "          # Here 1 is the batch size, 8016 is embedding dimension and 1237 is the vocab size\n",
    "          extr_features, _ = roberta_model.model.extract_features(input)\n",
    "          # filter the mask indices from the extracted feature tokens (1000 octuples)\n",
    "          logits = extr_features[0, mask_idx_batch]\n",
    "\n",
    "          # Apply Temperature if not equal to 1\n",
    "          if temperature != 1. : logits = logits/temperature\n",
    "\n",
    "          # Apply top-k and top-p if != 0\n",
    "          logits = top_k_top_p(logits, top_k=top_k, top_p=top_p, filter_value=filter_value)\n",
    "\n",
    "          probs = torch.softmax(logits, dim = -1)\n",
    "          if probs.dim() == 1:\n",
    "            probs = probs.unsqueeze(0)\n",
    "\n",
    "          if(temperature != 1 or top_k != 0 or top_p != 0):\n",
    "            # We sample from a multinomial distribution\n",
    "            top_preds = torch.multinomial(probs, 1)\n",
    "            top_preds = top_preds.reshape(-1)\n",
    "          else:\n",
    "            # We take the argmax or only choose the top candidate\n",
    "            top_preds = torch.argmax(probs, dim = 1)\n",
    "\n",
    "        octuplemidi_token_encoding_type = octuplemidi_token_encoding.dtype\n",
    "        octuplemidi_token_encoding[mask_idx_batch] = top_preds.\\\n",
    "                                                    type(octuplemidi_token_encoding_type). \\\n",
    "                                                    to(octuplemidi_token_encoding_device)\n",
    "\n",
    "  # Final error check\n",
    "  try:\n",
    "    assert not any( torch.all(octuplemidi_token_encoding[octuple_midi_mask_elem] == mask_idx) for octuple_midi_mask_elem in mask_indices )\n",
    "  except:\n",
    "    print([octuplemidi_token_encoding[octuple_midi_mask_elem] == mask_idx for octuple_midi_mask_elem in mask_indices])\n",
    "    raise Exception('Fatal error: The prediction has at least one element of `mask_indices` as <mask>')\n",
    "\n",
    "  return octuplemidi_token_encoding"
   ]
  },
  {
   "cell_type": "markdown",
   "metadata": {
    "id": "zjwpEucTU1KB"
   },
   "source": [
    "https://github.com/microsoft/muzic/blob/main/musicbert/eval_genre.py"
   ]
  },
  {
   "cell_type": "markdown",
   "metadata": {
    "id": "5gQHN0VcWLP5"
   },
   "source": [
    "### Encoding MIDI file"
   ]
  },
  {
   "cell_type": "code",
   "execution_count": null,
   "metadata": {
    "cellView": "form",
    "colab": {
     "base_uri": "https://localhost:8080/"
    },
    "id": "sYEF6mY13dtV",
    "outputId": "48b0acfa-d440-409f-890f-5d2645d501f5"
   },
   "outputs": [
    {
     "name": "stdout",
     "output_type": "stream",
     "text": [
      "rm: cannot remove '/content/musicbert_cache/': No such file or directory\n"
     ]
    }
   ],
   "source": [
    "#@markdown Creating cache folder for processing input tracks\n",
    "!rm -r /content/musicbert_cache/\n",
    "!mkdir -p /content/musicbert_cache/"
   ]
  },
  {
   "cell_type": "code",
   "execution_count": null,
   "metadata": {
    "cellView": "form",
    "id": "U9n1lovgWZso"
   },
   "outputs": [],
   "source": [
    "sample_midi_path = \"/content/Just the two of us.mid\" #@param {type:\"string\"}\n",
    "# sample_midi_path = '/content/forgetmenots.mid'\n",
    "midi_name = sample_midi_path.split('/')[-1].split('.')[0]"
   ]
  },
  {
   "cell_type": "markdown",
   "metadata": {
    "id": "ca4RhgDnhek9"
   },
   "source": [
    "**NOTE**: Music21 cannot encode drums and many other instruments properly, download and listen to MIDI tracks in `musicbert_cache` with Windows Media Player or any other MIDI player"
   ]
  },
  {
   "cell_type": "code",
   "execution_count": null,
   "metadata": {
    "cellView": "form",
    "colab": {
     "base_uri": "https://localhost:8080/",
     "height": 151
    },
    "id": "wV9CcDmZf7kH",
    "outputId": "dc51f077-65de-4716-d5f3-ffb368ebcd6e"
   },
   "outputs": [
    {
     "name": "stdout",
     "output_type": "stream",
     "text": [
      "> Input MIDI: Just the two of us\n"
     ]
    },
    {
     "data": {
      "text/html": [
       "\n",
       "                <div id='midiPlayerDiv96676'></div>\n",
       "                <link rel=\"stylesheet\" href=\"//cuthbertLab.github.io/music21j/css/m21.css\"\n",
       "                    type=\"text/css\" />\n",
       "                \n",
       "                    <script src=\"//cuthbertLab.github.io/music21j/ext/require/require.js\"\n",
       "                    ></script>\n",
       "                \n",
       "                <script>\n",
       "                require.config({\n",
       "                    paths: {'music21': '//cuthbertLab.github.io/music21j/src/music21'}\n",
       "                });\n",
       "                require(['music21'], function() {\n",
       "                               mp = new music21.miditools.MidiPlayer();\n",
       "                               mp.addPlayer('#midiPlayerDiv96676');\n",
       "                               mp.base64Load('data:audio/midi;base64,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');\n",
       "                        });\n",
       "                </script>"
      ],
      "text/plain": [
       "<IPython.core.display.HTML object>"
      ]
     },
     "metadata": {},
     "output_type": "display_data"
    }
   ],
   "source": [
    "#@markdown Optional: Display input MIDI tracks\n",
    "\n",
    "print(f\"> Input MIDI: {midi_name}\")\n",
    "playMidi(sample_midi_path)"
   ]
  },
  {
   "cell_type": "markdown",
   "metadata": {
    "id": "VR7Qww4QWiIZ"
   },
   "source": [
    "#### Parsing MIDI file"
   ]
  },
  {
   "cell_type": "code",
   "execution_count": null,
   "metadata": {
    "id": "HoK0y-JFWZsp"
   },
   "outputs": [],
   "source": [
    "midi_obj, midi_name = parse_midi_file(sample_midi_path)"
   ]
  },
  {
   "cell_type": "code",
   "execution_count": null,
   "metadata": {
    "colab": {
     "base_uri": "https://localhost:8080/"
    },
    "id": "W8oQhUcNWZsp",
    "outputId": "34d7d42d-85ea-4257-fdea-1a1bce1f8fad"
   },
   "outputs": [
    {
     "name": "stdout",
     "output_type": "stream",
     "text": [
      "ticks per beat: 384\n",
      "max tick: 184321\n",
      "tempo changes: 2\n",
      "time sig: 1\n",
      "key sig: 0\n",
      "markers: 0\n",
      "lyrics: False\n",
      "instruments: 9\n"
     ]
    }
   ],
   "source": [
    "print(midi_obj)"
   ]
  },
  {
   "cell_type": "code",
   "execution_count": null,
   "metadata": {
    "colab": {
     "base_uri": "https://localhost:8080/"
    },
    "id": "VOg9nF-8Lf2z",
    "outputId": "04dd9d9e-89ef-4ff6-d439-90e52a8f430b"
   },
   "outputs": [
    {
     "name": "stdout",
     "output_type": "stream",
     "text": [
      " > ticks per beat: 384\n",
      "\n",
      " -- time signatures -- \n",
      " > amount: 1\n",
      "4/4 at 0 ticks\n",
      "\n",
      " -- key signatures --\n",
      " > amount: 0\n",
      "\n",
      " -- tempo changes --\n",
      " > amount: 2\n",
      "120.0 BPM at 0 ticks\n",
      "\n",
      " -- instruments --\n",
      " > number of tracks: 9\n",
      " > number of notes in ins 0: 2358\n",
      " > number of notes in ins 1: 1428\n",
      " > number of notes in ins 2: 323\n",
      " > number of notes in ins 3: 306\n",
      " > number of notes in ins 4: 416\n",
      " > number of notes in ins 5: 90\n",
      " > number of notes in ins 6: 185\n",
      " > number of notes in ins 7: 50\n",
      " > number of notes in ins 8: 174\n",
      "184321 tick at 319.99766807291667 seconds\n"
     ]
    }
   ],
   "source": [
    "# load midi file\n",
    "mido_obj = midi_obj\n",
    "\n",
    "# ticks per beats\n",
    "print(' > ticks per beat:', mido_obj.ticks_per_beat)\n",
    "\n",
    "# signatures\n",
    "print('\\n -- time signatures -- ')\n",
    "print(' > amount:', len(mido_obj.time_signature_changes))\n",
    "print(mido_obj.time_signature_changes[0])\n",
    "\n",
    "print('\\n -- key signatures --')\n",
    "print(' > amount:', len(mido_obj.key_signature_changes))\n",
    "\n",
    "# tempo changes\n",
    "print('\\n -- tempo changes --')\n",
    "print(' > amount:', len(mido_obj.tempo_changes))\n",
    "print(mido_obj.tempo_changes[0])\n",
    "\n",
    "# # markers\n",
    "# print('\\n -- markers --')\n",
    "# print(' > amount:', len(mido_obj.markers))\n",
    "# print(mido_obj.markers[0])\n",
    "\n",
    "# instruments\n",
    "print('\\n -- instruments --')\n",
    "print(' > number of tracks:', len(mido_obj.instruments))\n",
    "\n",
    "num_ins = len(mido_obj.instruments)\n",
    "for i in range(num_ins):\n",
    "  print(f' > number of notes in ins {i}:', len(mido_obj.instruments[i].notes))\n",
    "\n",
    "# convert to seconds\n",
    "# note = mido_obj.instruments[0].notes[-1]\n",
    "mapping = mido_obj.get_tick_to_time_mapping()\n",
    "tick = mido_obj.max_tick\n",
    "sec = mapping[tick]\n",
    "print('{} tick at {} seconds'.format(tick, sec))"
   ]
  },
  {
   "cell_type": "code",
   "execution_count": null,
   "metadata": {
    "id": "T70TUjjWWZsp"
   },
   "outputs": [],
   "source": [
    "assert all(0 <= j.start < 2 ** 31 and 0 <= j.end < 2 **\n",
    "                   31 for i in midi_obj.instruments for j in i.notes), 'bad note time'\n",
    "assert all(0 < j.numerator < 2 ** 31 and 0 < j.denominator < 2 **\n",
    "            31 for j in midi_obj.time_signature_changes), 'bad time signature value'\n",
    "assert 0 < midi_obj.ticks_per_beat < 2 ** 31, 'bad ticks per beat'"
   ]
  },
  {
   "cell_type": "markdown",
   "metadata": {
    "id": "hhQuDqQYNjqZ"
   },
   "source": [
    "Program to instrument name: https://jazz-soft.net/demo/GeneralMidi.html"
   ]
  },
  {
   "cell_type": "code",
   "execution_count": null,
   "metadata": {
    "colab": {
     "base_uri": "https://localhost:8080/"
    },
    "id": "GtbvGl3dWZsp",
    "outputId": "da184e3d-3ae9-4739-c94e-bf7bd2546697"
   },
   "outputs": [
    {
     "name": "stdout",
     "output_type": "stream",
     "text": [
      "0\n",
      "5\n",
      "0\n",
      "1\n",
      "24\n",
      "0\n",
      "65\n",
      "82\n",
      "114\n"
     ]
    }
   ],
   "source": [
    "for ins in midi_obj.instruments:\n",
    "  print(ins.program)"
   ]
  },
  {
   "cell_type": "code",
   "execution_count": null,
   "metadata": {
    "id": "sQ-aOteSWZsp"
   },
   "outputs": [],
   "source": [
    "midi_notes_count = sum(len(inst.notes) for inst in midi_obj.instruments)\n",
    "if midi_notes_count == 0:\n",
    "  print('ERROR(BLANK): ' + file_name + '\\n', end='')"
   ]
  },
  {
   "cell_type": "code",
   "execution_count": null,
   "metadata": {
    "colab": {
     "base_uri": "https://localhost:8080/"
    },
    "id": "k5Xyp2aBWZsp",
    "outputId": "793b7939-84cd-46d4-b1a2-624e1ad2a148"
   },
   "outputs": [
    {
     "name": "stdout",
     "output_type": "stream",
     "text": [
      "5330\n"
     ]
    }
   ],
   "source": [
    "print(midi_notes_count)"
   ]
  },
  {
   "cell_type": "markdown",
   "metadata": {
    "id": "lvRKDQYNabTK"
   },
   "source": [
    "#### Optional: Displaying individual MIDI tracks"
   ]
  },
  {
   "cell_type": "code",
   "execution_count": null,
   "metadata": {
    "cellView": "form",
    "id": "PfiFa-J9J6uj"
   },
   "outputs": [],
   "source": [
    "#@markdown This cell saves each track and their `program ID` in `/content/musicbert_cache` folder individually as downloadable individual tracks\n",
    "cache_midi_tracks(midi_obj, midi_name, '/content', 'musicbert_cache')"
   ]
  },
  {
   "cell_type": "code",
   "execution_count": null,
   "metadata": {
    "cellView": "form",
    "colab": {
     "base_uri": "https://localhost:8080/",
     "height": 1000
    },
    "id": "H71Rj3ATbW44",
    "outputId": "d89c951c-f67b-4cff-b7ec-d1de84771607"
   },
   "outputs": [
    {
     "name": "stdout",
     "output_type": "stream",
     "text": [
      "> Track number: 0\n",
      "> Program (Instrument) ID: 0\n",
      "> Is drum? : True\n"
     ]
    },
    {
     "data": {
      "text/html": [
       "\n",
       "                <div id='midiPlayerDiv160665'></div>\n",
       "                <link rel=\"stylesheet\" href=\"//cuthbertLab.github.io/music21j/css/m21.css\"\n",
       "                    type=\"text/css\" />\n",
       "                \n",
       "                    <script src=\"//cuthbertLab.github.io/music21j/ext/require/require.js\"\n",
       "                    ></script>\n",
       "                \n",
       "                <script>\n",
       "                require.config({\n",
       "                    paths: {'music21': '//cuthbertLab.github.io/music21j/src/music21'}\n",
       "                });\n",
       "                require(['music21'], function() {\n",
       "                               mp = new music21.miditools.MidiPlayer();\n",
       "                               mp.addPlayer('#midiPlayerDiv160665');\n",
       "                               mp.base64Load('data:audio/midi;base64,TVRoZAAAAAYAAQACBABNVHJrAAAAFAD/UQMHoSAA/1gEBAIYCIgA/y8ATVRyawAAABkA/wMGUy1GaWxlAMkAAOkAQADJAIgA/y8A');\n",
       "                        });\n",
       "                </script>"
      ],
      "text/plain": [
       "<IPython.core.display.HTML object>"
      ]
     },
     "metadata": {},
     "output_type": "display_data"
    },
    {
     "name": "stdout",
     "output_type": "stream",
     "text": [
      "> Track number: 1\n",
      "> Program (Instrument) ID: 5\n",
      "> Is drum? : False\n"
     ]
    },
    {
     "data": {
      "text/html": [
       "\n",
       "                <div id='midiPlayerDiv210727'></div>\n",
       "                <link rel=\"stylesheet\" href=\"//cuthbertLab.github.io/music21j/css/m21.css\"\n",
       "                    type=\"text/css\" />\n",
       "                \n",
       "                    <script src=\"//cuthbertLab.github.io/music21j/ext/require/require.js\"\n",
       "                    ></script>\n",
       "                \n",
       "                <script>\n",
       "                require.config({\n",
       "                    paths: {'music21': '//cuthbertLab.github.io/music21j/src/music21'}\n",
       "                });\n",
       "                require(['music21'], function() {\n",
       "                               mp = new music21.miditools.MidiPlayer();\n",
       "                               mp.addPlayer('#midiPlayerDiv210727');\n",
       "                               mp.base64Load('data:audio/midi;base64,TVRoZAAAAAYAAQACBABNVHJrAAAAFAD/UQMHoSAA/1gEBAIYCIgA/y8ATVRyawAAMVYA/wMGUy1GaWxlAMAFAOAAQADABdgAkD0nAJBURoQAgFQAAJBQQIIAgFAAAJBNO4QAgE0AAJBEN4IAgD0AggCARAAAkEw9ggCATAAAkDw9AJBPSYQAgDwAAIBPAACQTEeEAIBMAACQQDQAkFJJhACAQAAAgFIAAJBUS4QAgFQAAJBBNACQUEmEAIBQAACQTTeCAIBNAACQSEyEAIBIAACQTU2CAIBNAIIAgEEAAJBQSoIAkD84AJBJQACQUk9VgFAAgyuAPwAAgEkAAIBSAACQTlSCAIBOAIIAkDg0AJBISQCQUFSEAIA4AACASAAAgFAAAJBOT4IAgE4AggCQPTwAkEhKAJBQUYJVgEgAAIBQAIMrkE1ShACATQAAkEhIgyuAPQBVgEgAAJBNR4IAgE0AAJA8NACQTFCEAIA8AACATAAAkE9OhACATwAAkEA3AJBSSoQAgEAAAIBSAACQVEWCAIBUAIIAkEEoAJBIRwCQUD2CVYBIAACAUACJK5BQOACQVEIAkFc+AJBZQYQAgEEAAJBQOACQVEIAkFc+AJBZQYQAgFAAAIBUAACAVwAAgFkAhACAUAAAgFQAAIBXAACAWQCIAJA9PQCQTT4AkFBKAJBUSIQAgFAAAIBUAACQUj0AkFVNggCQUD4AkFRGggCAUgAAgFUAggCAVAAAkFI9AJBVT4IAgD0AAIBNAACAUAAAgFIAAIBVAIIAkExKggCQPDQAkFBBAJBUTIMrgFAAAIBUAFWAPAAAkFI9AJBVTYQAgFIAAIBVAACQQDsAkFA6AJBUSoQAgEAAAIBQAACAVAAAkFJIAJBVTIIAgEwAAIBSAACAVQCCAJBBOQCQTUUAkFBJAJBUT4QAgFAAAIBUAACQUjkAkFVNggCAUgAAgFUAAJBQPgCQVE6EAIBBAACATQAAgFAAAIBUAACQUj8AkFVOggCAUgAAgFUAggCQTlAAkFdQggCATgAAgFcAAJA/NwCQTlAAkFdQgyuATgAAgFcAVYA/AIQAkDg1AJBQRACQVEuEAIA4AACAUAAAgFQAAJBOPQCQUkeCAIBOAACAUgCCAJA9OACQTUYAkFBIAJBUS4QAgFAAAIBUAACQUjkAkFVGggCAUgAAgFUAAJBQRwCQVEqEAIBUAACQUisAkFVRggCAPQAAgE0AAIBQAACAUgAAgFUAggCQTEMAkFRPggCQPDUAkExDAJBUT4QAgEwAAIBUAACATAAAgFQAAJBPTwCQUkSBK4A8AFWATwAAgFIAhACQT0wAkFJFggCATwAAgFIAAJBQUgCQVEqCAIBQAACAVACCAJA1NgCQSDYAkEtFAJBPRACQUkCEAIA1AACASAAAgEsAAIBPAACAUgAAkDw1hACQQTYAkEg+AJBNSwCQUEGCAIA8AACASAAAgE0AVYBQAIMrkFA9AJBURwCQVz4AkFlBggCAQQAAkFA9AJBURwCQVz4AkFlBhgCAUAAAgFQAAIBXAACAWQCCAIBQAACAVAAAgFcAAIBZAIgAkD0+AJBURoQAgFQAAJBQQoIAgFAAAJBNPYQAgE0AAJBENYMrgD0AVYBEAACQTEKCAIBMAACQPD0AkE9KhACAPAAAgE8AAJBMQYQAgEwAAJBAOQCQUkSEAIBAAACAUgAAkFRIhACAVAAAkEEtAJBQS4QAgFAAAJBNRoIAgE0AAJBIRYQAgEgAAJBNS4IAgE0AgSuAQQBVkFBJggCQPzoAkEk9AJBSTVWAUACDK4A/AACASQAAgFIAAJBOTYIAgE4AggCQODMAkEhMAJBQTYQAgDgAAIBIAACAUAAAkE5LggCATgCCAJA9OACQSEsAkFBOhgCASAAAgFAAAJBNSYQAgE0AAJBIS4IAgD0AggCASAAAkE1IggCATQAAkDwsAJBMSoQAgDwAAIBMAACQT0yEAIBPAACQQDkAkFJGhACAQAAAgFIAAJBUSYIAgFQAggCQQTIAkEhLAJBQT4QAgEgAAIBQAIgAkFA7AJBURgCQV0MAkFlLhACAQQAAkFA7AJBURgCQV0MAkFlLhACAUAAAgFQAAIBXAACAWQCEAIBQAACAVAAAgFcAAIBZAIgAkD05AJBNPgCQUEQAkFRNhACAUAAAgFQAAJBSNwCQVT+CAJBQPACQVE6CAIBSAACAVQCCAIBUAACQUjoAkFVNggCAPQAAgE0AAIBQAACAUgAAgFUAggCQTEWCAJA8LwCQUDsAkFRMhACAPAAAgFAAAIBUAACQUjoAkFVQhACAUgAAgFUAAJBAOQCQUD0AkFRLhACAQAAAgFAAAIBUAACQUkkAkFVQggCATAAAgFIAAIBVAIIAkEE1AJBNSQCQUEIAkFRJhACAUAAAgFQAAJBSKwCQVU+CAJBQOgCQVE5VgFIAAIBVAIMrgEEAAIBNAACAUAAAgFQAAJBSRgCQVVCCAIBSAACAVQCCAJBOUACQV1CCAIBOAACAVwAAkD83AJBOUACQV1CCAIBOAACAVwBVgD8AhSuQODQAkFBMAJBUT4QAgDgAAIBQAACAVAAAkE5LAJBSRoIAgE4AAIBSAIIAkD06AJBNOQCQUEMAkFRNhACAUAAAgFQAAJBSNQCQVU6CAJBQRwCQVFBVgFIAAIBVAIMrgFQAAJBSLQCQVUlVgD0AAIBNAIErgFAAAIBSAACAVQCCAJBMQQCQUEMAkFRHggCATAAAgFAAAIBUAACQPCsAkExBAJBQQwCQVEeEAIA8AACATAAAgFAAAIBUAACQUi4AkFVJggCAUgAAgFUAggCQQDYAkFBHAJBUTYQAgEAAAIBQAACAVAAAkE9HAJBSTYIAgE8AAIBSAIIAkEEtAJBQToQAgFAAAJBUToQAgFQAAJBNR4IAgE0AggCAQQAAkFBEAJBURgCQV08AkFlKhACAUAAAgFQAAIBXAACAWQCQAJA9MwCQTUEAkFBEAJBIOIYAgEgAggCAPQAAgE0AAIBQAACQSCyCAIBIAIYAkDwtAJBGJwCQTDYAkE84glWARgAAgEwAAIBPAIUrkEw3AJBPOgCQUjMAkFQ5glWAPAAAgEwAAIBPAACAUgAAgFQAhSuQQTEAkE0tAJBQMwCQVDiCAIBNAIIAkE0igSuAUAAAgFQAVYBNAACQUD2CAIBQAIIAkE0tVYBBAIErgE0AhACQPyoAkEkuAJBOPgCQUkOCVYA/AACASQAAgE4AAIBSAIUrkDgzAJBIOACQSzsAkE4+AJBSQIQAgDgAAIBIAACASwAAgE4AAIBSAIQAkD0uAJBQNwCQSCkAkE06glWASACDK4BNAACQSB+EAIA9AACAUAAAgEgAAJBNNIIAgE0AhACQPDIAkEYqAJBMOQCQTz2CVYBGAACATAAAgE8AhSuQTDgAkE87AJBSMACQVD2CVYA8AACATAAAgE8AAIBSAACAVACFK5BBKACQTTgAkFA3AJBUOoJVgE0AgyuQTSaCVYBNAIErgFAAAIBUAIIAkFA/AJBURgCQVz4AkFlPhACAQQAAkFA/AJBURgCQVz4AkFlPhACAUAAAgFQAAIBXAACAWQCEAIBQAACAVAAAgFcAAIBZAIgAkD0pAJBNOQCQUD8AkFRFhACATQCCAJBNJYIAgFAAAIBUAIIAgE0AggCQUCiBK4A9AFWAUACCAJA8KwCQT0IAkFI9ggCQTB+CAIBPAACAUgAAgEwAhACQTDEAkE80AJBSPwCQVEOCAIA8AFWATAAAgE8AgSuAUgAAgFQAhACQQTcAkE0xAJBQOACQVEGCVYBNAIMrgFAAAIBUAACQTSyCAIBNAIIAkFAsggCAQQAAgFAAhACQPzAAkEk1AJBOPgCQUj6CVYA/AACASQAAgE4AAIBSAIUrkDgvAJBIOgCQSz0AkE5AAJBSPYJVgDgAAIBIAACASwAAgE4AAIBSAIUrkD07AJBIMgCQTUIAkFBBglWASACDK4BNAACAUAAAkEgpggCASACCAJBNQ1WAPQCBK4BNAIQAkDwyAJBGIgCQTDsAkE89glWARgAAgEwAAIBPAIUrkEwsAJBPOQCQUjoAkFRJggCAPAAAgEwAAIBPAACAUgAAgFQAhgCQQTMAkE03AJBQOwCQVEaCVYBNAACAUAAAgFQAgyuAQQCGAJBZPIIAgFkAkgCQMToAkDVDAJA4SwCQPFKEAIAxAACANQAAgDgAAIA8AIIAkDE9AJA1UgCQOFMAkDxbggCAMQAAgDUAAIA4AACAPACIAJAwSgCQNEMAkDdUAJA6SYYAgDAAAIA0AACANwAAgDoAggCQMFMAkDRXAJA3UACQOjmCAIAwAACANAAAgDcAAIA6AIYAkClMAJAzSgCQOFgAkDxaglWAKQAAgDMAAIA4AACAPACFK5A0RgCQN1YAkDtQAJA+XYQAgDQAAIA3AACAOwAAgD4AhACQM0MAkDZTAJA6VQCQPVWCVYAzAACANgAAgDoAAIA9AIUrkCxJAJA2UgCQPFsAkD9YglWALAAAgDYAAIA8AACAPwCFK5AxQACQNUMAkDhSAJA8T4YAgDEAAIA1AACAOAAAgDwAAJAxRQCQNV0AkDhGAJA8VIIAgDEAAIA1AACAOAAAgDwAiACQMEoAkDRRAJA3VgCQOlOGAIAwAACANAAAgDcAAIA6AACQMFEAkDRVAJA3UACQOlCCAIAwAACANAAAgDcAAIA6AIgAkCk8AJA1QwCQOEsAkDxOhACAKQAAgDUAAIA4AACAPACGAJBSVoIAgFIAAJBQSIIAgFAAAJBNToIAgE0AkACQMUUAkDVIAJA4VgCQPFSGAIAxAACANQAAgDgAAIA8AACQMVIAkDVZAJA4UgCQPFGCVYAxAACANQAAgDgAAIA8AIcrkDBRAJA0UACQN1QAkDpShgCAMAAAgDQAAIA3AACAOgAAkDBUAJA0YACQN1kAkDo3ggCAMAAAgDQAAIA3AACAOgCIAJApTQCQM1cAkDhhAJA8XoJVgCkAAIAzAACAOAAAgDwAhSuQNE8AkDdjAJA7WQCQPmSCVYA0AACANwAAgDsAAIA+AIUrkDNRAJA2VQCQOl0AkD1YglWAMwAAgDYAAIA6AACAPQCFK5AsUgCQNlUAkDxhAJA/WYJVgCwAAIA2AACAPAAAgD8AhSuQMUUAkDVLAJA4VgCQPFOGAIAxAACANQAAgDgAAIA8AACQMUgAkDVcAJA4VQCQPFeCAIAxAACANQAAgDgAAIA8AIgAkDBHAJA0VACQN2EAkDpVhgCAMAAAgDQAAIA3AACAOgAAkDBZAJA0aACQN14AkDpFggCAMAAAgDQAAIA3AACAOgCIAJApRQCQM0MAkDhVAJA8TYYAgCkAAIAzAACAOAAAgDwAmgCQPTMAkE1BAJBQRACQSDiGAIBIAIIAgD0AAIBNAACAUAAAkEgsggCASACGAJA8LQCQRicAkEw2AJBPOIJVgEYAAIBMAACATwCFK5BMNwCQTzoAkFIzAJBUOYJVgDwAAIBMAACATwAAgFIAAIBUAIUrkEExAJBNLQCQUDMAkFQ4ggCATQCCAJBNIoErgFAAAIBUAFWATQAAkFA9ggCAUACCAJBNLVWAQQCBK4BNAIQAkD8qAJBJLgCQTj4AkFJDglWAPwAAgEkAAIBOAACAUgCFK5A4MwCQSDgAkEs7AJBOPgCQUkCEAIA4AACASAAAgEsAAIBOAACAUgCEAJA9LgCQUDcAkEgpAJBNOoJVgEgAgyuATQAAkEgfhACAPQAAgFAAAIBIAACQTTSCAIBNAIQAkDwyAJBGKgCQTDkAkE89glWARgAAgEwAAIBPAIUrkEw4AJBPOwCQUjAAkFQ9glWAPAAAgEwAAIBPAACAUgAAgFQAhSuQQSgAkE04AJBQNwCQVDqCVYBNAIMrkE0mglWATQCBK4BQAACAVACCAJBQPwCQVEYAkFc+AJBZT4QAgEEAAJBQPwCQVEYAkFc+AJBZT4QAgFAAAIBUAACAVwAAgFkAhACAUAAAgFQAAIBXAACAWQCIAJA9KQCQTTkAkFA/AJBURYQAgE0AggCQTSWCAIBQAACAVACCAIBNAIIAkFAogSuAPQBVgFAAggCQPCsAkE9CAJBSPYIAkEwfggCATwAAgFIAAIBMAIQAkEwxAJBPNACQUj8AkFRDggCAPABVgEwAAIBPAIErgFIAAIBUAIQAkEE3AJBNMQCQUDgAkFRBglWATQCDK4BQAACAVAAAkE0sggCATQCCAJBQLIIAgEEAAIBQAIQAkD8wAJBJNQCQTj4AkFI+glWAPwAAgEkAAIBOAACAUgCFK5A4LwCQSDoAkEs9AJBOQACQUj2CVYA4AACASAAAgEsAAIBOAACAUgCFK5A9OwCQSDIAkE1CAJBQQYJVgEgAgyuATQAAgFAAAJBIKYIAgEgAggCQTUNVgD0AgSuATQCEAJA8MgCQRiIAkEw7AJBPPYJVgEYAAIBMAACATwCFK5BMLACQTzkAkFI6AJBUSYIAgDwAAIBMAACATwAAgFIAAIBUAIYAkEEzAJBNNwCQUDsAkFRGglWATQAAgFAAAIBUAIMrgEEAhgCQWTyCAIBZAJIAkDE6AJA1QwCQOEsAkDxShACAMQAAgDUAAIA4AACAPACCAJAxPQCQNVIAkDhTAJA8W4IAgDEAAIA1AACAOAAAgDwAiACQMEoAkDRDAJA3VACQOkmGAIAwAACANAAAgDcAAIA6AIIAkDBTAJA0VwCQN1AAkDo5ggCAMAAAgDQAAIA3AACAOgCGAJApTACQM0oAkDhYAJA8WoJVgCkAAIAzAACAOAAAgDwAhSuQNEYAkDdWAJA7UACQPl2EAIA0AACANwAAgDsAAIA+AIQAkDNDAJA2UwCQOlUAkD1VglWAMwAAgDYAAIA6AACAPQCFK5AsSQCQNlIAkDxbAJA/WIJVgCwAAIA2AACAPAAAgD8AhSuQMUAAkDVDAJA4UgCQPE+GAIAxAACANQAAgDgAAIA8AACQMUUAkDVdAJA4RgCQPFSCAIAxAACANQAAgDgAAIA8AIgAkDBKAJA0UQCQN1YAkDpThgCAMAAAgDQAAIA3AACAOgAAkDBRAJA0VQCQN1AAkDpQggCAMAAAgDQAAIA3AACAOgCIAJApPACQNUMAkDhLAJA8ToQAgCkAAIA1AACAOAAAgDwAhgCQUlaCAIBSAACQUEiCAIBQAACQTU6CAIBNAJAAkDFFAJA1SACQOFYAkDxUhgCAMQAAgDUAAIA4AACAPAAAkDFSAJA1WQCQOFIAkDxRglWAMQAAgDUAAIA4AACAPACHK5AwUQCQNFAAkDdUAJA6UoYAgDAAAIA0AACANwAAgDoAAJAwVACQNGAAkDdZAJA6N4IAgDAAAIA0AACANwAAgDoAiACQKU0AkDNXAJA4YQCQPF6CVYApAACAMwAAgDgAAIA8AIUrkDRPAJA3YwCQO1kAkD5kglWANAAAgDcAAIA7AACAPgCFK5AzUQCQNlUAkDpdAJA9WIJVgDMAAIA2AACAOgAAgD0AhSuQLFIAkDZVAJA8YQCQP1mCVYAsAACANgAAgDwAAIA/AIUrkDFFAJA1SwCQOFYAkDxThgCAMQAAgDUAAIA4AACAPAAAkDFIAJA1XACQOFUAkDxXggCAMQAAgDUAAIA4AACAPACIAJAwRwCQNFQAkDdhAJA6VYYAgDAAAIA0AACANwAAgDoAAJAwWQCQNGgAkDdeAJA6RYIAgDAAAIA0AACANwAAgDoAiACQKUUAkDNDAJA4VQCQPE2GAIApAACAMwAAgDgAAIA8AJoAkD06AJBERACQSDuGAIA9AACARAAAgEgAigCQPDYAkEM/AJBGPIUrgDwAAIBDAACARgCKVZA7NQCQQjsAkEY3iACAOwAAgEIAAIBGAIgAkDozAJBBOgCQRDGGAIA6AACAQQAAgEQAigCQOTMAkEBAAJBEOYYAgDkAAIBAAACARACKAJA4MwCQPzoAkEI5hACAOAAAgD8AAIBCAIwAkDFDAJA4UQCQPFIAkEFRggCAOAAAgDwAAIBBAIQAgDEAAJA8QQCQQUcAkERFggCAPAAAgEEAAIBEAIQAkDRVAJA/UwCQRlMAkEtVjACANAAAgD8AAIBGAACASwCIAJA9OgCQREQAkEg7hgCAPQAAgEQAAIBIAIoAkDw2AJBDPwCQRjyFK4A8AACAQwAAgEYAilWQOzUAkEI7AJBGN4gAgDsAAIBCAACARgCIAJA6MwCQQToAkEQxhgCAOgAAgEEAAIBEAIoAkDkzAJBAQACQRDmGAIA5AACAQAAAgEQAigCQODMAkD86AJBCOYQAgDgAAIA/AACAQgCMAJAxMwCQODYAkDxCAJBBO4IAgDgAAIA8AACAQQCEAIAxAACQPEEAkEFHAJBERYIAgDwAAIBBAACARACEAJA0QACQPzsAkEZGAJBLTowAgDQAAIA/AACARgAAgEsAmACQMUIAkDU3AJA4RwCQPEiEAIAxAACANQAAgDgAAIA8AIIAkDFIAJA1SwCQOD0AkDxcggCAMQAAgDUAAIA4AACAPACIAJAwMQCQNDMAkDdDAJA6OYYAgDAAAIA0AACANwAAgDoAAJAwRACQNEcAkDdKAJA6RIIAgDAAAIA0AACANwAAgDoAiACQKS4AkDMwAJA4PQCQPEGGAIApAACAMwAAgDgAAIA8AACQKTkAkDM8AJA4PgCQPFGCAIApAACAMwAAgDgAAIA8AJgAkDEsAJA1MwCQOD0AkDxAhgCAMQAAgDUAAIA4AACAPAAAkDEuAJA1SACQOE8AkDxLggCAMQAAgDUAAIA4AACAPACIAJAwLgCQNDMAkDc5AJA6NoQAgDAAAIA0AACANwAAgDoAggCQMFUAkDRNAJA3RQCQOjaCAIAwAACANAAAgDcAAIA6AIgAkCkxAJA4IwCQPDoAkD8smACAKQAAgDgAAIA8AACAPwCCAJApSACQOEcAkDxGAJA/NoIAgCkAAIA4AACAPAAAgD8AhACQMTgAkDU0AJA4RQCQPESEAIAxAACANQAAgDgAAIA8AIIAkDFLAJA1VQCQOEQAkDxHggCAMQAAgDUAAIA4AACAPACIAJAwMQCQNDoAkDdHAJA6RoYAgDAAAIA0AACANwAAgDoAAJAwUwCQNFoAkDdGAJA6N4IAgDAAAIA0AACANwAAgDoAiACQKTgAkDg3AJA8QQCQPz2EAIApAACAOAAAgDwAAIA/AIIAkClcAJA4SgCQPDcAkD9ZggCAKQAAgDgAAIA8AACAPwCQAJA8VYYAgDwAggCQMTIAkDU7AJA4SQCQPEGEAIAxAACANQAAgDgAAIA8AIIAkDFMAJA1TACQOEwAkDxNggCAMQAAgDUAAIA4AACAPACIAJAwNwCQNDgAkDdEAJA6N4YAgDAAAIA0AACANwAAgDoAAJAwVQCQNFIAkDdQAJA6QoIAgDAAAIA0AACANwAAgDoAiACQKTYAkDgvAJA8OwCQPzmGAIApAACAOAAAgDwAAIA/AACQKUkAkDhNAJA8TgCQP0aCAIApAACAOAAAgDwAAIA/AJgAkDEtAJA1MwCQOD0AkDxBhgCANQAAgDgAAIA8AACQNUEAkDg7AJA8QocrgDEAVYA1AACAOAAAgDwAggCQMDkAkDQvAJA3PQCQOjmEAIAwAACANAAAgDcAAIA6AIIAkDBEAJA0RwCQN1QAkDpZhgCAMAAAgDQAAIA3AACAOgCEAJApLQCQMyMAkDg7AJA8PYYAgCkAAIAzAACAOAAAgDwAAJApQgCQMz4AkDhEAJA8NY4AkD9EhgCAPwAAkDNLgSuAKQAAgDMAAIA4AACAPABVgDMAhACQMS8AkDUwAJA4OgCQPDyGAIAxAACANQAAgDgAAIA8AACQMUkAkDVSAJA4TQCQPE6FK4AxAACANQAAgDgAglWAPACCAJAwOQCQNDUAkDc/AJA6OoYAgDAAAIA0AACANwAAgDoAAJA0SQCQN0MAkDo8ggCQMEmDK4A0AACANwAAgDoAVYAwAIQAkCk7AJA4RwCQPEcAkD9DilWAOAAAgDwAAIA/AIcrgCkAggCQRjWCAIBGAACQRDuCAIBEAIgAkDE4AJA1NACQOEUAkDxEhACAMQAAgDUAAIA4AACAPACCAJAxSwCQNVUAkDhEAJA8R4IAgDEAAIA1AACAOAAAgDwAiACQMDEAkDQ6AJA3RwCQOkaGAIAwAACANAAAgDcAAIA6AACQMFMAkDRaAJA3RgCQOjeCAIAwAACANAAAgDcAAIA6AIgAkCk4AJA4NwCQPEEAkD89hACAKQAAgDgAAIA8AACAPwCCAJApXACQOEoAkDw3AJA/WYIAgCkAAIA4AACAPAAAgD8AkACQPFWGAIA8AIIAkDEyAJA1OwCQOEkAkDxBhACAMQAAgDUAAIA4AACAPACCAJAxTACQNUwAkDhMAJA8TYIAgDEAAIA1AACAOAAAgDwAiACQMDcAkDQ4AJA3RACQOjeGAIAwAACANAAAgDcAAIA6AACQMFUAkDRSAJA3UACQOkKCAIAwAACANAAAgDcAAIA6AIgAkCk2AJA4LwCQPDsAkD85hgCAKQAAgDgAAIA8AACAPwAAkClJAJA4TQCQPE4AkD9GggCAKQAAgDgAAIA8AACAPwCYAJAxLQCQNTMAkDg9AJA8QYYAgDUAAIA4AACAPAAAkDVBAJA4OwCQPEKHK4AxAFWANQAAgDgAAIA8AIIAkDA5AJA0LwCQNz0AkDo5hACAMAAAgDQAAIA3AACAOgCCAJAwRACQNEcAkDdUAJA6WYYAgDAAAIA0AACANwAAgDoAhACQKS0AkDMjAJA4OwCQPD2GAIApAACAMwAAgDgAAIA8AACQKUIAkDM+AJA4RACQPDWOAJA/RIYAgD8AAJAzS4ErgCkAAIAzAACAOAAAgDwAVYAzAIQAkDEvAJA1MACQODoAkDw8hgCAMQAAgDUAAIA4AACAPAAAkDFJAJA1UgCQOE0AkDxOhSuAMQAAgDUAAIA4AIJVgDwAggCQMDkAkDQ1AJA3PwCQOjqGAIAwAACANAAAgDcAAIA6AACQNEkAkDdDAJA6PIIAkDBJgyuANAAAgDcAAIA6AFWAMACEAJApOwCQOEcAkDxHAJA/Q4pVgDgAAIA8AACAPwCHK4ApAIIAkEY1ggCARgAAkEQ7ggCARACIAJA9OgCQREQAkEg7hgCAPQAAgEQAAIBIAIoAkDw2AJBDPwCQRjyFK4A8AACAQwAAgEYAilWQOzUAkEI7AJBGN4gAgDsAAIBCAACARgCIAJA6MwCQQToAkEQxhgCAOgAAgEEAAIBEAIoAkDkzAJBAQACQRDmGAIA5AACAQAAAgEQAigCQODMAkD86AJBCOYQAgDgAAIA/AACAQgCMAJAxMwCQODYAkDxCAJBBO4IAgDgAAIA8AACAQQCEAIAxAACQPEEAkEFHAJBERYIAgDwAAIBBAACARACEAJA0QACQPzsAkEZGAJBLTowAgDQAAIA/AACARgAAgEsAiACQPToAkEREAJBIO4YAgD0AAIBEAACASACKAJA8NgCQQz8AkEY8hSuAPAAAgEMAAIBGAIpVkDs1AJBCOwCQRjeIAIA7AACAQgAAgEYAiACQOjMAkEE6AJBEMYYAgDoAAIBBAACARACKAJA5MwCQQEAAkEQ5hgCAOQAAgEAAAIBEAIoAkDgzAJA/OgCQQjmEAIA4AACAPwAAgEIAjACQMTMAkDg2AJA8QgCQQTuCAIA4AACAPAAAgEEAhACAMQAAkDxBAJBBRwCQREWCAIA8AACAQQAAgEQAhACQNEAAkD87AJBGRgCQS06MAIA0AACAPwAAgEYAAIBLAJgAkD0+AJBURoQAgFQAAJBQQoIAgFAAAJBNPYQAgE0AAJBENYMrgD0AVYBEAACQTEKCAIBMAACQPD0AkE9KhACAPAAAgE8AAJBMQYQAgEwAAJBAOQCQUkSEAIBAAACAUgAAkFRIhACAVAAAkEEtAJBQS4QAgFAAAJBNRoIAgE0AAJBIRYQAgEgAAJBNS4IAgE0AgSuAQQBVkFBJggCQPzoAkEk9AJBSTVWAUACDK4A/AACASQAAgFIAAJBOTYIAgE4AggCQODMAkEhMAJBQTYQAgDgAAIBIAACAUAAAkE5LggCATgCCAJA9OACQSEsAkFBOhgCASAAAgFAAAJBNSYQAgE0AAJBIS4IAgD0AggCASAAAkE1IggCATQAAkDwsAJBMSoQAgDwAAIBMAACQT0yEAIBPAACQQDkAkFJGhACAQAAAgFIAAJBUSYIAgFQAggCQQTIAkEhLAJBQT4QAgEgAAIBQAIgAkFA7AJBURgCQV0MAkFlLhACAQQAAkFA7AJBURgCQV0MAkFlLhACAUAAAgFQAAIBXAACAWQCEAIBQAACAVAAAgFcAAIBZAIgAkD05AJBNPgCQUEQAkFRNhACAUAAAgFQAAJBSNwCQVT+CAJBQPACQVE6CAIBSAACAVQCCAIBUAACQUjoAkFVNggCAPQAAgE0AAIBQAACAUgAAgFUAggCQTEWCAJA8LwCQUDsAkFRMhACAPAAAgFAAAIBUAACQUjoAkFVQhACAUgAAgFUAAJBAOQCQUD0AkFRLhACAQAAAgFAAAIBUAACQUkkAkFVQggCATAAAgFIAAIBVAIIAkEE1AJBNSQCQUEIAkFRJhACAUAAAgFQAAJBSKwCQVU+CAJBQOgCQVE5VgFIAAIBVAIMrgEEAAIBNAACAUAAAgFQAAJBSRgCQVVCCAIBSAACAVQCCAJBOUACQV1CCAIBOAACAVwAAkD83AJBOUACQV1CCAIBOAACAVwBVgD8AhSuQODQAkFBMAJBUT4QAgDgAAIBQAACAVAAAkE5LAJBSRoIAgE4AAIBSAIIAkD06AJBNOQCQUEMAkFRNhACAUAAAgFQAAJBSNQCQVU6CAJBQRwCQVFBVgFIAAIBVAIMrgFQAAJBSLQCQVUlVgD0AAIBNAIErgFAAAIBSAACAVQCCAJBMQQCQUEMAkFRHggCATAAAgFAAAIBUAACQPCsAkExBAJBQQwCQVEeEAIA8AACATAAAgFAAAIBUAACQUi4AkFVJggCAUgAAgFUAggCQQDYAkFBHAJBUTYQAgEAAAIBQAACAVAAAkE9HAJBSTYIAgE8AAIBSAIIAkEEtAJBQToQAgFAAAJBUToQAgFQAAJBNR4IAgE0AggCAQQAAkFBEAJBURgCQV08AkFlKhACAUAAAgFQAAIBXAACAWQCQAJA9MwCQTUEAkFBEAJBIOIYAgEgAggCAPQAAgE0AAIBQAACQSCyCAIBIAIYAkDwtAJBGJwCQTDYAkE84glWARgAAgEwAAIBPAIUrkEw3AJBPOgCQUjMAkFQ5glWAPAAAgEwAAIBPAACAUgAAgFQAhSuQQTEAkE0tAJBQMwCQVDiCAIBNAIIAkE0igSuAUAAAgFQAVYBNAACQUD2CAIBQAIIAkE0tVYBBAIErgE0AhACQPyoAkEkuAJBOPgCQUkOCVYA/AACASQAAgE4AAIBSAIUrkDgzAJBIOACQSzsAkE4+AJBSQIQAgDgAAIBIAACASwAAgE4AAIBSAIQAkD0uAJBQNwCQSCkAkE06glWASACDK4BNAACQSB+EAIA9AACAUAAAgEgAAJBNNIIAgE0AhACQPDIAkEYqAJBMOQCQTz2CVYBGAACATAAAgE8AhSuQTDgAkE87AJBSMACQVD2CVYA8AACATAAAgE8AAIBSAACAVACFK5BBKACQTTgAkFA3AJBUOoJVgE0AgyuQTSaCVYBNAIErgFAAAIBUAIIAkFA/AJBURgCQVz4AkFlPhACAQQAAkFA/AJBURgCQVz4AkFlPhACAUAAAgFQAAIBXAACAWQCEAIBQAACAVAAAgFcAAIBZAIgAkD0pAJBNOQCQUD8AkFRFhACATQCCAJBNJYIAgFAAAIBUAIIAgE0AggCQUCiBK4A9AFWAUACCAJA8KwCQT0IAkFI9ggCQTB+CAIBPAACAUgAAgEwAhACQTDEAkE80AJBSPwCQVEOCAIA8AFWATAAAgE8AgSuAUgAAgFQAhACQQTcAkE0xAJBQOACQVEGCVYBNAIMrgFAAAIBUAACQTSyCAIBNAIIAkFAsggCAQQAAgFAAhACQPzAAkEk1AJBOPgCQUj6CVYA/AACASQAAgE4AAIBSAIUrkDgvAJBIOgCQSz0AkE5AAJBSPYJVgDgAAIBIAACASwAAgE4AAIBSAIUrkD07AJBIMgCQTUIAkFBBglWASACDK4BNAACAUAAAkEgpggCASACCAJBNQ1WAPQCBK4BNAIQAkDwyAJBGIgCQTDsAkE89glWARgAAgEwAAIBPAIUrkEwsAJBPOQCQUjoAkFRJggCAPAAAgEwAAIBPAACAUgAAgFQAhgCQQTMAkE03AJBQOwCQVEaCVYBNAACAUAAAgFQAgyuAQQCGAJBZPIIAgFkAkgCQMToAkDVDAJA4SwCQPFKEAIAxAACANQAAgDgAAIA8AIIAkDE9AJA1UgCQOFMAkDxbggCAMQAAgDUAAIA4AACAPACIAJAwSgCQNEMAkDdUAJA6SYYAgDAAAIA0AACANwAAgDoAggCQMFMAkDRXAJA3UACQOjmCAIAwAACANAAAgDcAAIA6AIYAkClMAJAzSgCQOFgAkDxaglWAKQAAgDMAAIA4AACAPACFK5A0RgCQN1YAkDtQAJA+XYQAgDQAAIA3AACAOwAAgD4AhACQM0MAkDZTAJA6VQCQPVWCVYAzAACANgAAgDoAAIA9AIUrkCxJAJA2UgCQPFsAkD9YglWALAAAgDYAAIA8AACAPwCFK5AxQACQNUMAkDhSAJA8T4YAgDEAAIA1AACAOAAAgDwAAJAxRQCQNV0AkDhGAJA8VIIAgDEAAIA1AACAOAAAgDwAiACQMEoAkDRRAJA3VgCQOlOGAIAwAACANAAAgDcAAIA6AACQMFEAkDRVAJA3UACQOlCCAIAwAACANAAAgDcAAIA6AIgAkCk8AJA1QwCQOEsAkDxOhACAKQAAgDUAAIA4AACAPACGAJBSVoIAgFIAAJBQSIIAgFAAAJBNToIAgE0AkACQMUUAkDVIAJA4VgCQPFSGAIAxAACANQAAgDgAAIA8AACQMVIAkDVZAJA4UgCQPFGCVYAxAACANQAAgDgAAIA8AIcrkDBRAJA0UACQN1QAkDpShgCAMAAAgDQAAIA3AACAOgAAkDBUAJA0YACQN1kAkDo3ggCAMAAAgDQAAIA3AACAOgCIAJApTQCQM1cAkDhhAJA8XoJVgCkAAIAzAACAOAAAgDwAhSuQNE8AkDdjAJA7WQCQPmSCVYA0AACANwAAgDsAAIA+AIUrkDNRAJA2VQCQOl0AkD1YglWAMwAAgDYAAIA6AACAPQCFK5AsUgCQNlUAkDxhAJA/WYJVgCwAAIA2AACAPAAAgD8AhSuQMUUAkDVLAJA4VgCQPFOGAIAxAACANQAAgDgAAIA8AACQMUgAkDVcAJA4VQCQPFeCAIAxAACANQAAgDgAAIA8AIgAkDBHAJA0VACQN2EAkDpVhgCAMAAAgDQAAIA3AACAOgAAkDBZAJA0aACQN14AkDpFggCAMAAAgDQAAIA3AACAOgCIAJApRQCQM0MAkDhVAJA8TYYAgCkAAIAzAACAOAAAgDwAmgCQMToAkDVDAJA4SwCQPFKEAIAxAACANQAAgDgAAIA8AIIAkDE9AJA1UgCQOFMAkDxbggCAMQAAgDUAAIA4AACAPACIAJAwSgCQNEMAkDdUAJA6SYYAgDAAAIA0AACANwAAgDoAggCQMFMAkDRXAJA3UACQOjmCAIAwAACANAAAgDcAAIA6AIYAkClMAJAzSgCQOFgAkDxaglWAKQAAgDMAAIA4AACAPACFK5A0RgCQN1YAkDtQAJA+XYQAgDQAAIA3AACAOwAAgD4AhACQM0MAkDZTAJA6VQCQPVWCVYAzAACANgAAgDoAAIA9AIUrkCxJAJA2UgCQPFsAkD9YglWALAAAgDYAAIA8AACAPwCFK5AxQACQNUMAkDhSAJA8T4YAgDEAAIA1AACAOAAAgDwAAJAxRQCQNV0AkDhGAJA8VIIAgDEAAIA1AACAOAAAgDwAiACQMEoAkDRRAJA3VgCQOlOGAIAwAACANAAAgDcAAIA6AACQMFEAkDRVAJA3UACQOlCCAIAwAACANAAAgDcAAIA6AIgAkCk8AJA1QwCQOEsAkDxOhACAKQAAgDUAAIA4AACAPACGAJBSVoIAgFIAAJBQSIIAgFAAAJBNToIAgE0AkACQMUUAkDVIAJA4VgCQPFSGAIAxAACANQAAgDgAAIA8AACQMVIAkDVZAJA4UgCQPFGCVYAxAACANQAAgDgAAIA8AIcrkDBRAJA0UACQN1QAkDpShgCAMAAAgDQAAIA3AACAOgAAkDBUAJA0YACQN1kAkDo3ggCAMAAAgDQAAIA3AACAOgCIAJApTQCQM1cAkDhhAJA8XoJVgCkAAIAzAACAOAAAgDwAhSuQNE8AkDdjAJA7WQCQPmSCVYA0AACANwAAgDsAAIA+AIUrkDNRAJA2VQCQOl0AkD1YglWAMwAAgDYAAIA6AACAPQCFK5AsUgCQNlUAkDxhAJA/WYJVgCwAAIA2AACAPAAAgD8AhSuQMUUAkDVLAJA4VgCQPFOGAIAxAACANQAAgDgAAIA8AACQMUgAkDVcAJA4VQCQPFeCAIAxAACANQAAgDgAAIA8AIgAkDBHAJA0VACQN2EAkDpVhgCAMAAAgDQAAIA3AACAOgAAkDBZAJA0aACQN14AkDpFggCAMAAAgDQAAIA3AACAOgCIAJApRQCQM0MAkDhVAJA8TYYAgCkAAIAzAACAOAAAgDwAiAD/LwA=');\n",
       "                        });\n",
       "                </script>"
      ],
      "text/plain": [
       "<IPython.core.display.HTML object>"
      ]
     },
     "metadata": {},
     "output_type": "display_data"
    },
    {
     "name": "stdout",
     "output_type": "stream",
     "text": [
      "> Track number: 2\n",
      "> Program (Instrument) ID: 0\n",
      "> Is drum? : False\n"
     ]
    },
    {
     "data": {
      "text/html": [
       "\n",
       "                <div id='midiPlayerDiv248264'></div>\n",
       "                <link rel=\"stylesheet\" href=\"//cuthbertLab.github.io/music21j/css/m21.css\"\n",
       "                    type=\"text/css\" />\n",
       "                \n",
       "                    <script src=\"//cuthbertLab.github.io/music21j/ext/require/require.js\"\n",
       "                    ></script>\n",
       "                \n",
       "                <script>\n",
       "                require.config({\n",
       "                    paths: {'music21': '//cuthbertLab.github.io/music21j/src/music21'}\n",
       "                });\n",
       "                require(['music21'], function() {\n",
       "                               mp = new music21.miditools.MidiPlayer();\n",
       "                               mp.addPlayer('#midiPlayerDiv248264');\n",
       "                               mp.base64Load('data:audio/midi;base64,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');\n",
       "                        });\n",
       "                </script>"
      ],
      "text/plain": [
       "<IPython.core.display.HTML object>"
      ]
     },
     "metadata": {},
     "output_type": "display_data"
    },
    {
     "name": "stdout",
     "output_type": "stream",
     "text": [
      "> Track number: 3\n",
      "> Program (Instrument) ID: 1\n",
      "> Is drum? : False\n"
     ]
    },
    {
     "data": {
      "text/html": [
       "\n",
       "                <div id='midiPlayerDiv288073'></div>\n",
       "                <link rel=\"stylesheet\" href=\"//cuthbertLab.github.io/music21j/css/m21.css\"\n",
       "                    type=\"text/css\" />\n",
       "                \n",
       "                    <script src=\"//cuthbertLab.github.io/music21j/ext/require/require.js\"\n",
       "                    ></script>\n",
       "                \n",
       "                <script>\n",
       "                require.config({\n",
       "                    paths: {'music21': '//cuthbertLab.github.io/music21j/src/music21'}\n",
       "                });\n",
       "                require(['music21'], function() {\n",
       "                               mp = new music21.miditools.MidiPlayer();\n",
       "                               mp.addPlayer('#midiPlayerDiv288073');\n",
       "                               mp.base64Load('data:audio/midi;base64,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');\n",
       "                        });\n",
       "                </script>"
      ],
      "text/plain": [
       "<IPython.core.display.HTML object>"
      ]
     },
     "metadata": {},
     "output_type": "display_data"
    },
    {
     "name": "stdout",
     "output_type": "stream",
     "text": [
      "> Track number: 4\n",
      "> Program (Instrument) ID: 24\n",
      "> Is drum? : False\n"
     ]
    },
    {
     "data": {
      "text/html": [
       "\n",
       "                <div id='midiPlayerDiv323054'></div>\n",
       "                <link rel=\"stylesheet\" href=\"//cuthbertLab.github.io/music21j/css/m21.css\"\n",
       "                    type=\"text/css\" />\n",
       "                \n",
       "                    <script src=\"//cuthbertLab.github.io/music21j/ext/require/require.js\"\n",
       "                    ></script>\n",
       "                \n",
       "                <script>\n",
       "                require.config({\n",
       "                    paths: {'music21': '//cuthbertLab.github.io/music21j/src/music21'}\n",
       "                });\n",
       "                require(['music21'], function() {\n",
       "                               mp = new music21.miditools.MidiPlayer();\n",
       "                               mp.addPlayer('#midiPlayerDiv323054');\n",
       "                               mp.base64Load('data:audio/midi;base64,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');\n",
       "                        });\n",
       "                </script>"
      ],
      "text/plain": [
       "<IPython.core.display.HTML object>"
      ]
     },
     "metadata": {},
     "output_type": "display_data"
    },
    {
     "name": "stdout",
     "output_type": "stream",
     "text": [
      "> Track number: 5\n",
      "> Program (Instrument) ID: 0\n",
      "> Is drum? : False\n"
     ]
    },
    {
     "data": {
      "text/html": [
       "\n",
       "                <div id='midiPlayerDiv355097'></div>\n",
       "                <link rel=\"stylesheet\" href=\"//cuthbertLab.github.io/music21j/css/m21.css\"\n",
       "                    type=\"text/css\" />\n",
       "                \n",
       "                    <script src=\"//cuthbertLab.github.io/music21j/ext/require/require.js\"\n",
       "                    ></script>\n",
       "                \n",
       "                <script>\n",
       "                require.config({\n",
       "                    paths: {'music21': '//cuthbertLab.github.io/music21j/src/music21'}\n",
       "                });\n",
       "                require(['music21'], function() {\n",
       "                               mp = new music21.miditools.MidiPlayer();\n",
       "                               mp.addPlayer('#midiPlayerDiv355097');\n",
       "                               mp.base64Load('data:audio/midi;base64,TVRoZAAAAAYAAQACBABNVHJrAAAAFAD/UQMHoSAA/1gEBAIYCIgA/y8ATVRyawAAA3MA/wMGUy1GaWxlAMAAAOAAQADAAIewAJBIUIIAgEgAggCQRFGCAIBEAACQRlWEAIBGAACQRE+CAIBEAACQQWOCAIBBAIPyAJBIX4IAgEgAggCQRFWCAIBEAACQRlqEAIBGAACQRFOCAIBEAACQQWGCVYBBAIOhK5BGQYQAgEYAAJBESIIAgEQAggCQRk2EAIBGAACQRECCAJBBSVWARACBK4BBAKAAkEZGggCARgCCAJBER4IAgEQAggCQRkmEAIBGAACQREmCAIBEAIIAkEZOhACARgAAkERKggCARACCAJBGS4QAgEYAAJBESoIAkEFJVYBEAIErgEEAsACQRkyEAIBGAACQREqCAIBEAIIAkEZOhACARgAAkEREggCQQVBVgEQAgSuAQQCgAJBGSoQAgEYAAJBER4IAgEQAggCQRkyEAIBGAACQREWCAIBEAIIAkEZOhACARgAAkEREggCARACCAJBGT4QAgEYAAJBER4IAgEQAAJBBSoIAgEEAsACQRkuCAIBGAIIAkERLggCARACCAJBGUYQAgEYAAJBERYIAgEQAAJBBS4IAgEEAoACQRkmEAIBGAACQRE6CAIBEAIIAkEZNhACARgAAkERHggCARACCAJBGTIQAgEYAAJBESoIAgEQAggCQRlKEAIBGAACQREeCAIBEAACQQUyCAIBBALAAkEhPggCASACCAJBEToIAgEQAggCQRk+EAIBGAACQREyCAIBEAACQQUuCAIBBAKAAkEhQggCASACCAJBEToIAgEQAggCQRlCEAIBGAACQREuCAIBEAIIAkEZShACARgAAkERNggCARACCAJBGToQAgEYAAJBETYIAgEQAAJBBWYIAgEEAsACQSE+EAIBIAACQREmCAIBEAIIAkEZPhACARgAAkERIggCARAAAkEFTggCAQQCgAJBIUIIAgEgAggCQREWCAIBEAIIAkEZOhACARgAAkERKggCARACCAJBGUYQAgEYAAJBETIIAgEQAggCQRk2EAIBGAACQREaCAIBEAACQQVCCAIBBAIegAJBIT4IAgEgAggCQRE2CAIBEAACQRlGEAIBGAACQREuCAIBEAACQQWGCAIBBAIHyAJBIU4IAgEgAggCQREqCAIBEAACQRlCEAIBGAACQREiCAIBEAACQQVaCVYBBAIgA/y8A');\n",
       "                        });\n",
       "                </script>"
      ],
      "text/plain": [
       "<IPython.core.display.HTML object>"
      ]
     },
     "metadata": {},
     "output_type": "display_data"
    },
    {
     "name": "stdout",
     "output_type": "stream",
     "text": [
      "> Track number: 6\n",
      "> Program (Instrument) ID: 65\n",
      "> Is drum? : False\n"
     ]
    },
    {
     "data": {
      "text/html": [
       "\n",
       "                <div id='midiPlayerDiv378347'></div>\n",
       "                <link rel=\"stylesheet\" href=\"//cuthbertLab.github.io/music21j/css/m21.css\"\n",
       "                    type=\"text/css\" />\n",
       "                \n",
       "                    <script src=\"//cuthbertLab.github.io/music21j/ext/require/require.js\"\n",
       "                    ></script>\n",
       "                \n",
       "                <script>\n",
       "                require.config({\n",
       "                    paths: {'music21': '//cuthbertLab.github.io/music21j/src/music21'}\n",
       "                });\n",
       "                require(['music21'], function() {\n",
       "                               mp = new music21.miditools.MidiPlayer();\n",
       "                               mp.addPlayer('#midiPlayerDiv378347');\n",
       "                               mp.base64Load('data:audio/midi;base64,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');\n",
       "                        });\n",
       "                </script>"
      ],
      "text/plain": [
       "<IPython.core.display.HTML object>"
      ]
     },
     "metadata": {},
     "output_type": "display_data"
    },
    {
     "name": "stdout",
     "output_type": "stream",
     "text": [
      "> Track number: 7\n",
      "> Program (Instrument) ID: 82\n",
      "> Is drum? : False\n"
     ]
    },
    {
     "data": {
      "text/html": [
       "\n",
       "                <div id='midiPlayerDiv397724'></div>\n",
       "                <link rel=\"stylesheet\" href=\"//cuthbertLab.github.io/music21j/css/m21.css\"\n",
       "                    type=\"text/css\" />\n",
       "                \n",
       "                    <script src=\"//cuthbertLab.github.io/music21j/ext/require/require.js\"\n",
       "                    ></script>\n",
       "                \n",
       "                <script>\n",
       "                require.config({\n",
       "                    paths: {'music21': '//cuthbertLab.github.io/music21j/src/music21'}\n",
       "                });\n",
       "                require(['music21'], function() {\n",
       "                               mp = new music21.miditools.MidiPlayer();\n",
       "                               mp.addPlayer('#midiPlayerDiv397724');\n",
       "                               mp.base64Load('data:audio/midi;base64,TVRoZAAAAAYAAQACBABNVHJrAAAAFAD/UQMHoSAA/1gEBAIYCIgA/y8ATVRyawAAAeEA/wMGUy1GaWxlAMBSAOAAQADAUozYAJBNLpQAgE0AAJBPLoIAkEwuVYBPAIMrgEwAAJBILoQAgEgAAJBLLpYAgEsAAJBNLoIAkEouVYBNAIMrgEoAAJBGLoQAgEYAAJBJLpYAgEkAAJBLLoIAkEguVYBLAIMrgEgAAJBGLoYAgEYAAJBELogAgEQAmACQQS6UAIBBAACQQy6CAJBALlWAQwCDK4BAAACQPC6EAIA8AACQPy6WAIA/AACQQS6CAJA+LlWAQQCDK4A+AACQOi6EAIA6AACQPS6WAIA9AACQPy6CAJA8LlWAPwCJK4A8AACQOC6IAIA4AIWoAJBNLpQAgE0AAJBPLoIAkEwuVYBPAIMrgEwAAJBILoQAgEgAAJBLLpYAgEsAAJBNLoIAkEouVYBNAIMrgEoAAJBGLoQAgEYAAJBJLpYAgEkAAJBLLoIAkEguVYBLAIMrgEgAAJBGLoYAgEYAAJBELogAgEQAmACQQS6UAIBBAACQQy6CAJBALlWAQwCDK4BAAACQPC6EAIA8AACQPy6WAIA/AACQQS6CAJA+LlWAQQCDK4A+AACQOi6EAIA6AACQPS6WAIA9AACQPy6CAJA8LlWAPwCJK4A8AACQOC6IAIA4AIgA/y8A');\n",
       "                        });\n",
       "                </script>"
      ],
      "text/plain": [
       "<IPython.core.display.HTML object>"
      ]
     },
     "metadata": {},
     "output_type": "display_data"
    },
    {
     "name": "stdout",
     "output_type": "stream",
     "text": [
      "> Track number: 8\n",
      "> Program (Instrument) ID: 114\n",
      "> Is drum? : False\n"
     ]
    },
    {
     "data": {
      "text/html": [
       "\n",
       "                <div id='midiPlayerDiv413594'></div>\n",
       "                <link rel=\"stylesheet\" href=\"//cuthbertLab.github.io/music21j/css/m21.css\"\n",
       "                    type=\"text/css\" />\n",
       "                \n",
       "                    <script src=\"//cuthbertLab.github.io/music21j/ext/require/require.js\"\n",
       "                    ></script>\n",
       "                \n",
       "                <script>\n",
       "                require.config({\n",
       "                    paths: {'music21': '//cuthbertLab.github.io/music21j/src/music21'}\n",
       "                });\n",
       "                require(['music21'], function() {\n",
       "                               mp = new music21.miditools.MidiPlayer();\n",
       "                               mp.addPlayer('#midiPlayerDiv413594');\n",
       "                               mp.base64Load('data:audio/midi;base64,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');\n",
       "                        });\n",
       "                </script>"
      ],
      "text/plain": [
       "<IPython.core.display.HTML object>"
      ]
     },
     "metadata": {},
     "output_type": "display_data"
    }
   ],
   "source": [
    "#@markdown Optional: Display each input track individually\n",
    "\n",
    "for track_idx, ins_track in enumerate(midi_obj.instruments):\n",
    "  print(f'> Track number: {track_idx}')\n",
    "  print(f'> Program (Instrument) ID: {ins_track.program}')\n",
    "  print(f'> Is drum? : {ins_track.is_drum}')\n",
    "  playMidi(f'/content/musicbert_cache/{midi_name}_track_{track_idx}_prog_{ins_track.program}.mid')"
   ]
  },
  {
   "cell_type": "markdown",
   "metadata": {
    "id": "Fzd2gENBxuIo"
   },
   "source": [
    "#### Finalising input tracks"
   ]
  },
  {
   "cell_type": "code",
   "execution_count": null,
   "metadata": {
    "cellView": "form",
    "colab": {
     "base_uri": "https://localhost:8080/"
    },
    "id": "E7DVu9d-MU-B",
    "outputId": "7ef3d65b-19f3-427f-aea9-95ab0b5c68b5"
   },
   "outputs": [
    {
     "name": "stdout",
     "output_type": "stream",
     "text": [
      "The number of tracks in the uploaded MIDI is: 9\n",
      "\n",
      "> Parsed MIDI: Just the two of us\n",
      "> Saved Parsed MIDI as : /content/musicbert_cache/Just the two of us_track_filtered.mid\n",
      "The number of tracks in the final MIDI is: 9\n"
     ]
    }
   ],
   "source": [
    "#@markdown Enter the track numbers (with 0 indexing) to work with in the input, for example, typing `0,2, 5, 7` means that we are working only with track IDs 0, 2, 5 & 7\n",
    "\n",
    "#@markdown Leave the input empty & press enter to keep all tracks in the uploaded MIDI\n",
    "\n",
    "print(f'The number of tracks in the uploaded MIDI is: {len(midi_obj.instruments)}')\n",
    "\n",
    "track_ids = input()\n",
    "\n",
    "if track_ids is not '':\n",
    "  track_ids = track_ids.split(',')\n",
    "  track_ids = [int(id) for id in track_ids]\n",
    "else:\n",
    "  track_ids = []\n",
    "\n",
    "midi_obj = filter_tracks(midi_obj, '/content', 'musicbert_cache', midi_name, track_ids)\n",
    "\n",
    "print(f'The number of tracks in the final MIDI is: {len(midi_obj.instruments)}')"
   ]
  },
  {
   "cell_type": "code",
   "execution_count": null,
   "metadata": {
    "cellView": "form",
    "colab": {
     "base_uri": "https://localhost:8080/",
     "height": 134
    },
    "id": "E8O6B3GsaPwF",
    "outputId": "1576ccf0-22c8-48b4-973e-18fb767d1037"
   },
   "outputs": [
    {
     "data": {
      "text/html": [
       "\n",
       "                <div id='midiPlayerDiv727619'></div>\n",
       "                <link rel=\"stylesheet\" href=\"//cuthbertLab.github.io/music21j/css/m21.css\"\n",
       "                    type=\"text/css\" />\n",
       "                \n",
       "                    <script src=\"//cuthbertLab.github.io/music21j/ext/require/require.js\"\n",
       "                    ></script>\n",
       "                \n",
       "                <script>\n",
       "                require.config({\n",
       "                    paths: {'music21': '//cuthbertLab.github.io/music21j/src/music21'}\n",
       "                });\n",
       "                require(['music21'], function() {\n",
       "                               mp = new music21.miditools.MidiPlayer();\n",
       "                               mp.addPlayer('#midiPlayerDiv727619');\n",
       "                               mp.base64Load('data:audio/midi;base64,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');\n",
       "                        });\n",
       "                </script>"
      ],
      "text/plain": [
       "<IPython.core.display.HTML object>"
      ]
     },
     "metadata": {},
     "output_type": "display_data"
    }
   ],
   "source": [
    "#@markdown Optional: Run to display filtered MIDI stream\n",
    "\n",
    "playMidi(f\"/content/musicbert_cache/{midi_name}_track_filtered.mid\")"
   ]
  },
  {
   "cell_type": "markdown",
   "metadata": {
    "id": "jvtHwaFYbe7T"
   },
   "source": [
    "#### Finalised input to model"
   ]
  },
  {
   "cell_type": "markdown",
   "metadata": {
    "id": "wevYDF1QRd0a"
   },
   "source": [
    "#### OctupleMIDI pipeline"
   ]
  },
  {
   "cell_type": "code",
   "execution_count": null,
   "metadata": {
    "id": "q64oxGPfsWFx"
   },
   "outputs": [],
   "source": [
    "# 1 x 4000 x 768 ==> 1 x 4000/8 x 768 x 8 ==> 1 x 4000/8 x 768"
   ]
  },
  {
   "cell_type": "code",
   "execution_count": null,
   "metadata": {
    "id": "Rkqwxh8Fa40a"
   },
   "outputs": [],
   "source": [
    "# (0 Measure, 1 Pos, 2 Program, 3 Pitch, 4 Duration, 5 Velocity, 6 TimeSig, 7 Tempo)\n",
    "# (Measure, TimeSig)\n",
    "# (Pos, Tempo)\n",
    "# Percussion: Program=128 Pitch=[128,255]"
   ]
  },
  {
   "cell_type": "code",
   "execution_count": null,
   "metadata": {
    "colab": {
     "base_uri": "https://localhost:8080/"
    },
    "id": "h8Wl1QFw1OuZ",
    "outputId": "143c44dd-3547-4406-f954-8e7a04bc7f16"
   },
   "outputs": [
    {
     "data": {
      "text/plain": [
       "['<s>',\n",
       " '<pad>',\n",
       " '</s>',\n",
       " '<unk>',\n",
       " '<0-0>',\n",
       " '<0-1>',\n",
       " '<0-2>',\n",
       " '<0-3>',\n",
       " '<0-4>',\n",
       " '<0-5>']"
      ]
     },
     "execution_count": 221,
     "metadata": {},
     "output_type": "execute_result"
    }
   ],
   "source": [
    "label_dict = roberta_base.task.label_dictionary\n",
    "list(label_dict.indices)[:10]"
   ]
  },
  {
   "cell_type": "markdown",
   "metadata": {
    "id": "AVXcF60JW3tF"
   },
   "source": [
    "NOTE: Only sequence lengths upto 8192 are supported (i.e, 1024 octuples/notes, https://github.com/microsoft/muzic/issues/60)"
   ]
  },
  {
   "cell_type": "code",
   "execution_count": null,
   "metadata": {
    "id": "l50Hav2Y5ET8"
   },
   "outputs": [],
   "source": [
    "# Parsing MIDI file\n",
    "midi_obj = miditoolkit.midi.parser.MidiFile(sample_midi_path)\n",
    "# Octuple encoding\n",
    "e = MIDI_to_encoding(midi_obj)"
   ]
  },
  {
   "cell_type": "code",
   "execution_count": null,
   "metadata": {
    "id": "MX_Tkx-g1NEO"
   },
   "outputs": [],
   "source": [
    "starting_bar = 0#@param {type:\"integer\"}\n",
    "\n",
    "idx = get_bar_idx(e, starting_bar)\n",
    "\n",
    "e = e[idx:]\n",
    "e = shift_bar_to_front(e)\n",
    "\n",
    "octuple_midi_str_sample = encoding_to_str(e)\n",
    "octuple_midi_tokenized_sample = label_dict.encode_line( octuple_midi_str_sample )\n",
    "\n",
    "octuple_midi_str_sample_again = decode_w_label_dict(label_dict , octuple_midi_tokenized_sample )"
   ]
  },
  {
   "cell_type": "code",
   "execution_count": null,
   "metadata": {
    "colab": {
     "base_uri": "https://localhost:8080/"
    },
    "id": "m9nVboqeRc6p",
    "outputId": "60711f6d-4438-4998-e569-9d9934a94017"
   },
   "outputs": [
    {
     "name": "stdout",
     "output_type": "stream",
     "text": [
      "<s> <s> <s> <s> <s> <s> <s> <s> <0-0> <1-0> <2-48> <3-52> <4-50> <5-23> <6-9> <7-25> <0-0> <1-0> <2-48> <3-52> <4-50> <5-23> <6-9> <7-25> <0-0> <1-0> <2-128> <3-174> <4-1> <5-3> <6-9> <7-25> <0-0> <1-1> <2-128> <3-174> <4-1> <5-3> <6-9> <7-25> <0-0> <1-2> <2-128> <3-174> <4-1> <5-3> <6-9> <7-25> <0-0> <1-3> <2-128> <3-174> <4-1> <5-3> <6-9> <7-25> <0-0> <1-4> <2-128> <3-174> <4-1> <5-3> <6-9> <7-25> <0-0> <1-5> <2-128> <3-174> <4-1> <5-3> <6-9> <7-25> <0-0> <1-6> <2-128> <3-174> <4-1> <5-3> <6-9> <7-25> <0-0> <1-7> <2-128> <3-174> <4-1> <5-3> <6-9> <7-25> <0-0> <1-8> <2-128> <3-174> <4-1> <5-3> <6-9> <7-25> <0-0> <1-9> <2-128> <3-174> <4-1> <5-3> <6-9> <7-25> <0-0> <1-10> <2-128> <3-174> <4-1> <5-3> <6-9> <7-25> <0-0> <1-11> <2-128> <3-174> <4-1> <5-3> <6-9> <7-25> <0-0> <1-12> <2-128> <3-174> <4-1> <5-3> <6-9> <7-25> <0-0> <1-13> <2-128> <3-174> <4-1> <5-3> <6-9> <7-25> <0-0> <1-14> <2-128> <3-174> <4-1> <5-3> <6-9> <7-25> <0-0> <1-15> <2-128> <3-174> <4-1> <5-3> <6-9> <7-25> <0-0> <1-16> <2-128> <3-174> <4-1> <5-7> <6-9> <7-25> <0-0> <1-17> <2-128> <3-174> <4-1> <5-7> <6-9> <7-25> <0-0> <1-18> <2-128> <3-174> <4-1> <5-7> <6-9> <7-25> <0-0> <1-19> <2-128> <3-174> <4-1> <5-7> <6-9> <7-25> <0-0> <1-20> <2-128> <3-174> <4-1> <5-7> <6-9> <7-25> <0-0> <1-21> <2-128> <3-174> <4-1> <5-7> <6-9> <7-25> <0-0> <1-22> <2-128> <3-174> <4-1> <5-7> <6-9> <7-25> <0-0> <1-23> <2-128> <3-174> <4-1> <5-7> <6-9> <7-25> <0-0> <1-24> <2-128> <3-174> <4-1> <5-7> <6-9> <7-25> <0-0> <1-25> <2-128> <3-174> <4-1> <5-7> <6-9> <7-25> <0-0> <1-26> <2-128> <3-174> <4-1> <5-7> <6-9> <7-25> <0-0> <1-27> <2-128> <3-174> <4-1> <5-7> <6-9> <7-25> <0-0> <1-28> <2-128> <3-174> <4-1> <5-7> <6-9> <7-25> <0-0> <1-29> <2-128> <3-174> <4-1> <5-7> <6-9> <7-25> <0-0> <1-30> <2-128> <3-174> <4-1> <5-7> <6-9> <7-25> <0-0> <1-31> <2-128> <3-174> <4-1> <5-7> <6-9> <7-25> <0-0> <1-32> <2-128> <3-174> <4-1> <5-7> <6-9> <7-25> <0-0> <1-33> <2-128> <3-174> <4-1> <5-7> <6-9> <7-25> <0-0> <1-34> <2-128> <3-174> <4-1> <5-7> <6-9> <7-25> <0-0> <1-35> <2-128> <3-174> <4-1> <5-7> <6-9> <7-25> <0-0> <1-36> <2-128> <3-174> <4-1> <5-7> <6-9> <7-25> <0-0> <1-37> <2-128> <3-174> <4-1> <5-7> <6-9> <7-25> <0-0> <1-38> <2-128> <3-174> <4-1> <5-7> <6-9> <7-25> <0-0> <1-39> <2-128> <3-174> <4-1> <5-7> <6-9> <7-25> <0-0> <1-40> <2-128> <3-174> <4-1> <5-7> <6-9> <7-25> <0-0> <1-41> <2-128> <3-174> <4-1> <5-7> <6-9> <7-25> <0-0> <1-42> <2-128> <3-174> <4-1> <5-7> <6-9> <7-25> <0-0> <1-43> <2-128> <3-174> <4-1> <5-7> <6-9> <7-25> <0-0> <1-44> <2-128> <3-174> <4-1> <5-7> <6-9> <7-25> <0-0> <1-45> <2-128> <3-174> <4-1> <5-7> <6-9> <7-25> <0-0> <1-46> <2-128> <3-174> <4-1> <5-7> <6-9> <7-25> <0-0> <1-47> <2-128> <3-174> <4-1> <5-7> <6-9> <7-25> <0-0> <1-48> <2-128> <3-174> <4-1> <5-7> <6-9> <7-25> <0-0> <1-49> <2-128> <3-174> <4-1> <5-7> <6-9> <7-25> <0-0> <1-50> <2-128> <3-174> <4-1> <5-7> <6-9> <7-25> <0-0> <1-51> <2-128> <3-174> <4-1> <5-7> <6-9> <7-25> <0-0> <1-52> <2-128> <3-174> <4-1> <5-7> <6-9> <7-25> <0-0> <1-53> <2-128> <3-174> <4-1> <5-7> <6-9> <7-25> <0-0> <1-54> <2-128> <3-174> <4-1> <5-7> <6-9> <7-25> <0-0> <1-55> <2-128> <3-174> <4-1> <5-7> <6-9> <7-25> <0-0> <1-56> <2-128> <3-174> <4-1> <5-7> <6-9> <7-25> <0-0> <1-57> <2-128> <3-174> <4-1> <5-7> <6-9> <7-25> <0-0> <1-58> <2-128> <3-174> <4-1> <5-7> <6-9> <7-25> <0-0> <1-59> <2-128> <3-174> <4-1> <5-7> <6-9> <7-25> <0-0> <1-60> <2-128> <3-174> <4-1> <5-7> <6-9> <7-25> <0-0> <1-61> <2-128> <3-174> <4-1> <5-7> <6-9> <7-25> <0-0> <1-62> <2-128> <3-174> <4-1> <5-7> <6-9> <7-25> <0-0> <1-63> <2-128> <3-174> <4-1> <5-7> <6-9> <7-25> <0-1> <1-0> <2-128> <3-174> <4-1> <5-7> <6-9> <7-25> <0-1> <1-1> <2-128> <3-174> <4-1> <5-7> <6-9> <7-25> <0-1> <1-2> <2-128> <3-174> <4-1> <5-7> <6-9> <7-25> <0-1> <1-3> <2-128> <3-174> <4-1> <5-7> <6-9> <7-25> <0-1> <1-4> <2-128> <3-174> <4-1> <5-7> <6-9> <7-25> <0-1> <1-5> <2-128> <3-174> <4-1> <5-7> <6-9> <7-25> <0-1> <1-6> <2-128> <3-174> <4-1> <5-7> <6-9> <7-25> <0-1> <1-7> <2-128> <3-174> <4-1> <5-7> <6-9> <7-25> <0-1> <1-8> <2-128> <3-174> <4-1> <5-7> <6-9> <7-25> <0-1> <1-9> <2-128> <3-174> <4-1> <5-7> <6-9> <7-25> <0-1> <1-10> <2-128> <3-174> <4-1> <5-7> <6-9> <7-25> <0-1> <1-11> <2-128> <3-174> <4-1> <5-7> <6-9> <7-25> <0-1> <1-12> <2-128> <3-174> <4-1> <5-7> <6-9> <7-25> <0-1> <1-13> <2-128> <3-174> <4-1> <5-7> <6-9> <7-25> <0-1> <1-14> <2-128> <3-174> <4-1> <5-7> <6-9> <7-25> <0-1> <1-15> <2-128> <3-174> <4-1> <5-7> <6-9> <7-25> <0-1> <1-16> <2-128> <3-174> <4-1> <5-7> <6-9> <7-25> <0-1> <1-17> <2-128> <3-174> <4-1> <5-7> <6-9> <7-25> <0-1> <1-18> <2-128> <3-174> <4-1> <5-7> <6-9> <7-25> <0-1> <1-19> <2-128> <3-174> <4-1> <5-7> <6-9> <7-25> <0-1> <1-20> <2-128> <3-174> <4-1> <5-7> <6-9> <7-25> <0-1> <1-21> <2-128> <3-174> <4-1> <5-7> <6-9> <7-25> <0-1> <1-22> <2-128> <3-174> <4-1> <5-7> <6-9> <7-25> <0-1> <1-23> <2-128> <3-174> <4-1> <5-7> <6-9> <7-25> <0-1> <1-24> <2-128> <3-174> <4-1> <5-7> <6-9> <7-25> <0-1> <1-25> <2-128> <3-174> <4-1> <5-7> <6-9> <7-25> <0-1> <1-26> <2-128> <3-174> <4-1> <5-7> <6-9> <7-25> <0-1> <1-27> <2-128> <3-174> <4-1> <5-7> <6-9> <7-25> <0-1> <1-28> <2-128> <3-174> <4-1> <5-7> <6-9> <7-25> <0-1> <1-29> <2-128> <3-174> <4-1> <5-7> <6-9> <7-25> <0-1> <1-30> <2-128> <3-174> <4-1> <5-7> <6-9> <7-25> <0-1> <1-31> <2-128> <3-174> <4-1> <5-7> <6-9> <7-25> <0-1> <1-32> <2-128> <3-174> <4-1> <5-11> <6-9> <7-25> <0-1> <1-33> <2-128> <3-174> <4-1> <5-11> <6-9> <7-25> <0-1> <1-34> <2-128> <3-174> <4-1> <5-11> <6-9> <7-25> <0-1> <1-35> <2-128> <3-174> <4-1> <5-11> <6-9> <7-25> <0-1> <1-36> <2-128> <3-174> <4-1> <5-11> <6-9> <7-25> <0-1> <1-37> <2-128> <3-174> <4-1> <5-11> <6-9> <7-25> <0-1> <1-38> <2-128> <3-174> <4-1> <5-11> <6-9> <7-25> <0-1> <1-39> <2-128> <3-174> <4-1> <5-11> <6-9> <7-25> <0-1> <1-40> <2-128> <3-174> <4-1> <5-15> <6-9> <7-25> <0-1> <1-41> <2-128> <3-174> <4-1> <5-15> <6-9> <7-25> <0-1> <1-42> <2-128> <3-174> <4-1> <5-15> <6-9> <7-25> <0-1> <1-43> <2-128> <3-174> <4-1> <5-15> <6-9> <7-25> <0-1> <1-44> <2-128> <3-174> <4-1> <5-15> <6-9> <7-25> <0-1> <1-45> <2-128> <3-174> <4-1> <5-15> <6-9> <7-25> <0-1> <1-46> <2-128> <3-174> <4-1> <5-15> <6-9> <7-25> <0-1> <1-47> <2-128> <3-174> <4-1> <5-15> <6-9> <7-25> <0-1> <1-48> <2-128> <3-174> <4-1> <5-19> <6-9> <7-25> <0-1> <1-49> <2-128> <3-174> <4-1> <5-19> <6-9> <7-25> <0-1> <1-50> <2-128> <3-174> <4-1> <5-19> <6-9> <7-25> <0-1> <1-51> <2-128> <3-174> <4-1> <5-19> <6-9> <7-25> <0-1> <1-52> <2-128> <3-174> <4-1> <5-19> <6-9> <7-25> <0-1> <1-53> <2-128> <3-174> <4-1> <5-19> <6-9> <7-25> <0-1> <1-54> <2-128> <3-174> <4-1> <5-19> <6-9> <7-25> <0-1> <1-55> <2-128> <3-174> <4-1> <5-19> <6-9> <7-25> <0-1> <1-56> <2-128> <3-174> <4-1> <5-19> <6-9> <7-25> <0-1> <1-57> <2-128> <3-174> <4-1> <5-19> <6-9> <7-25> <0-1> <1-58> <2-128> <3-174> <4-1> <5-19> <6-9> <7-25> <0-1> <1-59> <2-128> <3-174> <4-1> <5-19> <6-9> <7-25> <0-1> <1-60> <2-128> <3-174> <4-1> <5-19> <6-9> <7-25> <0-1> <1-61> <2-128> <3-174> <4-1> <5-19> <6-9> <7-25> <0-1> <1-62> <2-128> <3-174> <4-1> <5-19> <6-9> <7-25> <0-1> <1-63> <2-128> <3-174> <4-1> <5-19> <6-9> <7-25> <0-2> <1-0> <2-30> <3-44> <4-20> <5-23> <6-9> <7-25> <0-2> <1-0> <2-30> <3-44> <4-24> <5-23> <6-9> <7-25> <0-2> <1-0> <2-30> <3-51> <4-20> <5-23> <6-9> <7-25> <0-2> <1-0> <2-30> <3-51> <4-24> <5-23> <6-9> <7-25> <0-2> <1-0> <2-30> <3-56> <4-24> <5-23> <6-9> <7-25> <0-2> <1-0> <2-34> <3-32> <4-20> <5-23> <6-9> <7-25> <0-2> <1-0> <2-48> <3-44> <4-20> <5-7> <6-9> <7-25> <0-2> <1-0> <2-48> <3-44> <4-24> <5-7> <6-9> <7-25> <0-2> <1-0> <2-48> <3-51> <4-20> <5-7> <6-9> <7-25> <0-2> <1-0> <2-48> <3-51> <4-24> <5-7> <6-9> <7-25> <0-2> <1-0> <2-48> <3-56> <4-24> <5-7> <6-9> <7-25> <0-2> <1-0> <2-128> <3-164> <4-8> <5-31> <6-9> <7-25> <0-2> <1-0> <2-128> <3-177> <4-8> <5-23> <6-9> <7-25> <0-2> <1-8> <2-128> <3-174> <4-8> <5-11> <6-9> <7-25> <0-2> <1-16> <2-128> <3-166> <4-8> <5-23> <6-9> <7-25> <0-2> <1-16> <2-128> <3-174> <4-8> <5-23> <6-9> <7-25> <0-2> <1-24> <2-30> <3-44> <4-8> <5-23> <6-9> <7-25> <0-2> <1-24> <2-30> <3-51> <4-8> <5-23> <6-9> <7-25> <0-2> <1-24> <2-34> <3-32> <4-8> <5-23> <6-9> <7-25> <0-2> <1-24> <2-48> <3-44> <4-8> <5-7> <6-9> <7-25> <0-2> <1-24> <2-48> <3-51> <4-8> <5-7> <6-9> <7-25> <0-2> <1-24> <2-128> <3-174> <4-8> <5-11> <6-9> <7-25> <0-2> <1-32> <2-30> <3-44> <4-8> <5-23> <6-9> <7-25> <0-2> <1-32> <2-30> <3-47> <4-20> <5-23> <6-9> <7-25> <0-2> <1-32> <2-30> <3-51> <4-8> <5-23> <6-9> <7-25> <0-2> <1-32> <2-30> <3-54> <4-20> <5-23> <6-9> <7-25> <0-2> <1-32> <2-30> <3-56> <4-8> <5-23> <6-9> <7-25> <0-2> <1-32> <2-34> <3-35> <4-20> <5-23> <6-9> <7-25> <0-2> <1-32> <2-48> <3-44> <4-8> <5-7> <6-9> <7-25> <0-2> <1-32> <2-48> <3-47> <4-20> <5-7> <6-9> <7-25> <0-2> <1-32> <2-48> <3-51> <4-8> <5-7> <6-9> <7-25> <0-2> <1-32> <2-48> <3-54> <4-20> <5-7> <6-9> <7-25> <0-2> <1-32> <2-48> <3-56> <4-8> <5-7> <6-9> <7-25> <0-2> <1-32> <2-128> <3-164> <4-8> <5-31> <6-9> <7-25> <0-2> <1-32> <2-128> <3-174> <4-8> <5-23> <6-9> <7-25> <0-2> <1-40> <2-30> <3-46> <4-8> <5-23> <6-9> <7-25> <0-2> <1-40> <2-30> <3-53> <4-8> <5-23> <6-9> <7-25> <0-2> <1-40> <2-30> <3-58> <4-8> <5-23> <6-9> <7-25> <0-2> <1-40> <2-48> <3-46> <4-8> <5-7> <6-9> <7-25> <0-2> <1-40> <2-48> <3-53> <4-8> <5-7> <6-9> <7-25> <0-2> <1-40> <2-48> <3-58> <4-8> <5-7> <6-9> <7-25> <0-2> <1-40> <2-128> <3-174> <4-8> <5-11> <6-9> <7-25> <0-2> <1-48> <2-30> <3-47> <4-8> <5-23> <6-9> <7-25> <0-2> <1-48> <2-30> <3-54> <4-8> <5-23> <6-9> <7-25> <0-2> <1-48> <2-30> <3-59> <4-8> <5-23> <6-9> <7-25> <0-2> <1-48> <2-48> <3-47> <4-8> <5-7> <6-9> <7-25> <0-2> <1-48> <2-48> <3-54> <4-8> <5-7> <6-9> <7-25> <0-2> <1-48> <2-48> <3-59> <4-8> <5-7> <6-9> <7-25> <0-2> <1-48> <2-128> <3-166> <4-8> <5-23> <6-9> <7-25> <0-2> <1-48> <2-128> <3-174> <4-8> <5-23> <6-9> <7-25> <0-2> <1-56> <2-30> <3-47> <4-8> <5-23> <6-9> <7-25> <0-2> <1-56> <2-30> <3-49> <4-4> <5-23> <6-9> <7-25> <0-2> <1-56> <2-30> <3-54> <4-8> <5-23> <6-9> <7-25> <0-2> <1-56> <2-30> <3-56> <4-4> <5-23> <6-9> <7-25> <0-2> <1-56> <2-30> <3-61> <4-4> <5-23> <6-9> <7-25> <0-2> <1-56> <2-34> <3-35> <4-8> <5-23> <6-9> <7-25> <0-2> <1-56> <2-48> <3-47> <4-8> <5-7> <6-9> <7-25> <0-2> <1-56> <2-48> <3-49> <4-4> <5-7> <6-9> <7-25> <0-2> <1-56> <2-48> <3-54> <4-8> <5-7> <6-9> <7-25> <0-2> <1-56> <2-48> <3-56> <4-4> <5-7> <6-9> <7-25> <0-2> <1-56> <2-48> <3-61> <4-4> <5-7> <6-9> <7-25> <0-2> <1-56> <2-128> <3-174> <4-8> <5-11> <6-9> <7-25> <0-2> <1-60> <2-30> <3-47> <4-4> <5-23> <6-9> <7-25> <0-2> <1-60> <2-30> <3-54> <4-4> <5-23> <6-9> <7-25> <0-2> <1-60> <2-30> <3-59> <4-4> <5-23> <6-9> <7-25> <0-2> <1-60> <2-48> <3-47> <4-4> <5-7> <6-9> <7-25> <0-2> <1-60> <2-48> <3-54> <4-4> <5-7> <6-9> <7-25> <0-2> <1-60> <2-48> <3-59> <4-4> <5-7> <6-9> <7-25> <0-3> <1-0> <2-30> <3-42> <4-20> <5-23> <6-9> <7-25> <0-3> <1-0> <2-30> <3-49> <4-20> <5-23> <6-9> <7-25> <0-3> <1-0> <2-30> <3-49> <4-24> <5-23> <6-9> <7-25> <0-3> <1-0> <2-30> <3-56> <4-24> <5-23> <6-9> <7-25> <0-3> <1-0> <2-30> <3-61> <4-24> <5-23> <6-9> <7-25> <0-3> <1-0> <2-34> <3-30> <4-20> <5-23> <6-9> <7-25> <0-3> <1-0> <2-48> <3-42> <4-20> <5-7> <6-9> <7-25> <0-3> <1-0> <2-48> <3-49> <4-20> <5-7> <6-9> <7-25> <0-3> <1-0> <2-48> <3-49> <4-24> <5-7> <6-9> <7-25> <0-3> <1-0> <2-48> <3-56> <4-24> <5-7> <6-9> <7-25> <0-3> <1-0> <2-48> <3-61> <4-24> <5-7> <6-9> <7-25> <0-3> <1-0> <2-128> <3-164> <4-8> <5-31> <6-9> <7-25> <0-3> <1-0> <2-128> <3-174> <4-8> <5-23> <6-9> <7-25> <0-3> <1-8> <2-128> <3-174> <4-8> <5-11> <6-9> <7-25> <0-3> <1-16> <2-128> <3-166> <4-8> <5-23> <6-9> <7-25> <0-3> <1-16> <2-128> <3-174> <4-8> <5-23> <6-9> <7-25> <0-3> <1-24> <2-30> <3-42> <4-8> <5-23> <6-9> <7-25> <0-3> <1-24> <2-30> <3-49> <4-8> <5-23> <6-9> <7-25> <0-3> <1-24> <2-34> <3-30> <4-8> <5-23> <6-9> <7-25> <0-3> <1-24> <2-48> <3-42> <4-8> <5-7> <6-9> <7-25> <0-3> <1-24> <2-48> <3-49> <4-8> <5-7> <6-9> <7-25> <0-3> <1-24> <2-128> <3-174> <4-8> <5-11> <6-9> <7-25> <0-3> <1-32> <2-30> <3-39> <4-20> <5-23> <6-9> <7-25> <0-3> <1-32> <2-30> <3-46> <4-20> <5-23> <6-9> <7-25> <0-3> <1-32> <2-30> <3-51> <4-8> <5-23> <6-9> <7-25> <0-3> <1-32> <2-30> <3-58> <4-8> <5-23> <6-9> <7-25> <0-3> <1-32> <2-30> <3-63> <4-8> <5-23> <6-9> <7-25> <0-3> <1-32> <2-34> <3-27> <4-20> <5-23> <6-9> <7-25> <0-3> <1-32> <2-48> <3-39> <4-20> <5-7> <6-9> <7-25> <0-3> <1-32> <2-48> <3-46> <4-20> <5-7> <6-9> <7-25> <0-3> <1-32> <2-48> <3-51> <4-8> <5-7> <6-9> <7-25> <0-3> <1-32> <2-48> <3-58> <4-8> <5-7> <6-9> <7-25> <0-3> <1-32> <2-48> <3-63> <4-8> <5-7> <6-9> <7-25> <0-3> <1-32> <2-128> <3-164> <4-8> <5-31> <6-9> <7-25> <0-3> <1-32> <2-128> <3-174> <4-8> <5-23> <6-9> <7-25> <0-3> <1-40> <2-30> <3-49> <4-8> <5-23> <6-9> <7-25> <0-3> <1-40> <2-30> <3-56> <4-8> <5-23> <6-9> <7-25> <0-3> <1-40> <2-30> <3-61> <4-8> <5-23> <6-9> <7-25> <0-3> <1-40> <2-48> <3-49> <4-8> <5-7> <6-9> <7-25> <0-3> <1-40> <2-48> <3-56> <4-8> <5-7> <6-9> <7-25> <0-3> <1-40> <2-48> <3-61> <4-8> <5-7> <6-9> <7-25> <0-3> <1-40> <2-128> <3-174> <4-4> <5-11> <6-9> <7-25> <0-3> <1-44> <2-128> <3-164> <4-4> <5-31> <6-9> <7-25> <0-3> <1-48> <2-30> <3-47> <4-4> <5-23> <6-9> <7-25> <0-3> <1-48> <2-30> <3-54> <4-4> <5-23> <6-9> <7-25> <0-3> <1-48> <2-30> <3-59> <4-4> <5-23> <6-9> <7-25> <0-3> <1-48> <2-48> <3-47> <4-4> <5-7> <6-9> <7-25> <0-3> <1-48> <2-48> <3-54> <4-4> <5-7> <6-9> <7-25> <0-3> <1-48> <2-48> <3-59> <4-4> <5-7> <6-9> <7-25> <0-3> <1-48> <2-128> <3-166> <4-8> <5-23> <6-9> <7-25> <0-3> <1-48> <2-128> <3-174> <4-8> <5-23> <6-9> <7-25> <0-3> <1-52> <2-30> <3-49> <4-4> <5-23> <6-9> <7-25> <0-3> <1-52> <2-30> <3-56> <4-4> <5-23> <6-9> <7-25> <0-3> <1-52> <2-30> <3-61> <4-4> <5-23> <6-9> <7-25> <0-3> <1-52> <2-48> <3-49> <4-4> <5-7> <6-9> <7-25> <0-3> <1-52> <2-48> <3-56> <4-4> <5-7> <6-9> <7-25> <0-3> <1-52> <2-48> <3-61> <4-4> <5-7> <6-9> <7-25> <0-3> <1-56> <2-30> <3-39> <4-8> <5-23> <6-9> <7-25> <0-3> <1-56> <2-30> <3-46> <4-8> <5-23> <6-9> <7-25> <0-3> <1-56> <2-30> <3-47> <4-4> <5-23> <6-9> <7-25> <0-3> <1-56> <2-30> <3-54> <4-4> <5-23> <6-9> <7-25> <0-3> <1-56> <2-30> <3-59> <4-4> <5-23> <6-9> <7-25> <0-3> <1-56> <2-34> <3-27> <4-8> <5-23> <6-9> <7-25> <0-3> <1-56> <2-48> <3-39> <4-8> <5-7> <6-9> <7-25> <0-3> <1-56> <2-48> <3-46> <4-8> <5-7> <6-9> <7-25> <0-3> <1-56> <2-48> <3-47> <4-4> <5-7> <6-9> <7-25> <0-3> <1-56> <2-48> <3-54> <4-4> <5-7> <6-9> <7-25> <0-3> <1-56> <2-48> <3-59> <4-4> <5-7> <6-9> <7-25> <0-3> <1-56> <2-128> <3-164> <4-8> <5-31> <6-9> <7-25> <0-3> <1-56> <2-128> <3-174> <4-8> <5-11> <6-9> <7-25> <0-3> <1-60> <2-30> <3-47> <4-26> <5-23> <6-9> <7-25> <0-3> <1-60> <2-30> <3-54> <4-26> <5-23> <6-9> <7-25> <0-3> <1-60> <2-30> <3-59> <4-26> <5-23> <6-9> <7-25> <0-3> <1-60> <2-48> <3-47> <4-26> <5-7> <6-9> <7-25> <0-3> <1-60> <2-48> <3-54> <4-26> <5-7> <6-9> <7-25> <0-3> <1-60> <2-48> <3-59> <4-26> <5-7> <6-9> <7-25> <0-4> <1-0> <2-30> <3-44> <4-20> <5-23> <6-9> <7-25> <0-4> <1-0> <2-30> <3-51> <4-20> <5-23> <6-9> <7-25> <0-4> <1-0> <2-34> <3-32> <4-20> <5-23> <6-9> <7-25> <0-4> <1-0> <2-48> <3-44> <4-20> <5-7> <6-9> <7-25> <0-4> <1-0> <2-48> <3-51> <4-20> <5-7> <6-9> <7-25> <0-4> <1-0> <2-128> <3-164> <4-8> <5-31> <6-9> <7-25> <0-4> <1-0> <2-128> <3-174> <4-8> <5-23> <6-9> <7-25> <0-4> <1-8> <2-128> <3-174> <4-8> <5-11> <6-9> <7-25> <0-4> <1-16> <2-128> <3-166> <4-8> <5-23> <6-9> <7-25> <0-4> <1-16> <2-128> <3-174> <4-8> <5-23> <6-9> <7-25> <0-4> <1-24> <2-30> <3-44> <4-8> <5-23> <6-9> <7-25> <0-4> <1-24> <2-30> <3-51> <4-8> <5-23> <6-9> <7-25> <0-4> <1-24> <2-34> <3-32> <4-8> <5-23> <6-9> <7-25> <0-4> <1-24> <2-48> <3-44> <4-8> <5-7> <6-9> <7-25> <0-4> <1-24> <2-48> <3-51> <4-8> <5-7> <6-9> <7-25> <0-4> <1-24> <2-128> <3-174> <4-8> <5-11> <6-9> <7-25> <0-4> <1-32> <2-30> <3-44> <4-8> <5-23> <6-9> <7-25> <0-4> <1-32> <2-30> <3-47> <4-20> <5-23> <6-9> <7-25> <0-4> <1-32> <2-30> <3-51> <4-8> <5-23> <6-9> <7-25> <0-4> <1-32> <2-30> <3-54> <4-20> <5-23> <6-9> <7-25> <0-4> <1-32> <2-30> <3-56> <4-8> <5-23> <6-9> <7-25> <0-4> <1-32> <2-34> <3-35> <4-20> <5-23> <6-9> <7-25> <0-4> <1-32> <2-48> <3-44> <4-8> <5-7> <6-9> <7-25> <0-4> <1-32> <2-48> <3-47> <4-20> <5-7> <6-9> <7-25> <0-4> <1-32> <2-48> <3-51> <4-8> <5-7> <6-9> <7-25> <0-4> <1-32> <2-48> <3-54> <4-20> <5-7> <6-9> <7-25> <0-4> <1-32> <2-48> <3-56> <4-8> <5-7> <6-9> <7-25> <0-4> <1-32> <2-128> <3-164> <4-8> <5-31> <6-9> <7-25> <0-4> <1-32> <2-128> <3-174> <4-8> <5-23> <6-9> <7-25> <0-4> <1-40> <2-30> <3-46> <4-8> <5-23> <6-9> <7-25> <0-4> <1-40> <2-30> <3-53> <4-8> <5-23> <6-9> <7-25> <0-4> <1-40> <2-30> <3-58> <4-8> <5-23> <6-9> <7-25> <0-4> <1-40> <2-48> <3-46> <4-8> <5-7> <6-9> <7-25> <0-4> <1-40> <2-48> <3-53> <4-8> <5-7> <6-9> <7-25> <0-4> <1-40> <2-48> <3-58> <4-8> <5-7> <6-9> <7-25> <0-4> <1-40> <2-128> <3-174> <4-8> <5-11> <6-9> <7-25> <0-4> <1-48> <2-30> <3-47> <4-8> <5-23> <6-9> <7-25> <0-4> <1-48> <2-30> <3-54> <4-8> <5-23> <6-9> <7-25> <0-4> <1-48> <2-30> <3-59> <4-8> <5-23> <6-9> <7-25> <0-4> <1-48> <2-48> <3-47> <4-8> <5-7> <6-9> <7-25> <0-4> <1-48> <2-48> <3-54> <4-8> <5-7> <6-9> <7-25> <0-4> <1-48> <2-48> <3-59> <4-8> <5-7> <6-9> <7-25> <0-4> <1-48> <2-128> <3-166> <4-8> <5-23> <6-9> <7-25> <0-4> <1-48> <2-128> <3-174> <4-8> <5-23> <6-9> <7-25> <0-4> <1-56> <2-30> <3-47> <4-8> <5-23> <6-9> <7-25> <0-4> <1-56> <2-30> <3-49> <4-4> <5-23> <6-9> <7-25> <0-4> <1-56> <2-30> <3-54> <4-8> <5-23> <6-9> <7-25> <0-4> <1-56> <2-30> <3-56> <4-4> <5-23> <6-9> <7-25> <0-4> <1-56> <2-30> <3-61> <4-4> <5-23> <6-9> <7-25> <0-4> <1-56> <2-34> <3-35> <4-8> <5-23> <6-9> <7-25> <0-4> <1-56> <2-48> <3-47> <4-8> <5-7> <6-9> <7-25> <0-4> <1-56> <2-48> <3-49> <4-4> <5-7> <6-9> <7-25> <0-4> <1-56> <2-48> <3-54> <4-8> <5-7> <6-9> <7-25> <0-4> <1-56> <2-48> <3-56> <4-4> <5-7> <6-9> <7-25> <0-4> <1-56> <2-48> <3-61> <4-4> <5-7> <6-9> <7-25> <0-4> <1-56> <2-128> <3-174> <4-8> <5-11> <6-9> <7-25> <0-4> <1-60> <2-30> <3-47> <4-4> <5-23> <6-9> <7-25> <0-4> <1-60> <2-30> <3-54> <4-4> <5-23> <6-9> <7-25> <0-4> <1-60> <2-30> <3-59> <4-4> <5-23> <6-9> <7-25> <0-4> <1-60> <2-48> <3-47> <4-4> <5-7> <6-9> <7-25> <0-4> <1-60> <2-48> <3-54> <4-4> <5-7> <6-9> <7-25> <0-4> <1-60> <2-48> <3-59> <4-4> <5-7> <6-9> <7-25> <0-5> <1-0> <2-30> <3-42> <4-20> <5-23> <6-9> <7-25> <0-5> <1-0> <2-30> <3-49> <4-20> <5-23> <6-9> <7-25> <0-5> <1-0> <2-30> <3-49> <4-24> <5-23> <6-9> <7-25> <0-5> <1-0> <2-30> <3-56> <4-24> <5-23> <6-9> <7-25> <0-5> <1-0> <2-30> <3-61> <4-24> <5-23> <6-9> <7-25> <0-5> <1-0> <2-34> <3-30> <4-20> <5-23> <6-9> <7-25> <0-5> <1-0> <2-48> <3-42> <4-20> <5-7> <6-9> <7-25> <0-5> <1-0> <2-48> <3-49> <4-20> <5-7> <6-9> <7-25> <0-5> <1-0> <2-48> <3-49> <4-24> <5-7> <6-9> <7-25> <0-5> <1-0> <2-48> <3-56> <4-24> <5-7> <6-9> <7-25> <0-5> <1-0> <2-48> <3-61> <4-24> <5-7> <6-9> <7-25> <0-5> <1-0> <2-128> <3-164> <4-8> <5-31> <6-9> <7-25> <0-5> <1-0> <2-128> <3-174> <4-8> <5-23> <6-9> <7-25> <0-5> <1-8> <2-128> <3-174> <4-8> <5-11> <6-9> <7-25> <0-5> <1-16> <2-128> <3-166> <4-8> <5-23> <6-9> <7-25> <0-5> <1-16> <2-128> <3-174> <4-8> <5-23> <6-9> <7-25> <0-5> <1-24> <2-30> <3-42> <4-8> <5-23> <6-9> <7-25> <0-5> <1-24> <2-30> <3-49> <4-8> <5-23> <6-9> <7-25> <0-5> <1-24> <2-34> <3-30> <4-8> <5-23> <6-9> <7-25> <0-5> <1-24> <2-48> <3-42> <4-8> <5-7> <6-9> <7-25> <0-5> <1-24> <2-48> <3-49> <4-8> <5-7> <6-9> <7-25> <0-5> <1-24> <2-128> <3-174> <4-8> <5-11> <6-9> <7-25> <0-5> <1-32> <2-30> <3-39> <4-20> <5-23> <6-9> <7-25> <0-5> <1-32> <2-30> <3-46> <4-20> <5-23> <6-9> <7-25> <0-5> <1-32> <2-30> <3-49> <4-12> <5-23> <6-9> <7-25> <0-5> <1-32> <2-30> <3-56> <4-12> <5-23> <6-9> <7-25> <0-5> <1-32> <2-30> <3-61> <4-12> <5-23> <6-9> <7-25> <0-5> <1-32> <2-34> <3-27> <4-20> <5-23> <6-9> <7-25> <0-5> <1-32> <2-48> <3-39> <4-20> <5-7> <6-9> <7-25> <0-5> <1-32> <2-48> <3-46> <4-20> <5-7> <6-9> <7-25> <0-5> <1-32> <2-48> <3-49> <4-12> <5-7> <6-9> <7-25> <0-5> <1-32> <2-48> <3-56> <4-12> <5-7> <6-9> <7-25> <0-5> <1-32> <2-48> <3-61> <4-12> <5-7> <6-9> <7-25> <0-5> <1-32> <2-128> <3-164> <4-8> <5-31> <6-9> <7-25> <0-5> <1-32> <2-128> <3-174> <4-8> <5-23> <6-9> <7-25> <0-5> <1-40> <2-128> <3-174> <4-4> <5-11> <6-9> <7-25> <0-5> <1-44> <2-30> <3-44> <4-4> <5-23> <6-9> <7-25> <0-5> <1-44> <2-30> <3-51> <4-4> <5-23> <6-9> <7-25> <0-5> <1-44> <2-30> <3-56> <4-4> <5-23> <6-9> <7-25> <0-5> <1-44> <2-48> <3-44> <4-4> <5-7> <6-9> <7-25> <0-5> <1-44> <2-48> <3-51> <4-4> <5-7> <6-9> <7-25> <0-5> <1-44> <2-48> <3-56> <4-4> <5-7> <6-9> <7-25> <0-5> <1-44> <2-128> <3-164> <4-4> <5-31> <6-9> <7-25> <0-5> <1-48> <2-30> <3-44> <4-4> <5-23> <6-9> <7-25> <0-5> <1-48> <2-30> <3-51> <4-4> <5-23> <6-9> <7-25> <0-5> <1-48> <2-30> <3-56> <4-4> <5-23> <6-9> <7-25> <0-5> <1-48> <2-48> <3-44> <4-4> <5-7> <6-9> <7-25> <0-5> <1-48> <2-48> <3-51> <4-4> <5-7> <6-9> <7-25> <0-5> <1-48> <2-48> <3-56> <4-4> <5-7> <6-9> <7-25> <0-5> <1-48> <2-128> <3-166> <4-8> <5-23> <6-9> <7-25> <0-5> <1-48> <2-128> <3-174> <4-8> <5-23> <6-9> <7-25> <0-5> <1-52> <2-30> <3-46> <4-4> <5-23> <6-9> <7-25> <0-5> <1-52> <2-30> <3-53> <4-4> <5-23> <6-9> <7-25> <0-5> <1-52> <2-30> <3-58> <4-4> <5-23> <6-9> <7-25> <0-5> <1-52> <2-48> <3-46> <4-4> <5-7> <6-9> <7-25> <0-5> <1-52> <2-48> <3-53> <4-4> <5-7> <6-9> <7-25> <0-5> <1-52> <2-48> <3-58> <4-4> <5-7> <6-9> <7-25> <0-5> <1-56> <2-30> <3-39> <4-8> <5-23> <6-9> <7-25> <0-5> <1-56> <2-30> <3-44> <4-8> <5-23> <6-9> <7-25> <0-5> <1-56> <2-30> <3-46> <4-8> <5-23> <6-9> <7-25> <0-5> <1-56> <2-30> <3-51> <4-8> <5-23> <6-9> <7-25> <0-5> <1-56> <2-30> <3-56> <4-8> <5-23> <6-9> <7-25> <0-5> <1-56> <2-34> <3-27> <4-8> <5-23> <6-9> <7-25> <0-5> <1-56> <2-48> <3-39> <4-8> <5-7> <6-9> <7-25> <0-5> <1-56> <2-48> <3-44> <4-8> <5-7> <6-9> <7-25> <0-5> <1-56> <2-48> <3-46> <4-8> <5-7> <6-9> <7-25> <0-5> <1-56> <2-48> <3-51> <4-8> <5-7> <6-9> <7-25> <0-5> <1-56> <2-48> <3-56> <4-8> <5-7> <6-9> <7-25> <0-5> <1-56> <2-128> <3-164> <4-8> <5-31> <6-9> <7-25> <0-5> <1-56> <2-128> <3-174> <4-8> <5-15> <6-9> <7-25> <0-5> <1-56> <2-128> <3-177> <4-8> <5-15> <6-9> <7-25> <0-6> <1-0> <2-26> <3-44> <4-12> <5-27> <6-9> <7-25> <0-6> <1-0> <2-48> <3-44> <4-12> <5-7> <6-9> <7-25> <0-6> <1-0> <2-128> <3-164> <4-16> <5-31> <6-9> <7-25> <0-6> <1-0> <2-128> <3-174> <4-16> <5-19> <6-9> <7-25> <0-6> <1-0> <2-128> <3-177> <4-16> <5-19> <6-9> <7-25> <0-6> <1-12> <2-26> <3-51> <4-4> <5-23> <6-9> <7-25> <0-6> <1-12> <2-48> <3-51> <4-4> <5-7> <6-9> <7-25> <0-6> <1-16> <2-26> <3-63> <4-4> <5-27> <6-9> <7-25> <0-6> <1-16> <2-48> <3-63> <4-4> <5-7> <6-9> <7-25> <0-6> <1-16> <2-128> <3-172> <4-16> <5-23> <6-9> <7-25> <0-6> <1-20> <2-26> <3-59> <4-4> <5-23> <6-9> <7-25> <0-6> <1-20> <2-48> <3-59> <4-4> <5-7> <6-9> <7-25> <0-6> <1-24> <2-26> <3-44> <4-4> <5-23> <6-9> <7-25> <0-6> <1-24> <2-48> <3-44> <4-4> <5-7> <6-9> <7-25> <0-6> <1-28> <2-26> <3-46> <4-4> <5-23> <6-9> <7-25> <0-6> <1-28> <2-48> <3-46> <4-4> <5-7> <6-9> <7-25> <0-6> <1-32> <2-26> <3-47> <4-8> <5-23> <6-9> <7-25> <0-6> <1-32> <2-48> <3-47> <4-8> <5-7> <6-9> <7-25> <0-6> <1-40> <2-26> <3-51> <4-4> <5-23> <6-9> <7-25> <0-6> <1-40> <2-48> <3-51> <4-4> <5-7> <6-9> <7-25> <0-6> <1-44> <2-26> <3-54> <4-4> <5-23> <6-9> <7-25> <0-6> <1-44> <2-48> <3-54> <4-4> <5-7> <6-9> <7-25> <0-6> <1-48> <2-26> <3-61> <4-8> <5-23> <6-9> <7-25> <0-6> <1-48> <2-48> <3-61> <4-8> <5-7> <6-9> <7-25> <0-6> <1-48> <2-128> <3-172> <4-16> <5-23> <6-9> <7-25> <0-6> <1-56> <2-26> <3-66> <4-8> <5-23> <6-9> <7-25> <0-6> <1-56> <2-48> <3-66> <4-8> <5-7> <6-9> <7-25> <0-7> <1-0> <2-26> <3-61> <4-12> <5-27> <6-9> <7-25> <0-7> <1-0> <2-26> <3-66> <4-12> <5-23> <6-9> <7-25> <0-7> <1-0> <2-48> <3-61> <4-12> <5-7> <6-9> <7-25> <0-7> <1-0> <2-48> <3-66> <4-12> <5-7> <6-9> <7-25> <0-7> <1-12> <2-26> <3-42> <4-4> <5-27> <6-9> <7-25> <0-7> <1-12> <2-48> <3-42> <4-4> <5-7> <6-9> <7-25> <0-7> <1-16> <2-26> <3-66> <4-4> <5-23> <6-9> <7-25> <0-7> <1-16> <2-48> <3-66> <4-4> <5-7> <6-9> <7-25> <0-7> <1-16> <2-128> <3-172> <4-16> <5-23> <6-9> <7-25> <0-7> <1-20> <2-26> <3-61> <4-8> <5-19> <6-9> <7-25> <0-7> <1-20> <2-48> <3-61> <4-8> <5-7> <6-9> <7-25> <0-7> <1-28> <2-26> <3-39> <4-4> <5-27> <6-9> <7-25> <0-7> <1-28> <2-48> <3-39> <4-4> <5-7> <6-9> <7-25> <0-7> <1-32> <2-26> <3-58> <4-8> <5-23> <6-9> <7-25> <0-7> <1-32> <2-48> <3-58> <4-8> <5-7> <6-9> <7-25> <0-7> <1-40> <2-26> <3-54> <4-4> <5-23> <6-9> <7-25> <0-7> <1-40> <2-48> <3-54> <4-4> <5-7> <6-9> <7-25> <0-7> <1-44> <2-26> <3-51> <4-4> <5-27> <6-9> <7-25> <0-7> <1-44> <2-48> <3-51> <4-4> <5-7> <6-9> <7-25> <0-7> <1-48> <2-26> <3-56> <4-4> <5-23> <6-9> <7-25> <0-7> <1-48> <2-26> <3-59> <4-4> <5-23> <6-9> <7-25> <0-7> <1-48> <2-48> <3-56> <4-4> <5-7> <6-9> <7-25> <0-7> <1-48> <2-48> <3-59> <4-4> <5-7> <6-9> <7-25> <0-7> <1-48> <2-128> <3-172> <4-16> <5-23> <6-9> <7-25> <0-7> <1-52> <2-26> <3-58> <4-4> <5-23> <6-9> <7-25> <0-7> <1-52> <2-26> <3-61> <4-4> <5-23> <6-9> <7-25> <0-7> <1-52> <2-48> <3-58> <4-4> <5-7> <6-9> <7-25> <0-7> <1-52> <2-48> <3-61> <4-4> <5-7> <6-9> <7-25> <0-7> <1-56> <2-26> <3-56> <4-4> <5-23> <6-9> <7-25> <0-7> <1-56> <2-26> <3-59> <4-4> <5-23> <6-9> <7-25> <0-7> <1-56> <2-48> <3-56> <4-4> <5-7> <6-9> <7-25> <0-7> <1-56> <2-48> <3-59> <4-4> <5-7> <6-9> <7-25> <0-7> <1-60> <2-26> <3-54> <4-4> <5-17> <6-9> <7-25> <0-7> <1-60> <2-26> <3-56> <4-4> <5-23> <6-9> <7-25> <0-7> <1-60> <2-26> <3-58> <4-4> <5-17> <6-9> <7-25> <0-7> <1-60> <2-26> <3-63> <4-4> <5-23> <6-9> <7-25> <0-7> <1-60> <2-48> <3-54> <4-4> <5-3> <6-9> <7-25> <0-7> <1-60> <2-48> <3-56> <4-4> <5-7> <6-9> <7-25> <0-7> <1-60> <2-48> <3-58> <4-4> <5-3> <6-9> <7-25> <0-7> <1-60> <2-48> <3-63> <4-4> <5-7> <6-9> <7-25> <0-8> <1-0> <2-26> <3-44> <4-12> <5-27> <6-9> <7-25> <0-8> <1-0> <2-26> <3-59> <4-20> <5-23> <6-9> <7-25> <0-8> <1-0> <2-26> <3-68> <4-20> <5-23> <6-9> <7-25> <0-8> <1-0> <2-48> <3-44> <4-12> <5-7> <6-9> <7-25> <0-8> <1-0> <2-48> <3-59> <4-20> <5-7> <6-9> <7-25> <0-8> <1-0> <2-48> <3-68> <4-20> <5-7> <6-9> <7-25> <0-8> <1-12> <2-26> <3-51> <4-4> <5-23> <6-9> <7-25> <0-8> <1-12> <2-48> <3-51> <4-4> <5-7> <6-9> <7-25> <0-8> <1-16> <2-26> <3-63> <4-4> <5-27> <6-9> <7-25> <0-8> <1-16> <2-48> <3-63> <4-4> <5-7> <6-9> <7-25> <0-8> <1-16> <2-128> <3-172> <4-16> <5-23> <6-9> <7-25> <0-8> <1-20> <2-26> <3-59> <4-4> <5-23> <6-9> <7-25> <0-8> <1-20> <2-48> <3-59> <4-4> <5-7> <6-9> <7-25> <0-8> <1-24> <2-26> <3-44> <4-4> <5-23> <6-9> <7-25> <0-8> <1-24> <2-26> <3-59> <4-4> <5-23> <6-9> <7-25> <0-8> <1-24> <2-26> <3-68> <4-4> <5-23> <6-9> <7-25> <0-8> <1-24> <2-48> <3-44> <4-4> <5-7> <6-9> <7-25> <0-8> <1-24> <2-48> <3-59> <4-4> <5-7> <6-9> <7-25> <0-8> <1-24> <2-48> <3-68> <4-4> <5-7> <6-9> <7-25> <0-8> <1-28> <2-26> <3-46> <4-4> <5-23> <6-9> <7-25> <0-8> <1-28> <2-26> <3-61> <4-4> <5-23> <6-9> <7-25> <0-8> <1-28> <2-26> <3-70> <4-4> <5-23> <6-9> <7-25> <0-8> <1-28> <2-48> <3-46> <4-4> <5-7> <6-9> <7-25> <0-8> <1-28> <2-48> <3-61> <4-4> <5-7> <6-9> <7-25> <0-8> <1-28> <2-48> <3-70> <4-4> <5-7> <6-9> <7-25> <0-8> <1-32> <2-26> <3-47> <4-8> <5-23> <6-9> <7-25> <0-8> <1-32> <2-26> <3-63> <4-20> <5-23> <6-9> <7-25> <0-8> <1-32> <2-26> <3-71> <4-20> <5-23> <6-9> <7-25> <0-8> <1-32> <2-48> <3-47> <4-8> <5-7> <6-9> <7-25> <0-8> <1-32> <2-48> <3-63> <4-20> <5-7> <6-9> <7-25> <0-8> <1-32> <2-48> <3-71> <4-20> <5-7> <6-9> <7-25> <0-8> <1-40> <2-26> <3-51> <4-4> <5-23> <6-9> <7-25> <0-8> <1-40> <2-48> <3-51> <4-4> <5-7> <6-9> <7-25> <0-8> <1-44> <2-26> <3-54> <4-4> <5-23> <6-9> <7-25> <0-8> <1-44> <2-48> <3-54> <4-4> <5-7> <6-9> <7-25> <0-8> <1-48> <2-26> <3-61> <4-8> <5-23> <6-9> <7-25> <0-8> <1-48> <2-48> <3-61> <4-8> <5-7> <6-9> <7-25> <0-8> <1-48> <2-128> <3-172> <4-16> <5-23> <6-9> <7-25> <0-8> <1-56> <2-26> <3-61> <4-24> <5-23> <6-9> <7-25> <0-8> <1-56> <2-26> <3-66> <4-8> <5-23> <6-9> <7-25> <0-8> <1-56> <2-26> <3-70> <4-24> <5-23> <6-9> <7-25> <0-8> <1-56> <2-48> <3-61> <4-24> <5-7> <6-9> <7-25> <0-8> <1-56> <2-48> <3-66> <4-8> <5-7> <6-9> <7-25> <0-8> <1-56> <2-48> <3-70> <4-24> <5-7> <6-9> <7-25> <0-9> <1-0> <2-26> <3-61> <4-12> <5-27> <6-9> <7-25> <0-9> <1-0> <2-26> <3-66> <4-12> <5-23> <6-9> <7-25> <0-9> <1-0> <2-48> <3-61> <4-12> <5-7> <6-9> <7-25> <0-9> <1-0> <2-48> <3-66> <4-12> <5-7> <6-9> <7-25> <0-9> <1-12> <2-26> <3-42> <4-4> <5-27> <6-9> <7-25> <0-9> <1-12> <2-48> <3-42> <4-4> <5-7> <6-9> <7-25> <0-9> <1-16> <2-26> <3-66> <4-4> <5-23> <6-9> <7-25> <0-9> <1-16> <2-48> <3-66> <4-4> <5-7> <6-9> <7-25> <0-9> <1-16> <2-128> <3-172> <4-16> <5-23> <6-9> <7-25> <0-9> <1-20> <2-26> <3-61> <4-8> <5-19> <6-9> <7-25> <0-9> <1-20> <2-48> <3-61> <4-8> <5-7> <6-9> <7-25> <0-9> <1-24> <2-26> <3-61> <4-8> <5-23> <6-9> <7-25> <0-9> <1-24> <2-26> <3-70> <4-8> <5-23> <6-9> <7-25> <0-9> <1-24> <2-48> <3-61> <4-8> <5-7> <6-9> <7-25> <0-9> <1-24> <2-48> <3-70> <4-8> <5-7> <6-9> <7-25> <0-9> <1-28> <2-26> <3-39> <4-4> <5-27> <6-9> <7-25> <0-9> <1-28> <2-48> <3-39> <4-4> <5-7> <6-9> <7-25> <0-9> <1-32> <2-26> <3-58> <4-8> <5-23> <6-9> <7-25> <0-9> <1-32> <2-26> <3-58> <4-20> <5-23> <6-9> <7-25> <0-9> <1-32> <2-26> <3-67> <4-20> <5-23> <6-9> <7-25> <0-9> <1-32> <2-48> <3-58> <4-8> <5-7> <6-9> <7-25> <0-9> <1-32> <2-48> <3-58> <4-20> <5-7> <6-9> <7-25> <0-9> <1-32> <2-48> <3-67> <4-20> <5-7> <6-9> <7-25> <0-9> <1-40> <2-26> <3-54> <4-4> <5-23> <6-9> <7-25> <0-9> <1-40> <2-48> <3-54> <4-4> <5-7> <6-9> <7-25> <0-9> <1-44> <2-26> <3-51> <4-4> <5-27> <6-9> <7-25> <0-9> <1-44> <2-48> <3-51> <4-4> <5-7> <6-9> <7-25> <0-9> <1-48> <2-26> <3-56> <4-1> <5-23> <6-9> <7-25> <0-9> <1-48> <2-26> <3-59> <4-1> <5-23> <6-9> <7-25> <0-9> <1-48> <2-48> <3-56> <4-1> <5-7> <6-9> <7-25> <0-9> <1-48> <2-48> <3-59> <4-1> <5-7> <6-9> <7-25> <0-9> <1-48> <2-128> <3-172> <4-16> <5-23> <6-9> <7-25> <0-9> <1-49> <2-26> <3-58> <4-7> <5-23> <6-9> <7-25> <0-9> <1-49> <2-26> <3-61> <4-7> <5-23> <6-9> <7-25> <0-9> <1-49> <2-48> <3-58> <4-7> <5-7> <6-9> <7-25> <0-9> <1-49> <2-48> <3-61> <4-7> <5-7> <6-9> <7-25> <0-9> <1-56> <2-26> <3-56> <4-8> <5-23> <6-9> <7-25> <0-9> <1-56> <2-26> <3-58> <4-8> <5-23> <6-9> <7-25> <0-9> <1-56> <2-26> <3-59> <4-8> <5-23> <6-9> <7-25> <0-9> <1-56> <2-26> <3-67> <4-8> <5-23> <6-9> <7-25> <0-9> <1-56> <2-48> <3-56> <4-8> <5-7> <6-9> <7-25> <0-9> <1-56> <2-48> <3-58> <4-8> <5-7> <6-9> <7-25> <0-9> <1-56> <2-48> <3-59> <4-8> <5-7> <6-9> <7-25> <0-9> <1-56> <2-48> <3-67> <4-8> <5-7> <6-9> <7-25> <0-10> <1-0> <2-26> <3-44> <4-12> <5-27> <6-9> <7-25> <0-10> <1-0> <2-26> <3-59> <4-36> <5-23> <6-9> <7-25> <0-10> <1-0> <2-26> <3-68> <4-36> <5-23> <6-9> <7-25> <0-10> <1-0> <2-34> <3-32> <4-20> <5-23> <6-9> <7-25> <0-10> <1-0> <2-48> <3-44> <4-12> <5-7> <6-9> <7-25> <0-10> <1-0> <2-48> <3-59> <4-36> <5-7> <6-9> <7-25> <0-10> <1-0> <2-48> <3-68> <4-36> <5-7> <6-9> <7-25> <0-10> <1-0> <2-128> <3-164> <4-8> <5-31> <6-9> <7-25> <0-10> <1-0> <2-128> <3-177> <4-8> <5-23> <6-9> <7-25> <0-10> <1-8> <2-128> <3-174> <4-8> <5-11> <6-9> <7-25> <0-10> <1-12> <2-26> <3-51> <4-4> <5-23> <6-9> <7-25> <0-10> <1-12> <2-48> <3-51> <4-4> <5-7> <6-9> <7-25> <0-10> <1-16> <2-26> <3-63> <4-4> <5-27> <6-9> <7-25> <0-10> <1-16> <2-48> <3-63> <4-4> <5-7> <6-9> <7-25> <0-10> <1-16> <2-128> <3-166> <4-8> <5-23> <6-9> <7-25> <0-10> <1-16> <2-128> <3-174> <4-8> <5-23> <6-9> <7-25> <0-10> <1-20> <2-26> <3-59> <4-4> <5-23> <6-9> <7-25> <0-10> <1-20> <2-48> <3-59> <4-4> <5-7> <6-9> <7-25> <0-10> <1-24> <2-26> <3-44> <4-4> <5-23> <6-9> <7-25> <0-10> <1-24> <2-34> <3-32> <4-4> <5-27> <6-9> <7-25> <0-10> <1-24> <2-48> <3-44> <4-4> <5-7> <6-9> <7-25> <0-10> <1-24> <2-128> <3-174> <4-8> <5-11> <6-9> <7-25> <0-10> <1-28> <2-26> <3-46> <4-4> <5-23> <6-9> <7-25> <0-10> <1-28> <2-34> <3-34> <4-4> <5-23> <6-9> <7-25> <0-10> <1-28> <2-48> <3-46> <4-4> <5-7> <6-9> <7-25> <0-10> <1-32> <2-26> <3-47> <4-8> <5-23> <6-9> <7-25> <0-10> <1-32> <2-34> <3-35> <4-20> <5-23> <6-9> <7-25> <0-10> <1-32> <2-48> <3-47> <4-8> <5-7> <6-9> <7-25> <0-10> <1-32> <2-128> <3-174> <4-8> <5-23> <6-9> <7-25> <0-10> <1-40> <2-26> <3-51> <4-4> <5-23> <6-9> <7-25> <0-10> <1-40> <2-48> <3-51> <4-4> <5-7> <6-9> <7-25> <0-10> <1-40> <2-128> <3-164> <4-8> <5-31> <6-9> <7-25> <0-10> <1-40> <2-128> <3-174> <4-8> <5-11> <6-9> <7-25> <0-10> <1-44> <2-26> <3-54> <4-4> <5-23> <6-9> <7-25> <0-10> <1-44> <2-48> <3-54> <4-4> <5-7> <6-9> <7-25> <0-10> <1-48> <2-26> <3-61> <4-8> <5-23> <6-9> <7-25> <0-10> <1-48> <2-48> <3-61> <4-8> <5-7> <6-9> <7-25> <0-10> <1-48> <2-128> <3-166> <4-8> <5-23> <6-9> <7-25> <0-10> <1-48> <2-128> <3-174> <4-8> <5-23> <6-9> <7-25> <0-10> <1-56> <2-26> <3-66> <4-8> <5-23> <6-9> <7-25> <0-10> <1-56> <2-34> <3-35> <4-8> <5-23> <6-9> <7-25> <0-10> <1-56> <2-48> <3-66> <4-8> <5-7> <6-9> <7-25> <0-10> <1-56> <2-128> <3-164> <4-8> <5-31> <6-9> <7-25> <0-10> <1-56> <2-128> <3-174> <4-8> <5-11> <6-9> <7-25> <0-11> <1-0> <2-26> <3-61> <4-12> <5-27> <6-9> <7-25> <0-11> <1-0> <2-26> <3-66> <4-12> <5-23> <6-9> <7-25> <0-11> <1-0> <2-34> <3-30> <4-20> <5-23> <6-9> <7-25> <0-11> <1-0> <2-48> <3-61> <4-12> <5-7> <6-9> <7-25> <0-11> <1-0> <2-48> <3-66> <4-12> <5-7> <6-9> <7-25> <0-11> <1-0> <2-128> <3-164> <4-8> <5-31> <6-9> <7-25> <0-11> <1-0> <2-128> <3-174> <4-8> <5-23> <6-9> <7-25> <0-11> <1-8> <2-128> <3-174> <4-8> <5-11> <6-9> <7-25> <0-11> <1-12> <2-26> <3-42> <4-4> <5-27> <6-9> <7-25> <0-11> <1-12> <2-48> <3-42> <4-4> <5-7> <6-9> <7-25> <0-11> <1-16> <2-26> <3-66> <4-4> <5-23> <6-9> <7-25> <0-11> <1-16> <2-48> <3-66> <4-4> <5-7> <6-9> <7-25> <0-11> <1-16> <2-128> <3-166> <4-8> <5-23> <6-9> <7-25> <0-11> <1-16> <2-128> <3-174> <4-8> <5-23> <6-9> <7-25> <0-11> <1-20> <2-26> <3-61> <4-8> <5-19> <6-9> <7-25> <0-11> <1-20> <2-48> <3-61> <4-8> <5-7> <6-9> <7-25> <0-11> <1-24> <2-34> <3-30> <4-8> <5-23> <6-9> <7-25> <0-11> <1-24> <2-128> <3-174> <4-8> <5-11> <6-9> <7-25> <0-11> <1-28> <2-26> <3-39> <4-4> <5-27> <6-9> <7-25> <0-11> <1-28> <2-48> <3-39> <4-4> <5-7> <6-9> <7-25> <0-11> <1-32> <2-26> <3-58> <4-8> <5-23> <6-9> <7-25> <0-11> <1-32> <2-34> <3-27> <4-20> <5-23> <6-9> <7-25> <0-11> <1-32> <2-48> <3-58> <4-8> <5-7> <6-9> <7-25> <0-11> <1-32> <2-128> <3-164> <4-8> <5-31> <6-9> <7-25> <0-11> <1-32> <2-128> <3-174> <4-8> <5-23> <6-9> <7-25> <0-11> <1-40> <2-26> <3-54> <4-4> <5-23> <6-9> <7-25> <0-11> <1-40> <2-48> <3-54> <4-4> <5-7> <6-9> <7-25> <0-11> <1-40> <2-128> <3-174> <4-4> <5-11> <6-9> <7-25> <0-11> <1-44> <2-26> <3-51> <4-4> <5-27> <6-9> <7-25> <0-11> <1-44> <2-48> <3-51> <4-4> <5-7> <6-9> <7-25> <0-11> <1-44> <2-128> <3-164> <4-4> <5-31> <6-9> <7-25> <0-11> <1-48> <2-26> <3-56> <4-4> <5-23> <6-9> <7-25> <0-11> <1-48> <2-26> <3-59> <4-4> <5-23> <6-9> <7-25> <0-11> <1-48> <2-48> <3-56> <4-4> <5-7> <6-9> <7-25> <0-11> <1-48> <2-48> <3-59> <4-4> <5-7> <6-9> <7-25> <0-11> <1-48> <2-128> <3-166> <4-8> <5-23> <6-9> <7-25> <0-11> <1-48> <2-128> <3-174> <4-8> <5-23> <6-9> <7-25> <0-11> <1-52> <2-26> <3-58> <4-4> <5-23> <6-9> <7-25> <0-11> <1-52> <2-26> <3-61> <4-4> <5-23> <6-9> <7-25> <0-11> <1-52> <2-48> <3-58> <4-4> <5-7> <6-9> <7-25> <0-11> <1-52> <2-48> <3-61> <4-4> <5-7> <6-9> <7-25> <0-11> <1-56> <2-26> <3-56> <4-4> <5-23> <6-9> <7-25> <0-11> <1-56> <2-26> <3-59> <4-4> <5-23> <6-9> <7-25> <0-11> <1-56> <2-34> <3-27> <4-8> <5-23> <6-9> <7-25> <0-11> <1-56> <2-48> <3-56> <4-4> <5-7> <6-9> <7-25> <0-11> <1-56> <2-48> <3-59> <4-4> <5-7> <6-9> <7-25> <0-11> <1-56> <2-128> <3-164> <4-8> <5-31> <6-9> <7-25> <0-11> <1-56> <2-128> <3-174> <4-8> <5-19> <6-9> <7-25> <0-11> <1-60> <2-26> <3-54> <4-4> <5-17> <6-9> <7-25> <0-11> <1-60> <2-26> <3-58> <4-4> <5-17> <6-9> <7-25> <0-11> <1-60> <2-48> <3-54> <4-4> <5-3> <6-9> <7-25> <0-11> <1-60> <2-48> <3-58> <4-4> <5-3> <6-9> <7-25> <0-12> <1-0> <2-26> <3-44> <4-12> <5-27> <6-9> <7-25> <0-12> <1-0> <2-34> <3-32> <4-20> <5-23> <6-9> <7-25> <0-12> <1-0> <2-48> <3-44> <4-12> <5-7> <6-9> <7-25> <0-12> <1-0> <2-128> <3-164> <4-8> <5-31> <6-9> <7-25> <0-12> <1-0> <2-128> <3-174> <4-8> <5-23> <6-9> <7-25> <0-12> <1-8> <2-128> <3-174> <4-8> <5-11> <6-9> <7-25> <0-12> <1-12> <2-26> <3-51> <4-4> <5-23> <6-9> <7-25> <0-12> <1-12> <2-48> <3-51> <4-4> <5-7> <6-9> <7-25> <0-12> <1-16> <2-26> <3-63> <4-4> <5-27> <6-9> <7-25> <0-12> <1-16> <2-48> <3-63> <4-4> <5-7> <6-9> <7-25> <0-12> <1-16> <2-128> <3-166> <4-8> <5-23> <6-9> <7-25> <0-12> <1-16> <2-128> <3-174> <4-8> <5-23> <6-9> <7-25> <0-12> <1-20> <2-26> <3-59> <4-4> <5-23> <6-9> <7-25> <0-12> <1-20> <2-48> <3-59> <4-4> <5-7> <6-9> <7-25> <0-12> <1-24> <2-26> <3-44> <4-4> <5-23> <6-9> <7-25> <0-12> <1-24> <2-34> <3-32> <4-4> <5-27> <6-9> <7-25> <0-12> <1-24> <2-48> <3-44> <4-4> <5-7> <6-9> <7-25> <0-12> <1-24> <2-128> <3-174> <4-8> <5-11> <6-9> <7-25> <0-12> <1-28> <2-26> <3-46> <4-4> <5-23> <6-9> <7-25> <0-12> <1-28> <2-34> <3-34> <4-4> <5-23> <6-9> <7-25> <0-12> <1-28> <2-48> <3-46> <4-4> <5-7> <6-9> <7-25> <0-12> <1-32> <2-26> <3-47> <4-8> <5-23> <6-9> <7-25> <0-12> <1-32> <2-34> <3-35> <4-20> <5-23> <6-9> <7-25> <0-12> <1-32> <2-48> <3-47> <4-8> <5-7> <6-9> <7-25> <0-12> <1-32> <2-128> <3-174> <4-8> <5-23> <6-9> <7-25> <0-12> <1-40> <2-26> <3-51> <4-4> <5-23> <6-9> <7-25> <0-12> <1-40> <2-48> <3-51> <4-4> <5-7> <6-9> <7-25> <0-12> <1-40> <2-128> <3-164> <4-8> <5-31> <6-9> <7-25> <0-12> <1-40> <2-128> <3-174> <4-8> <5-11> <6-9> <7-25> <0-12> <1-44> <2-26> <3-54> <4-4> <5-23> <6-9> <7-25> <0-12> <1-44> <2-48> <3-54> <4-4> <5-7> <6-9> <7-25> <0-12> <1-48> <2-26> <3-61> <4-8> <5-23> <6-9> <7-25> <0-12> <1-48> <2-48> <3-61> <4-8> <5-7> <6-9> <7-25> <0-12> <1-48> <2-128> <3-166> <4-8> <5-23> <6-9> <7-25> <0-12> <1-48> <2-128> <3-174> <4-8> <5-23> <6-9> <7-25> <0-12> <1-56> <2-26> <3-66> <4-8> <5-23> <6-9> <7-25> <0-12> <1-56> <2-34> <3-35> <4-8> <5-23> <6-9> <7-25> <0-12> <1-56> <2-48> <3-66> <4-8> <5-7> <6-9> <7-25> <0-12> <1-56> <2-128> <3-164> <4-8> <5-31> <6-9> <7-25> <0-12> <1-56> <2-128> <3-174> <4-8> <5-11> <6-9> <7-25> <0-13> <1-0> <2-26> <3-61> <4-12> <5-27> <6-9> <7-25> <0-13> <1-0> <2-26> <3-66> <4-12> <5-23> <6-9> <7-25> <0-13> <1-0> <2-34> <3-30> <4-20> <5-23> <6-9> <7-25> <0-13> <1-0> <2-48> <3-61> <4-12> <5-7> <6-9> <7-25> <0-13> <1-0> <2-48> <3-66> <4-12> <5-7> <6-9> <7-25> <0-13> <1-0> <2-128> <3-164> <4-8> <5-31> <6-9> <7-25> <0-13> <1-0> <2-128> <3-174> <4-8> <5-23> <6-9> <7-25> <0-13> <1-8> <2-128> <3-174> <4-8> <5-11> <6-9> <7-25> <0-13> <1-12> <2-26> <3-42> <4-4> <5-27> <6-9> <7-25> <0-13> <1-12> <2-48> <3-42> <4-4> <5-7> <6-9> <7-25> <0-13> <1-16> <2-26> <3-66> <4-4> <5-23> <6-9> <7-25> <0-13> <1-16> <2-48> <3-66> <4-4> <5-7> <6-9> <7-25> <0-13> <1-16> <2-128> <3-166> <4-8> <5-23> <6-9> <7-25> <0-13> <1-16> <2-128> <3-174> <4-8> <5-23> <6-9> <7-25> <0-13> <1-20> <2-26> <3-61> <4-8> <5-19> <6-9> <7-25> <0-13> <1-20> <2-48> <3-61> <4-8> <5-7> <6-9> <7-25> <0-13> <1-24> <2-34> <3-30> <4-8> <5-23> <6-9> <7-25> <0-13> <1-24> <2-128> <3-174> <4-8> <5-11> <6-9> <7-25> <0-13> <1-28> <2-26> <3-39> <4-4> <5-27> <6-9> <7-25> <0-13> <1-28> <2-48> <3-39> <4-4> <5-7> <6-9> <7-25> <0-13> <1-32> <2-26> <3-58> <4-8> <5-23> <6-9> <7-25> <0-13> <1-32> <2-34> <3-27> <4-20> <5-23> <6-9> <7-25> <0-13> <1-32> <2-48> <3-58> <4-8> <5-7> <6-9> <7-25> <0-13> <1-32> <2-128> <3-164> <4-8> <5-31> <6-9> <7-25> <0-13> <1-32> <2-128> <3-174> <4-8> <5-23> <6-9> <7-25> <0-13> <1-40> <2-26> <3-54> <4-4> <5-23> <6-9> <7-25> <0-13> <1-40> <2-48> <3-54> <4-4> <5-7> <6-9> <7-25> <0-13> <1-40> <2-128> <3-174> <4-4> <5-11> <6-9> <7-25> <0-13> <1-44> <2-26> <3-51> <4-4> <5-27> <6-9> <7-25> <0-13> <1-44> <2-48> <3-51> <4-4> <5-7> <6-9> <7-25> <0-13> <1-44> <2-128> <3-164> <4-4> <5-31> <6-9> <7-25> <0-13> <1-48> <2-26> <3-56> <4-1> <5-23> <6-9> <7-25> <0-13> <1-48> <2-26> <3-59> <4-1> <5-23> <6-9> <7-25> <0-13> <1-48> <2-48> <3-56> <4-1> <5-7> <6-9> <7-25> <0-13> <1-48> <2-48> <3-59> <4-1> <5-7> <6-9> <7-25> <0-13> <1-48> <2-128> <3-166> <4-8> <5-23> <6-9> <7-25> <0-13> <1-48> <2-128> <3-174> <4-8> <5-23> <6-9> <7-25> <0-13> <1-49> <2-26> <3-58> <4-7> <5-23> <6-9> <7-25> <0-13> <1-49> <2-26> <3-61> <4-7> <5-23> <6-9> <7-25> <0-13> <1-49> <2-48> <3-58> <4-7> <5-7> <6-9> <7-25> <0-13> <1-49> <2-48> <3-61> <4-7> <5-7> <6-9> <7-25> <0-13> <1-56> <2-26> <3-56> <4-8> <5-23> <6-9> <7-25> <0-13> <1-56> <2-26> <3-59> <4-8> <5-23> <6-9> <7-25> <0-13> <1-56> <2-34> <3-27> <4-8> <5-23> <6-9> <7-25> <0-13> <1-56> <2-48> <3-56> <4-8> <5-7> <6-9> <7-25> <0-13> <1-56> <2-48> <3-59> <4-8> <5-7> <6-9> <7-25> <0-13> <1-56> <2-128> <3-164> <4-8> <5-31> <6-9> <7-25> <0-13> <1-56> <2-128> <3-174> <4-8> <5-19> <6-9> <7-25> <0-14> <1-0> <2-26> <3-44> <4-12> <5-27> <6-9> <7-25> <0-14> <1-0> <2-34> <3-32> <4-20> <5-23> <6-9> <7-25> <0-14> <1-0> <2-48> <3-44> <4-12> <5-7> <6-9> <7-25> <0-14> <1-0> <2-128> <3-164> <4-8> <5-31> <6-9> <7-25> <0-14> <1-0> <2-128> <3-174> <4-8> <5-23> <6-9> <7-25> <0-14> <1-8> <2-128> <3-174> <4-8> <5-11> <6-9> <7-25> <0-14> <1-12> <2-26> <3-51> <4-4> <5-23> <6-9> <7-25> <0-14> <1-12> <2-48> <3-51> <4-4> <5-7> <6-9> <7-25> <0-14> <1-16> <2-26> <3-63> <4-4> <5-27> <6-9> <7-25> <0-14> <1-16> <2-48> <3-63> <4-4> <5-7> <6-9> <7-25> <0-14> <1-16> <2-128> <3-166> <4-8> <5-23> <6-9> <7-25> <0-14> <1-16> <2-128> <3-174> <4-8> <5-23> <6-9> <7-25> <0-14> <1-20> <2-26> <3-59> <4-4> <5-23> <6-9> <7-25> <0-14> <1-20> <2-48> <3-59> <4-4> <5-7> <6-9> <7-25> <0-14> <1-24> <2-26> <3-44> <4-4> <5-23> <6-9> <7-25> <0-14> <1-24> <2-34> <3-32> <4-4> <5-27> <6-9> <7-25> <0-14> <1-24> <2-48> <3-44> <4-4> <5-7> <6-9> <7-25> <0-14> <1-24> <2-128> <3-174> <4-8> <5-11> <6-9> <7-25> <0-14> <1-28> <2-26> <3-46> <4-4> <5-23> <6-9> <7-25> <0-14> <1-28> <2-34> <3-34> <4-4> <5-23> <6-9> <7-25> <0-14> <1-28> <2-48> <3-46> <4-4> <5-7> <6-9> <7-25> <0-14> <1-32> <2-26> <3-47> <4-8> <5-23> <6-9> <7-25> <0-14> <1-32> <2-34> <3-35> <4-20> <5-23> <6-9> <7-25> <0-14> <1-32> <2-48> <3-47> <4-8> <5-7> <6-9> <7-25> <0-14> <1-32> <2-128> <3-174> <4-8> <5-23> <6-9> <7-25> <0-14> <1-40> <2-26> <3-51> <4-4> <5-23> <6-9> <7-25> <0-14> <1-40> <2-48> <3-51> <4-4> <5-7> <6-9> <7-25> <0-14> <1-40> <2-128> <3-164> <4-8> <5-31> <6-9> <7-25> <0-14> <1-40> <2-128> <3-174> <4-8> <5-11> <6-9> <7-25> <0-14> <1-44> <2-26> <3-54> <4-4> <5-23> <6-9> <7-25> <0-14> <1-44> <2-48> <3-54> <4-4> <5-7> <6-9> <7-25> <0-14> <1-48> <2-26> <3-61> <4-8> <5-23> <6-9> <7-25> <0-14> <1-48> <2-48> <3-61> <4-8> <5-7> <6-9> <7-25> <0-14> <1-48> <2-128> <3-166> <4-8> <5-23> <6-9> <7-25> <0-14> <1-48> <2-128> <3-174> <4-8> <5-23> <6-9> <7-25> <0-14> <1-56> <2-26> <3-66> <4-8> <5-23> <6-9> <7-25> <0-14> <1-56> <2-34> <3-35> <4-8> <5-23> <6-9> <7-25> <0-14> <1-56> <2-48> <3-66> <4-8> <5-7> <6-9> <7-25> <0-14> <1-56> <2-128> <3-164> <4-8> <5-31> <6-9> <7-25> <0-14> <1-56> <2-128> <3-174> <4-8> <5-11> <6-9> <7-25> <0-15> <1-0> <2-26> <3-61> <4-12> <5-27> <6-9> <7-25> <0-15> <1-0> <2-26> <3-66> <4-12> <5-23> <6-9> <7-25> <0-15> <1-0> <2-34> <3-30> <4-20> <5-23> <6-9> <7-25> <0-15> <1-0> <2-48> <3-61> <4-12> <5-7> <6-9> <7-25> <0-15> <1-0> <2-48> <3-66> <4-12> <5-7> <6-9> <7-25> <0-15> <1-0> <2-128> <3-164> <4-8> <5-31> <6-9> <7-25> <0-15> <1-0> <2-128> <3-174> <4-8> <5-23> <6-9> <7-25> <0-15> <1-8> <2-128> <3-174> <4-8> <5-11> <6-9> <7-25> <0-15> <1-12> <2-26> <3-42> <4-4> <5-27> <6-9> <7-25> <0-15> <1-12> <2-48> <3-42> <4-4> <5-7> <6-9> <7-25> <0-15> <1-16> <2-26> <3-66> <4-4> <5-23> <6-9> <7-25> <0-15> <1-16> <2-48> <3-66> <4-4> <5-7> <6-9> <7-25> <0-15> <1-16> <2-128> <3-166> <4-8> <5-23> <6-9> <7-25> <0-15> <1-16> <2-128> <3-174> <4-8> <5-23> <6-9> <7-25> <0-15> <1-20> <2-26> <3-61> <4-8> <5-19> <6-9> <7-25> <0-15> <1-20> <2-48> <3-61> <4-8> <5-7> <6-9> <7-25> <0-15> <1-24> <2-34> <3-30> <4-8> <5-23> <6-9> <7-25> <0-15> <1-24> <2-128> <3-174> <4-8> <5-11> <6-9> <7-25> <0-15> <1-28> <2-26> <3-39> <4-4> <5-27> <6-9> <7-25> <0-15> <1-28> <2-48> <3-39> <4-4> <5-7> <6-9> <7-25> <0-15> <1-32> <2-26> <3-58> <4-8> <5-23> <6-9> <7-25> <0-15> <1-32> <2-34> <3-27> <4-20> <5-23> <6-9> <7-25> <0-15> <1-32> <2-48> <3-58> <4-8> <5-7> <6-9> <7-25> <0-15> <1-32> <2-128> <3-164> <4-8> <5-31> <6-9> <7-25> <0-15> <1-32> <2-128> <3-174> <4-8> <5-23> <6-9> <7-25> <0-15> <1-40> <2-26> <3-54> <4-4> <5-23> <6-9> <7-25> <0-15> <1-40> <2-48> <3-54> <4-4> <5-7> <6-9> <7-25> <0-15> <1-40> <2-128> <3-174> <4-4> <5-11> <6-9> <7-25> <0-15> <1-44> <2-26> <3-51> <4-4> <5-27> <6-9> <7-25> <0-15> <1-44> <2-48> <3-51> <4-4> <5-7> <6-9> <7-25> <0-15> <1-44> <2-128> <3-164> <4-4> <5-31> <6-9> <7-25> <0-15> <1-48> <2-26> <3-56> <4-4> <5-23> <6-9> <7-25> <0-15> <1-48> <2-26> <3-59> <4-4> <5-23> <6-9> <7-25> <0-15> <1-48> <2-48> <3-56> <4-4> <5-7> <6-9> <7-25> <0-15> <1-48> <2-48> <3-59> <4-4> <5-7> <6-9> <7-25> <0-15> <1-48> <2-128> <3-166> <4-8> <5-23> <6-9> <7-25> <0-15> <1-48> <2-128> <3-174> <4-8> <5-23> <6-9> <7-25> <0-15> <1-52> <2-26> <3-58> <4-4> <5-23> <6-9> <7-25> <0-15> <1-52> <2-26> <3-61> <4-4> <5-23> <6-9> <7-25> <0-15> <1-52> <2-48> <3-58> <4-4> <5-7> <6-9> <7-25> <0-15> <1-52> <2-48> <3-61> <4-4> <5-7> <6-9> <7-25> <0-15> <1-56> <2-26> <3-56> <4-4> <5-23> <6-9> <7-25> <0-15> <1-56> <2-26> <3-59> <4-4> <5-23> <6-9> <7-25> <0-15> <1-56> <2-34> <3-27> <4-8> <5-23> <6-9> <7-25> <0-15> <1-56> <2-48> <3-56> <4-4> <5-7> <6-9> <7-25> <0-15> <1-56> <2-48> <3-59> <4-4> <5-7> <6-9> <7-25> <0-15> <1-56> <2-128> <3-164> <4-8> <5-31> <6-9> <7-25> <0-15> <1-56> <2-128> <3-174> <4-8> <5-19> <6-9> <7-25> <0-15> <1-60> <2-26> <3-54> <4-4> <5-17> <6-9> <7-25> <0-15> <1-60> <2-26> <3-58> <4-4> <5-17> <6-9> <7-25> <0-15> <1-60> <2-48> <3-54> <4-4> <5-3> <6-9> <7-25> <0-15> <1-60> <2-48> <3-58> <4-4> <5-3> <6-9> <7-25> <0-16> <1-0> <2-26> <3-44> <4-12> <5-27> <6-9> <7-25> <0-16> <1-0> <2-34> <3-32> <4-20> <5-23> <6-9> <7-25> <0-16> <1-0> <2-48> <3-44> <4-12> <5-7> <6-9> <7-25> <0-16> <1-0> <2-128> <3-164> <4-8> <5-31> <6-9> <7-25> <0-16> <1-0> <2-128> <3-174> <4-8> <5-23> <6-9> <7-25> <0-16> <1-8> <2-128> <3-174> <4-8> <5-11> <6-9> <7-25> <0-16> <1-12> <2-26> <3-51> <4-4> <5-23> <6-9> <7-25> <0-16> <1-12> <2-48> <3-51> <4-4> <5-7> <6-9> <7-25> <0-16> <1-16> <2-26> <3-63> <4-4> <5-27> <6-9> <7-25> <0-16> <1-16> <2-48> <3-63> <4-4> <5-7> <6-9> <7-25> <0-16> <1-16> <2-128> <3-166> <4-8> <5-23> <6-9> <7-25> <0-16> <1-16> <2-128> <3-174> <4-8> <5-23> <6-9> <7-25> <0-16> <1-20> <2-26> <3-59> <4-4> <5-23> <6-9> <7-25> <0-16> <1-20> <2-48> <3-59> <4-4> <5-7> <6-9> <7-25> <0-16> <1-24> <2-26> <3-44> <4-4> <5-23> <6-9> <7-25> <0-16> <1-24> <2-34> <3-32> <4-4> <5-27> <6-9> <7-25> <0-16> <1-24> <2-48> <3-44> <4-4> <5-7> <6-9> <7-25> <0-16> <1-24> <2-128> <3-174> <4-8> <5-11> <6-9> <7-25> <0-16> <1-28> <2-26> <3-46> <4-4> <5-23> <6-9> <7-25> <0-16> <1-28> <2-34> <3-34> <4-4> <5-23> <6-9> <7-25> <0-16> <1-28> <2-48> <3-46> <4-4> <5-7> <6-9> <7-25> <0-16> <1-32> <2-26> <3-47> <4-8> <5-23> <6-9> <7-25> <0-16> <1-32> <2-34> <3-35> <4-20> <5-23> <6-9> <7-25> <0-16> <1-32> <2-48> <3-47> <4-8> <5-7> <6-9> <7-25> <0-16> <1-32> <2-128> <3-174> <4-8> <5-23> <6-9> <7-25> <0-16> <1-40> <2-26> <3-51> <4-4> <5-23> <6-9> <7-25> <0-16> <1-40> <2-48> <3-51> <4-4> <5-7> <6-9> <7-25> <0-16> <1-40> <2-128> <3-164> <4-8> <5-31> <6-9> <7-25> <0-16> <1-40> <2-128> <3-174> <4-8> <5-11> <6-9> <7-25> <0-16> <1-44> <2-26> <3-54> <4-4> <5-23> <6-9> <7-25> <0-16> <1-44> <2-48> <3-54> <4-4> <5-7> <6-9> <7-25> <0-16> <1-48> <2-26> <3-61> <4-8> <5-23> <6-9> <7-25> <0-16> <1-48> <2-48> <3-61> <4-8> <5-7> <6-9> <7-25> <0-16> <1-48> <2-128> <3-166> <4-8> <5-23> <6-9> <7-25> <0-16> <1-48> <2-128> <3-174> <4-8> <5-23> <6-9> <7-25> <0-16> <1-56> <2-26> <3-66> <4-8> <5-23> <6-9> <7-25> <0-16> <1-56> <2-34> <3-35> <4-8> <5-23> <6-9> <7-25> <0-16> <1-56> <2-48> <3-66> <4-8> <5-7> <6-9> <7-25> <0-16> <1-56> <2-128> <3-164> <4-8> <5-31> <6-9> <7-25> <0-16> <1-56> <2-128> <3-174> <4-8> <5-11> <6-9> <7-25> <0-17> <1-0> <2-26> <3-61> <4-12> <5-27> <6-9> <7-25> <0-17> <1-0> <2-26> <3-66> <4-12> <5-23> <6-9> <7-25> <0-17> <1-0> <2-34> <3-30> <4-20> <5-23> <6-9> <7-25> <0-17> <1-0> <2-48> <3-61> <4-12> <5-7> <6-9> <7-25> <0-17> <1-0> <2-48> <3-66> <4-12> <5-7> <6-9> <7-25> <0-17> <1-0> <2-128> <3-164> <4-8> <5-31> <6-9> <7-25> <0-17> <1-0> <2-128> <3-174> <4-8> <5-23> <6-9> <7-25> <0-17> <1-8> <2-128> <3-174> <4-8> <5-11> <6-9> <7-25> <0-17> <1-12> <2-26> <3-42> <4-4> <5-27> <6-9> <7-25> <0-17> <1-12> <2-48> <3-42> <4-4> <5-7> <6-9> <7-25> <0-17> <1-16> <2-26> <3-66> <4-4> <5-23> <6-9> <7-25> <0-17> <1-16> <2-48> <3-66> <4-4> <5-7> <6-9> <7-25> <0-17> <1-16> <2-128> <3-166> <4-8> <5-23> <6-9> <7-25> <0-17> <1-16> <2-128> <3-174> <4-8> <5-23> <6-9> <7-25> <0-17> <1-20> <2-26> <3-61> <4-8> <5-19> <6-9> <7-25> <0-17> <1-20> <2-48> <3-61> <4-8> <5-7> <6-9> <7-25> <0-17> <1-24> <2-34> <3-30> <4-8> <5-23> <6-9> <7-25> <0-17> <1-24> <2-128> <3-166> <4-8> <5-23> <6-9> <7-25> <0-17> <1-24> <2-128> <3-174> <4-8> <5-23> <6-9> <7-25> <0-17> <1-28> <2-26> <3-39> <4-4> <5-27> <6-9> <7-25> <0-17> <1-28> <2-48> <3-39> <4-4> <5-7> <6-9> <7-25> <0-17> <1-32> <2-26> <3-58> <4-8> <5-23> <6-9> <7-25> <0-17> <1-32> <2-34> <3-27> <4-20> <5-23> <6-9> <7-25> <0-17> <1-32> <2-48> <3-58> <4-8> <5-7> <6-9> <7-25> <0-17> <1-32> <2-128> <3-164> <4-8> <5-31> <6-9> <7-25> <0-17> <1-32> <2-128> <3-174> <4-8> <5-23> <6-9> <7-25> <0-17> <1-40> <2-26> <3-54> <4-4> <5-23> <6-9> <7-25> <0-17> <1-40> <2-48> <3-54> <4-4> <5-7> <6-9> <7-25> <0-17> <1-40> <2-128> <3-166> <4-8> <5-23> <6-9> <7-25> <0-17> <1-40> <2-128> <3-174> <4-8> <5-23> <6-9> <7-25> <0-17> <1-44> <2-26> <3-51> <4-4> <5-27> <6-9> <7-25> <0-17> <1-44> <2-48> <3-51> <4-4> <5-7> <6-9> <7-25> <0-17> <1-48> <2-26> <3-56> <4-1> <5-23> <6-9> <7-25> <0-17> <1-48> <2-26> <3-59> <4-1> <5-23> <6-9> <7-25> <0-17> <1-48> <2-48> <3-56> <4-1> <5-7> <6-9> <7-25> <0-17> <1-48> <2-48> <3-59> <4-1> <5-7> <6-9> <7-25> <0-17> <1-48> <2-128> <3-166> <4-8> <5-23> <6-9> <7-25> <0-17> <1-48> <2-128> <3-174> <4-8> <5-23> <6-9> <7-25> <0-17> <1-49> <2-26> <3-58> <4-7> <5-23> <6-9> <7-25> <0-17> <1-49> <2-26> <3-61> <4-7> <5-23> <6-9> <7-25> <0-17> <1-49> <2-48> <3-58> <4-7> <5-7> <6-9> <7-25> <0-17> <1-49> <2-48> <3-61> <4-7> <5-7> <6-9> <7-25> <0-17> <1-56> <2-26> <3-56> <4-8> <5-23> <6-9> <7-25> <0-17> <1-56> <2-26> <3-59> <4-8> <5-23> <6-9> <7-25> <0-17> <1-56> <2-34> <3-27> <4-8> <5-23> <6-9> <7-25> <0-17> <1-56> <2-48> <3-56> <4-8> <5-7> <6-9> <7-25> <0-17> <1-56> <2-48> <3-59> <4-8> <5-7> <6-9> <7-25> <0-17> <1-56> <2-128> <3-175> <4-4> <5-23> <6-9> <7-25> <0-17> <1-60> <2-128> <3-176> <4-4> <5-23> <6-9> <7-25> <0-18> <1-0> <2-26> <3-44> <4-4> <5-19> <6-9> <7-25> <0-18> <1-0> <2-26> <3-51> <4-4> <5-19> <6-9> <7-25> <0-18> <1-0> <2-26> <3-56> <4-4> <5-19> <6-9> <7-25> <0-18> <1-0> <2-26> <3-58> <4-4> <5-19> <6-9> <7-25> <0-18> <1-0> <2-26> <3-63> <4-4> <5-19> <6-9> <7-25> <0-18> <1-0> <2-30> <3-44> <4-24> <5-23> <6-9> <7-25> <0-18> <1-0> <2-30> <3-51> <4-24> <5-23> <6-9> <7-25> <0-18> <1-0> <2-30> <3-56> <4-24> <5-23> <6-9> <7-25> <0-18> <1-0> <2-34> <3-32> <4-20> <5-23> <6-9> <7-25> <0-18> <1-0> <2-48> <3-44> <4-4> <5-7> <6-9> <7-25> <0-18> <1-0> <2-48> <3-44> <4-24> <5-7> <6-9> <7-25> <0-18> <1-0> <2-48> <3-51> <4-4> <5-7> <6-9> <7-25> <0-18> <1-0> <2-48> <3-51> <4-24> <5-7> <6-9> <7-25> <0-18> <1-0> <2-48> <3-56> <4-4> <5-7> <6-9> <7-25> <0-18> <1-0> <2-48> <3-56> <4-24> <5-7> <6-9> <7-25> <0-18> <1-0> <2-48> <3-58> <4-4> <5-7> <6-9> <7-25> <0-18> <1-0> <2-48> <3-63> <4-4> <5-7> <6-9> <7-25> <0-18> <1-0> <2-128> <3-164> <4-8> <5-31> <6-9> <7-25> <0-18> <1-0> <2-128> <3-177> <4-8> <5-23> <6-9> <7-25> <0-18> <1-4> <2-26> <3-59> <4-8> <5-13> <6-9> <7-25> <0-18> <1-4> <2-48> <3-59> <4-8> <5-3> <6-9> <7-25> <0-18> <1-8> <2-128> <3-174> <4-8> <5-11> <6-9> <7-25> <0-18> <1-12> <2-26> <3-44> <4-4> <5-19> <6-9> <7-25> <0-18> <1-12> <2-26> <3-51> <4-4> <5-19> <6-9> <7-25> <0-18> <1-12> <2-26> <3-56> <4-4> <5-19> <6-9> <7-25> <0-18> <1-12> <2-26> <3-59> <4-4> <5-19> <6-9> <7-25> <0-18> <1-12> <2-26> <3-63> <4-4> <5-19> <6-9> <7-25> <0-18> <1-12> <2-48> <3-44> <4-4> <5-7> <6-9> <7-25> <0-18> <1-12> <2-48> <3-51> <4-4> <5-7> <6-9> <7-25> <0-18> <1-12> <2-48> <3-56> <4-4> <5-7> <6-9> <7-25> <0-18> <1-12> <2-48> <3-59> <4-4> <5-7> <6-9> <7-25> <0-18> <1-12> <2-48> <3-63> <4-4> <5-7> <6-9> <7-25> <0-18> <1-16> <2-26> <3-44> <4-4> <5-19> <6-9> <7-25> <0-18> <1-16> <2-26> <3-51> <4-4> <5-19> <6-9> <7-25> <0-18> <1-16> <2-26> <3-56> <4-4> <5-19> <6-9> <7-25> <0-18> <1-16> <2-26> <3-59> <4-4> <5-19> <6-9> <7-25> <0-18> <1-16> <2-26> <3-63> <4-4> <5-19> <6-9> <7-25> <0-18> <1-16> <2-48> <3-44> <4-4> <5-7> <6-9> <7-25> <0-18> <1-16> <2-48> <3-51> <4-4> <5-7> <6-9> <7-25> <0-18> <1-16> <2-48> <3-56> <4-4> <5-7> <6-9> <7-25> <0-18> <1-16> <2-48> <3-59> <4-4> <5-7> <6-9> <7-25> <0-18> <1-16> <2-48> <3-63> <4-4> <5-7> <6-9> <7-25> <0-18> <1-16> <2-128> <3-166> <4-8> <5-23> <6-9> <7-25> <0-18> <1-16> <2-128> <3-174> <4-8> <5-23> <6-9> <7-25> <0-18> <1-20> <2-26> <3-44> <4-4> <5-19> <6-9> <7-25> <0-18> <1-20> <2-26> <3-51> <4-4> <5-19> <6-9> <7-25> <0-18> <1-20> <2-26> <3-56> <4-4> <5-19> <6-9> <7-25> <0-18> <1-20> <2-26> <3-59> <4-4> <5-19> <6-9> <7-25> <0-18> <1-20> <2-26> <3-63> <4-4> <5-19> <6-9> <7-25> <0-18> <1-20> <2-48> <3-44> <4-4> <5-7> <6-9> <7-25> <0-18> <1-20> <2-48> <3-51> <4-4> <5-7> <6-9> <7-25> <0-18> <1-20> <2-48> <3-56> <4-4> <5-7> <6-9> <7-25> <0-18> <1-20> <2-48> <3-59> <4-4> <5-7> <6-9> <7-25> <0-18> <1-20> <2-48> <3-63> <4-4> <5-7> <6-9> <7-25> <0-18> <1-24> <2-26> <3-44> <4-4> <5-19> <6-9> <7-25> <0-18> <1-24> <2-26> <3-51> <4-4> <5-19> <6-9> <7-25> <0-18> <1-24> <2-26> <3-56> <4-4> <5-19> <6-9> <7-25> <0-18> <1-24> <2-26> <3-59> <4-4> <5-19> <6-9> <7-25> <0-18> <1-24> <2-26> <3-63> <4-4> <5-19> <6-9> <7-25> <0-18> <1-24> <2-34> <3-32> <4-8> <5-23> <6-9> <7-25> <0-18> <1-24> <2-48> <3-44> <4-4> <5-7> <6-9> <7-25> <0-18> <1-24> <2-48> <3-51> <4-4> <5-7> <6-9> <7-25> <0-18> <1-24> <2-48> <3-56> <4-4> <5-7> <6-9> <7-25> <0-18> <1-24> <2-48> <3-59> <4-4> <5-7> <6-9> <7-25> <0-18> <1-24> <2-48> <3-63> <4-4> <5-7> <6-9> <7-25> <0-18> <1-24> <2-128> <3-174> <4-8> <5-11> <6-9> <7-25> <0-18> <1-28> <2-26> <3-44> <4-4> <5-19> <6-9> <7-25> <0-18> <1-28> <2-26> <3-51> <4-4> <5-19> <6-9> <7-25> <0-18> <1-28> <2-26> <3-56> <4-4> <5-19> <6-9> <7-25> <0-18> <1-28> <2-26> <3-59> <4-4> <5-19> <6-9> <7-25> <0-18> <1-28> <2-26> <3-63> <4-4> <5-19> <6-9> <7-25> <0-18> <1-28> <2-48> <3-44> <4-4> <5-7> <6-9> <7-25> <0-18> <1-28> <2-48> <3-51> <4-4> <5-7> <6-9> <7-25> </s> </s> </s> </s> </s> </s> </s>\n",
      "tensor([0, 0, 0,  ..., 2, 2, 2], dtype=torch.int32)\n",
      "<s> <s> <s> <s> <s> <s> <s> <s> <0-0> <1-0> <2-48> <3-52> <4-50> <5-23> <6-9> <7-25> <0-0> <1-0> <2-48> <3-52> <4-50> <5-23> <6-9> <7-25> <0-0> <1-0> <2-128> <3-174> <4-1> <5-3> <6-9> <7-25> <0-0> <1-1> <2-128> <3-174> <4-1> <5-3> <6-9> <7-25> <0-0> <1-2> <2-128> <3-174> <4-1> <5-3> <6-9> <7-25> <0-0> <1-3> <2-128> <3-174> <4-1> <5-3> <6-9> <7-25> <0-0> <1-4> <2-128> <3-174> <4-1> <5-3> <6-9> <7-25> <0-0> <1-5> <2-128> <3-174> <4-1> <5-3> <6-9> <7-25> <0-0> <1-6> <2-128> <3-174> <4-1> <5-3> <6-9> <7-25> <0-0> <1-7> <2-128> <3-174> <4-1> <5-3> <6-9> <7-25> <0-0> <1-8> <2-128> <3-174> <4-1> <5-3> <6-9> <7-25> <0-0> <1-9> <2-128> <3-174> <4-1> <5-3> <6-9> <7-25> <0-0> <1-10> <2-128> <3-174> <4-1> <5-3> <6-9> <7-25> <0-0> <1-11> <2-128> <3-174> <4-1> <5-3> <6-9> <7-25> <0-0> <1-12> <2-128> <3-174> <4-1> <5-3> <6-9> <7-25> <0-0> <1-13> <2-128> <3-174> <4-1> <5-3> <6-9> <7-25> <0-0> <1-14> <2-128> <3-174> <4-1> <5-3> <6-9> <7-25> <0-0> <1-15> <2-128> <3-174> <4-1> <5-3> <6-9> <7-25> <0-0> <1-16> <2-128> <3-174> <4-1> <5-7> <6-9> <7-25> <0-0> <1-17> <2-128> <3-174> <4-1> <5-7> <6-9> <7-25> <0-0> <1-18> <2-128> <3-174> <4-1> <5-7> <6-9> <7-25> <0-0> <1-19> <2-128> <3-174> <4-1> <5-7> <6-9> <7-25> <0-0> <1-20> <2-128> <3-174> <4-1> <5-7> <6-9> <7-25> <0-0> <1-21> <2-128> <3-174> <4-1> <5-7> <6-9> <7-25> <0-0> <1-22> <2-128> <3-174> <4-1> <5-7> <6-9> <7-25> <0-0> <1-23> <2-128> <3-174> <4-1> <5-7> <6-9> <7-25> <0-0> <1-24> <2-128> <3-174> <4-1> <5-7> <6-9> <7-25> <0-0> <1-25> <2-128> <3-174> <4-1> <5-7> <6-9> <7-25> <0-0> <1-26> <2-128> <3-174> <4-1> <5-7> <6-9> <7-25> <0-0> <1-27> <2-128> <3-174> <4-1> <5-7> <6-9> <7-25> <0-0> <1-28> <2-128> <3-174> <4-1> <5-7> <6-9> <7-25> <0-0> <1-29> <2-128> <3-174> <4-1> <5-7> <6-9> <7-25> <0-0> <1-30> <2-128> <3-174> <4-1> <5-7> <6-9> <7-25> <0-0> <1-31> <2-128> <3-174> <4-1> <5-7> <6-9> <7-25> <0-0> <1-32> <2-128> <3-174> <4-1> <5-7> <6-9> <7-25> <0-0> <1-33> <2-128> <3-174> <4-1> <5-7> <6-9> <7-25> <0-0> <1-34> <2-128> <3-174> <4-1> <5-7> <6-9> <7-25> <0-0> <1-35> <2-128> <3-174> <4-1> <5-7> <6-9> <7-25> <0-0> <1-36> <2-128> <3-174> <4-1> <5-7> <6-9> <7-25> <0-0> <1-37> <2-128> <3-174> <4-1> <5-7> <6-9> <7-25> <0-0> <1-38> <2-128> <3-174> <4-1> <5-7> <6-9> <7-25> <0-0> <1-39> <2-128> <3-174> <4-1> <5-7> <6-9> <7-25> <0-0> <1-40> <2-128> <3-174> <4-1> <5-7> <6-9> <7-25> <0-0> <1-41> <2-128> <3-174> <4-1> <5-7> <6-9> <7-25> <0-0> <1-42> <2-128> <3-174> <4-1> <5-7> <6-9> <7-25> <0-0> <1-43> <2-128> <3-174> <4-1> <5-7> <6-9> <7-25> <0-0> <1-44> <2-128> <3-174> <4-1> <5-7> <6-9> <7-25> <0-0> <1-45> <2-128> <3-174> <4-1> <5-7> <6-9> <7-25> <0-0> <1-46> <2-128> <3-174> <4-1> <5-7> <6-9> <7-25> <0-0> <1-47> <2-128> <3-174> <4-1> <5-7> <6-9> <7-25> <0-0> <1-48> <2-128> <3-174> <4-1> <5-7> <6-9> <7-25> <0-0> <1-49> <2-128> <3-174> <4-1> <5-7> <6-9> <7-25> <0-0> <1-50> <2-128> <3-174> <4-1> <5-7> <6-9> <7-25> <0-0> <1-51> <2-128> <3-174> <4-1> <5-7> <6-9> <7-25> <0-0> <1-52> <2-128> <3-174> <4-1> <5-7> <6-9> <7-25> <0-0> <1-53> <2-128> <3-174> <4-1> <5-7> <6-9> <7-25> <0-0> <1-54> <2-128> <3-174> <4-1> <5-7> <6-9> <7-25> <0-0> <1-55> <2-128> <3-174> <4-1> <5-7> <6-9> <7-25> <0-0> <1-56> <2-128> <3-174> <4-1> <5-7> <6-9> <7-25> <0-0> <1-57> <2-128> <3-174> <4-1> <5-7> <6-9> <7-25> <0-0> <1-58> <2-128> <3-174> <4-1> <5-7> <6-9> <7-25> <0-0> <1-59> <2-128> <3-174> <4-1> <5-7> <6-9> <7-25> <0-0> <1-60> <2-128> <3-174> <4-1> <5-7> <6-9> <7-25> <0-0> <1-61> <2-128> <3-174> <4-1> <5-7> <6-9> <7-25> <0-0> <1-62> <2-128> <3-174> <4-1> <5-7> <6-9> <7-25> <0-0> <1-63> <2-128> <3-174> <4-1> <5-7> <6-9> <7-25> <0-1> <1-0> <2-128> <3-174> <4-1> <5-7> <6-9> <7-25> <0-1> <1-1> <2-128> <3-174> <4-1> <5-7> <6-9> <7-25> <0-1> <1-2> <2-128> <3-174> <4-1> <5-7> <6-9> <7-25> <0-1> <1-3> <2-128> <3-174> <4-1> <5-7> <6-9> <7-25> <0-1> <1-4> <2-128> <3-174> <4-1> <5-7> <6-9> <7-25> <0-1> <1-5> <2-128> <3-174> <4-1> <5-7> <6-9> <7-25> <0-1> <1-6> <2-128> <3-174> <4-1> <5-7> <6-9> <7-25> <0-1> <1-7> <2-128> <3-174> <4-1> <5-7> <6-9> <7-25> <0-1> <1-8> <2-128> <3-174> <4-1> <5-7> <6-9> <7-25> <0-1> <1-9> <2-128> <3-174> <4-1> <5-7> <6-9> <7-25> <0-1> <1-10> <2-128> <3-174> <4-1> <5-7> <6-9> <7-25> <0-1> <1-11> <2-128> <3-174> <4-1> <5-7> <6-9> <7-25> <0-1> <1-12> <2-128> <3-174> <4-1> <5-7> <6-9> <7-25> <0-1> <1-13> <2-128> <3-174> <4-1> <5-7> <6-9> <7-25> <0-1> <1-14> <2-128> <3-174> <4-1> <5-7> <6-9> <7-25> <0-1> <1-15> <2-128> <3-174> <4-1> <5-7> <6-9> <7-25> <0-1> <1-16> <2-128> <3-174> <4-1> <5-7> <6-9> <7-25> <0-1> <1-17> <2-128> <3-174> <4-1> <5-7> <6-9> <7-25> <0-1> <1-18> <2-128> <3-174> <4-1> <5-7> <6-9> <7-25> <0-1> <1-19> <2-128> <3-174> <4-1> <5-7> <6-9> <7-25> <0-1> <1-20> <2-128> <3-174> <4-1> <5-7> <6-9> <7-25> <0-1> <1-21> <2-128> <3-174> <4-1> <5-7> <6-9> <7-25> <0-1> <1-22> <2-128> <3-174> <4-1> <5-7> <6-9> <7-25> <0-1> <1-23> <2-128> <3-174> <4-1> <5-7> <6-9> <7-25> <0-1> <1-24> <2-128> <3-174> <4-1> <5-7> <6-9> <7-25> <0-1> <1-25> <2-128> <3-174> <4-1> <5-7> <6-9> <7-25> <0-1> <1-26> <2-128> <3-174> <4-1> <5-7> <6-9> <7-25> <0-1> <1-27> <2-128> <3-174> <4-1> <5-7> <6-9> <7-25> <0-1> <1-28> <2-128> <3-174> <4-1> <5-7> <6-9> <7-25> <0-1> <1-29> <2-128> <3-174> <4-1> <5-7> <6-9> <7-25> <0-1> <1-30> <2-128> <3-174> <4-1> <5-7> <6-9> <7-25> <0-1> <1-31> <2-128> <3-174> <4-1> <5-7> <6-9> <7-25> <0-1> <1-32> <2-128> <3-174> <4-1> <5-11> <6-9> <7-25> <0-1> <1-33> <2-128> <3-174> <4-1> <5-11> <6-9> <7-25> <0-1> <1-34> <2-128> <3-174> <4-1> <5-11> <6-9> <7-25> <0-1> <1-35> <2-128> <3-174> <4-1> <5-11> <6-9> <7-25> <0-1> <1-36> <2-128> <3-174> <4-1> <5-11> <6-9> <7-25> <0-1> <1-37> <2-128> <3-174> <4-1> <5-11> <6-9> <7-25> <0-1> <1-38> <2-128> <3-174> <4-1> <5-11> <6-9> <7-25> <0-1> <1-39> <2-128> <3-174> <4-1> <5-11> <6-9> <7-25> <0-1> <1-40> <2-128> <3-174> <4-1> <5-15> <6-9> <7-25> <0-1> <1-41> <2-128> <3-174> <4-1> <5-15> <6-9> <7-25> <0-1> <1-42> <2-128> <3-174> <4-1> <5-15> <6-9> <7-25> <0-1> <1-43> <2-128> <3-174> <4-1> <5-15> <6-9> <7-25> <0-1> <1-44> <2-128> <3-174> <4-1> <5-15> <6-9> <7-25> <0-1> <1-45> <2-128> <3-174> <4-1> <5-15> <6-9> <7-25> <0-1> <1-46> <2-128> <3-174> <4-1> <5-15> <6-9> <7-25> <0-1> <1-47> <2-128> <3-174> <4-1> <5-15> <6-9> <7-25> <0-1> <1-48> <2-128> <3-174> <4-1> <5-19> <6-9> <7-25> <0-1> <1-49> <2-128> <3-174> <4-1> <5-19> <6-9> <7-25> <0-1> <1-50> <2-128> <3-174> <4-1> <5-19> <6-9> <7-25> <0-1> <1-51> <2-128> <3-174> <4-1> <5-19> <6-9> <7-25> <0-1> <1-52> <2-128> <3-174> <4-1> <5-19> <6-9> <7-25> <0-1> <1-53> <2-128> <3-174> <4-1> <5-19> <6-9> <7-25> <0-1> <1-54> <2-128> <3-174> <4-1> <5-19> <6-9> <7-25> <0-1> <1-55> <2-128> <3-174> <4-1> <5-19> <6-9> <7-25> <0-1> <1-56> <2-128> <3-174> <4-1> <5-19> <6-9> <7-25> <0-1> <1-57> <2-128> <3-174> <4-1> <5-19> <6-9> <7-25> <0-1> <1-58> <2-128> <3-174> <4-1> <5-19> <6-9> <7-25> <0-1> <1-59> <2-128> <3-174> <4-1> <5-19> <6-9> <7-25> <0-1> <1-60> <2-128> <3-174> <4-1> <5-19> <6-9> <7-25> <0-1> <1-61> <2-128> <3-174> <4-1> <5-19> <6-9> <7-25> <0-1> <1-62> <2-128> <3-174> <4-1> <5-19> <6-9> <7-25> <0-1> <1-63> <2-128> <3-174> <4-1> <5-19> <6-9> <7-25> <0-2> <1-0> <2-30> <3-44> <4-20> <5-23> <6-9> <7-25> <0-2> <1-0> <2-30> <3-44> <4-24> <5-23> <6-9> <7-25> <0-2> <1-0> <2-30> <3-51> <4-20> <5-23> <6-9> <7-25> <0-2> <1-0> <2-30> <3-51> <4-24> <5-23> <6-9> <7-25> <0-2> <1-0> <2-30> <3-56> <4-24> <5-23> <6-9> <7-25> <0-2> <1-0> <2-34> <3-32> <4-20> <5-23> <6-9> <7-25> <0-2> <1-0> <2-48> <3-44> <4-20> <5-7> <6-9> <7-25> <0-2> <1-0> <2-48> <3-44> <4-24> <5-7> <6-9> <7-25> <0-2> <1-0> <2-48> <3-51> <4-20> <5-7> <6-9> <7-25> <0-2> <1-0> <2-48> <3-51> <4-24> <5-7> <6-9> <7-25> <0-2> <1-0> <2-48> <3-56> <4-24> <5-7> <6-9> <7-25> <0-2> <1-0> <2-128> <3-164> <4-8> <5-31> <6-9> <7-25> <0-2> <1-0> <2-128> <3-177> <4-8> <5-23> <6-9> <7-25> <0-2> <1-8> <2-128> <3-174> <4-8> <5-11> <6-9> <7-25> <0-2> <1-16> <2-128> <3-166> <4-8> <5-23> <6-9> <7-25> <0-2> <1-16> <2-128> <3-174> <4-8> <5-23> <6-9> <7-25> <0-2> <1-24> <2-30> <3-44> <4-8> <5-23> <6-9> <7-25> <0-2> <1-24> <2-30> <3-51> <4-8> <5-23> <6-9> <7-25> <0-2> <1-24> <2-34> <3-32> <4-8> <5-23> <6-9> <7-25> <0-2> <1-24> <2-48> <3-44> <4-8> <5-7> <6-9> <7-25> <0-2> <1-24> <2-48> <3-51> <4-8> <5-7> <6-9> <7-25> <0-2> <1-24> <2-128> <3-174> <4-8> <5-11> <6-9> <7-25> <0-2> <1-32> <2-30> <3-44> <4-8> <5-23> <6-9> <7-25> <0-2> <1-32> <2-30> <3-47> <4-20> <5-23> <6-9> <7-25> <0-2> <1-32> <2-30> <3-51> <4-8> <5-23> <6-9> <7-25> <0-2> <1-32> <2-30> <3-54> <4-20> <5-23> <6-9> <7-25> <0-2> <1-32> <2-30> <3-56> <4-8> <5-23> <6-9> <7-25> <0-2> <1-32> <2-34> <3-35> <4-20> <5-23> <6-9> <7-25> <0-2> <1-32> <2-48> <3-44> <4-8> <5-7> <6-9> <7-25> <0-2> <1-32> <2-48> <3-47> <4-20> <5-7> <6-9> <7-25> <0-2> <1-32> <2-48> <3-51> <4-8> <5-7> <6-9> <7-25> <0-2> <1-32> <2-48> <3-54> <4-20> <5-7> <6-9> <7-25> <0-2> <1-32> <2-48> <3-56> <4-8> <5-7> <6-9> <7-25> <0-2> <1-32> <2-128> <3-164> <4-8> <5-31> <6-9> <7-25> <0-2> <1-32> <2-128> <3-174> <4-8> <5-23> <6-9> <7-25> <0-2> <1-40> <2-30> <3-46> <4-8> <5-23> <6-9> <7-25> <0-2> <1-40> <2-30> <3-53> <4-8> <5-23> <6-9> <7-25> <0-2> <1-40> <2-30> <3-58> <4-8> <5-23> <6-9> <7-25> <0-2> <1-40> <2-48> <3-46> <4-8> <5-7> <6-9> <7-25> <0-2> <1-40> <2-48> <3-53> <4-8> <5-7> <6-9> <7-25> <0-2> <1-40> <2-48> <3-58> <4-8> <5-7> <6-9> <7-25> <0-2> <1-40> <2-128> <3-174> <4-8> <5-11> <6-9> <7-25> <0-2> <1-48> <2-30> <3-47> <4-8> <5-23> <6-9> <7-25> <0-2> <1-48> <2-30> <3-54> <4-8> <5-23> <6-9> <7-25> <0-2> <1-48> <2-30> <3-59> <4-8> <5-23> <6-9> <7-25> <0-2> <1-48> <2-48> <3-47> <4-8> <5-7> <6-9> <7-25> <0-2> <1-48> <2-48> <3-54> <4-8> <5-7> <6-9> <7-25> <0-2> <1-48> <2-48> <3-59> <4-8> <5-7> <6-9> <7-25> <0-2> <1-48> <2-128> <3-166> <4-8> <5-23> <6-9> <7-25> <0-2> <1-48> <2-128> <3-174> <4-8> <5-23> <6-9> <7-25> <0-2> <1-56> <2-30> <3-47> <4-8> <5-23> <6-9> <7-25> <0-2> <1-56> <2-30> <3-49> <4-4> <5-23> <6-9> <7-25> <0-2> <1-56> <2-30> <3-54> <4-8> <5-23> <6-9> <7-25> <0-2> <1-56> <2-30> <3-56> <4-4> <5-23> <6-9> <7-25> <0-2> <1-56> <2-30> <3-61> <4-4> <5-23> <6-9> <7-25> <0-2> <1-56> <2-34> <3-35> <4-8> <5-23> <6-9> <7-25> <0-2> <1-56> <2-48> <3-47> <4-8> <5-7> <6-9> <7-25> <0-2> <1-56> <2-48> <3-49> <4-4> <5-7> <6-9> <7-25> <0-2> <1-56> <2-48> <3-54> <4-8> <5-7> <6-9> <7-25> <0-2> <1-56> <2-48> <3-56> <4-4> <5-7> <6-9> <7-25> <0-2> <1-56> <2-48> <3-61> <4-4> <5-7> <6-9> <7-25> <0-2> <1-56> <2-128> <3-174> <4-8> <5-11> <6-9> <7-25> <0-2> <1-60> <2-30> <3-47> <4-4> <5-23> <6-9> <7-25> <0-2> <1-60> <2-30> <3-54> <4-4> <5-23> <6-9> <7-25> <0-2> <1-60> <2-30> <3-59> <4-4> <5-23> <6-9> <7-25> <0-2> <1-60> <2-48> <3-47> <4-4> <5-7> <6-9> <7-25> <0-2> <1-60> <2-48> <3-54> <4-4> <5-7> <6-9> <7-25> <0-2> <1-60> <2-48> <3-59> <4-4> <5-7> <6-9> <7-25> <0-3> <1-0> <2-30> <3-42> <4-20> <5-23> <6-9> <7-25> <0-3> <1-0> <2-30> <3-49> <4-20> <5-23> <6-9> <7-25> <0-3> <1-0> <2-30> <3-49> <4-24> <5-23> <6-9> <7-25> <0-3> <1-0> <2-30> <3-56> <4-24> <5-23> <6-9> <7-25> <0-3> <1-0> <2-30> <3-61> <4-24> <5-23> <6-9> <7-25> <0-3> <1-0> <2-34> <3-30> <4-20> <5-23> <6-9> <7-25> <0-3> <1-0> <2-48> <3-42> <4-20> <5-7> <6-9> <7-25> <0-3> <1-0> <2-48> <3-49> <4-20> <5-7> <6-9> <7-25> <0-3> <1-0> <2-48> <3-49> <4-24> <5-7> <6-9> <7-25> <0-3> <1-0> <2-48> <3-56> <4-24> <5-7> <6-9> <7-25> <0-3> <1-0> <2-48> <3-61> <4-24> <5-7> <6-9> <7-25> <0-3> <1-0> <2-128> <3-164> <4-8> <5-31> <6-9> <7-25> <0-3> <1-0> <2-128> <3-174> <4-8> <5-23> <6-9> <7-25> <0-3> <1-8> <2-128> <3-174> <4-8> <5-11> <6-9> <7-25> <0-3> <1-16> <2-128> <3-166> <4-8> <5-23> <6-9> <7-25> <0-3> <1-16> <2-128> <3-174> <4-8> <5-23> <6-9> <7-25> <0-3> <1-24> <2-30> <3-42> <4-8> <5-23> <6-9> <7-25> <0-3> <1-24> <2-30> <3-49> <4-8> <5-23> <6-9> <7-25> <0-3> <1-24> <2-34> <3-30> <4-8> <5-23> <6-9> <7-25> <0-3> <1-24> <2-48> <3-42> <4-8> <5-7> <6-9> <7-25> <0-3> <1-24> <2-48> <3-49> <4-8> <5-7> <6-9> <7-25> <0-3> <1-24> <2-128> <3-174> <4-8> <5-11> <6-9> <7-25> <0-3> <1-32> <2-30> <3-39> <4-20> <5-23> <6-9> <7-25> <0-3> <1-32> <2-30> <3-46> <4-20> <5-23> <6-9> <7-25> <0-3> <1-32> <2-30> <3-51> <4-8> <5-23> <6-9> <7-25> <0-3> <1-32> <2-30> <3-58> <4-8> <5-23> <6-9> <7-25> <0-3> <1-32> <2-30> <3-63> <4-8> <5-23> <6-9> <7-25> <0-3> <1-32> <2-34> <3-27> <4-20> <5-23> <6-9> <7-25> <0-3> <1-32> <2-48> <3-39> <4-20> <5-7> <6-9> <7-25> <0-3> <1-32> <2-48> <3-46> <4-20> <5-7> <6-9> <7-25> <0-3> <1-32> <2-48> <3-51> <4-8> <5-7> <6-9> <7-25> <0-3> <1-32> <2-48> <3-58> <4-8> <5-7> <6-9> <7-25> <0-3> <1-32> <2-48> <3-63> <4-8> <5-7> <6-9> <7-25> <0-3> <1-32> <2-128> <3-164> <4-8> <5-31> <6-9> <7-25> <0-3> <1-32> <2-128> <3-174> <4-8> <5-23> <6-9> <7-25> <0-3> <1-40> <2-30> <3-49> <4-8> <5-23> <6-9> <7-25> <0-3> <1-40> <2-30> <3-56> <4-8> <5-23> <6-9> <7-25> <0-3> <1-40> <2-30> <3-61> <4-8> <5-23> <6-9> <7-25> <0-3> <1-40> <2-48> <3-49> <4-8> <5-7> <6-9> <7-25> <0-3> <1-40> <2-48> <3-56> <4-8> <5-7> <6-9> <7-25> <0-3> <1-40> <2-48> <3-61> <4-8> <5-7> <6-9> <7-25> <0-3> <1-40> <2-128> <3-174> <4-4> <5-11> <6-9> <7-25> <0-3> <1-44> <2-128> <3-164> <4-4> <5-31> <6-9> <7-25> <0-3> <1-48> <2-30> <3-47> <4-4> <5-23> <6-9> <7-25> <0-3> <1-48> <2-30> <3-54> <4-4> <5-23> <6-9> <7-25> <0-3> <1-48> <2-30> <3-59> <4-4> <5-23> <6-9> <7-25> <0-3> <1-48> <2-48> <3-47> <4-4> <5-7> <6-9> <7-25> <0-3> <1-48> <2-48> <3-54> <4-4> <5-7> <6-9> <7-25> <0-3> <1-48> <2-48> <3-59> <4-4> <5-7> <6-9> <7-25> <0-3> <1-48> <2-128> <3-166> <4-8> <5-23> <6-9> <7-25> <0-3> <1-48> <2-128> <3-174> <4-8> <5-23> <6-9> <7-25> <0-3> <1-52> <2-30> <3-49> <4-4> <5-23> <6-9> <7-25> <0-3> <1-52> <2-30> <3-56> <4-4> <5-23> <6-9> <7-25> <0-3> <1-52> <2-30> <3-61> <4-4> <5-23> <6-9> <7-25> <0-3> <1-52> <2-48> <3-49> <4-4> <5-7> <6-9> <7-25> <0-3> <1-52> <2-48> <3-56> <4-4> <5-7> <6-9> <7-25> <0-3> <1-52> <2-48> <3-61> <4-4> <5-7> <6-9> <7-25> <0-3> <1-56> <2-30> <3-39> <4-8> <5-23> <6-9> <7-25> <0-3> <1-56> <2-30> <3-46> <4-8> <5-23> <6-9> <7-25> <0-3> <1-56> <2-30> <3-47> <4-4> <5-23> <6-9> <7-25> <0-3> <1-56> <2-30> <3-54> <4-4> <5-23> <6-9> <7-25> <0-3> <1-56> <2-30> <3-59> <4-4> <5-23> <6-9> <7-25> <0-3> <1-56> <2-34> <3-27> <4-8> <5-23> <6-9> <7-25> <0-3> <1-56> <2-48> <3-39> <4-8> <5-7> <6-9> <7-25> <0-3> <1-56> <2-48> <3-46> <4-8> <5-7> <6-9> <7-25> <0-3> <1-56> <2-48> <3-47> <4-4> <5-7> <6-9> <7-25> <0-3> <1-56> <2-48> <3-54> <4-4> <5-7> <6-9> <7-25> <0-3> <1-56> <2-48> <3-59> <4-4> <5-7> <6-9> <7-25> <0-3> <1-56> <2-128> <3-164> <4-8> <5-31> <6-9> <7-25> <0-3> <1-56> <2-128> <3-174> <4-8> <5-11> <6-9> <7-25> <0-3> <1-60> <2-30> <3-47> <4-26> <5-23> <6-9> <7-25> <0-3> <1-60> <2-30> <3-54> <4-26> <5-23> <6-9> <7-25> <0-3> <1-60> <2-30> <3-59> <4-26> <5-23> <6-9> <7-25> <0-3> <1-60> <2-48> <3-47> <4-26> <5-7> <6-9> <7-25> <0-3> <1-60> <2-48> <3-54> <4-26> <5-7> <6-9> <7-25> <0-3> <1-60> <2-48> <3-59> <4-26> <5-7> <6-9> <7-25> <0-4> <1-0> <2-30> <3-44> <4-20> <5-23> <6-9> <7-25> <0-4> <1-0> <2-30> <3-51> <4-20> <5-23> <6-9> <7-25> <0-4> <1-0> <2-34> <3-32> <4-20> <5-23> <6-9> <7-25> <0-4> <1-0> <2-48> <3-44> <4-20> <5-7> <6-9> <7-25> <0-4> <1-0> <2-48> <3-51> <4-20> <5-7> <6-9> <7-25> <0-4> <1-0> <2-128> <3-164> <4-8> <5-31> <6-9> <7-25> <0-4> <1-0> <2-128> <3-174> <4-8> <5-23> <6-9> <7-25> <0-4> <1-8> <2-128> <3-174> <4-8> <5-11> <6-9> <7-25> <0-4> <1-16> <2-128> <3-166> <4-8> <5-23> <6-9> <7-25> <0-4> <1-16> <2-128> <3-174> <4-8> <5-23> <6-9> <7-25> <0-4> <1-24> <2-30> <3-44> <4-8> <5-23> <6-9> <7-25> <0-4> <1-24> <2-30> <3-51> <4-8> <5-23> <6-9> <7-25> <0-4> <1-24> <2-34> <3-32> <4-8> <5-23> <6-9> <7-25> <0-4> <1-24> <2-48> <3-44> <4-8> <5-7> <6-9> <7-25> <0-4> <1-24> <2-48> <3-51> <4-8> <5-7> <6-9> <7-25> <0-4> <1-24> <2-128> <3-174> <4-8> <5-11> <6-9> <7-25> <0-4> <1-32> <2-30> <3-44> <4-8> <5-23> <6-9> <7-25> <0-4> <1-32> <2-30> <3-47> <4-20> <5-23> <6-9> <7-25> <0-4> <1-32> <2-30> <3-51> <4-8> <5-23> <6-9> <7-25> <0-4> <1-32> <2-30> <3-54> <4-20> <5-23> <6-9> <7-25> <0-4> <1-32> <2-30> <3-56> <4-8> <5-23> <6-9> <7-25> <0-4> <1-32> <2-34> <3-35> <4-20> <5-23> <6-9> <7-25> <0-4> <1-32> <2-48> <3-44> <4-8> <5-7> <6-9> <7-25> <0-4> <1-32> <2-48> <3-47> <4-20> <5-7> <6-9> <7-25> <0-4> <1-32> <2-48> <3-51> <4-8> <5-7> <6-9> <7-25> <0-4> <1-32> <2-48> <3-54> <4-20> <5-7> <6-9> <7-25> <0-4> <1-32> <2-48> <3-56> <4-8> <5-7> <6-9> <7-25> <0-4> <1-32> <2-128> <3-164> <4-8> <5-31> <6-9> <7-25> <0-4> <1-32> <2-128> <3-174> <4-8> <5-23> <6-9> <7-25> <0-4> <1-40> <2-30> <3-46> <4-8> <5-23> <6-9> <7-25> <0-4> <1-40> <2-30> <3-53> <4-8> <5-23> <6-9> <7-25> <0-4> <1-40> <2-30> <3-58> <4-8> <5-23> <6-9> <7-25> <0-4> <1-40> <2-48> <3-46> <4-8> <5-7> <6-9> <7-25> <0-4> <1-40> <2-48> <3-53> <4-8> <5-7> <6-9> <7-25> <0-4> <1-40> <2-48> <3-58> <4-8> <5-7> <6-9> <7-25> <0-4> <1-40> <2-128> <3-174> <4-8> <5-11> <6-9> <7-25> <0-4> <1-48> <2-30> <3-47> <4-8> <5-23> <6-9> <7-25> <0-4> <1-48> <2-30> <3-54> <4-8> <5-23> <6-9> <7-25> <0-4> <1-48> <2-30> <3-59> <4-8> <5-23> <6-9> <7-25> <0-4> <1-48> <2-48> <3-47> <4-8> <5-7> <6-9> <7-25> <0-4> <1-48> <2-48> <3-54> <4-8> <5-7> <6-9> <7-25> <0-4> <1-48> <2-48> <3-59> <4-8> <5-7> <6-9> <7-25> <0-4> <1-48> <2-128> <3-166> <4-8> <5-23> <6-9> <7-25> <0-4> <1-48> <2-128> <3-174> <4-8> <5-23> <6-9> <7-25> <0-4> <1-56> <2-30> <3-47> <4-8> <5-23> <6-9> <7-25> <0-4> <1-56> <2-30> <3-49> <4-4> <5-23> <6-9> <7-25> <0-4> <1-56> <2-30> <3-54> <4-8> <5-23> <6-9> <7-25> <0-4> <1-56> <2-30> <3-56> <4-4> <5-23> <6-9> <7-25> <0-4> <1-56> <2-30> <3-61> <4-4> <5-23> <6-9> <7-25> <0-4> <1-56> <2-34> <3-35> <4-8> <5-23> <6-9> <7-25> <0-4> <1-56> <2-48> <3-47> <4-8> <5-7> <6-9> <7-25> <0-4> <1-56> <2-48> <3-49> <4-4> <5-7> <6-9> <7-25> <0-4> <1-56> <2-48> <3-54> <4-8> <5-7> <6-9> <7-25> <0-4> <1-56> <2-48> <3-56> <4-4> <5-7> <6-9> <7-25> <0-4> <1-56> <2-48> <3-61> <4-4> <5-7> <6-9> <7-25> <0-4> <1-56> <2-128> <3-174> <4-8> <5-11> <6-9> <7-25> <0-4> <1-60> <2-30> <3-47> <4-4> <5-23> <6-9> <7-25> <0-4> <1-60> <2-30> <3-54> <4-4> <5-23> <6-9> <7-25> <0-4> <1-60> <2-30> <3-59> <4-4> <5-23> <6-9> <7-25> <0-4> <1-60> <2-48> <3-47> <4-4> <5-7> <6-9> <7-25> <0-4> <1-60> <2-48> <3-54> <4-4> <5-7> <6-9> <7-25> <0-4> <1-60> <2-48> <3-59> <4-4> <5-7> <6-9> <7-25> <0-5> <1-0> <2-30> <3-42> <4-20> <5-23> <6-9> <7-25> <0-5> <1-0> <2-30> <3-49> <4-20> <5-23> <6-9> <7-25> <0-5> <1-0> <2-30> <3-49> <4-24> <5-23> <6-9> <7-25> <0-5> <1-0> <2-30> <3-56> <4-24> <5-23> <6-9> <7-25> <0-5> <1-0> <2-30> <3-61> <4-24> <5-23> <6-9> <7-25> <0-5> <1-0> <2-34> <3-30> <4-20> <5-23> <6-9> <7-25> <0-5> <1-0> <2-48> <3-42> <4-20> <5-7> <6-9> <7-25> <0-5> <1-0> <2-48> <3-49> <4-20> <5-7> <6-9> <7-25> <0-5> <1-0> <2-48> <3-49> <4-24> <5-7> <6-9> <7-25> <0-5> <1-0> <2-48> <3-56> <4-24> <5-7> <6-9> <7-25> <0-5> <1-0> <2-48> <3-61> <4-24> <5-7> <6-9> <7-25> <0-5> <1-0> <2-128> <3-164> <4-8> <5-31> <6-9> <7-25> <0-5> <1-0> <2-128> <3-174> <4-8> <5-23> <6-9> <7-25> <0-5> <1-8> <2-128> <3-174> <4-8> <5-11> <6-9> <7-25> <0-5> <1-16> <2-128> <3-166> <4-8> <5-23> <6-9> <7-25> <0-5> <1-16> <2-128> <3-174> <4-8> <5-23> <6-9> <7-25> <0-5> <1-24> <2-30> <3-42> <4-8> <5-23> <6-9> <7-25> <0-5> <1-24> <2-30> <3-49> <4-8> <5-23> <6-9> <7-25> <0-5> <1-24> <2-34> <3-30> <4-8> <5-23> <6-9> <7-25> <0-5> <1-24> <2-48> <3-42> <4-8> <5-7> <6-9> <7-25> <0-5> <1-24> <2-48> <3-49> <4-8> <5-7> <6-9> <7-25> <0-5> <1-24> <2-128> <3-174> <4-8> <5-11> <6-9> <7-25> <0-5> <1-32> <2-30> <3-39> <4-20> <5-23> <6-9> <7-25> <0-5> <1-32> <2-30> <3-46> <4-20> <5-23> <6-9> <7-25> <0-5> <1-32> <2-30> <3-49> <4-12> <5-23> <6-9> <7-25> <0-5> <1-32> <2-30> <3-56> <4-12> <5-23> <6-9> <7-25> <0-5> <1-32> <2-30> <3-61> <4-12> <5-23> <6-9> <7-25> <0-5> <1-32> <2-34> <3-27> <4-20> <5-23> <6-9> <7-25> <0-5> <1-32> <2-48> <3-39> <4-20> <5-7> <6-9> <7-25> <0-5> <1-32> <2-48> <3-46> <4-20> <5-7> <6-9> <7-25> <0-5> <1-32> <2-48> <3-49> <4-12> <5-7> <6-9> <7-25> <0-5> <1-32> <2-48> <3-56> <4-12> <5-7> <6-9> <7-25> <0-5> <1-32> <2-48> <3-61> <4-12> <5-7> <6-9> <7-25> <0-5> <1-32> <2-128> <3-164> <4-8> <5-31> <6-9> <7-25> <0-5> <1-32> <2-128> <3-174> <4-8> <5-23> <6-9> <7-25> <0-5> <1-40> <2-128> <3-174> <4-4> <5-11> <6-9> <7-25> <0-5> <1-44> <2-30> <3-44> <4-4> <5-23> <6-9> <7-25> <0-5> <1-44> <2-30> <3-51> <4-4> <5-23> <6-9> <7-25> <0-5> <1-44> <2-30> <3-56> <4-4> <5-23> <6-9> <7-25> <0-5> <1-44> <2-48> <3-44> <4-4> <5-7> <6-9> <7-25> <0-5> <1-44> <2-48> <3-51> <4-4> <5-7> <6-9> <7-25> <0-5> <1-44> <2-48> <3-56> <4-4> <5-7> <6-9> <7-25> <0-5> <1-44> <2-128> <3-164> <4-4> <5-31> <6-9> <7-25> <0-5> <1-48> <2-30> <3-44> <4-4> <5-23> <6-9> <7-25> <0-5> <1-48> <2-30> <3-51> <4-4> <5-23> <6-9> <7-25> <0-5> <1-48> <2-30> <3-56> <4-4> <5-23> <6-9> <7-25> <0-5> <1-48> <2-48> <3-44> <4-4> <5-7> <6-9> <7-25> <0-5> <1-48> <2-48> <3-51> <4-4> <5-7> <6-9> <7-25> <0-5> <1-48> <2-48> <3-56> <4-4> <5-7> <6-9> <7-25> <0-5> <1-48> <2-128> <3-166> <4-8> <5-23> <6-9> <7-25> <0-5> <1-48> <2-128> <3-174> <4-8> <5-23> <6-9> <7-25> <0-5> <1-52> <2-30> <3-46> <4-4> <5-23> <6-9> <7-25> <0-5> <1-52> <2-30> <3-53> <4-4> <5-23> <6-9> <7-25> <0-5> <1-52> <2-30> <3-58> <4-4> <5-23> <6-9> <7-25> <0-5> <1-52> <2-48> <3-46> <4-4> <5-7> <6-9> <7-25> <0-5> <1-52> <2-48> <3-53> <4-4> <5-7> <6-9> <7-25> <0-5> <1-52> <2-48> <3-58> <4-4> <5-7> <6-9> <7-25> <0-5> <1-56> <2-30> <3-39> <4-8> <5-23> <6-9> <7-25> <0-5> <1-56> <2-30> <3-44> <4-8> <5-23> <6-9> <7-25> <0-5> <1-56> <2-30> <3-46> <4-8> <5-23> <6-9> <7-25> <0-5> <1-56> <2-30> <3-51> <4-8> <5-23> <6-9> <7-25> <0-5> <1-56> <2-30> <3-56> <4-8> <5-23> <6-9> <7-25> <0-5> <1-56> <2-34> <3-27> <4-8> <5-23> <6-9> <7-25> <0-5> <1-56> <2-48> <3-39> <4-8> <5-7> <6-9> <7-25> <0-5> <1-56> <2-48> <3-44> <4-8> <5-7> <6-9> <7-25> <0-5> <1-56> <2-48> <3-46> <4-8> <5-7> <6-9> <7-25> <0-5> <1-56> <2-48> <3-51> <4-8> <5-7> <6-9> <7-25> <0-5> <1-56> <2-48> <3-56> <4-8> <5-7> <6-9> <7-25> <0-5> <1-56> <2-128> <3-164> <4-8> <5-31> <6-9> <7-25> <0-5> <1-56> <2-128> <3-174> <4-8> <5-15> <6-9> <7-25> <0-5> <1-56> <2-128> <3-177> <4-8> <5-15> <6-9> <7-25> <0-6> <1-0> <2-26> <3-44> <4-12> <5-27> <6-9> <7-25> <0-6> <1-0> <2-48> <3-44> <4-12> <5-7> <6-9> <7-25> <0-6> <1-0> <2-128> <3-164> <4-16> <5-31> <6-9> <7-25> <0-6> <1-0> <2-128> <3-174> <4-16> <5-19> <6-9> <7-25> <0-6> <1-0> <2-128> <3-177> <4-16> <5-19> <6-9> <7-25> <0-6> <1-12> <2-26> <3-51> <4-4> <5-23> <6-9> <7-25> <0-6> <1-12> <2-48> <3-51> <4-4> <5-7> <6-9> <7-25> <0-6> <1-16> <2-26> <3-63> <4-4> <5-27> <6-9> <7-25> <0-6> <1-16> <2-48> <3-63> <4-4> <5-7> <6-9> <7-25> <0-6> <1-16> <2-128> <3-172> <4-16> <5-23> <6-9> <7-25> <0-6> <1-20> <2-26> <3-59> <4-4> <5-23> <6-9> <7-25> <0-6> <1-20> <2-48> <3-59> <4-4> <5-7> <6-9> <7-25> <0-6> <1-24> <2-26> <3-44> <4-4> <5-23> <6-9> <7-25> <0-6> <1-24> <2-48> <3-44> <4-4> <5-7> <6-9> <7-25> <0-6> <1-28> <2-26> <3-46> <4-4> <5-23> <6-9> <7-25> <0-6> <1-28> <2-48> <3-46> <4-4> <5-7> <6-9> <7-25> <0-6> <1-32> <2-26> <3-47> <4-8> <5-23> <6-9> <7-25> <0-6> <1-32> <2-48> <3-47> <4-8> <5-7> <6-9> <7-25> <0-6> <1-40> <2-26> <3-51> <4-4> <5-23> <6-9> <7-25> <0-6> <1-40> <2-48> <3-51> <4-4> <5-7> <6-9> <7-25> <0-6> <1-44> <2-26> <3-54> <4-4> <5-23> <6-9> <7-25> <0-6> <1-44> <2-48> <3-54> <4-4> <5-7> <6-9> <7-25> <0-6> <1-48> <2-26> <3-61> <4-8> <5-23> <6-9> <7-25> <0-6> <1-48> <2-48> <3-61> <4-8> <5-7> <6-9> <7-25> <0-6> <1-48> <2-128> <3-172> <4-16> <5-23> <6-9> <7-25> <0-6> <1-56> <2-26> <3-66> <4-8> <5-23> <6-9> <7-25> <0-6> <1-56> <2-48> <3-66> <4-8> <5-7> <6-9> <7-25> <0-7> <1-0> <2-26> <3-61> <4-12> <5-27> <6-9> <7-25> <0-7> <1-0> <2-26> <3-66> <4-12> <5-23> <6-9> <7-25> <0-7> <1-0> <2-48> <3-61> <4-12> <5-7> <6-9> <7-25> <0-7> <1-0> <2-48> <3-66> <4-12> <5-7> <6-9> <7-25> <0-7> <1-12> <2-26> <3-42> <4-4> <5-27> <6-9> <7-25> <0-7> <1-12> <2-48> <3-42> <4-4> <5-7> <6-9> <7-25> <0-7> <1-16> <2-26> <3-66> <4-4> <5-23> <6-9> <7-25> <0-7> <1-16> <2-48> <3-66> <4-4> <5-7> <6-9> <7-25> <0-7> <1-16> <2-128> <3-172> <4-16> <5-23> <6-9> <7-25> <0-7> <1-20> <2-26> <3-61> <4-8> <5-19> <6-9> <7-25> <0-7> <1-20> <2-48> <3-61> <4-8> <5-7> <6-9> <7-25> <0-7> <1-28> <2-26> <3-39> <4-4> <5-27> <6-9> <7-25> <0-7> <1-28> <2-48> <3-39> <4-4> <5-7> <6-9> <7-25> <0-7> <1-32> <2-26> <3-58> <4-8> <5-23> <6-9> <7-25> <0-7> <1-32> <2-48> <3-58> <4-8> <5-7> <6-9> <7-25> <0-7> <1-40> <2-26> <3-54> <4-4> <5-23> <6-9> <7-25> <0-7> <1-40> <2-48> <3-54> <4-4> <5-7> <6-9> <7-25> <0-7> <1-44> <2-26> <3-51> <4-4> <5-27> <6-9> <7-25> <0-7> <1-44> <2-48> <3-51> <4-4> <5-7> <6-9> <7-25> <0-7> <1-48> <2-26> <3-56> <4-4> <5-23> <6-9> <7-25> <0-7> <1-48> <2-26> <3-59> <4-4> <5-23> <6-9> <7-25> <0-7> <1-48> <2-48> <3-56> <4-4> <5-7> <6-9> <7-25> <0-7> <1-48> <2-48> <3-59> <4-4> <5-7> <6-9> <7-25> <0-7> <1-48> <2-128> <3-172> <4-16> <5-23> <6-9> <7-25> <0-7> <1-52> <2-26> <3-58> <4-4> <5-23> <6-9> <7-25> <0-7> <1-52> <2-26> <3-61> <4-4> <5-23> <6-9> <7-25> <0-7> <1-52> <2-48> <3-58> <4-4> <5-7> <6-9> <7-25> <0-7> <1-52> <2-48> <3-61> <4-4> <5-7> <6-9> <7-25> <0-7> <1-56> <2-26> <3-56> <4-4> <5-23> <6-9> <7-25> <0-7> <1-56> <2-26> <3-59> <4-4> <5-23> <6-9> <7-25> <0-7> <1-56> <2-48> <3-56> <4-4> <5-7> <6-9> <7-25> <0-7> <1-56> <2-48> <3-59> <4-4> <5-7> <6-9> <7-25> <0-7> <1-60> <2-26> <3-54> <4-4> <5-17> <6-9> <7-25> <0-7> <1-60> <2-26> <3-56> <4-4> <5-23> <6-9> <7-25> <0-7> <1-60> <2-26> <3-58> <4-4> <5-17> <6-9> <7-25> <0-7> <1-60> <2-26> <3-63> <4-4> <5-23> <6-9> <7-25> <0-7> <1-60> <2-48> <3-54> <4-4> <5-3> <6-9> <7-25> <0-7> <1-60> <2-48> <3-56> <4-4> <5-7> <6-9> <7-25> <0-7> <1-60> <2-48> <3-58> <4-4> <5-3> <6-9> <7-25> <0-7> <1-60> <2-48> <3-63> <4-4> <5-7> <6-9> <7-25> <0-8> <1-0> <2-26> <3-44> <4-12> <5-27> <6-9> <7-25> <0-8> <1-0> <2-26> <3-59> <4-20> <5-23> <6-9> <7-25> <0-8> <1-0> <2-26> <3-68> <4-20> <5-23> <6-9> <7-25> <0-8> <1-0> <2-48> <3-44> <4-12> <5-7> <6-9> <7-25> <0-8> <1-0> <2-48> <3-59> <4-20> <5-7> <6-9> <7-25> <0-8> <1-0> <2-48> <3-68> <4-20> <5-7> <6-9> <7-25> <0-8> <1-12> <2-26> <3-51> <4-4> <5-23> <6-9> <7-25> <0-8> <1-12> <2-48> <3-51> <4-4> <5-7> <6-9> <7-25> <0-8> <1-16> <2-26> <3-63> <4-4> <5-27> <6-9> <7-25> <0-8> <1-16> <2-48> <3-63> <4-4> <5-7> <6-9> <7-25> <0-8> <1-16> <2-128> <3-172> <4-16> <5-23> <6-9> <7-25> <0-8> <1-20> <2-26> <3-59> <4-4> <5-23> <6-9> <7-25> <0-8> <1-20> <2-48> <3-59> <4-4> <5-7> <6-9> <7-25> <0-8> <1-24> <2-26> <3-44> <4-4> <5-23> <6-9> <7-25> <0-8> <1-24> <2-26> <3-59> <4-4> <5-23> <6-9> <7-25> <0-8> <1-24> <2-26> <3-68> <4-4> <5-23> <6-9> <7-25> <0-8> <1-24> <2-48> <3-44> <4-4> <5-7> <6-9> <7-25> <0-8> <1-24> <2-48> <3-59> <4-4> <5-7> <6-9> <7-25> <0-8> <1-24> <2-48> <3-68> <4-4> <5-7> <6-9> <7-25> <0-8> <1-28> <2-26> <3-46> <4-4> <5-23> <6-9> <7-25> <0-8> <1-28> <2-26> <3-61> <4-4> <5-23> <6-9> <7-25> <0-8> <1-28> <2-26> <3-70> <4-4> <5-23> <6-9> <7-25> <0-8> <1-28> <2-48> <3-46> <4-4> <5-7> <6-9> <7-25> <0-8> <1-28> <2-48> <3-61> <4-4> <5-7> <6-9> <7-25> <0-8> <1-28> <2-48> <3-70> <4-4> <5-7> <6-9> <7-25> <0-8> <1-32> <2-26> <3-47> <4-8> <5-23> <6-9> <7-25> <0-8> <1-32> <2-26> <3-63> <4-20> <5-23> <6-9> <7-25> <0-8> <1-32> <2-26> <3-71> <4-20> <5-23> <6-9> <7-25> <0-8> <1-32> <2-48> <3-47> <4-8> <5-7> <6-9> <7-25> <0-8> <1-32> <2-48> <3-63> <4-20> <5-7> <6-9> <7-25> <0-8> <1-32> <2-48> <3-71> <4-20> <5-7> <6-9> <7-25> <0-8> <1-40> <2-26> <3-51> <4-4> <5-23> <6-9> <7-25> <0-8> <1-40> <2-48> <3-51> <4-4> <5-7> <6-9> <7-25> <0-8> <1-44> <2-26> <3-54> <4-4> <5-23> <6-9> <7-25> <0-8> <1-44> <2-48> <3-54> <4-4> <5-7> <6-9> <7-25> <0-8> <1-48> <2-26> <3-61> <4-8> <5-23> <6-9> <7-25> <0-8> <1-48> <2-48> <3-61> <4-8> <5-7> <6-9> <7-25> <0-8> <1-48> <2-128> <3-172> <4-16> <5-23> <6-9> <7-25> <0-8> <1-56> <2-26> <3-61> <4-24> <5-23> <6-9> <7-25> <0-8> <1-56> <2-26> <3-66> <4-8> <5-23> <6-9> <7-25> <0-8> <1-56> <2-26> <3-70> <4-24> <5-23> <6-9> <7-25> <0-8> <1-56> <2-48> <3-61> <4-24> <5-7> <6-9> <7-25> <0-8> <1-56> <2-48> <3-66> <4-8> <5-7> <6-9> <7-25> <0-8> <1-56> <2-48> <3-70> <4-24> <5-7> <6-9> <7-25> <0-9> <1-0> <2-26> <3-61> <4-12> <5-27> <6-9> <7-25> <0-9> <1-0> <2-26> <3-66> <4-12> <5-23> <6-9> <7-25> <0-9> <1-0> <2-48> <3-61> <4-12> <5-7> <6-9> <7-25> <0-9> <1-0> <2-48> <3-66> <4-12> <5-7> <6-9> <7-25> <0-9> <1-12> <2-26> <3-42> <4-4> <5-27> <6-9> <7-25> <0-9> <1-12> <2-48> <3-42> <4-4> <5-7> <6-9> <7-25> <0-9> <1-16> <2-26> <3-66> <4-4> <5-23> <6-9> <7-25> <0-9> <1-16> <2-48> <3-66> <4-4> <5-7> <6-9> <7-25> <0-9> <1-16> <2-128> <3-172> <4-16> <5-23> <6-9> <7-25> <0-9> <1-20> <2-26> <3-61> <4-8> <5-19> <6-9> <7-25> <0-9> <1-20> <2-48> <3-61> <4-8> <5-7> <6-9> <7-25> <0-9> <1-24> <2-26> <3-61> <4-8> <5-23> <6-9> <7-25> <0-9> <1-24> <2-26> <3-70> <4-8> <5-23> <6-9> <7-25> <0-9> <1-24> <2-48> <3-61> <4-8> <5-7> <6-9> <7-25> <0-9> <1-24> <2-48> <3-70> <4-8> <5-7> <6-9> <7-25> <0-9> <1-28> <2-26> <3-39> <4-4> <5-27> <6-9> <7-25> <0-9> <1-28> <2-48> <3-39> <4-4> <5-7> <6-9> <7-25> <0-9> <1-32> <2-26> <3-58> <4-8> <5-23> <6-9> <7-25> <0-9> <1-32> <2-26> <3-58> <4-20> <5-23> <6-9> <7-25> <0-9> <1-32> <2-26> <3-67> <4-20> <5-23> <6-9> <7-25> <0-9> <1-32> <2-48> <3-58> <4-8> <5-7> <6-9> <7-25> <0-9> <1-32> <2-48> <3-58> <4-20> <5-7> <6-9> <7-25> <0-9> <1-32> <2-48> <3-67> <4-20> <5-7> <6-9> <7-25> <0-9> <1-40> <2-26> <3-54> <4-4> <5-23> <6-9> <7-25> <0-9> <1-40> <2-48> <3-54> <4-4> <5-7> <6-9> <7-25> <0-9> <1-44> <2-26> <3-51> <4-4> <5-27> <6-9> <7-25> <0-9> <1-44> <2-48> <3-51> <4-4> <5-7> <6-9> <7-25> <0-9> <1-48> <2-26> <3-56> <4-1> <5-23> <6-9> <7-25> <0-9> <1-48> <2-26> <3-59> <4-1> <5-23> <6-9> <7-25> <0-9> <1-48> <2-48> <3-56> <4-1> <5-7> <6-9> <7-25> <0-9> <1-48> <2-48> <3-59> <4-1> <5-7> <6-9> <7-25> <0-9> <1-48> <2-128> <3-172> <4-16> <5-23> <6-9> <7-25> <0-9> <1-49> <2-26> <3-58> <4-7> <5-23> <6-9> <7-25> <0-9> <1-49> <2-26> <3-61> <4-7> <5-23> <6-9> <7-25> <0-9> <1-49> <2-48> <3-58> <4-7> <5-7> <6-9> <7-25> <0-9> <1-49> <2-48> <3-61> <4-7> <5-7> <6-9> <7-25> <0-9> <1-56> <2-26> <3-56> <4-8> <5-23> <6-9> <7-25> <0-9> <1-56> <2-26> <3-58> <4-8> <5-23> <6-9> <7-25> <0-9> <1-56> <2-26> <3-59> <4-8> <5-23> <6-9> <7-25> <0-9> <1-56> <2-26> <3-67> <4-8> <5-23> <6-9> <7-25> <0-9> <1-56> <2-48> <3-56> <4-8> <5-7> <6-9> <7-25> <0-9> <1-56> <2-48> <3-58> <4-8> <5-7> <6-9> <7-25> <0-9> <1-56> <2-48> <3-59> <4-8> <5-7> <6-9> <7-25> <0-9> <1-56> <2-48> <3-67> <4-8> <5-7> <6-9> <7-25> <0-10> <1-0> <2-26> <3-44> <4-12> <5-27> <6-9> <7-25> <0-10> <1-0> <2-26> <3-59> <4-36> <5-23> <6-9> <7-25> <0-10> <1-0> <2-26> <3-68> <4-36> <5-23> <6-9> <7-25> <0-10> <1-0> <2-34> <3-32> <4-20> <5-23> <6-9> <7-25> <0-10> <1-0> <2-48> <3-44> <4-12> <5-7> <6-9> <7-25> <0-10> <1-0> <2-48> <3-59> <4-36> <5-7> <6-9> <7-25> <0-10> <1-0> <2-48> <3-68> <4-36> <5-7> <6-9> <7-25> <0-10> <1-0> <2-128> <3-164> <4-8> <5-31> <6-9> <7-25> <0-10> <1-0> <2-128> <3-177> <4-8> <5-23> <6-9> <7-25> <0-10> <1-8> <2-128> <3-174> <4-8> <5-11> <6-9> <7-25> <0-10> <1-12> <2-26> <3-51> <4-4> <5-23> <6-9> <7-25> <0-10> <1-12> <2-48> <3-51> <4-4> <5-7> <6-9> <7-25> <0-10> <1-16> <2-26> <3-63> <4-4> <5-27> <6-9> <7-25> <0-10> <1-16> <2-48> <3-63> <4-4> <5-7> <6-9> <7-25> <0-10> <1-16> <2-128> <3-166> <4-8> <5-23> <6-9> <7-25> <0-10> <1-16> <2-128> <3-174> <4-8> <5-23> <6-9> <7-25> <0-10> <1-20> <2-26> <3-59> <4-4> <5-23> <6-9> <7-25> <0-10> <1-20> <2-48> <3-59> <4-4> <5-7> <6-9> <7-25> <0-10> <1-24> <2-26> <3-44> <4-4> <5-23> <6-9> <7-25> <0-10> <1-24> <2-34> <3-32> <4-4> <5-27> <6-9> <7-25> <0-10> <1-24> <2-48> <3-44> <4-4> <5-7> <6-9> <7-25> <0-10> <1-24> <2-128> <3-174> <4-8> <5-11> <6-9> <7-25> <0-10> <1-28> <2-26> <3-46> <4-4> <5-23> <6-9> <7-25> <0-10> <1-28> <2-34> <3-34> <4-4> <5-23> <6-9> <7-25> <0-10> <1-28> <2-48> <3-46> <4-4> <5-7> <6-9> <7-25> <0-10> <1-32> <2-26> <3-47> <4-8> <5-23> <6-9> <7-25> <0-10> <1-32> <2-34> <3-35> <4-20> <5-23> <6-9> <7-25> <0-10> <1-32> <2-48> <3-47> <4-8> <5-7> <6-9> <7-25> <0-10> <1-32> <2-128> <3-174> <4-8> <5-23> <6-9> <7-25> <0-10> <1-40> <2-26> <3-51> <4-4> <5-23> <6-9> <7-25> <0-10> <1-40> <2-48> <3-51> <4-4> <5-7> <6-9> <7-25> <0-10> <1-40> <2-128> <3-164> <4-8> <5-31> <6-9> <7-25> <0-10> <1-40> <2-128> <3-174> <4-8> <5-11> <6-9> <7-25> <0-10> <1-44> <2-26> <3-54> <4-4> <5-23> <6-9> <7-25> <0-10> <1-44> <2-48> <3-54> <4-4> <5-7> <6-9> <7-25> <0-10> <1-48> <2-26> <3-61> <4-8> <5-23> <6-9> <7-25> <0-10> <1-48> <2-48> <3-61> <4-8> <5-7> <6-9> <7-25> <0-10> <1-48> <2-128> <3-166> <4-8> <5-23> <6-9> <7-25> <0-10> <1-48> <2-128> <3-174> <4-8> <5-23> <6-9> <7-25> <0-10> <1-56> <2-26> <3-66> <4-8> <5-23> <6-9> <7-25> <0-10> <1-56> <2-34> <3-35> <4-8> <5-23> <6-9> <7-25> <0-10> <1-56> <2-48> <3-66> <4-8> <5-7> <6-9> <7-25> <0-10> <1-56> <2-128> <3-164> <4-8> <5-31> <6-9> <7-25> <0-10> <1-56> <2-128> <3-174> <4-8> <5-11> <6-9> <7-25> <0-11> <1-0> <2-26> <3-61> <4-12> <5-27> <6-9> <7-25> <0-11> <1-0> <2-26> <3-66> <4-12> <5-23> <6-9> <7-25> <0-11> <1-0> <2-34> <3-30> <4-20> <5-23> <6-9> <7-25> <0-11> <1-0> <2-48> <3-61> <4-12> <5-7> <6-9> <7-25> <0-11> <1-0> <2-48> <3-66> <4-12> <5-7> <6-9> <7-25> <0-11> <1-0> <2-128> <3-164> <4-8> <5-31> <6-9> <7-25> <0-11> <1-0> <2-128> <3-174> <4-8> <5-23> <6-9> <7-25> <0-11> <1-8> <2-128> <3-174> <4-8> <5-11> <6-9> <7-25> <0-11> <1-12> <2-26> <3-42> <4-4> <5-27> <6-9> <7-25> <0-11> <1-12> <2-48> <3-42> <4-4> <5-7> <6-9> <7-25> <0-11> <1-16> <2-26> <3-66> <4-4> <5-23> <6-9> <7-25> <0-11> <1-16> <2-48> <3-66> <4-4> <5-7> <6-9> <7-25> <0-11> <1-16> <2-128> <3-166> <4-8> <5-23> <6-9> <7-25> <0-11> <1-16> <2-128> <3-174> <4-8> <5-23> <6-9> <7-25> <0-11> <1-20> <2-26> <3-61> <4-8> <5-19> <6-9> <7-25> <0-11> <1-20> <2-48> <3-61> <4-8> <5-7> <6-9> <7-25> <0-11> <1-24> <2-34> <3-30> <4-8> <5-23> <6-9> <7-25> <0-11> <1-24> <2-128> <3-174> <4-8> <5-11> <6-9> <7-25> <0-11> <1-28> <2-26> <3-39> <4-4> <5-27> <6-9> <7-25> <0-11> <1-28> <2-48> <3-39> <4-4> <5-7> <6-9> <7-25> <0-11> <1-32> <2-26> <3-58> <4-8> <5-23> <6-9> <7-25> <0-11> <1-32> <2-34> <3-27> <4-20> <5-23> <6-9> <7-25> <0-11> <1-32> <2-48> <3-58> <4-8> <5-7> <6-9> <7-25> <0-11> <1-32> <2-128> <3-164> <4-8> <5-31> <6-9> <7-25> <0-11> <1-32> <2-128> <3-174> <4-8> <5-23> <6-9> <7-25> <0-11> <1-40> <2-26> <3-54> <4-4> <5-23> <6-9> <7-25> <0-11> <1-40> <2-48> <3-54> <4-4> <5-7> <6-9> <7-25> <0-11> <1-40> <2-128> <3-174> <4-4> <5-11> <6-9> <7-25> <0-11> <1-44> <2-26> <3-51> <4-4> <5-27> <6-9> <7-25> <0-11> <1-44> <2-48> <3-51> <4-4> <5-7> <6-9> <7-25> <0-11> <1-44> <2-128> <3-164> <4-4> <5-31> <6-9> <7-25> <0-11> <1-48> <2-26> <3-56> <4-4> <5-23> <6-9> <7-25> <0-11> <1-48> <2-26> <3-59> <4-4> <5-23> <6-9> <7-25> <0-11> <1-48> <2-48> <3-56> <4-4> <5-7> <6-9> <7-25> <0-11> <1-48> <2-48> <3-59> <4-4> <5-7> <6-9> <7-25> <0-11> <1-48> <2-128> <3-166> <4-8> <5-23> <6-9> <7-25> <0-11> <1-48> <2-128> <3-174> <4-8> <5-23> <6-9> <7-25> <0-11> <1-52> <2-26> <3-58> <4-4> <5-23> <6-9> <7-25> <0-11> <1-52> <2-26> <3-61> <4-4> <5-23> <6-9> <7-25> <0-11> <1-52> <2-48> <3-58> <4-4> <5-7> <6-9> <7-25> <0-11> <1-52> <2-48> <3-61> <4-4> <5-7> <6-9> <7-25> <0-11> <1-56> <2-26> <3-56> <4-4> <5-23> <6-9> <7-25> <0-11> <1-56> <2-26> <3-59> <4-4> <5-23> <6-9> <7-25> <0-11> <1-56> <2-34> <3-27> <4-8> <5-23> <6-9> <7-25> <0-11> <1-56> <2-48> <3-56> <4-4> <5-7> <6-9> <7-25> <0-11> <1-56> <2-48> <3-59> <4-4> <5-7> <6-9> <7-25> <0-11> <1-56> <2-128> <3-164> <4-8> <5-31> <6-9> <7-25> <0-11> <1-56> <2-128> <3-174> <4-8> <5-19> <6-9> <7-25> <0-11> <1-60> <2-26> <3-54> <4-4> <5-17> <6-9> <7-25> <0-11> <1-60> <2-26> <3-58> <4-4> <5-17> <6-9> <7-25> <0-11> <1-60> <2-48> <3-54> <4-4> <5-3> <6-9> <7-25> <0-11> <1-60> <2-48> <3-58> <4-4> <5-3> <6-9> <7-25> <0-12> <1-0> <2-26> <3-44> <4-12> <5-27> <6-9> <7-25> <0-12> <1-0> <2-34> <3-32> <4-20> <5-23> <6-9> <7-25> <0-12> <1-0> <2-48> <3-44> <4-12> <5-7> <6-9> <7-25> <0-12> <1-0> <2-128> <3-164> <4-8> <5-31> <6-9> <7-25> <0-12> <1-0> <2-128> <3-174> <4-8> <5-23> <6-9> <7-25> <0-12> <1-8> <2-128> <3-174> <4-8> <5-11> <6-9> <7-25> <0-12> <1-12> <2-26> <3-51> <4-4> <5-23> <6-9> <7-25> <0-12> <1-12> <2-48> <3-51> <4-4> <5-7> <6-9> <7-25> <0-12> <1-16> <2-26> <3-63> <4-4> <5-27> <6-9> <7-25> <0-12> <1-16> <2-48> <3-63> <4-4> <5-7> <6-9> <7-25> <0-12> <1-16> <2-128> <3-166> <4-8> <5-23> <6-9> <7-25> <0-12> <1-16> <2-128> <3-174> <4-8> <5-23> <6-9> <7-25> <0-12> <1-20> <2-26> <3-59> <4-4> <5-23> <6-9> <7-25> <0-12> <1-20> <2-48> <3-59> <4-4> <5-7> <6-9> <7-25> <0-12> <1-24> <2-26> <3-44> <4-4> <5-23> <6-9> <7-25> <0-12> <1-24> <2-34> <3-32> <4-4> <5-27> <6-9> <7-25> <0-12> <1-24> <2-48> <3-44> <4-4> <5-7> <6-9> <7-25> <0-12> <1-24> <2-128> <3-174> <4-8> <5-11> <6-9> <7-25> <0-12> <1-28> <2-26> <3-46> <4-4> <5-23> <6-9> <7-25> <0-12> <1-28> <2-34> <3-34> <4-4> <5-23> <6-9> <7-25> <0-12> <1-28> <2-48> <3-46> <4-4> <5-7> <6-9> <7-25> <0-12> <1-32> <2-26> <3-47> <4-8> <5-23> <6-9> <7-25> <0-12> <1-32> <2-34> <3-35> <4-20> <5-23> <6-9> <7-25> <0-12> <1-32> <2-48> <3-47> <4-8> <5-7> <6-9> <7-25> <0-12> <1-32> <2-128> <3-174> <4-8> <5-23> <6-9> <7-25> <0-12> <1-40> <2-26> <3-51> <4-4> <5-23> <6-9> <7-25> <0-12> <1-40> <2-48> <3-51> <4-4> <5-7> <6-9> <7-25> <0-12> <1-40> <2-128> <3-164> <4-8> <5-31> <6-9> <7-25> <0-12> <1-40> <2-128> <3-174> <4-8> <5-11> <6-9> <7-25> <0-12> <1-44> <2-26> <3-54> <4-4> <5-23> <6-9> <7-25> <0-12> <1-44> <2-48> <3-54> <4-4> <5-7> <6-9> <7-25> <0-12> <1-48> <2-26> <3-61> <4-8> <5-23> <6-9> <7-25> <0-12> <1-48> <2-48> <3-61> <4-8> <5-7> <6-9> <7-25> <0-12> <1-48> <2-128> <3-166> <4-8> <5-23> <6-9> <7-25> <0-12> <1-48> <2-128> <3-174> <4-8> <5-23> <6-9> <7-25> <0-12> <1-56> <2-26> <3-66> <4-8> <5-23> <6-9> <7-25> <0-12> <1-56> <2-34> <3-35> <4-8> <5-23> <6-9> <7-25> <0-12> <1-56> <2-48> <3-66> <4-8> <5-7> <6-9> <7-25> <0-12> <1-56> <2-128> <3-164> <4-8> <5-31> <6-9> <7-25> <0-12> <1-56> <2-128> <3-174> <4-8> <5-11> <6-9> <7-25> <0-13> <1-0> <2-26> <3-61> <4-12> <5-27> <6-9> <7-25> <0-13> <1-0> <2-26> <3-66> <4-12> <5-23> <6-9> <7-25> <0-13> <1-0> <2-34> <3-30> <4-20> <5-23> <6-9> <7-25> <0-13> <1-0> <2-48> <3-61> <4-12> <5-7> <6-9> <7-25> <0-13> <1-0> <2-48> <3-66> <4-12> <5-7> <6-9> <7-25> <0-13> <1-0> <2-128> <3-164> <4-8> <5-31> <6-9> <7-25> <0-13> <1-0> <2-128> <3-174> <4-8> <5-23> <6-9> <7-25> <0-13> <1-8> <2-128> <3-174> <4-8> <5-11> <6-9> <7-25> <0-13> <1-12> <2-26> <3-42> <4-4> <5-27> <6-9> <7-25> <0-13> <1-12> <2-48> <3-42> <4-4> <5-7> <6-9> <7-25> <0-13> <1-16> <2-26> <3-66> <4-4> <5-23> <6-9> <7-25> <0-13> <1-16> <2-48> <3-66> <4-4> <5-7> <6-9> <7-25> <0-13> <1-16> <2-128> <3-166> <4-8> <5-23> <6-9> <7-25> <0-13> <1-16> <2-128> <3-174> <4-8> <5-23> <6-9> <7-25> <0-13> <1-20> <2-26> <3-61> <4-8> <5-19> <6-9> <7-25> <0-13> <1-20> <2-48> <3-61> <4-8> <5-7> <6-9> <7-25> <0-13> <1-24> <2-34> <3-30> <4-8> <5-23> <6-9> <7-25> <0-13> <1-24> <2-128> <3-174> <4-8> <5-11> <6-9> <7-25> <0-13> <1-28> <2-26> <3-39> <4-4> <5-27> <6-9> <7-25> <0-13> <1-28> <2-48> <3-39> <4-4> <5-7> <6-9> <7-25> <0-13> <1-32> <2-26> <3-58> <4-8> <5-23> <6-9> <7-25> <0-13> <1-32> <2-34> <3-27> <4-20> <5-23> <6-9> <7-25> <0-13> <1-32> <2-48> <3-58> <4-8> <5-7> <6-9> <7-25> <0-13> <1-32> <2-128> <3-164> <4-8> <5-31> <6-9> <7-25> <0-13> <1-32> <2-128> <3-174> <4-8> <5-23> <6-9> <7-25> <0-13> <1-40> <2-26> <3-54> <4-4> <5-23> <6-9> <7-25> <0-13> <1-40> <2-48> <3-54> <4-4> <5-7> <6-9> <7-25> <0-13> <1-40> <2-128> <3-174> <4-4> <5-11> <6-9> <7-25> <0-13> <1-44> <2-26> <3-51> <4-4> <5-27> <6-9> <7-25> <0-13> <1-44> <2-48> <3-51> <4-4> <5-7> <6-9> <7-25> <0-13> <1-44> <2-128> <3-164> <4-4> <5-31> <6-9> <7-25> <0-13> <1-48> <2-26> <3-56> <4-1> <5-23> <6-9> <7-25> <0-13> <1-48> <2-26> <3-59> <4-1> <5-23> <6-9> <7-25> <0-13> <1-48> <2-48> <3-56> <4-1> <5-7> <6-9> <7-25> <0-13> <1-48> <2-48> <3-59> <4-1> <5-7> <6-9> <7-25> <0-13> <1-48> <2-128> <3-166> <4-8> <5-23> <6-9> <7-25> <0-13> <1-48> <2-128> <3-174> <4-8> <5-23> <6-9> <7-25> <0-13> <1-49> <2-26> <3-58> <4-7> <5-23> <6-9> <7-25> <0-13> <1-49> <2-26> <3-61> <4-7> <5-23> <6-9> <7-25> <0-13> <1-49> <2-48> <3-58> <4-7> <5-7> <6-9> <7-25> <0-13> <1-49> <2-48> <3-61> <4-7> <5-7> <6-9> <7-25> <0-13> <1-56> <2-26> <3-56> <4-8> <5-23> <6-9> <7-25> <0-13> <1-56> <2-26> <3-59> <4-8> <5-23> <6-9> <7-25> <0-13> <1-56> <2-34> <3-27> <4-8> <5-23> <6-9> <7-25> <0-13> <1-56> <2-48> <3-56> <4-8> <5-7> <6-9> <7-25> <0-13> <1-56> <2-48> <3-59> <4-8> <5-7> <6-9> <7-25> <0-13> <1-56> <2-128> <3-164> <4-8> <5-31> <6-9> <7-25> <0-13> <1-56> <2-128> <3-174> <4-8> <5-19> <6-9> <7-25> <0-14> <1-0> <2-26> <3-44> <4-12> <5-27> <6-9> <7-25> <0-14> <1-0> <2-34> <3-32> <4-20> <5-23> <6-9> <7-25> <0-14> <1-0> <2-48> <3-44> <4-12> <5-7> <6-9> <7-25> <0-14> <1-0> <2-128> <3-164> <4-8> <5-31> <6-9> <7-25> <0-14> <1-0> <2-128> <3-174> <4-8> <5-23> <6-9> <7-25> <0-14> <1-8> <2-128> <3-174> <4-8> <5-11> <6-9> <7-25> <0-14> <1-12> <2-26> <3-51> <4-4> <5-23> <6-9> <7-25> <0-14> <1-12> <2-48> <3-51> <4-4> <5-7> <6-9> <7-25> <0-14> <1-16> <2-26> <3-63> <4-4> <5-27> <6-9> <7-25> <0-14> <1-16> <2-48> <3-63> <4-4> <5-7> <6-9> <7-25> <0-14> <1-16> <2-128> <3-166> <4-8> <5-23> <6-9> <7-25> <0-14> <1-16> <2-128> <3-174> <4-8> <5-23> <6-9> <7-25> <0-14> <1-20> <2-26> <3-59> <4-4> <5-23> <6-9> <7-25> <0-14> <1-20> <2-48> <3-59> <4-4> <5-7> <6-9> <7-25> <0-14> <1-24> <2-26> <3-44> <4-4> <5-23> <6-9> <7-25> <0-14> <1-24> <2-34> <3-32> <4-4> <5-27> <6-9> <7-25> <0-14> <1-24> <2-48> <3-44> <4-4> <5-7> <6-9> <7-25> <0-14> <1-24> <2-128> <3-174> <4-8> <5-11> <6-9> <7-25> <0-14> <1-28> <2-26> <3-46> <4-4> <5-23> <6-9> <7-25> <0-14> <1-28> <2-34> <3-34> <4-4> <5-23> <6-9> <7-25> <0-14> <1-28> <2-48> <3-46> <4-4> <5-7> <6-9> <7-25> <0-14> <1-32> <2-26> <3-47> <4-8> <5-23> <6-9> <7-25> <0-14> <1-32> <2-34> <3-35> <4-20> <5-23> <6-9> <7-25> <0-14> <1-32> <2-48> <3-47> <4-8> <5-7> <6-9> <7-25> <0-14> <1-32> <2-128> <3-174> <4-8> <5-23> <6-9> <7-25> <0-14> <1-40> <2-26> <3-51> <4-4> <5-23> <6-9> <7-25> <0-14> <1-40> <2-48> <3-51> <4-4> <5-7> <6-9> <7-25> <0-14> <1-40> <2-128> <3-164> <4-8> <5-31> <6-9> <7-25> <0-14> <1-40> <2-128> <3-174> <4-8> <5-11> <6-9> <7-25> <0-14> <1-44> <2-26> <3-54> <4-4> <5-23> <6-9> <7-25> <0-14> <1-44> <2-48> <3-54> <4-4> <5-7> <6-9> <7-25> <0-14> <1-48> <2-26> <3-61> <4-8> <5-23> <6-9> <7-25> <0-14> <1-48> <2-48> <3-61> <4-8> <5-7> <6-9> <7-25> <0-14> <1-48> <2-128> <3-166> <4-8> <5-23> <6-9> <7-25> <0-14> <1-48> <2-128> <3-174> <4-8> <5-23> <6-9> <7-25> <0-14> <1-56> <2-26> <3-66> <4-8> <5-23> <6-9> <7-25> <0-14> <1-56> <2-34> <3-35> <4-8> <5-23> <6-9> <7-25> <0-14> <1-56> <2-48> <3-66> <4-8> <5-7> <6-9> <7-25> <0-14> <1-56> <2-128> <3-164> <4-8> <5-31> <6-9> <7-25> <0-14> <1-56> <2-128> <3-174> <4-8> <5-11> <6-9> <7-25> <0-15> <1-0> <2-26> <3-61> <4-12> <5-27> <6-9> <7-25> <0-15> <1-0> <2-26> <3-66> <4-12> <5-23> <6-9> <7-25> <0-15> <1-0> <2-34> <3-30> <4-20> <5-23> <6-9> <7-25> <0-15> <1-0> <2-48> <3-61> <4-12> <5-7> <6-9> <7-25> <0-15> <1-0> <2-48> <3-66> <4-12> <5-7> <6-9> <7-25> <0-15> <1-0> <2-128> <3-164> <4-8> <5-31> <6-9> <7-25> <0-15> <1-0> <2-128> <3-174> <4-8> <5-23> <6-9> <7-25> <0-15> <1-8> <2-128> <3-174> <4-8> <5-11> <6-9> <7-25> <0-15> <1-12> <2-26> <3-42> <4-4> <5-27> <6-9> <7-25> <0-15> <1-12> <2-48> <3-42> <4-4> <5-7> <6-9> <7-25> <0-15> <1-16> <2-26> <3-66> <4-4> <5-23> <6-9> <7-25> <0-15> <1-16> <2-48> <3-66> <4-4> <5-7> <6-9> <7-25> <0-15> <1-16> <2-128> <3-166> <4-8> <5-23> <6-9> <7-25> <0-15> <1-16> <2-128> <3-174> <4-8> <5-23> <6-9> <7-25> <0-15> <1-20> <2-26> <3-61> <4-8> <5-19> <6-9> <7-25> <0-15> <1-20> <2-48> <3-61> <4-8> <5-7> <6-9> <7-25> <0-15> <1-24> <2-34> <3-30> <4-8> <5-23> <6-9> <7-25> <0-15> <1-24> <2-128> <3-174> <4-8> <5-11> <6-9> <7-25> <0-15> <1-28> <2-26> <3-39> <4-4> <5-27> <6-9> <7-25> <0-15> <1-28> <2-48> <3-39> <4-4> <5-7> <6-9> <7-25> <0-15> <1-32> <2-26> <3-58> <4-8> <5-23> <6-9> <7-25> <0-15> <1-32> <2-34> <3-27> <4-20> <5-23> <6-9> <7-25> <0-15> <1-32> <2-48> <3-58> <4-8> <5-7> <6-9> <7-25> <0-15> <1-32> <2-128> <3-164> <4-8> <5-31> <6-9> <7-25> <0-15> <1-32> <2-128> <3-174> <4-8> <5-23> <6-9> <7-25> <0-15> <1-40> <2-26> <3-54> <4-4> <5-23> <6-9> <7-25> <0-15> <1-40> <2-48> <3-54> <4-4> <5-7> <6-9> <7-25> <0-15> <1-40> <2-128> <3-174> <4-4> <5-11> <6-9> <7-25> <0-15> <1-44> <2-26> <3-51> <4-4> <5-27> <6-9> <7-25> <0-15> <1-44> <2-48> <3-51> <4-4> <5-7> <6-9> <7-25> <0-15> <1-44> <2-128> <3-164> <4-4> <5-31> <6-9> <7-25> <0-15> <1-48> <2-26> <3-56> <4-4> <5-23> <6-9> <7-25> <0-15> <1-48> <2-26> <3-59> <4-4> <5-23> <6-9> <7-25> <0-15> <1-48> <2-48> <3-56> <4-4> <5-7> <6-9> <7-25> <0-15> <1-48> <2-48> <3-59> <4-4> <5-7> <6-9> <7-25> <0-15> <1-48> <2-128> <3-166> <4-8> <5-23> <6-9> <7-25> <0-15> <1-48> <2-128> <3-174> <4-8> <5-23> <6-9> <7-25> <0-15> <1-52> <2-26> <3-58> <4-4> <5-23> <6-9> <7-25> <0-15> <1-52> <2-26> <3-61> <4-4> <5-23> <6-9> <7-25> <0-15> <1-52> <2-48> <3-58> <4-4> <5-7> <6-9> <7-25> <0-15> <1-52> <2-48> <3-61> <4-4> <5-7> <6-9> <7-25> <0-15> <1-56> <2-26> <3-56> <4-4> <5-23> <6-9> <7-25> <0-15> <1-56> <2-26> <3-59> <4-4> <5-23> <6-9> <7-25> <0-15> <1-56> <2-34> <3-27> <4-8> <5-23> <6-9> <7-25> <0-15> <1-56> <2-48> <3-56> <4-4> <5-7> <6-9> <7-25> <0-15> <1-56> <2-48> <3-59> <4-4> <5-7> <6-9> <7-25> <0-15> <1-56> <2-128> <3-164> <4-8> <5-31> <6-9> <7-25> <0-15> <1-56> <2-128> <3-174> <4-8> <5-19> <6-9> <7-25> <0-15> <1-60> <2-26> <3-54> <4-4> <5-17> <6-9> <7-25> <0-15> <1-60> <2-26> <3-58> <4-4> <5-17> <6-9> <7-25> <0-15> <1-60> <2-48> <3-54> <4-4> <5-3> <6-9> <7-25> <0-15> <1-60> <2-48> <3-58> <4-4> <5-3> <6-9> <7-25> <0-16> <1-0> <2-26> <3-44> <4-12> <5-27> <6-9> <7-25> <0-16> <1-0> <2-34> <3-32> <4-20> <5-23> <6-9> <7-25> <0-16> <1-0> <2-48> <3-44> <4-12> <5-7> <6-9> <7-25> <0-16> <1-0> <2-128> <3-164> <4-8> <5-31> <6-9> <7-25> <0-16> <1-0> <2-128> <3-174> <4-8> <5-23> <6-9> <7-25> <0-16> <1-8> <2-128> <3-174> <4-8> <5-11> <6-9> <7-25> <0-16> <1-12> <2-26> <3-51> <4-4> <5-23> <6-9> <7-25> <0-16> <1-12> <2-48> <3-51> <4-4> <5-7> <6-9> <7-25> <0-16> <1-16> <2-26> <3-63> <4-4> <5-27> <6-9> <7-25> <0-16> <1-16> <2-48> <3-63> <4-4> <5-7> <6-9> <7-25> <0-16> <1-16> <2-128> <3-166> <4-8> <5-23> <6-9> <7-25> <0-16> <1-16> <2-128> <3-174> <4-8> <5-23> <6-9> <7-25> <0-16> <1-20> <2-26> <3-59> <4-4> <5-23> <6-9> <7-25> <0-16> <1-20> <2-48> <3-59> <4-4> <5-7> <6-9> <7-25> <0-16> <1-24> <2-26> <3-44> <4-4> <5-23> <6-9> <7-25> <0-16> <1-24> <2-34> <3-32> <4-4> <5-27> <6-9> <7-25> <0-16> <1-24> <2-48> <3-44> <4-4> <5-7> <6-9> <7-25> <0-16> <1-24> <2-128> <3-174> <4-8> <5-11> <6-9> <7-25> <0-16> <1-28> <2-26> <3-46> <4-4> <5-23> <6-9> <7-25> <0-16> <1-28> <2-34> <3-34> <4-4> <5-23> <6-9> <7-25> <0-16> <1-28> <2-48> <3-46> <4-4> <5-7> <6-9> <7-25> <0-16> <1-32> <2-26> <3-47> <4-8> <5-23> <6-9> <7-25> <0-16> <1-32> <2-34> <3-35> <4-20> <5-23> <6-9> <7-25> <0-16> <1-32> <2-48> <3-47> <4-8> <5-7> <6-9> <7-25> <0-16> <1-32> <2-128> <3-174> <4-8> <5-23> <6-9> <7-25> <0-16> <1-40> <2-26> <3-51> <4-4> <5-23> <6-9> <7-25> <0-16> <1-40> <2-48> <3-51> <4-4> <5-7> <6-9> <7-25> <0-16> <1-40> <2-128> <3-164> <4-8> <5-31> <6-9> <7-25> <0-16> <1-40> <2-128> <3-174> <4-8> <5-11> <6-9> <7-25> <0-16> <1-44> <2-26> <3-54> <4-4> <5-23> <6-9> <7-25> <0-16> <1-44> <2-48> <3-54> <4-4> <5-7> <6-9> <7-25> <0-16> <1-48> <2-26> <3-61> <4-8> <5-23> <6-9> <7-25> <0-16> <1-48> <2-48> <3-61> <4-8> <5-7> <6-9> <7-25> <0-16> <1-48> <2-128> <3-166> <4-8> <5-23> <6-9> <7-25> <0-16> <1-48> <2-128> <3-174> <4-8> <5-23> <6-9> <7-25> <0-16> <1-56> <2-26> <3-66> <4-8> <5-23> <6-9> <7-25> <0-16> <1-56> <2-34> <3-35> <4-8> <5-23> <6-9> <7-25> <0-16> <1-56> <2-48> <3-66> <4-8> <5-7> <6-9> <7-25> <0-16> <1-56> <2-128> <3-164> <4-8> <5-31> <6-9> <7-25> <0-16> <1-56> <2-128> <3-174> <4-8> <5-11> <6-9> <7-25> <0-17> <1-0> <2-26> <3-61> <4-12> <5-27> <6-9> <7-25> <0-17> <1-0> <2-26> <3-66> <4-12> <5-23> <6-9> <7-25> <0-17> <1-0> <2-34> <3-30> <4-20> <5-23> <6-9> <7-25> <0-17> <1-0> <2-48> <3-61> <4-12> <5-7> <6-9> <7-25> <0-17> <1-0> <2-48> <3-66> <4-12> <5-7> <6-9> <7-25> <0-17> <1-0> <2-128> <3-164> <4-8> <5-31> <6-9> <7-25> <0-17> <1-0> <2-128> <3-174> <4-8> <5-23> <6-9> <7-25> <0-17> <1-8> <2-128> <3-174> <4-8> <5-11> <6-9> <7-25> <0-17> <1-12> <2-26> <3-42> <4-4> <5-27> <6-9> <7-25> <0-17> <1-12> <2-48> <3-42> <4-4> <5-7> <6-9> <7-25> <0-17> <1-16> <2-26> <3-66> <4-4> <5-23> <6-9> <7-25> <0-17> <1-16> <2-48> <3-66> <4-4> <5-7> <6-9> <7-25> <0-17> <1-16> <2-128> <3-166> <4-8> <5-23> <6-9> <7-25> <0-17> <1-16> <2-128> <3-174> <4-8> <5-23> <6-9> <7-25> <0-17> <1-20> <2-26> <3-61> <4-8> <5-19> <6-9> <7-25> <0-17> <1-20> <2-48> <3-61> <4-8> <5-7> <6-9> <7-25> <0-17> <1-24> <2-34> <3-30> <4-8> <5-23> <6-9> <7-25> <0-17> <1-24> <2-128> <3-166> <4-8> <5-23> <6-9> <7-25> <0-17> <1-24> <2-128> <3-174> <4-8> <5-23> <6-9> <7-25> <0-17> <1-28> <2-26> <3-39> <4-4> <5-27> <6-9> <7-25> <0-17> <1-28> <2-48> <3-39> <4-4> <5-7> <6-9> <7-25> <0-17> <1-32> <2-26> <3-58> <4-8> <5-23> <6-9> <7-25> <0-17> <1-32> <2-34> <3-27> <4-20> <5-23> <6-9> <7-25> <0-17> <1-32> <2-48> <3-58> <4-8> <5-7> <6-9> <7-25> <0-17> <1-32> <2-128> <3-164> <4-8> <5-31> <6-9> <7-25> <0-17> <1-32> <2-128> <3-174> <4-8> <5-23> <6-9> <7-25> <0-17> <1-40> <2-26> <3-54> <4-4> <5-23> <6-9> <7-25> <0-17> <1-40> <2-48> <3-54> <4-4> <5-7> <6-9> <7-25> <0-17> <1-40> <2-128> <3-166> <4-8> <5-23> <6-9> <7-25> <0-17> <1-40> <2-128> <3-174> <4-8> <5-23> <6-9> <7-25> <0-17> <1-44> <2-26> <3-51> <4-4> <5-27> <6-9> <7-25> <0-17> <1-44> <2-48> <3-51> <4-4> <5-7> <6-9> <7-25> <0-17> <1-48> <2-26> <3-56> <4-1> <5-23> <6-9> <7-25> <0-17> <1-48> <2-26> <3-59> <4-1> <5-23> <6-9> <7-25> <0-17> <1-48> <2-48> <3-56> <4-1> <5-7> <6-9> <7-25> <0-17> <1-48> <2-48> <3-59> <4-1> <5-7> <6-9> <7-25> <0-17> <1-48> <2-128> <3-166> <4-8> <5-23> <6-9> <7-25> <0-17> <1-48> <2-128> <3-174> <4-8> <5-23> <6-9> <7-25> <0-17> <1-49> <2-26> <3-58> <4-7> <5-23> <6-9> <7-25> <0-17> <1-49> <2-26> <3-61> <4-7> <5-23> <6-9> <7-25> <0-17> <1-49> <2-48> <3-58> <4-7> <5-7> <6-9> <7-25> <0-17> <1-49> <2-48> <3-61> <4-7> <5-7> <6-9> <7-25> <0-17> <1-56> <2-26> <3-56> <4-8> <5-23> <6-9> <7-25> <0-17> <1-56> <2-26> <3-59> <4-8> <5-23> <6-9> <7-25> <0-17> <1-56> <2-34> <3-27> <4-8> <5-23> <6-9> <7-25> <0-17> <1-56> <2-48> <3-56> <4-8> <5-7> <6-9> <7-25> <0-17> <1-56> <2-48> <3-59> <4-8> <5-7> <6-9> <7-25> <0-17> <1-56> <2-128> <3-175> <4-4> <5-23> <6-9> <7-25> <0-17> <1-60> <2-128> <3-176> <4-4> <5-23> <6-9> <7-25> <0-18> <1-0> <2-26> <3-44> <4-4> <5-19> <6-9> <7-25> <0-18> <1-0> <2-26> <3-51> <4-4> <5-19> <6-9> <7-25> <0-18> <1-0> <2-26> <3-56> <4-4> <5-19> <6-9> <7-25> <0-18> <1-0> <2-26> <3-58> <4-4> <5-19> <6-9> <7-25> <0-18> <1-0> <2-26> <3-63> <4-4> <5-19> <6-9> <7-25> <0-18> <1-0> <2-30> <3-44> <4-24> <5-23> <6-9> <7-25> <0-18> <1-0> <2-30> <3-51> <4-24> <5-23> <6-9> <7-25> <0-18> <1-0> <2-30> <3-56> <4-24> <5-23> <6-9> <7-25> <0-18> <1-0> <2-34> <3-32> <4-20> <5-23> <6-9> <7-25> <0-18> <1-0> <2-48> <3-44> <4-4> <5-7> <6-9> <7-25> <0-18> <1-0> <2-48> <3-44> <4-24> <5-7> <6-9> <7-25> <0-18> <1-0> <2-48> <3-51> <4-4> <5-7> <6-9> <7-25> <0-18> <1-0> <2-48> <3-51> <4-24> <5-7> <6-9> <7-25> <0-18> <1-0> <2-48> <3-56> <4-4> <5-7> <6-9> <7-25> <0-18> <1-0> <2-48> <3-56> <4-24> <5-7> <6-9> <7-25> <0-18> <1-0> <2-48> <3-58> <4-4> <5-7> <6-9> <7-25> <0-18> <1-0> <2-48> <3-63> <4-4> <5-7> <6-9> <7-25> <0-18> <1-0> <2-128> <3-164> <4-8> <5-31> <6-9> <7-25> <0-18> <1-0> <2-128> <3-177> <4-8> <5-23> <6-9> <7-25> <0-18> <1-4> <2-26> <3-59> <4-8> <5-13> <6-9> <7-25> <0-18> <1-4> <2-48> <3-59> <4-8> <5-3> <6-9> <7-25> <0-18> <1-8> <2-128> <3-174> <4-8> <5-11> <6-9> <7-25> <0-18> <1-12> <2-26> <3-44> <4-4> <5-19> <6-9> <7-25> <0-18> <1-12> <2-26> <3-51> <4-4> <5-19> <6-9> <7-25> <0-18> <1-12> <2-26> <3-56> <4-4> <5-19> <6-9> <7-25> <0-18> <1-12> <2-26> <3-59> <4-4> <5-19> <6-9> <7-25> <0-18> <1-12> <2-26> <3-63> <4-4> <5-19> <6-9> <7-25> <0-18> <1-12> <2-48> <3-44> <4-4> <5-7> <6-9> <7-25> <0-18> <1-12> <2-48> <3-51> <4-4> <5-7> <6-9> <7-25> <0-18> <1-12> <2-48> <3-56> <4-4> <5-7> <6-9> <7-25> <0-18> <1-12> <2-48> <3-59> <4-4> <5-7> <6-9> <7-25> <0-18> <1-12> <2-48> <3-63> <4-4> <5-7> <6-9> <7-25> <0-18> <1-16> <2-26> <3-44> <4-4> <5-19> <6-9> <7-25> <0-18> <1-16> <2-26> <3-51> <4-4> <5-19> <6-9> <7-25> <0-18> <1-16> <2-26> <3-56> <4-4> <5-19> <6-9> <7-25> <0-18> <1-16> <2-26> <3-59> <4-4> <5-19> <6-9> <7-25> <0-18> <1-16> <2-26> <3-63> <4-4> <5-19> <6-9> <7-25> <0-18> <1-16> <2-48> <3-44> <4-4> <5-7> <6-9> <7-25> <0-18> <1-16> <2-48> <3-51> <4-4> <5-7> <6-9> <7-25> <0-18> <1-16> <2-48> <3-56> <4-4> <5-7> <6-9> <7-25> <0-18> <1-16> <2-48> <3-59> <4-4> <5-7> <6-9> <7-25> <0-18> <1-16> <2-48> <3-63> <4-4> <5-7> <6-9> <7-25> <0-18> <1-16> <2-128> <3-166> <4-8> <5-23> <6-9> <7-25> <0-18> <1-16> <2-128> <3-174> <4-8> <5-23> <6-9> <7-25> <0-18> <1-20> <2-26> <3-44> <4-4> <5-19> <6-9> <7-25> <0-18> <1-20> <2-26> <3-51> <4-4> <5-19> <6-9> <7-25> <0-18> <1-20> <2-26> <3-56> <4-4> <5-19> <6-9> <7-25> <0-18> <1-20> <2-26> <3-59> <4-4> <5-19> <6-9> <7-25> <0-18> <1-20> <2-26> <3-63> <4-4> <5-19> <6-9> <7-25> <0-18> <1-20> <2-48> <3-44> <4-4> <5-7> <6-9> <7-25> <0-18> <1-20> <2-48> <3-51> <4-4> <5-7> <6-9> <7-25> <0-18> <1-20> <2-48> <3-56> <4-4> <5-7> <6-9> <7-25> <0-18> <1-20> <2-48> <3-59> <4-4> <5-7> <6-9> <7-25> <0-18> <1-20> <2-48> <3-63> <4-4> <5-7> <6-9> <7-25> <0-18> <1-24> <2-26> <3-44> <4-4> <5-19> <6-9> <7-25> <0-18> <1-24> <2-26> <3-51> <4-4> <5-19> <6-9> <7-25> <0-18> <1-24> <2-26> <3-56> <4-4> <5-19> <6-9> <7-25> <0-18> <1-24> <2-26> <3-59> <4-4> <5-19> <6-9> <7-25> <0-18> <1-24> <2-26> <3-63> <4-4> <5-19> <6-9> <7-25> <0-18> <1-24> <2-34> <3-32> <4-8> <5-23> <6-9> <7-25> <0-18> <1-24> <2-48> <3-44> <4-4> <5-7> <6-9> <7-25> <0-18> <1-24> <2-48> <3-51> <4-4> <5-7> <6-9> <7-25> <0-18> <1-24> <2-48> <3-56> <4-4> <5-7> <6-9> <7-25> <0-18> <1-24> <2-48> <3-59> <4-4> <5-7> <6-9> <7-25> <0-18> <1-24> <2-48> <3-63> <4-4> <5-7> <6-9> <7-25> <0-18> <1-24> <2-128> <3-174> <4-8> <5-11> <6-9> <7-25> <0-18> <1-28> <2-26> <3-44> <4-4> <5-19> <6-9> <7-25> <0-18> <1-28> <2-26> <3-51> <4-4> <5-19> <6-9> <7-25> <0-18> <1-28> <2-26> <3-56> <4-4> <5-19> <6-9> <7-25> <0-18> <1-28> <2-26> <3-59> <4-4> <5-19> <6-9> <7-25> <0-18> <1-28> <2-26> <3-63> <4-4> <5-19> <6-9> <7-25> <0-18> <1-28> <2-48> <3-44> <4-4> <5-7> <6-9> <7-25> <0-18> <1-28> <2-48> <3-51> <4-4> <5-7> <6-9> <7-25> </s> </s> </s> </s> </s> </s> </s> </s>\n"
     ]
    }
   ],
   "source": [
    "print(octuple_midi_str_sample)\n",
    "print(octuple_midi_tokenized_sample)\n",
    "print(octuple_midi_str_sample_again)"
   ]
  },
  {
   "cell_type": "code",
   "execution_count": null,
   "metadata": {
    "colab": {
     "base_uri": "https://localhost:8080/",
     "height": 151
    },
    "id": "8tecxTVQ4U99",
    "outputId": "cc58a6ee-5cab-4070-8f5c-584a4cd8ee14"
   },
   "outputs": [
    {
     "name": "stdout",
     "output_type": "stream",
     "text": [
      "> Finalised input to model due to 1000 notes memory constraints: Unforgiven2\n"
     ]
    },
    {
     "data": {
      "text/html": [
       "\n",
       "                <div id='midiPlayerDiv3242413'></div>\n",
       "                <link rel=\"stylesheet\" href=\"//cuthbertLab.github.io/music21j/css/m21.css\"\n",
       "                    type=\"text/css\" />\n",
       "                \n",
       "                    <script src=\"//cuthbertLab.github.io/music21j/ext/require/require.js\"\n",
       "                    ></script>\n",
       "                \n",
       "                <script>\n",
       "                require.config({\n",
       "                    paths: {'music21': '//cuthbertLab.github.io/music21j/src/music21'}\n",
       "                });\n",
       "                require(['music21'], function() {\n",
       "                               mp = new music21.miditools.MidiPlayer();\n",
       "                               mp.addPlayer('#midiPlayerDiv3242413');\n",
       "                               mp.base64Load('data:audio/midi;base64,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');\n",
       "                        });\n",
       "                </script>"
      ],
      "text/plain": [
       "<IPython.core.display.HTML object>"
      ]
     },
     "metadata": {},
     "output_type": "display_data"
    }
   ],
   "source": [
    "#@markdown Run cell to visualise the final input to the model\n",
    "encoding_to_MIDI(str_to_encoding(octuple_midi_str_sample)).dump(f'/content/musicbert_cache/{midi_name}_inp.mid')\n",
    "print(f\"> Finalised input to model due to 1000 notes memory constraints: {midi_name}\")\n",
    "playMidi(sample_midi_path)"
   ]
  },
  {
   "cell_type": "markdown",
   "metadata": {
    "id": "sObQLH1nmi_t"
   },
   "source": [
    "### Mask prediction"
   ]
  },
  {
   "cell_type": "markdown",
   "metadata": {
    "id": "Sjj0kE2riZmI"
   },
   "source": [
    "#### Choosing masking parameters"
   ]
  },
  {
   "cell_type": "markdown",
   "metadata": {
    "id": "1EDnsiq-TjJ-"
   },
   "source": [
    "A list of mapping of `program ID` to instruments is available at: https://jazz-soft.net/demo/GeneralMidi.html"
   ]
  },
  {
   "cell_type": "code",
   "execution_count": null,
   "metadata": {
    "cellView": "form",
    "id": "J0Zo3PSJVkeH"
   },
   "outputs": [],
   "source": [
    "#@markdown **Run this cell to set/reset the masked input**\n",
    "masked_encoding = octuple_midi_tokenized_sample.clone()"
   ]
  },
  {
   "cell_type": "code",
   "execution_count": null,
   "metadata": {
    "cellView": "form",
    "id": "Ler_P_jy9y8Q"
   },
   "outputs": [],
   "source": [
    "#@markdown Choose masking strategy:\n",
    "mask_strategy = \"program_mask\" #@param [\"random_mask\", \"program_mask\"]"
   ]
  },
  {
   "cell_type": "code",
   "execution_count": null,
   "metadata": {
    "id": "g8Vs6ne16wf7"
   },
   "outputs": [],
   "source": [
    "#@title  { display-mode: \"form\" }\n",
    "#@title  { display-mode: \"both\" }\n",
    "#@markdown Run cell only if `mask_strategy` is \"random_mask\"\n",
    "if mask_strategy == \"random_mask\":\n",
    "  note_percentage_random_mask = 50 #@param {type:\"slider\", min:1, max:100, step:1}\n",
    "  dont_mask_durations = False #@param {type:\"boolean\"}\n",
    "  dont_mask_durations_and_instr = True #@param {type:\"boolean\"}\n",
    "else:\n",
    "  raise Exception(\"mask_strategy is not \\\"random_mask\\\", please run the other cell\")"
   ]
  },
  {
   "cell_type": "code",
   "execution_count": null,
   "metadata": {
    "colab": {
     "base_uri": "https://localhost:8080/"
    },
    "id": "rwxgWeIgcJtc",
    "outputId": "27e9e430-3e5c-4b77-d6b5-577d6686a580"
   },
   "outputs": [
    {
     "name": "stdout",
     "output_type": "stream",
     "text": [
      "Available instruments/program ids in chosen segment of the song : {128, 34, 48, 25, 26, 30}\n"
     ]
    }
   ],
   "source": [
    "print(f'Available instruments/program ids in chosen segment of the song : {set([oct[2] for oct in e[:1000]])}')"
   ]
  },
  {
   "cell_type": "code",
   "execution_count": null,
   "metadata": {
    "colab": {
     "base_uri": "https://localhost:8080/"
    },
    "id": "zKfR8p1AIOgT",
    "outputId": "7ea59e0d-8eb0-4774-cb1a-196db894906a"
   },
   "outputs": [
    {
     "data": {
      "text/plain": [
       "509"
      ]
     },
     "execution_count": 272,
     "metadata": {},
     "output_type": "execute_result"
    }
   ],
   "source": [
    "label_dict.index('<2-121>')"
   ]
  },
  {
   "cell_type": "code",
   "execution_count": null,
   "metadata": {
    "colab": {
     "base_uri": "https://localhost:8080/"
    },
    "id": "o9obSxUrXZU4",
    "outputId": "ed5fef72-c6e2-4ca5-bc8f-70ebd35272ca"
   },
   "outputs": [
    {
     "name": "stdout",
     "output_type": "stream",
     "text": [
      "Available number of bars = 18\n",
      "[48]\n",
      "Minimum index having 0 bars is 8 belonging to octuple with index 1 \n",
      "Programs(instruments) available in MIDI due to internal clipping to 1000 octuples:\n",
      "{128, 34, 48, 26, 30}\n",
      "`mask_attribs` = [3, 4]\n"
     ]
    }
   ],
   "source": [
    "#@title  { display-mode: \"form\" }\n",
    "#@title  { vertical-output: true, display-mode: \"both\" }\n",
    "#@markdown Run cell only if `mask_strategy` is \"program_mask\"\n",
    "if mask_strategy == \"program_mask\":\n",
    "  if len(e) <= 1000:\n",
    "    print(f\"Available number of bars = {e[-1][0]}\")\n",
    "  else:\n",
    "    print(f\"Available number of bars = {e[1000][0]}\")\n",
    "  #Leave all bars from 0 to `min_bar_mask` out of masking pool\n",
    "  min_bar_mask =  0#@param {type:\"integer\"}\n",
    "  #program_id = 128 for drums\n",
    "\n",
    "  #@markdown Provide all the instruments to be masked in form of string : \"128 0 12 ...\"\n",
    "  program_id = \"48\" #@param {type:\"string\"}\n",
    "  program_id = list(map(int, program_id.split()))\n",
    "  print(program_id)\n",
    "\n",
    "  rev_label_dict = reverse_label_dict(label_dict)\n",
    "  octuple_midi_str_aslist = [rev_label_dict[x] for x in masked_encoding.tolist()]\n",
    "\n",
    "  min_idx = get_min_bar_idx_from_oct(octuple_midi_str_aslist, min_bar_mask)\n",
    "  print('Programs(instruments) available in MIDI due to internal clipping to 1000 octuples:')\n",
    "  avail_programs = set([oct[2] for oct in e[int(min_idx/8):1000]])\n",
    "  print(avail_programs)\n",
    "\n",
    "  try:\n",
    "    assert set(program_id).issubset(avail_programs)\n",
    "  except:\n",
    "    raise Exception(\"Invalid `program_id`, available program IDs are listed above\")\n",
    "\n",
    "  program_percentage_mask = 100 #@param {type:\"slider\", min:1, max:100, step:1}\n",
    "\n",
    "  replacement_program_id = program_id\n",
    "\n",
    "  #@markdown NOTE: Program 128 refers to Drums\n",
    "\n",
    "  #@markdown\n",
    "  #@markdown These indices of octuples (out of 0 to 7) would be masked out from chosen octuples.\n",
    "\n",
    "  mask_bar = False #@param {type:\"boolean\"}\n",
    "  mask_position = False #@param {type:\"boolean\"}\n",
    "  mask_instrument = False #@param {type:\"boolean\"}\n",
    "  mask_pitch = True #@param {type:\"boolean\"}\n",
    "  mask_dur = True #@param {type:\"boolean\"}\n",
    "  mask_vel = False #@param {type:\"boolean\"}\n",
    "  mask_timesig = False #@param {type:\"boolean\"}\n",
    "  mask_tempo = False #@param {type:\"boolean\"}\n",
    "\n",
    "  bool_masks = [mask_bar, mask_position,\n",
    "                mask_instrument, mask_pitch,\n",
    "                mask_dur, mask_vel,\n",
    "                mask_timesig, mask_tempo]\n",
    "\n",
    "  mask_attribs = [idx for idx, it in enumerate(bool_masks) if it is True]\n",
    "  print(f'`mask_attribs` = {mask_attribs}')\n",
    "\n",
    "  #Just in case the user does not run the next cell\n",
    "  replacement_program_id = program_id\n",
    "\n",
    "else:\n",
    "  raise Exception(\"mask_strategy is not \\\"program_mask\\\", please run the other cell\")"
   ]
  },
  {
   "cell_type": "code",
   "execution_count": null,
   "metadata": {
    "cellView": "form",
    "colab": {
     "base_uri": "https://localhost:8080/"
    },
    "id": "xpRE2PBxB3FL",
    "outputId": "3ebf867b-0feb-44dd-8e5d-a3ed571307b6"
   },
   "outputs": [
    {
     "name": "stdout",
     "output_type": "stream",
     "text": [
      "Do you want to replace the masked program(instrument) with another program? (y/n): y\n",
      "Enter program IDs to replace the masked programs, note that they should have the same number of elements as `program_id` above: 52\n",
      "[52]\n"
     ]
    }
   ],
   "source": [
    "#@markdown Run cell if `mask_strategy` is \"program_mask\"\n",
    "\n",
    "#@markdown Replace with custom `program_id` if you want to insert that instrument in place of masked octuples\n",
    "if mask_strategy == \"program_mask\":\n",
    "\n",
    "  repl_flag = input('Do you want to replace the masked program(instrument) with another program? (y/n): ')\n",
    "  if repl_flag == 'y':\n",
    "      #Change to another program ID if you want to mask other instruments\n",
    "      replacement_program_id = input('Enter program IDs to replace the masked programs, note that they should have the same number of elements as `program_id` above: ')\n",
    "      replacement_program_id = list(map(int, replacement_program_id.split()))\n",
    "      assert len(program_id) == len(replacement_program_id)\n",
    "      print(replacement_program_id)\n",
    "  elif repl_flag == 'n':\n",
    "      replacement_program_id = program_id\n",
    "  else:\n",
    "      raise ValueError('Invalid input')"
   ]
  },
  {
   "cell_type": "markdown",
   "metadata": {
    "id": "Y3JBOsLNMu65"
   },
   "source": [
    "#### Masking percentage of the song"
   ]
  },
  {
   "cell_type": "code",
   "execution_count": null,
   "metadata": {
    "cellView": "form",
    "colab": {
     "base_uri": "https://localhost:8080/"
    },
    "id": "KhEI32vA_BIj",
    "outputId": "833b65bc-1379-4c4c-81f3-bc98b9fa6766"
   },
   "outputs": [
    {
     "name": "stdout",
     "output_type": "stream",
     "text": [
      "masking program id : 48 with replacement program id : 52\n",
      "Minimum index having 0 bars is 8 belonging to octuple with index 1 \n",
      "8\n",
      "Found 319 octuples with program = 48\n",
      "Choosing 319 octuples to mask....\n",
      "Masking octuple numbers: [1, 2, 137, 138, 139, 140, 141, 150, 151, 159, 160, 161, 162, 163, 169, 170, 171, 176, 177, 178, 187, 188, 189, 190, 191, 196, 197, 198, 205, 206, 207, 208, 209, 218, 219, 227, 228, 229, 230, 231, 237, 238, 239, 245, 246, 247, 253, 254, 255, 262, 263, 264, 265, 266, 272, 273, 274, 278, 279, 288, 289, 297, 298, 299, 300, 301, 307, 308, 309, 314, 315, 316, 325, 326, 327, 328, 329, 334, 335, 336, 343, 344, 345, 346, 347, 356, 357, 365, 366, 367, 368, 369, 376, 377, 378, 383, 384, 385, 391, 392, 393, 400, 401, 402, 403, 404, 409, 414, 416, 419, 421, 423, 425, 427, 429, 431, 434, 437, 438, 440, 442, 445, 447, 449, 451, 453, 456, 457, 461, 462, 465, 466, 471, 472, 473, 474, 478, 479, 480, 482, 484, 487, 491, 492, 493, 497, 498, 499, 503, 504, 505, 507, 509, 511, 516, 517, 518, 521, 522, 524, 526, 529, 532, 533, 535, 539, 540, 541, 543, 545, 548, 549, 553, 554, 559, 560, 561, 562, 567, 568, 569, 574, 576, 580, 583, 587, 590, 593, 597, 599, 604, 610, 611, 616, 618, 622, 626, 629, 633, 636, 640, 641, 646, 647, 651, 652, 657, 658, 661, 666, 668, 672, 675, 679, 682, 685, 689, 691, 696, 702, 703, 708, 710, 714, 718, 721, 725, 728, 732, 733, 738, 739, 743, 744, 749, 754, 756, 760, 763, 767, 770, 773, 777, 779, 784, 790, 791, 796, 798, 802, 806, 809, 813, 816, 820, 821, 826, 827, 831, 832, 837, 838, 841, 846, 848, 852, 855, 859, 862, 865, 869, 871, 876, 882, 883, 888, 890, 894, 899, 902, 906, 910, 913, 914, 919, 920, 924, 925, 937, 938, 939, 940, 941, 942, 943, 944, 948, 955, 956, 957, 958, 959, 965, 966, 967, 968, 969, 977, 978, 979, 980, 981, 988, 989, 990, 991, 992, 999, 1000]\n",
      "\n"
     ]
    }
   ],
   "source": [
    "#@title  { vertical-output: true }\n",
    "#@markdown Run cell only after choosing masking parameters above\n",
    "\n",
    "if mask_strategy == \"random_mask\":\n",
    "  #  range(1, int( len(masked_encoding) / 8 ) - 2) because we don't want to mask <s> and </s> tokens\n",
    "  masked_octs = np.random.choice( a = range(1, int( len(masked_encoding) / 8 ) - 2) , \\\n",
    "                                size = int( (len(masked_encoding) / 8) * (note_percentage_random_mask/100) ), \\\n",
    "                                replace = False)\n",
    "\n",
    "\n",
    "  mask_idx = label_dict.index('<mask>')\n",
    "\n",
    "  if dont_mask_durations_and_instr:\n",
    "    for masked_oct in masked_octs:\n",
    "      masked_encoding.index_fill_(0, torch.tensor( masked_oct * 8 + [0,1,3,5,6,7] ), mask_idx)\n",
    "\n",
    "  elif dont_mask_durations:\n",
    "    for masked_oct in masked_octs:\n",
    "      masked_encoding.index_fill_(0, torch.tensor( masked_oct * 8 + [0,1,2,3,5,6,7] ), mask_idx)\n",
    "  else:\n",
    "    for masked_oct in masked_octs:\n",
    "      masked_encoding[ masked_oct * 8: (masked_oct + 1)*8 ] = mask_idx\n",
    "\n",
    "elif mask_strategy == \"program_mask\":\n",
    "\n",
    "  assert len(program_id) == len(replacement_program_id)\n",
    "  program_id = list(program_id)\n",
    "  replacement_program_id = list(replacement_program_id)\n",
    "\n",
    "\n",
    "  for idx in range(len(program_id)):\n",
    "    id = program_id[idx]\n",
    "    rep_id = replacement_program_id[idx]\n",
    "\n",
    "    if rep_id == id:\n",
    "      print(f'masking program id : {id}')\n",
    "    else:\n",
    "      print(f'masking program id : {id} with replacement program id : {rep_id}')\n",
    "\n",
    "    if rep_id == id:\n",
    "      masked_encoding, masked_oct_idxs = mask_instrument_notes_program(id, masked_encoding, label_dict, program_percentage_mask,\n",
    "                                              replacement_program = None, mask_attribs = mask_attribs,\n",
    "                                              min_bar_mask = min_bar_mask)\n",
    "    else:\n",
    "      masked_encoding, masked_oct_idxs = mask_instrument_notes_program(id, masked_encoding, label_dict, program_percentage_mask,\n",
    "                                          replacement_program = rep_id, mask_attribs = mask_attribs,\n",
    "                                          min_bar_mask = min_bar_mask)\n",
    "    print()\n"
   ]
  },
  {
   "cell_type": "code",
   "execution_count": null,
   "metadata": {
    "colab": {
     "base_uri": "https://localhost:8080/",
     "height": 192
    },
    "id": "lZGLuUVVsLuA",
    "outputId": "c24a2c58-a42a-4552-aabd-cb03cdc0d4fb"
   },
   "outputs": [
    {
     "data": {
      "application/vnd.google.colaboratory.intrinsic+json": {
       "type": "string"
      },
      "text/plain": [
       "'<s> <s> <s> <s> <s> <s> <s> <s> <0-0> <1-0> <2-48> <3-52> <4-50> <5-23> <6-9> <7-25> <0-0> <1-0> <2-48> <3-52> <4-50> <5-23> <6-9> <7-25> <0-0> <1-0> <2-128> <3-174> <4-1> <5-3> <6-9> <7-25> <0-0> <1-1> <2-128> <3-174> <4-1> <5-3> <6-9> <7-25> <0-0> <1-2> <2-128> <3-174> <4-1> <5-3> <6-9> <7-25> <0-0> <1-3> <2-128> <3-174> <4-1> <5-3> <6-9> <7-25> <0-0> <1-4> <2-128> <3-174> <4-1> <5-3> <6-9> <7-25> <0-0> <1-5> <2-128> <3-174> <4-1> <5-3> <6-9> <7-25> <0-0> <1-6> <2-128> <3-174> <4-1> <5-3> <6-9> <7-25> <0-0> <1-7> <2-128> <3-174> <4-1> <5-3> <6-9> <7-25> <0-0> <1-8> <2-128> <3-174> <4-1> <5-3> <6-9> <7-25> <0-0> <1-9> <2-128> <3-174> <4-1> <5-3> <6-9> <7-25> <0-0> <1-10> <2-128> <3-174> <4-1> <5-3> <6-9> <7-25> <0-0> <1-11> <2-128> <3-174> <4-1> <5-3> <6-9> <7-25> <0-0> <1-12> <2-128> <3-174> <4-1> <5-3> <6-9> <7-25> <0-0> <1-13> <2-128> <3-174> <4-1> <5-3> <6-9> <7-25> <0-0> <1-14> <2-128> <3-174> <4-1> <5-3> <6-9> <7-25> <0-0> <1-15> <2-128> <3-174> <4-1> <5-3> <6-9> <7-25> <0-0> <1-16> <2-128> <3-174> <4-1> <5-7> <6-9> <7-25> <0-0> <1-17> <2-128> <3-174> <4-1> <5-7> <6-9> <7-25> <0-0> <1-18> <2-128> <3-174> <4-1> <5-7> <6-9> <7-25> <0-0> <1-19> <2-128> <3-174> <4-1> <5-7> <6-9> <7-25> <0-0> <1-20> <2-128> <3-174> <4-1> <5-7> <6-9> <7-25> <0-0> <1-21> <2-128> <3-174> <4-1> <5-7> <6-9> <7-25> <0-0> <1-22> <2-128> <3-174> <4-1> <5-7> <6-9> <7-25> <0-0> <1-23> <2-128> <3-174> <4-1> <5-7> <6-9> <7-25> <0-0> <1-24> <2-128> <3-174> <4-1> <5-7> <6-9> <7-25> <0-0> <1-25> <2-128> <3-174> <4-1> <5-7> <6-9> <7-25> <0-0> <1-26> <2-128> <3-174> <4-1> <5-7> <6-9> <7-25> <0-0> <1-27> <2-128> <3-174> <4-1> <5-7> <6-9> <7-25> <0-0> <1-28> <2-128> <3-174> <4-1> <5-7> <6-9> <7-25> <0-0> <1-29> <2-128> <3-174> <4-1> <5-7> <6-9> <7-25> <0-0> <1-30> <2-128> <3-174> <4-1> <5-7> <6-9> <7-25> <0-0> <1-31> <2-128> <3-174> <4-1> <5-7> <6-9> <7-25> <0-0> <1-32> <2-128> <3-174> <4-1> <5-7> <6-9> <7-25> <0-0> <1-33> <2-128> <3-174> <4-1> <5-7> <6-9> <7-25> <0-0> <1-34> <2-128> <3-174> <4-1> <5-7> <6-9> <7-25> <0-0> <1-35> <2-128> <3-174> <4-1> <5-7> <6-9> <7-25> <0-0> <1-36> <2-128> <3-174> <4-1> <5-7> <6-9> <7-25> <0-0> <1-37> <2-128> <3-174> <4-1> <5-7> <6-9> <7-25> <0-0> <1-38> <2-128> <3-174> <4-1> <5-7> <6-9> <7-25> <0-0> <1-39> <2-128> <3-174> <4-1> <5-7> <6-9> <7-25> <0-0> <1-40> <2-128> <3-174> <4-1> <5-7> <6-9> <7-25> <0-0> <1-41> <2-128> <3-174> <4-1> <5-7> <6-9> <7-25> <0-0> <1-42> <2-128> <3-174> <4-1> <5-7> <6-9> <7-25> <0-0> <1-43> <2-128> <3-174> <4-1> <5-7> <6-9> <7-25> <0-0> <1-44> <2-128> <3-174> <4-1> <5-7> <6-9> <7-25> <0-0> <1-45> <2-128> <3-174> <4-1> <5-7> <6-9> <7-25> <0-0> <1-46> <2-128> <3-174> <4-1> <5-7> <6-9> <7-25> <0-0> <1-47> <2-128> <3-174> <4-1> <5-7> <6-9> <7-25> <0-0> <1-48> <2-128> <3-174> <4-1> <5-7> <6-9> <7-25> <0-0> <1-49> <2-128> <3-174> <4-1> <5-7> <6-9> <7-25> <0-0> <1-50> <2-128> <3-174> <4-1> <5-7> <6-9> <7-25> <0-0> <1-51> <2-128> <3-174> <4-1> <5-7> <6-9> <7-25> <0-0> <1-52> <2-128> <3-174> <4-1> <5-7> <6-9> <7-25> <0-0> <1-53> <2-128> <3-174> <4-1> <5-7> <6-9> <7-25> <0-0> <1-54> <2-128> <3-174> <4-1> <5-7> <6-9> <7-25> <0-0> <1-55> <2-128> <3-174> <4-1> <5-7> <6-9> <7-25> <0-0> <1-56> <2-128> <3-174> <4-1> <5-7> <6-9> <7-25> <0-0> <1-57> <2-128> <3-174> <4-1> <5-7> <6-9> <7-25> <0-0> <1-58> <2-128> <3-174> <4-1> <5-7> <6-9> <7-25> <0-0> <1-59> <2-128> <3-174> <4-1> <5-7> <6-9> <7-25> <0-0> <1-60> <2-128> <3-174> <4-1> <5-7> <6-9> <7-25> <0-0> <1-61> <2-128> <3-174> <4-1> <5-7> <6-9> <7-25> <0-0> <1-62> <2-128> <3-174> <4-1> <5-7> <6-9> <7-25> <0-0> <1-63> <2-128> <3-174> <4-1> <5-7> <6-9> <7-25> <0-1> <1-0> <2-128> <3-174> <4-1> <5-7> <6-9> <7-25> <0-1> <1-1> <2-128> <3-174> <4-1> <5-7> <6-9> <7-25> <0-1> <1-2> <2-128> <3-174> <4-1> <5-7> <6-9> <7-25> <0-1> <1-3> <2-128> <3-174> <4-1> <5-7> <6-9> <7-25> <0-1> <1-4> <2-128> <3-174> <4-1> <5-7> <6-9> <7-25> <0-1> <1-5> <2-128> <3-174> <4-1> <5-7> <6-9> <7-25> <0-1> <1-6> <2-128> <3-174> <4-1> <5-7> <6-9> <7-25> <0-1> <1-7> <2-128> <3-174> <4-1> <5-7> <6-9> <7-25> <0-1> <1-8> <2-128> <3-174> <4-1> <5-7> <6-9> <7-25> <0-1> <1-9> <2-128> <3-174> <4-1> <5-7> <6-9> <7-25> <0-1> <1-10> <2-128> <3-174> <4-1> <5-7> <6-9> <7-25> <0-1> <1-11> <2-128> <3-174> <4-1> <5-7> <6-9> <7-25> <0-1> <1-12> <2-128> <3-174> <4-1> <5-7> <6-9> <7-25> <0-1> <1-13> <2-128> <3-174> <4-1> <5-7> <6-9> <7-25> <0-1> <1-14> <2-128> <3-174> <4-1> <5-7> <6-9> <7-25> <0-1> <1-15> <2-128> <3-174> <4-1> <5-7> <6-9> <7-25> <0-1> <1-16> <2-128> <3-174> <4-1> <5-7> <6-9> <7-25> <0-1> <1-17> <2-128> <3-174> <4-1> <5-7> <6-9> <7-25> <0-1> <1-18> <2-128> <3-174> <4-1> <5-7> <6-9> <7-25> <0-1> <1-19> <2-128> <3-174> <4-1> <5-7> <6-9> <7-25> <0-1> <1-20> <2-128> <3-174> <4-1> <5-7> <6-9> <7-25> <0-1> <1-21> <2-128> <3-174> <4-1> <5-7> <6-9> <7-25> <0-1> <1-22> <2-128> <3-174> <4-1> <5-7> <6-9> <7-25> <0-1> <1-23> <2-128> <3-174> <4-1> <5-7> <6-9> <7-25> <0-1> <1-24> <2-128> <3-174> <4-1> <5-7> <6-9> <7-25> <0-1> <1-25> <2-128> <3-174> <4-1> <5-7> <6-9> <7-25> <0-1> <1-26> <2-128> <3-174> <4-1> <5-7> <6-9> <7-25> <0-1> <1-27> <2-128> <3-174> <4-1> <5-7> <6-9> <7-25> <0-1> <1-28> <2-128> <3-174> <4-1> <5-7> <6-9> <7-25> <0-1> <1-29> <2-128> <3-174> <4-1> <5-7> <6-9> <7-25> <0-1> <1-30> <2-128> <3-174> <4-1> <5-7> <6-9> <7-25> <0-1> <1-31> <2-128> <3-174> <4-1> <5-7> <6-9> <7-25> <0-1> <1-32> <2-128> <3-174> <4-1> <5-11> <6-9> <7-25> <0-1> <1-33> <2-128> <3-174> <4-1> <5-11> <6-9> <7-25> <0-1> <1-34> <2-128> <3-174> <4-1> <5-11> <6-9> <7-25> <0-1> <1-35> <2-128> <3-174> <4-1> <5-11> <6-9> <7-25> <0-1> <1-36> <2-128> <3-174> <4-1> <5-11> <6-9> <7-25> <0-1> <1-37> <2-128> <3-174> <4-1> <5-11> <6-9> <7-25> <0-1> <1-38> <2-128> <3-174> <4-1> <5-11> <6-9> <7-25> <0-1> <1-39> <2-128> <3-174> <4-1> <5-11> <6-9> <7-25> <0-1> <1-40> <2-128> <3-174> <4-1> <5-15> <6-9> <7-25> <0-1> <1-41> <2-128> <3-174> <4-1> <5-15> <6-9> <7-25> <0-1> <1-42> <2-128> <3-174> <4-1> <5-15> <6-9> <7-25> <0-1> <1-43> <2-128> <3-174> <4-1> <5-15> <6-9> <7-25> <0-1> <1-44> <2-128> <3-174> <4-1> <5-15> <6-9> <7-25> <0-1> <1-45> <2-128> <3-174> <4-1> <5-15> <6-9> <7-25> <0-1> <1-46> <2-128> <3-174> <4-1> <5-15> <6-9> <7-25> <0-1> <1-47> <2-128> <3-174> <4-1> <5-15> <6-9> <7-25> <0-1> <1-48> <2-128> <3-174> <4-1> <5-19> <6-9> <7-25> <0-1> <1-49> <2-128> <3-174> <4-1> <5-19> <6-9> <7-25> <0-1> <1-50> <2-128> <3-174> <4-1> <5-19> <6-9> <7-25> <0-1> <1-51> <2-128> <3-174> <4-1> <5-19> <6-9> <7-25> <0-1> <1-52> <2-128> <3-174> <4-1> <5-19> <6-9> <7-25> <0-1> <1-53> <2-128> <3-174> <4-1> <5-19> <6-9> <7-25> <0-1> <1-54> <2-128> <3-174> <4-1> <5-19> <6-9> <7-25> <0-1> <1-55> <2-128> <3-174> <4-1> <5-19> <6-9> <7-25> <0-1> <1-56> <2-128> <3-174> <4-1> <5-19> <6-9> <7-25> <0-1> <1-57> <2-128> <3-174> <4-1> <5-19> <6-9> <7-25> <0-1> <1-58> <2-128> <3-174> <4-1> <5-19> <6-9> <7-25> <0-1> <1-59> <2-128> <3-174> <4-1> <5-19> <6-9> <7-25> <0-1> <1-60> <2-128> <3-174> <4-1> <5-19> <6-9> <7-25> <0-1> <1-61> <2-128> <3-174> <4-1> <5-19> <6-9> <7-25> <0-1> <1-62> <2-128> <3-174> <4-1> <5-19> <6-9> <7-25> <0-1> <1-63> <2-128> <3-174> <4-1> <5-19> <6-9> <7-25> <0-2> <1-0> <2-29> <mask> <mask> <5-23> <6-9> <7-25> <0-2> <1-0> <2-29> <mask> <mask> <5-23> <6-9> <7-25> <0-2> <1-0> <2-29> <mask> <mask> <5-23> <6-9> <7-25> <0-2> <1-0> <2-29> <mask> <mask> <5-23> <6-9> <7-25> <0-2> <1-0> <2-29> <mask> <mask> <5-23> <6-9> <7-25> <0-2> <1-0> <2-34> <3-32> <4-20> <5-23> <6-9> <7-25> <0-2> <1-0> <2-48> <3-44> <4-20> <5-7> <6-9> <7-25> <0-2> <1-0> <2-48> <3-44> <4-24> <5-7> <6-9> <7-25> <0-2> <1-0> <2-48> <3-51> <4-20> <5-7> <6-9> <7-25> <0-2> <1-0> <2-48> <3-51> <4-24> <5-7> <6-9> <7-25> <0-2> <1-0> <2-48> <3-56> <4-24> <5-7> <6-9> <7-25> <0-2> <1-0> <2-128> <3-164> <4-8> <5-31> <6-9> <7-25> <0-2> <1-0> <2-128> <3-177> <4-8> <5-23> <6-9> <7-25> <0-2> <1-8> <2-128> <3-174> <4-8> <5-11> <6-9> <7-25> <0-2> <1-16> <2-128> <3-166> <4-8> <5-23> <6-9> <7-25> <0-2> <1-16> <2-128> <3-174> <4-8> <5-23> <6-9> <7-25> <0-2> <1-24> <2-29> <mask> <mask> <5-23> <6-9> <7-25> <0-2> <1-24> <2-29> <mask> <mask> <5-23> <6-9> <7-25> <0-2> <1-24> <2-34> <3-32> <4-8> <5-23> <6-9> <7-25> <0-2> <1-24> <2-48> <3-44> <4-8> <5-7> <6-9> <7-25> <0-2> <1-24> <2-48> <3-51> <4-8> <5-7> <6-9> <7-25> <0-2> <1-24> <2-128> <3-174> <4-8> <5-11> <6-9> <7-25> <0-2> <1-32> <2-29> <mask> <mask> <5-23> <6-9> <7-25> <0-2> <1-32> <2-29> <mask> <mask> <5-23> <6-9> <7-25> <0-2> <1-32> <2-29> <mask> <mask> <5-23> <6-9> <7-25> <0-2> <1-32> <2-29> <mask> <mask> <5-23> <6-9> <7-25> <0-2> <1-32> <2-29> <mask> <mask> <5-23> <6-9> <7-25> <0-2> <1-32> <2-34> <3-35> <4-20> <5-23> <6-9> <7-25> <0-2> <1-32> <2-48> <3-44> <4-8> <5-7> <6-9> <7-25> <0-2> <1-32> <2-48> <3-47> <4-20> <5-7> <6-9> <7-25> <0-2> <1-32> <2-48> <3-51> <4-8> <5-7> <6-9> <7-25> <0-2> <1-32> <2-48> <3-54> <4-20> <5-7> <6-9> <7-25> <0-2> <1-32> <2-48> <3-56> <4-8> <5-7> <6-9> <7-25> <0-2> <1-32> <2-128> <3-164> <4-8> <5-31> <6-9> <7-25> <0-2> <1-32> <2-128> <3-174> <4-8> <5-23> <6-9> <7-25> <0-2> <1-40> <2-29> <mask> <mask> <5-23> <6-9> <7-25> <0-2> <1-40> <2-29> <mask> <mask> <5-23> <6-9> <7-25> <0-2> <1-40> <2-29> <mask> <mask> <5-23> <6-9> <7-25> <0-2> <1-40> <2-48> <3-46> <4-8> <5-7> <6-9> <7-25> <0-2> <1-40> <2-48> <3-53> <4-8> <5-7> <6-9> <7-25> <0-2> <1-40> <2-48> <3-58> <4-8> <5-7> <6-9> <7-25> <0-2> <1-40> <2-128> <3-174> <4-8> <5-11> <6-9> <7-25> <0-2> <1-48> <2-29> <mask> <mask> <5-23> <6-9> <7-25> <0-2> <1-48> <2-29> <mask> <mask> <5-23> <6-9> <7-25> <0-2> <1-48> <2-29> <mask> <mask> <5-23> <6-9> <7-25> <0-2> <1-48> <2-48> <3-47> <4-8> <5-7> <6-9> <7-25> <0-2> <1-48> <2-48> <3-54> <4-8> <5-7> <6-9> <7-25> <0-2> <1-48> <2-48> <3-59> <4-8> <5-7> <6-9> <7-25> <0-2> <1-48> <2-128> <3-166> <4-8> <5-23> <6-9> <7-25> <0-2> <1-48> <2-128> <3-174> <4-8> <5-23> <6-9> <7-25> <0-2> <1-56> <2-29> <mask> <mask> <5-23> <6-9> <7-25> <0-2> <1-56> <2-29> <mask> <mask> <5-23> <6-9> <7-25> <0-2> <1-56> <2-29> <mask> <mask> <5-23> <6-9> <7-25> <0-2> <1-56> <2-29> <mask> <mask> <5-23> <6-9> <7-25> <0-2> <1-56> <2-29> <mask> <mask> <5-23> <6-9> <7-25> <0-2> <1-56> <2-34> <3-35> <4-8> <5-23> <6-9> <7-25> <0-2> <1-56> <2-48> <3-47> <4-8> <5-7> <6-9> <7-25> <0-2> <1-56> <2-48> <3-49> <4-4> <5-7> <6-9> <7-25> <0-2> <1-56> <2-48> <3-54> <4-8> <5-7> <6-9> <7-25> <0-2> <1-56> <2-48> <3-56> <4-4> <5-7> <6-9> <7-25> <0-2> <1-56> <2-48> <3-61> <4-4> <5-7> <6-9> <7-25> <0-2> <1-56> <2-128> <3-174> <4-8> <5-11> <6-9> <7-25> <0-2> <1-60> <2-29> <mask> <mask> <5-23> <6-9> <7-25> <0-2> <1-60> <2-29> <mask> <mask> <5-23> <6-9> <7-25> <0-2> <1-60> <2-29> <mask> <mask> <5-23> <6-9> <7-25> <0-2> <1-60> <2-48> <3-47> <4-4> <5-7> <6-9> <7-25> <0-2> <1-60> <2-48> <3-54> <4-4> <5-7> <6-9> <7-25> <0-2> <1-60> <2-48> <3-59> <4-4> <5-7> <6-9> <7-25> <0-3> <1-0> <2-29> <mask> <mask> <5-23> <6-9> <7-25> <0-3> <1-0> <2-29> <mask> <mask> <5-23> <6-9> <7-25> <0-3> <1-0> <2-29> <mask> <mask> <5-23> <6-9> <7-25> <0-3> <1-0> <2-29> <mask> <mask> <5-23> <6-9> <7-25> <0-3> <1-0> <2-29> <mask> <mask> <5-23> <6-9> <7-25> <0-3> <1-0> <2-34> <3-30> <4-20> <5-23> <6-9> <7-25> <0-3> <1-0> <2-48> <3-42> <4-20> <5-7> <6-9> <7-25> <0-3> <1-0> <2-48> <3-49> <4-20> <5-7> <6-9> <7-25> <0-3> <1-0> <2-48> <3-49> <4-24> <5-7> <6-9> <7-25> <0-3> <1-0> <2-48> <3-56> <4-24> <5-7> <6-9> <7-25> <0-3> <1-0> <2-48> <3-61> <4-24> <5-7> <6-9> <7-25> <0-3> <1-0> <2-128> <3-164> <4-8> <5-31> <6-9> <7-25> <0-3> <1-0> <2-128> <3-174> <4-8> <5-23> <6-9> <7-25> <0-3> <1-8> <2-128> <3-174> <4-8> <5-11> <6-9> <7-25> <0-3> <1-16> <2-128> <3-166> <4-8> <5-23> <6-9> <7-25> <0-3> <1-16> <2-128> <3-174> <4-8> <5-23> <6-9> <7-25> <0-3> <1-24> <2-29> <mask> <mask> <5-23> <6-9> <7-25> <0-3> <1-24> <2-29> <mask> <mask> <5-23> <6-9> <7-25> <0-3> <1-24> <2-34> <3-30> <4-8> <5-23> <6-9> <7-25> <0-3> <1-24> <2-48> <3-42> <4-8> <5-7> <6-9> <7-25> <0-3> <1-24> <2-48> <3-49> <4-8> <5-7> <6-9> <7-25> <0-3> <1-24> <2-128> <3-174> <4-8> <5-11> <6-9> <7-25> <0-3> <1-32> <2-29> <mask> <mask> <5-23> <6-9> <7-25> <0-3> <1-32> <2-29> <mask> <mask> <5-23> <6-9> <7-25> <0-3> <1-32> <2-29> <mask> <mask> <5-23> <6-9> <7-25> <0-3> <1-32> <2-29> <mask> <mask> <5-23> <6-9> <7-25> <0-3> <1-32> <2-29> <mask> <mask> <5-23> <6-9> <7-25> <0-3> <1-32> <2-34> <3-27> <4-20> <5-23> <6-9> <7-25> <0-3> <1-32> <2-48> <3-39> <4-20> <5-7> <6-9> <7-25> <0-3> <1-32> <2-48> <3-46> <4-20> <5-7> <6-9> <7-25> <0-3> <1-32> <2-48> <3-51> <4-8> <5-7> <6-9> <7-25> <0-3> <1-32> <2-48> <3-58> <4-8> <5-7> <6-9> <7-25> <0-3> <1-32> <2-48> <3-63> <4-8> <5-7> <6-9> <7-25> <0-3> <1-32> <2-128> <3-164> <4-8> <5-31> <6-9> <7-25> <0-3> <1-32> <2-128> <3-174> <4-8> <5-23> <6-9> <7-25> <0-3> <1-40> <2-29> <mask> <mask> <5-23> <6-9> <7-25> <0-3> <1-40> <2-29> <mask> <mask> <5-23> <6-9> <7-25> <0-3> <1-40> <2-29> <mask> <mask> <5-23> <6-9> <7-25> <0-3> <1-40> <2-48> <3-49> <4-8> <5-7> <6-9> <7-25> <0-3> <1-40> <2-48> <3-56> <4-8> <5-7> <6-9> <7-25> <0-3> <1-40> <2-48> <3-61> <4-8> <5-7> <6-9> <7-25> <0-3> <1-40> <2-128> <3-174> <4-4> <5-11> <6-9> <7-25> <0-3> <1-44> <2-128> <3-164> <4-4> <5-31> <6-9> <7-25> <0-3> <1-48> <2-29> <mask> <mask> <5-23> <6-9> <7-25> <0-3> <1-48> <2-29> <mask> <mask> <5-23> <6-9> <7-25> <0-3> <1-48> <2-29> <mask> <mask> <5-23> <6-9> <7-25> <0-3> <1-48> <2-48> <3-47> <4-4> <5-7> <6-9> <7-25> <0-3> <1-48> <2-48> <3-54> <4-4> <5-7> <6-9> <7-25> <0-3> <1-48> <2-48> <3-59> <4-4> <5-7> <6-9> <7-25> <0-3> <1-48> <2-128> <3-166> <4-8> <5-23> <6-9> <7-25> <0-3> <1-48> <2-128> <3-174> <4-8> <5-23> <6-9> <7-25> <0-3> <1-52> <2-29> <mask> <mask> <5-23> <6-9> <7-25> <0-3> <1-52> <2-29> <mask> <mask> <5-23> <6-9> <7-25> <0-3> <1-52> <2-29> <mask> <mask> <5-23> <6-9> <7-25> <0-3> <1-52> <2-48> <3-49> <4-4> <5-7> <6-9> <7-25> <0-3> <1-52> <2-48> <3-56> <4-4> <5-7> <6-9> <7-25> <0-3> <1-52> <2-48> <3-61> <4-4> <5-7> <6-9> <7-25> <0-3> <1-56> <2-29> <mask> <mask> <5-23> <6-9> <7-25> <0-3> <1-56> <2-29> <mask> <mask> <5-23> <6-9> <7-25> <0-3> <1-56> <2-29> <mask> <mask> <5-23> <6-9> <7-25> <0-3> <1-56> <2-29> <mask> <mask> <5-23> <6-9> <7-25> <0-3> <1-56> <2-29> <mask> <mask> <5-23> <6-9> <7-25> <0-3> <1-56> <2-34> <3-27> <4-8> <5-23> <6-9> <7-25> <0-3> <1-56> <2-48> <3-39> <4-8> <5-7> <6-9> <7-25> <0-3> <1-56> <2-48> <3-46> <4-8> <5-7> <6-9> <7-25> <0-3> <1-56> <2-48> <3-47> <4-4> <5-7> <6-9> <7-25> <0-3> <1-56> <2-48> <3-54> <4-4> <5-7> <6-9> <7-25> <0-3> <1-56> <2-48> <3-59> <4-4> <5-7> <6-9> <7-25> <0-3> <1-56> <2-128> <3-164> <4-8> <5-31> <6-9> <7-25> <0-3> <1-56> <2-128> <3-174> <4-8> <5-11> <6-9> <7-25> <0-3> <1-60> <2-29> <mask> <mask> <5-23> <6-9> <7-25> <0-3> <1-60> <2-29> <mask> <mask> <5-23> <6-9> <7-25> <0-3> <1-60> <2-29> <mask> <mask> <5-23> <6-9> <7-25> <0-3> <1-60> <2-48> <3-47> <4-26> <5-7> <6-9> <7-25> <0-3> <1-60> <2-48> <3-54> <4-26> <5-7> <6-9> <7-25> <0-3> <1-60> <2-48> <3-59> <4-26> <5-7> <6-9> <7-25> <0-4> <1-0> <2-29> <mask> <mask> <5-23> <6-9> <7-25> <0-4> <1-0> <2-29> <mask> <mask> <5-23> <6-9> <7-25> <0-4> <1-0> <2-34> <3-32> <4-20> <5-23> <6-9> <7-25> <0-4> <1-0> <2-48> <3-44> <4-20> <5-7> <6-9> <7-25> <0-4> <1-0> <2-48> <3-51> <4-20> <5-7> <6-9> <7-25> <0-4> <1-0> <2-128> <3-164> <4-8> <5-31> <6-9> <7-25> <0-4> <1-0> <2-128> <3-174> <4-8> <5-23> <6-9> <7-25> <0-4> <1-8> <2-128> <3-174> <4-8> <5-11> <6-9> <7-25> <0-4> <1-16> <2-128> <3-166> <4-8> <5-23> <6-9> <7-25> <0-4> <1-16> <2-128> <3-174> <4-8> <5-23> <6-9> <7-25> <0-4> <1-24> <2-29> <mask> <mask> <5-23> <6-9> <7-25> <0-4> <1-24> <2-29> <mask> <mask> <5-23> <6-9> <7-25> <0-4> <1-24> <2-34> <3-32> <4-8> <5-23> <6-9> <7-25> <0-4> <1-24> <2-48> <3-44> <4-8> <5-7> <6-9> <7-25> <0-4> <1-24> <2-48> <3-51> <4-8> <5-7> <6-9> <7-25> <0-4> <1-24> <2-128> <3-174> <4-8> <5-11> <6-9> <7-25> <0-4> <1-32> <2-29> <mask> <mask> <5-23> <6-9> <7-25> <0-4> <1-32> <2-29> <mask> <mask> <5-23> <6-9> <7-25> <0-4> <1-32> <2-29> <mask> <mask> <5-23> <6-9> <7-25> <0-4> <1-32> <2-29> <mask> <mask> <5-23> <6-9> <7-25> <0-4> <1-32> <2-29> <mask> <mask> <5-23> <6-9> <7-25> <0-4> <1-32> <2-34> <3-35> <4-20> <5-23> <6-9> <7-25> <0-4> <1-32> <2-48> <3-44> <4-8> <5-7> <6-9> <7-25> <0-4> <1-32> <2-48> <3-47> <4-20> <5-7> <6-9> <7-25> <0-4> <1-32> <2-48> <3-51> <4-8> <5-7> <6-9> <7-25> <0-4> <1-32> <2-48> <3-54> <4-20> <5-7> <6-9> <7-25> <0-4> <1-32> <2-48> <3-56> <4-8> <5-7> <6-9> <7-25> <0-4> <1-32> <2-128> <3-164> <4-8> <5-31> <6-9> <7-25> <0-4> <1-32> <2-128> <3-174> <4-8> <5-23> <6-9> <7-25> <0-4> <1-40> <2-29> <mask> <mask> <5-23> <6-9> <7-25> <0-4> <1-40> <2-29> <mask> <mask> <5-23> <6-9> <7-25> <0-4> <1-40> <2-29> <mask> <mask> <5-23> <6-9> <7-25> <0-4> <1-40> <2-48> <3-46> <4-8> <5-7> <6-9> <7-25> <0-4> <1-40> <2-48> <3-53> <4-8> <5-7> <6-9> <7-25> <0-4> <1-40> <2-48> <3-58> <4-8> <5-7> <6-9> <7-25> <0-4> <1-40> <2-128> <3-174> <4-8> <5-11> <6-9> <7-25> <0-4> <1-48> <2-29> <mask> <mask> <5-23> <6-9> <7-25> <0-4> <1-48> <2-29> <mask> <mask> <5-23> <6-9> <7-25> <0-4> <1-48> <2-29> <mask> <mask> <5-23> <6-9> <7-25> <0-4> <1-48> <2-48> <3-47> <4-8> <5-7> <6-9> <7-25> <0-4> <1-48> <2-48> <3-54> <4-8> <5-7> <6-9> <7-25> <0-4> <1-48> <2-48> <3-59> <4-8> <5-7> <6-9> <7-25> <0-4> <1-48> <2-128> <3-166> <4-8> <5-23> <6-9> <7-25> <0-4> <1-48> <2-128> <3-174> <4-8> <5-23> <6-9> <7-25> <0-4> <1-56> <2-29> <mask> <mask> <5-23> <6-9> <7-25> <0-4> <1-56> <2-29> <mask> <mask> <5-23> <6-9> <7-25> <0-4> <1-56> <2-29> <mask> <mask> <5-23> <6-9> <7-25> <0-4> <1-56> <2-29> <mask> <mask> <5-23> <6-9> <7-25> <0-4> <1-56> <2-29> <mask> <mask> <5-23> <6-9> <7-25> <0-4> <1-56> <2-34> <3-35> <4-8> <5-23> <6-9> <7-25> <0-4> <1-56> <2-48> <3-47> <4-8> <5-7> <6-9> <7-25> <0-4> <1-56> <2-48> <3-49> <4-4> <5-7> <6-9> <7-25> <0-4> <1-56> <2-48> <3-54> <4-8> <5-7> <6-9> <7-25> <0-4> <1-56> <2-48> <3-56> <4-4> <5-7> <6-9> <7-25> <0-4> <1-56> <2-48> <3-61> <4-4> <5-7> <6-9> <7-25> <0-4> <1-56> <2-128> <3-174> <4-8> <5-11> <6-9> <7-25> <0-4> <1-60> <2-29> <mask> <mask> <5-23> <6-9> <7-25> <0-4> <1-60> <2-29> <mask> <mask> <5-23> <6-9> <7-25> <0-4> <1-60> <2-29> <mask> <mask> <5-23> <6-9> <7-25> <0-4> <1-60> <2-48> <3-47> <4-4> <5-7> <6-9> <7-25> <0-4> <1-60> <2-48> <3-54> <4-4> <5-7> <6-9> <7-25> <0-4> <1-60> <2-48> <3-59> <4-4> <5-7> <6-9> <7-25> <0-5> <1-0> <2-29> <mask> <mask> <5-23> <6-9> <7-25> <0-5> <1-0> <2-29> <mask> <mask> <5-23> <6-9> <7-25> <0-5> <1-0> <2-29> <mask> <mask> <5-23> <6-9> <7-25> <0-5> <1-0> <2-29> <mask> <mask> <5-23> <6-9> <7-25> <0-5> <1-0> <2-29> <mask> <mask> <5-23> <6-9> <7-25> <0-5> <1-0> <2-34> <3-30> <4-20> <5-23> <6-9> <7-25> <0-5> <1-0> <2-48> <3-42> <4-20> <5-7> <6-9> <7-25> <0-5> <1-0> <2-48> <3-49> <4-20> <5-7> <6-9> <7-25> <0-5> <1-0> <2-48> <3-49> <4-24> <5-7> <6-9> <7-25> <0-5> <1-0> <2-48> <3-56> <4-24> <5-7> <6-9> <7-25> <0-5> <1-0> <2-48> <3-61> <4-24> <5-7> <6-9> <7-25> <0-5> <1-0> <2-128> <3-164> <4-8> <5-31> <6-9> <7-25> <0-5> <1-0> <2-128> <3-174> <4-8> <5-23> <6-9> <7-25> <0-5> <1-8> <2-128> <3-174> <4-8> <5-11> <6-9> <7-25> <0-5> <1-16> <2-128> <3-166> <4-8> <5-23> <6-9> <7-25> <0-5> <1-16> <2-128> <3-174> <4-8> <5-23> <6-9> <7-25> <0-5> <1-24> <2-29> <mask> <mask> <5-23> <6-9> <7-25> <0-5> <1-24> <2-29> <mask> <mask> <5-23> <6-9> <7-25> <0-5> <1-24> <2-34> <3-30> <4-8> <5-23> <6-9> <7-25> <0-5> <1-24> <2-48> <3-42> <4-8> <5-7> <6-9> <7-25> <0-5> <1-24> <2-48> <3-49> <4-8> <5-7> <6-9> <7-25> <0-5> <1-24> <2-128> <3-174> <4-8> <5-11> <6-9> <7-25> <0-5> <1-32> <2-29> <mask> <mask> <5-23> <6-9> <7-25> <0-5> <1-32> <2-29> <mask> <mask> <5-23> <6-9> <7-25> <0-5> <1-32> <2-29> <mask> <mask> <5-23> <6-9> <7-25> <0-5> <1-32> <2-29> <mask> <mask> <5-23> <6-9> <7-25> <0-5> <1-32> <2-29> <mask> <mask> <5-23> <6-9> <7-25> <0-5> <1-32> <2-34> <3-27> <4-20> <5-23> <6-9> <7-25> <0-5> <1-32> <2-48> <3-39> <4-20> <5-7> <6-9> <7-25> <0-5> <1-32> <2-48> <3-46> <4-20> <5-7> <6-9> <7-25> <0-5> <1-32> <2-48> <3-49> <4-12> <5-7> <6-9> <7-25> <0-5> <1-32> <2-48> <3-56> <4-12> <5-7> <6-9> <7-25> <0-5> <1-32> <2-48> <3-61> <4-12> <5-7> <6-9> <7-25> <0-5> <1-32> <2-128> <3-164> <4-8> <5-31> <6-9> <7-25> <0-5> <1-32> <2-128> <3-174> <4-8> <5-23> <6-9> <7-25> <0-5> <1-40> <2-128> <3-174> <4-4> <5-11> <6-9> <7-25> <0-5> <1-44> <2-29> <mask> <mask> <5-23> <6-9> <7-25> <0-5> <1-44> <2-29> <mask> <mask> <5-23> <6-9> <7-25> <0-5> <1-44> <2-29> <mask> <mask> <5-23> <6-9> <7-25> <0-5> <1-44> <2-48> <3-44> <4-4> <5-7> <6-9> <7-25> <0-5> <1-44> <2-48> <3-51> <4-4> <5-7> <6-9> <7-25> <0-5> <1-44> <2-48> <3-56> <4-4> <5-7> <6-9> <7-25> <0-5> <1-44> <2-128> <3-164> <4-4> <5-31> <6-9> <7-25> <0-5> <1-48> <2-29> <mask> <mask> <5-23> <6-9> <7-25> <0-5> <1-48> <2-29> <mask> <mask> <5-23> <6-9> <7-25> <0-5> <1-48> <2-29> <mask> <mask> <5-23> <6-9> <7-25> <0-5> <1-48> <2-48> <3-44> <4-4> <5-7> <6-9> <7-25> <0-5> <1-48> <2-48> <3-51> <4-4> <5-7> <6-9> <7-25> <0-5> <1-48> <2-48> <3-56> <4-4> <5-7> <6-9> <7-25> <0-5> <1-48> <2-128> <3-166> <4-8> <5-23> <6-9> <7-25> <0-5> <1-48> <2-128> <3-174> <4-8> <5-23> <6-9> <7-25> <0-5> <1-52> <2-29> <mask> <mask> <5-23> <6-9> <7-25> <0-5> <1-52> <2-29> <mask> <mask> <5-23> <6-9> <7-25> <0-5> <1-52> <2-29> <mask> <mask> <5-23> <6-9> <7-25> <0-5> <1-52> <2-48> <3-46> <4-4> <5-7> <6-9> <7-25> <0-5> <1-52> <2-48> <3-53> <4-4> <5-7> <6-9> <7-25> <0-5> <1-52> <2-48> <3-58> <4-4> <5-7> <6-9> <7-25> <0-5> <1-56> <2-29> <mask> <mask> <5-23> <6-9> <7-25> <0-5> <1-56> <2-29> <mask> <mask> <5-23> <6-9> <7-25> <0-5> <1-56> <2-29> <mask> <mask> <5-23> <6-9> <7-25> <0-5> <1-56> <2-29> <mask> <mask> <5-23> <6-9> <7-25> <0-5> <1-56> <2-29> <mask> <mask> <5-23> <6-9> <7-25> <0-5> <1-56> <2-34> <3-27> <4-8> <5-23> <6-9> <7-25> <0-5> <1-56> <2-48> <3-39> <4-8> <5-7> <6-9> <7-25> <0-5> <1-56> <2-48> <3-44> <4-8> <5-7> <6-9> <7-25> <0-5> <1-56> <2-48> <3-46> <4-8> <5-7> <6-9> <7-25> <0-5> <1-56> <2-48> <3-51> <4-8> <5-7> <6-9> <7-25> <0-5> <1-56> <2-48> <3-56> <4-8> <5-7> <6-9> <7-25> <0-5> <1-56> <2-128> <3-164> <4-8> <5-31> <6-9> <7-25> <0-5> <1-56> <2-128> <3-174> <4-8> <5-15> <6-9> <7-25> <0-5> <1-56> <2-128> <3-177> <4-8> <5-15> <6-9> <7-25> <0-6> <1-0> <2-24> <mask> <mask> <5-27> <6-9> <7-25> <0-6> <1-0> <2-48> <3-44> <4-12> <5-7> <6-9> <7-25> <0-6> <1-0> <2-128> <3-164> <4-16> <5-31> <6-9> <7-25> <0-6> <1-0> <2-128> <3-174> <4-16> <5-19> <6-9> <7-25> <0-6> <1-0> <2-128> <3-177> <4-16> <5-19> <6-9> <7-25> <0-6> <1-12> <2-24> <mask> <mask> <5-23> <6-9> <7-25> <0-6> <1-12> <2-48> <3-51> <4-4> <5-7> <6-9> <7-25> <0-6> <1-16> <2-24> <mask> <mask> <5-27> <6-9> <7-25> <0-6> <1-16> <2-48> <3-63> <4-4> <5-7> <6-9> <7-25> <0-6> <1-16> <2-128> <3-172> <4-16> <5-23> <6-9> <7-25> <0-6> <1-20> <2-24> <mask> <mask> <5-23> <6-9> <7-25> <0-6> <1-20> <2-48> <3-59> <4-4> <5-7> <6-9> <7-25> <0-6> <1-24> <2-24> <mask> <mask> <5-23> <6-9> <7-25> <0-6> <1-24> <2-48> <3-44> <4-4> <5-7> <6-9> <7-25> <0-6> <1-28> <2-24> <mask> <mask> <5-23> <6-9> <7-25> <0-6> <1-28> <2-48> <3-46> <4-4> <5-7> <6-9> <7-25> <0-6> <1-32> <2-24> <mask> <mask> <5-23> <6-9> <7-25> <0-6> <1-32> <2-48> <3-47> <4-8> <5-7> <6-9> <7-25> <0-6> <1-40> <2-24> <mask> <mask> <5-23> <6-9> <7-25> <0-6> <1-40> <2-48> <3-51> <4-4> <5-7> <6-9> <7-25> <0-6> <1-44> <2-24> <mask> <mask> <5-23> <6-9> <7-25> <0-6> <1-44> <2-48> <3-54> <4-4> <5-7> <6-9> <7-25> <0-6> <1-48> <2-24> <mask> <mask> <5-23> <6-9> <7-25> <0-6> <1-48> <2-48> <3-61> <4-8> <5-7> <6-9> <7-25> <0-6> <1-48> <2-128> <3-172> <4-16> <5-23> <6-9> <7-25> <0-6> <1-56> <2-24> <mask> <mask> <5-23> <6-9> <7-25> <0-6> <1-56> <2-48> <3-66> <4-8> <5-7> <6-9> <7-25> <0-7> <1-0> <2-24> <mask> <mask> <5-27> <6-9> <7-25> <0-7> <1-0> <2-24> <mask> <mask> <5-23> <6-9> <7-25> <0-7> <1-0> <2-48> <3-61> <4-12> <5-7> <6-9> <7-25> <0-7> <1-0> <2-48> <3-66> <4-12> <5-7> <6-9> <7-25> <0-7> <1-12> <2-24> <mask> <mask> <5-27> <6-9> <7-25> <0-7> <1-12> <2-48> <3-42> <4-4> <5-7> <6-9> <7-25> <0-7> <1-16> <2-24> <mask> <mask> <5-23> <6-9> <7-25> <0-7> <1-16> <2-48> <3-66> <4-4> <5-7> <6-9> <7-25> <0-7> <1-16> <2-128> <3-172> <4-16> <5-23> <6-9> <7-25> <0-7> <1-20> <2-24> <mask> <mask> <5-19> <6-9> <7-25> <0-7> <1-20> <2-48> <3-61> <4-8> <5-7> <6-9> <7-25> <0-7> <1-28> <2-24> <mask> <mask> <5-27> <6-9> <7-25> <0-7> <1-28> <2-48> <3-39> <4-4> <5-7> <6-9> <7-25> <0-7> <1-32> <2-24> <mask> <mask> <5-23> <6-9> <7-25> <0-7> <1-32> <2-48> <3-58> <4-8> <5-7> <6-9> <7-25> <0-7> <1-40> <2-24> <mask> <mask> <5-23> <6-9> <7-25> <0-7> <1-40> <2-48> <3-54> <4-4> <5-7> <6-9> <7-25> <0-7> <1-44> <2-24> <mask> <mask> <5-27> <6-9> <7-25> <0-7> <1-44> <2-48> <3-51> <4-4> <5-7> <6-9> <7-25> <0-7> <1-48> <2-24> <mask> <mask> <5-23> <6-9> <7-25> <0-7> <1-48> <2-24> <mask> <mask> <5-23> <6-9> <7-25> <0-7> <1-48> <2-48> <3-56> <4-4> <5-7> <6-9> <7-25> <0-7> <1-48> <2-48> <3-59> <4-4> <5-7> <6-9> <7-25> <0-7> <1-48> <2-128> <3-172> <4-16> <5-23> <6-9> <7-25> <0-7> <1-52> <2-24> <mask> <mask> <5-23> <6-9> <7-25> <0-7> <1-52> <2-24> <mask> <mask> <5-23> <6-9> <7-25> <0-7> <1-52> <2-48> <3-58> <4-4> <5-7> <6-9> <7-25> <0-7> <1-52> <2-48> <3-61> <4-4> <5-7> <6-9> <7-25> <0-7> <1-56> <2-24> <mask> <mask> <5-23> <6-9> <7-25> <0-7> <1-56> <2-24> <mask> <mask> <5-23> <6-9> <7-25> <0-7> <1-56> <2-48> <3-56> <4-4> <5-7> <6-9> <7-25> <0-7> <1-56> <2-48> <3-59> <4-4> <5-7> <6-9> <7-25> <0-7> <1-60> <2-24> <mask> <mask> <5-17> <6-9> <7-25> <0-7> <1-60> <2-24> <mask> <mask> <5-23> <6-9> <7-25> <0-7> <1-60> <2-24> <mask> <mask> <5-17> <6-9> <7-25> <0-7> <1-60> <2-24> <mask> <mask> <5-23> <6-9> <7-25> <0-7> <1-60> <2-48> <3-54> <4-4> <5-3> <6-9> <7-25> <0-7> <1-60> <2-48> <3-56> <4-4> <5-7> <6-9> <7-25> <0-7> <1-60> <2-48> <3-58> <4-4> <5-3> <6-9> <7-25> <0-7> <1-60> <2-48> <3-63> <4-4> <5-7> <6-9> <7-25> <0-8> <1-0> <2-24> <mask> <mask> <5-27> <6-9> <7-25> <0-8> <1-0> <2-24> <mask> <mask> <5-23> <6-9> <7-25> <0-8> <1-0> <2-24> <mask> <mask> <5-23> <6-9> <7-25> <0-8> <1-0> <2-48> <3-44> <4-12> <5-7> <6-9> <7-25> <0-8> <1-0> <2-48> <3-59> <4-20> <5-7> <6-9> <7-25> <0-8> <1-0> <2-48> <3-68> <4-20> <5-7> <6-9> <7-25> <0-8> <1-12> <2-24> <mask> <mask> <5-23> <6-9> <7-25> <0-8> <1-12> <2-48> <3-51> <4-4> <5-7> <6-9> <7-25> <0-8> <1-16> <2-24> <mask> <mask> <5-27> <6-9> <7-25> <0-8> <1-16> <2-48> <3-63> <4-4> <5-7> <6-9> <7-25> <0-8> <1-16> <2-128> <3-172> <4-16> <5-23> <6-9> <7-25> <0-8> <1-20> <2-24> <mask> <mask> <5-23> <6-9> <7-25> <0-8> <1-20> <2-48> <3-59> <4-4> <5-7> <6-9> <7-25> <0-8> <1-24> <2-24> <mask> <mask> <5-23> <6-9> <7-25> <0-8> <1-24> <2-24> <mask> <mask> <5-23> <6-9> <7-25> <0-8> <1-24> <2-24> <mask> <mask> <5-23> <6-9> <7-25> <0-8> <1-24> <2-48> <3-44> <4-4> <5-7> <6-9> <7-25> <0-8> <1-24> <2-48> <3-59> <4-4> <5-7> <6-9> <7-25> <0-8> <1-24> <2-48> <3-68> <4-4> <5-7> <6-9> <7-25> <0-8> <1-28> <2-24> <mask> <mask> <5-23> <6-9> <7-25> <0-8> <1-28> <2-24> <mask> <mask> <5-23> <6-9> <7-25> <0-8> <1-28> <2-24> <mask> <mask> <5-23> <6-9> <7-25> <0-8> <1-28> <2-48> <3-46> <4-4> <5-7> <6-9> <7-25> <0-8> <1-28> <2-48> <3-61> <4-4> <5-7> <6-9> <7-25> <0-8> <1-28> <2-48> <3-70> <4-4> <5-7> <6-9> <7-25> <0-8> <1-32> <2-24> <mask> <mask> <5-23> <6-9> <7-25> <0-8> <1-32> <2-24> <mask> <mask> <5-23> <6-9> <7-25> <0-8> <1-32> <2-24> <mask> <mask> <5-23> <6-9> <7-25> <0-8> <1-32> <2-48> <3-47> <4-8> <5-7> <6-9> <7-25> <0-8> <1-32> <2-48> <3-63> <4-20> <5-7> <6-9> <7-25> <0-8> <1-32> <2-48> <3-71> <4-20> <5-7> <6-9> <7-25> <0-8> <1-40> <2-24> <mask> <mask> <5-23> <6-9> <7-25> <0-8> <1-40> <2-48> <3-51> <4-4> <5-7> <6-9> <7-25> <0-8> <1-44> <2-24> <mask> <mask> <5-23> <6-9> <7-25> <0-8> <1-44> <2-48> <3-54> <4-4> <5-7> <6-9> <7-25> <0-8> <1-48> <2-24> <mask> <mask> <5-23> <6-9> <7-25> <0-8> <1-48> <2-48> <3-61> <4-8> <5-7> <6-9> <7-25> <0-8> <1-48> <2-128> <3-172> <4-16> <5-23> <6-9> <7-25> <0-8> <1-56> <2-24> <mask> <mask> <5-23> <6-9> <7-25> <0-8> <1-56> <2-24> <mask> <mask> <5-23> <6-9> <7-25> <0-8> <1-56> <2-24> <mask> <mask> <5-23> <6-9> <7-25> <0-8> <1-56> <2-48> <3-61> <4-24> <5-7> <6-9> <7-25> <0-8> <1-56> <2-48> <3-66> <4-8> <5-7> <6-9> <7-25> <0-8> <1-56> <2-48> <3-70> <4-24> <5-7> <6-9> <7-25> <0-9> <1-0> <2-24> <mask> <mask> <5-27> <6-9> <7-25> <0-9> <1-0> <2-24> <mask> <mask> <5-23> <6-9> <7-25> <0-9> <1-0> <2-48> <3-61> <4-12> <5-7> <6-9> <7-25> <0-9> <1-0> <2-48> <3-66> <4-12> <5-7> <6-9> <7-25> <0-9> <1-12> <2-24> <mask> <mask> <5-27> <6-9> <7-25> <0-9> <1-12> <2-48> <3-42> <4-4> <5-7> <6-9> <7-25> <0-9> <1-16> <2-24> <mask> <mask> <5-23> <6-9> <7-25> <0-9> <1-16> <2-48> <3-66> <4-4> <5-7> <6-9> <7-25> <0-9> <1-16> <2-128> <3-172> <4-16> <5-23> <6-9> <7-25> <0-9> <1-20> <2-24> <mask> <mask> <5-19> <6-9> <7-25> <0-9> <1-20> <2-48> <3-61> <4-8> <5-7> <6-9> <7-25> <0-9> <1-24> <2-24> <mask> <mask> <5-23> <6-9> <7-25> <0-9> <1-24> <2-24> <mask> <mask> <5-23> <6-9> <7-25> <0-9> <1-24> <2-48> <3-61> <4-8> <5-7> <6-9> <7-25> <0-9> <1-24> <2-48> <3-70> <4-8> <5-7> <6-9> <7-25> <0-9> <1-28> <2-24> <mask> <mask> <5-27> <6-9> <7-25> <0-9> <1-28> <2-48> <3-39> <4-4> <5-7> <6-9> <7-25> <0-9> <1-32> <2-24> <mask> <mask> <5-23> <6-9> <7-25> <0-9> <1-32> <2-24> <mask> <mask> <5-23> <6-9> <7-25> <0-9> <1-32> <2-24> <mask> <mask> <5-23> <6-9> <7-25> <0-9> <1-32> <2-48> <3-58> <4-8> <5-7> <6-9> <7-25> <0-9> <1-32> <2-48> <3-58> <4-20> <5-7> <6-9> <7-25> <0-9> <1-32> <2-48> <3-67> <4-20> <5-7> <6-9> <7-25> <0-9> <1-40> <2-24> <mask> <mask> <5-23> <6-9> <7-25> <0-9> <1-40> <2-48> <3-54> <4-4> <5-7> <6-9> <7-25> <0-9> <1-44> <2-24> <mask> <mask> <5-27> <6-9> <7-25> <0-9> <1-44> <2-48> <3-51> <4-4> <5-7> <6-9> <7-25> <0-9> <1-48> <2-24> <mask> <mask> <5-23> <6-9> <7-25> <0-9> <1-48> <2-24> <mask> <mask> <5-23> <6-9> <7-25> <0-9> <1-48> <2-48> <3-56> <4-1> <5-7> <6-9> <7-25> <0-9> <1-48> <2-48> <3-59> <4-1> <5-7> <6-9> <7-25> <0-9> <1-48> <2-128> <3-172> <4-16> <5-23> <6-9> <7-25> <0-9> <1-49> <2-24> <mask> <mask> <5-23> <6-9> <7-25> <0-9> <1-49> <2-24> <mask> <mask> <5-23> <6-9> <7-25> <0-9> <1-49> <2-48> <3-58> <4-7> <5-7> <6-9> <7-25> <0-9> <1-49> <2-48> <3-61> <4-7> <5-7> <6-9> <7-25> <0-9> <1-56> <2-24> <mask> <mask> <5-23> <6-9> <7-25> <0-9> <1-56> <2-24> <mask> <mask> <5-23> <6-9> <7-25> <0-9> <1-56> <2-24> <mask> <mask> <5-23> <6-9> <7-25> <0-9> <1-56> <2-24> <mask> <mask> <5-23> <6-9> <7-25> <0-9> <1-56> <2-48> <3-56> <4-8> <5-7> <6-9> <7-25> <0-9> <1-56> <2-48> <3-58> <4-8> <5-7> <6-9> <7-25> <0-9> <1-56> <2-48> <3-59> <4-8> <5-7> <6-9> <7-25> <0-9> <1-56> <2-48> <3-67> <4-8> <5-7> <6-9> <7-25> <0-10> <1-0> <2-24> <mask> <mask> <5-27> <6-9> <7-25> <0-10> <1-0> <2-24> <mask> <mask> <5-23> <6-9> <7-25> <0-10> <1-0> <2-24> <mask> <mask> <5-23> <6-9> <7-25> <0-10> <1-0> <2-34> <3-32> <4-20> <5-23> <6-9> <7-25> <0-10> <1-0> <2-48> <3-44> <4-12> <5-7> <6-9> <7-25> <0-10> <1-0> <2-48> <3-59> <4-36> <5-7> <6-9> <7-25> <0-10> <1-0> <2-48> <3-68> <4-36> <5-7> <6-9> <7-25> <0-10> <1-0> <2-128> <3-164> <4-8> <5-31> <6-9> <7-25> <0-10> <1-0> <2-128> <3-177> <4-8> <5-23> <6-9> <7-25> <0-10> <1-8> <2-128> <3-174> <4-8> <5-11> <6-9> <7-25> <0-10> <1-12> <2-24> <mask> <mask> <5-23> <6-9> <7-25> <0-10> <1-12> <2-48> <3-51> <4-4> <5-7> <6-9> <7-25> <0-10> <1-16> <2-24> <mask> <mask> <5-27> <6-9> <7-25> <0-10> <1-16> <2-48> <3-63> <4-4> <5-7> <6-9> <7-25> <0-10> <1-16> <2-128> <3-166> <4-8> <5-23> <6-9> <7-25> <0-10> <1-16> <2-128> <3-174> <4-8> <5-23> <6-9> <7-25> <0-10> <1-20> <2-24> <mask> <mask> <5-23> <6-9> <7-25> <0-10> <1-20> <2-48> <3-59> <4-4> <5-7> <6-9> <7-25> <0-10> <1-24> <2-24> <mask> <mask> <5-23> <6-9> <7-25> <0-10> <1-24> <2-34> <3-32> <4-4> <5-27> <6-9> <7-25> <0-10> <1-24> <2-48> <3-44> <4-4> <5-7> <6-9> <7-25> <0-10> <1-24> <2-128> <3-174> <4-8> <5-11> <6-9> <7-25> <0-10> <1-28> <2-24> <mask> <mask> <5-23> <6-9> <7-25> <0-10> <1-28> <2-34> <3-34> <4-4> <5-23> <6-9> <7-25> <0-10> <1-28> <2-48> <3-46> <4-4> <5-7> <6-9> <7-25> <0-10> <1-32> <2-24> <mask> <mask> <5-23> <6-9> <7-25> <0-10> <1-32> <2-34> <3-35> <4-20> <5-23> <6-9> <7-25> <0-10> <1-32> <2-48> <3-47> <4-8> <5-7> <6-9> <7-25> <0-10> <1-32> <2-128> <3-174> <4-8> <5-23> <6-9> <7-25> <0-10> <1-40> <2-24> <mask> <mask> <5-23> <6-9> <7-25> <0-10> <1-40> <2-48> <3-51> <4-4> <5-7> <6-9> <7-25> <0-10> <1-40> <2-128> <3-164> <4-8> <5-31> <6-9> <7-25> <0-10> <1-40> <2-128> <3-174> <4-8> <5-11> <6-9> <7-25> <0-10> <1-44> <2-24> <mask> <mask> <5-23> <6-9> <7-25> <0-10> <1-44> <2-48> <3-54> <4-4> <5-7> <6-9> <7-25> <0-10> <1-48> <2-24> <mask> <mask> <5-23> <6-9> <7-25> <0-10> <1-48> <2-48> <3-61> <4-8> <5-7> <6-9> <7-25> <0-10> <1-48> <2-128> <3-166> <4-8> <5-23> <6-9> <7-25> <0-10> <1-48> <2-128> <3-174> <4-8> <5-23> <6-9> <7-25> <0-10> <1-56> <2-24> <mask> <mask> <5-23> <6-9> <7-25> <0-10> <1-56> <2-34> <3-35> <4-8> <5-23> <6-9> <7-25> <0-10> <1-56> <2-48> <3-66> <4-8> <5-7> <6-9> <7-25> <0-10> <1-56> <2-128> <3-164> <4-8> <5-31> <6-9> <7-25> <0-10> <1-56> <2-128> <3-174> <4-8> <5-11> <6-9> <7-25> <0-11> <1-0> <2-24> <mask> <mask> <5-27> <6-9> <7-25> <0-11> <1-0> <2-24> <mask> <mask> <5-23> <6-9> <7-25> <0-11> <1-0> <2-34> <3-30> <4-20> <5-23> <6-9> <7-25> <0-11> <1-0> <2-48> <3-61> <4-12> <5-7> <6-9> <7-25> <0-11> <1-0> <2-48> <3-66> <4-12> <5-7> <6-9> <7-25> <0-11> <1-0> <2-128> <3-164> <4-8> <5-31> <6-9> <7-25> <0-11> <1-0> <2-128> <3-174> <4-8> <5-23> <6-9> <7-25> <0-11> <1-8> <2-128> <3-174> <4-8> <5-11> <6-9> <7-25> <0-11> <1-12> <2-24> <mask> <mask> <5-27> <6-9> <7-25> <0-11> <1-12> <2-48> <3-42> <4-4> <5-7> <6-9> <7-25> <0-11> <1-16> <2-24> <mask> <mask> <5-23> <6-9> <7-25> <0-11> <1-16> <2-48> <3-66> <4-4> <5-7> <6-9> <7-25> <0-11> <1-16> <2-128> <3-166> <4-8> <5-23> <6-9> <7-25> <0-11> <1-16> <2-128> <3-174> <4-8> <5-23> <6-9> <7-25> <0-11> <1-20> <2-24> <mask> <mask> <5-19> <6-9> <7-25> <0-11> <1-20> <2-48> <3-61> <4-8> <5-7> <6-9> <7-25> <0-11> <1-24> <2-34> <3-30> <4-8> <5-23> <6-9> <7-25> <0-11> <1-24> <2-128> <3-174> <4-8> <5-11> <6-9> <7-25> <0-11> <1-28> <2-24> <mask> <mask> <5-27> <6-9> <7-25> <0-11> <1-28> <2-48> <3-39> <4-4> <5-7> <6-9> <7-25> <0-11> <1-32> <2-24> <mask> <mask> <5-23> <6-9> <7-25> <0-11> <1-32> <2-34> <3-27> <4-20> <5-23> <6-9> <7-25> <0-11> <1-32> <2-48> <3-58> <4-8> <5-7> <6-9> <7-25> <0-11> <1-32> <2-128> <3-164> <4-8> <5-31> <6-9> <7-25> <0-11> <1-32> <2-128> <3-174> <4-8> <5-23> <6-9> <7-25> <0-11> <1-40> <2-24> <mask> <mask> <5-23> <6-9> <7-25> <0-11> <1-40> <2-48> <3-54> <4-4> <5-7> <6-9> <7-25> <0-11> <1-40> <2-128> <3-174> <4-4> <5-11> <6-9> <7-25> <0-11> <1-44> <2-24> <mask> <mask> <5-27> <6-9> <7-25> <0-11> <1-44> <2-48> <3-51> <4-4> <5-7> <6-9> <7-25> <0-11> <1-44> <2-128> <3-164> <4-4> <5-31> <6-9> <7-25> <0-11> <1-48> <2-24> <mask> <mask> <5-23> <6-9> <7-25> <0-11> <1-48> <2-24> <mask> <mask> <5-23> <6-9> <7-25> <0-11> <1-48> <2-48> <3-56> <4-4> <5-7> <6-9> <7-25> <0-11> <1-48> <2-48> <3-59> <4-4> <5-7> <6-9> <7-25> <0-11> <1-48> <2-128> <3-166> <4-8> <5-23> <6-9> <7-25> <0-11> <1-48> <2-128> <3-174> <4-8> <5-23> <6-9> <7-25> <0-11> <1-52> <2-24> <mask> <mask> <5-23> <6-9> <7-25> <0-11> <1-52> <2-24> <mask> <mask> <5-23> <6-9> <7-25> <0-11> <1-52> <2-48> <3-58> <4-4> <5-7> <6-9> <7-25> <0-11> <1-52> <2-48> <3-61> <4-4> <5-7> <6-9> <7-25> <0-11> <1-56> <2-24> <mask> <mask> <5-23> <6-9> <7-25> <0-11> <1-56> <2-24> <mask> <mask> <5-23> <6-9> <7-25> <0-11> <1-56> <2-34> <3-27> <4-8> <5-23> <6-9> <7-25> <0-11> <1-56> <2-48> <3-56> <4-4> <5-7> <6-9> <7-25> <0-11> <1-56> <2-48> <3-59> <4-4> <5-7> <6-9> <7-25> <0-11> <1-56> <2-128> <3-164> <4-8> <5-31> <6-9> <7-25> <0-11> <1-56> <2-128> <3-174> <4-8> <5-19> <6-9> <7-25> <0-11> <1-60> <2-24> <mask> <mask> <5-17> <6-9> <7-25> <0-11> <1-60> <2-24> <mask> <mask> <5-17> <6-9> <7-25> <0-11> <1-60> <2-48> <3-54> <4-4> <5-3> <6-9> <7-25> <0-11> <1-60> <2-48> <3-58> <4-4> <5-3> <6-9> <7-25> <0-12> <1-0> <2-24> <mask> <mask> <5-27> <6-9> <7-25> <0-12> <1-0> <2-34> <3-32> <4-20> <5-23> <6-9> <7-25> <0-12> <1-0> <2-48> <3-44> <4-12> <5-7> <6-9> <7-25> <0-12> <1-0> <2-128> <3-164> <4-8> <5-31> <6-9> <7-25> <0-12> <1-0> <2-128> <3-174> <4-8> <5-23> <6-9> <7-25> <0-12> <1-8> <2-128> <3-174> <4-8> <5-11> <6-9> <7-25> <0-12> <1-12> <2-24> <mask> <mask> <5-23> <6-9> <7-25> <0-12> <1-12> <2-48> <3-51> <4-4> <5-7> <6-9> <7-25> <0-12> <1-16> <2-24> <mask> <mask> <5-27> <6-9> <7-25> <0-12> <1-16> <2-48> <3-63> <4-4> <5-7> <6-9> <7-25> <0-12> <1-16> <2-128> <3-166> <4-8> <5-23> <6-9> <7-25> <0-12> <1-16> <2-128> <3-174> <4-8> <5-23> <6-9> <7-25> <0-12> <1-20> <2-24> <mask> <mask> <5-23> <6-9> <7-25> <0-12> <1-20> <2-48> <3-59> <4-4> <5-7> <6-9> <7-25> <0-12> <1-24> <2-24> <mask> <mask> <5-23> <6-9> <7-25> <0-12> <1-24> <2-34> <3-32> <4-4> <5-27> <6-9> <7-25> <0-12> <1-24> <2-48> <3-44> <4-4> <5-7> <6-9> <7-25> <0-12> <1-24> <2-128> <3-174> <4-8> <5-11> <6-9> <7-25> <0-12> <1-28> <2-24> <mask> <mask> <5-23> <6-9> <7-25> <0-12> <1-28> <2-34> <3-34> <4-4> <5-23> <6-9> <7-25> <0-12> <1-28> <2-48> <3-46> <4-4> <5-7> <6-9> <7-25> <0-12> <1-32> <2-24> <mask> <mask> <5-23> <6-9> <7-25> <0-12> <1-32> <2-34> <3-35> <4-20> <5-23> <6-9> <7-25> <0-12> <1-32> <2-48> <3-47> <4-8> <5-7> <6-9> <7-25> <0-12> <1-32> <2-128> <3-174> <4-8> <5-23> <6-9> <7-25> <0-12> <1-40> <2-24> <mask> <mask> <5-23> <6-9> <7-25> <0-12> <1-40> <2-48> <3-51> <4-4> <5-7> <6-9> <7-25> <0-12> <1-40> <2-128> <3-164> <4-8> <5-31> <6-9> <7-25> <0-12> <1-40> <2-128> <3-174> <4-8> <5-11> <6-9> <7-25> <0-12> <1-44> <2-24> <mask> <mask> <5-23> <6-9> <7-25> <0-12> <1-44> <2-48> <3-54> <4-4> <5-7> <6-9> <7-25> <0-12> <1-48> <2-24> <mask> <mask> <5-23> <6-9> <7-25> <0-12> <1-48> <2-48> <3-61> <4-8> <5-7> <6-9> <7-25> <0-12> <1-48> <2-128> <3-166> <4-8> <5-23> <6-9> <7-25> <0-12> <1-48> <2-128> <3-174> <4-8> <5-23> <6-9> <7-25> <0-12> <1-56> <2-24> <mask> <mask> <5-23> <6-9> <7-25> <0-12> <1-56> <2-34> <3-35> <4-8> <5-23> <6-9> <7-25> <0-12> <1-56> <2-48> <3-66> <4-8> <5-7> <6-9> <7-25> <0-12> <1-56> <2-128> <3-164> <4-8> <5-31> <6-9> <7-25> <0-12> <1-56> <2-128> <3-174> <4-8> <5-11> <6-9> <7-25> <0-13> <1-0> <2-24> <mask> <mask> <5-27> <6-9> <7-25> <0-13> <1-0> <2-24> <mask> <mask> <5-23> <6-9> <7-25> <0-13> <1-0> <2-34> <3-30> <4-20> <5-23> <6-9> <7-25> <0-13> <1-0> <2-48> <3-61> <4-12> <5-7> <6-9> <7-25> <0-13> <1-0> <2-48> <3-66> <4-12> <5-7> <6-9> <7-25> <0-13> <1-0> <2-128> <3-164> <4-8> <5-31> <6-9> <7-25> <0-13> <1-0> <2-128> <3-174> <4-8> <5-23> <6-9> <7-25> <0-13> <1-8> <2-128> <3-174> <4-8> <5-11> <6-9> <7-25> <0-13> <1-12> <2-24> <mask> <mask> <5-27> <6-9> <7-25> <0-13> <1-12> <2-48> <3-42> <4-4> <5-7> <6-9> <7-25> <0-13> <1-16> <2-24> <mask> <mask> <5-23> <6-9> <7-25> <0-13> <1-16> <2-48> <3-66> <4-4> <5-7> <6-9> <7-25> <0-13> <1-16> <2-128> <3-166> <4-8> <5-23> <6-9> <7-25> <0-13> <1-16> <2-128> <3-174> <4-8> <5-23> <6-9> <7-25> <0-13> <1-20> <2-24> <mask> <mask> <5-19> <6-9> <7-25> <0-13> <1-20> <2-48> <3-61> <4-8> <5-7> <6-9> <7-25> <0-13> <1-24> <2-34> <3-30> <4-8> <5-23> <6-9> <7-25> <0-13> <1-24> <2-128> <3-174> <4-8> <5-11> <6-9> <7-25> <0-13> <1-28> <2-24> <mask> <mask> <5-27> <6-9> <7-25> <0-13> <1-28> <2-48> <3-39> <4-4> <5-7> <6-9> <7-25> <0-13> <1-32> <2-24> <mask> <mask> <5-23> <6-9> <7-25> <0-13> <1-32> <2-34> <3-27> <4-20> <5-23> <6-9> <7-25> <0-13> <1-32> <2-48> <3-58> <4-8> <5-7> <6-9> <7-25> <0-13> <1-32> <2-128> <3-164> <4-8> <5-31> <6-9> <7-25> <0-13> <1-32> <2-128> <3-174> <4-8> <5-23> <6-9> <7-25> <0-13> <1-40> <2-24> <mask> <mask> <5-23> <6-9> <7-25> <0-13> <1-40> <2-48> <3-54> <4-4> <5-7> <6-9> <7-25> <0-13> <1-40> <2-128> <3-174> <4-4> <5-11> <6-9> <7-25> <0-13> <1-44> <2-24> <mask> <mask> <5-27> <6-9> <7-25> <0-13> <1-44> <2-48> <3-51> <4-4> <5-7> <6-9> <7-25> <0-13> <1-44> <2-128> <3-164> <4-4> <5-31> <6-9> <7-25> <0-13> <1-48> <2-24> <mask> <mask> <5-23> <6-9> <7-25> <0-13> <1-48> <2-24> <mask> <mask> <5-23> <6-9> <7-25> <0-13> <1-48> <2-48> <3-56> <4-1> <5-7> <6-9> <7-25> <0-13> <1-48> <2-48> <3-59> <4-1> <5-7> <6-9> <7-25> <0-13> <1-48> <2-128> <3-166> <4-8> <5-23> <6-9> <7-25> <0-13> <1-48> <2-128> <3-174> <4-8> <5-23> <6-9> <7-25> <0-13> <1-49> <2-24> <mask> <mask> <5-23> <6-9> <7-25> <0-13> <1-49> <2-24> <mask> <mask> <5-23> <6-9> <7-25> <0-13> <1-49> <2-48> <3-58> <4-7> <5-7> <6-9> <7-25> <0-13> <1-49> <2-48> <3-61> <4-7> <5-7> <6-9> <7-25> <0-13> <1-56> <2-24> <mask> <mask> <5-23> <6-9> <7-25> <0-13> <1-56> <2-24> <mask> <mask> <5-23> <6-9> <7-25> <0-13> <1-56> <2-34> <3-27> <4-8> <5-23> <6-9> <7-25> <0-13> <1-56> <2-48> <3-56> <4-8> <5-7> <6-9> <7-25> <0-13> <1-56> <2-48> <3-59> <4-8> <5-7> <6-9> <7-25> <0-13> <1-56> <2-128> <3-164> <4-8> <5-31> <6-9> <7-25> <0-13> <1-56> <2-128> <3-174> <4-8> <5-19> <6-9> <7-25> <0-14> <1-0> <2-24> <mask> <mask> <5-27> <6-9> <7-25> <0-14> <1-0> <2-34> <3-32> <4-20> <5-23> <6-9> <7-25> <0-14> <1-0> <2-48> <3-44> <4-12> <5-7> <6-9> <7-25> <0-14> <1-0> <2-128> <3-164> <4-8> <5-31> <6-9> <7-25> <0-14> <1-0> <2-128> <3-174> <4-8> <5-23> <6-9> <7-25> <0-14> <1-8> <2-128> <3-174> <4-8> <5-11> <6-9> <7-25> <0-14> <1-12> <2-24> <mask> <mask> <5-23> <6-9> <7-25> <0-14> <1-12> <2-48> <3-51> <4-4> <5-7> <6-9> <7-25> <0-14> <1-16> <2-24> <mask> <mask> <5-27> <6-9> <7-25> <0-14> <1-16> <2-48> <3-63> <4-4> <5-7> <6-9> <7-25> <0-14> <1-16> <2-128> <3-166> <4-8> <5-23> <6-9> <7-25> <0-14> <1-16> <2-128> <3-174> <4-8> <5-23> <6-9> <7-25> <0-14> <1-20> <2-24> <mask> <mask> <5-23> <6-9> <7-25> <0-14> <1-20> <2-48> <3-59> <4-4> <5-7> <6-9> <7-25> <0-14> <1-24> <2-24> <mask> <mask> <5-23> <6-9> <7-25> <0-14> <1-24> <2-34> <3-32> <4-4> <5-27> <6-9> <7-25> <0-14> <1-24> <2-48> <3-44> <4-4> <5-7> <6-9> <7-25> <0-14> <1-24> <2-128> <3-174> <4-8> <5-11> <6-9> <7-25> <0-14> <1-28> <2-24> <mask> <mask> <5-23> <6-9> <7-25> <0-14> <1-28> <2-34> <3-34> <4-4> <5-23> <6-9> <7-25> <0-14> <1-28> <2-48> <3-46> <4-4> <5-7> <6-9> <7-25> <0-14> <1-32> <2-24> <mask> <mask> <5-23> <6-9> <7-25> <0-14> <1-32> <2-34> <3-35> <4-20> <5-23> <6-9> <7-25> <0-14> <1-32> <2-48> <3-47> <4-8> <5-7> <6-9> <7-25> <0-14> <1-32> <2-128> <3-174> <4-8> <5-23> <6-9> <7-25> <0-14> <1-40> <2-24> <mask> <mask> <5-23> <6-9> <7-25> <0-14> <1-40> <2-48> <3-51> <4-4> <5-7> <6-9> <7-25> <0-14> <1-40> <2-128> <3-164> <4-8> <5-31> <6-9> <7-25> <0-14> <1-40> <2-128> <3-174> <4-8> <5-11> <6-9> <7-25> <0-14> <1-44> <2-24> <mask> <mask> <5-23> <6-9> <7-25> <0-14> <1-44> <2-48> <3-54> <4-4> <5-7> <6-9> <7-25> <0-14> <1-48> <2-24> <mask> <mask> <5-23> <6-9> <7-25> <0-14> <1-48> <2-48> <3-61> <4-8> <5-7> <6-9> <7-25> <0-14> <1-48> <2-128> <3-166> <4-8> <5-23> <6-9> <7-25> <0-14> <1-48> <2-128> <3-174> <4-8> <5-23> <6-9> <7-25> <0-14> <1-56> <2-24> <mask> <mask> <5-23> <6-9> <7-25> <0-14> <1-56> <2-34> <3-35> <4-8> <5-23> <6-9> <7-25> <0-14> <1-56> <2-48> <3-66> <4-8> <5-7> <6-9> <7-25> <0-14> <1-56> <2-128> <3-164> <4-8> <5-31> <6-9> <7-25> <0-14> <1-56> <2-128> <3-174> <4-8> <5-11> <6-9> <7-25> <0-15> <1-0> <2-24> <mask> <mask> <5-27> <6-9> <7-25> <0-15> <1-0> <2-24> <mask> <mask> <5-23> <6-9> <7-25> <0-15> <1-0> <2-34> <3-30> <4-20> <5-23> <6-9> <7-25> <0-15> <1-0> <2-48> <3-61> <4-12> <5-7> <6-9> <7-25> <0-15> <1-0> <2-48> <3-66> <4-12> <5-7> <6-9> <7-25> <0-15> <1-0> <2-128> <3-164> <4-8> <5-31> <6-9> <7-25> <0-15> <1-0> <2-128> <3-174> <4-8> <5-23> <6-9> <7-25> <0-15> <1-8> <2-128> <3-174> <4-8> <5-11> <6-9> <7-25> <0-15> <1-12> <2-24> <mask> <mask> <5-27> <6-9> <7-25> <0-15> <1-12> <2-48> <3-42> <4-4> <5-7> <6-9> <7-25> <0-15> <1-16> <2-24> <mask> <mask> <5-23> <6-9> <7-25> <0-15> <1-16> <2-48> <3-66> <4-4> <5-7> <6-9> <7-25> <0-15> <1-16> <2-128> <3-166> <4-8> <5-23> <6-9> <7-25> <0-15> <1-16> <2-128> <3-174> <4-8> <5-23> <6-9> <7-25> <0-15> <1-20> <2-24> <mask> <mask> <5-19> <6-9> <7-25> <0-15> <1-20> <2-48> <3-61> <4-8> <5-7> <6-9> <7-25> <0-15> <1-24> <2-34> <3-30> <4-8> <5-23> <6-9> <7-25> <0-15> <1-24> <2-128> <3-174> <4-8> <5-11> <6-9> <7-25> <0-15> <1-28> <2-24> <mask> <mask> <5-27> <6-9> <7-25> <0-15> <1-28> <2-48> <3-39> <4-4> <5-7> <6-9> <7-25> <0-15> <1-32> <2-24> <mask> <mask> <5-23> <6-9> <7-25> <0-15> <1-32> <2-34> <3-27> <4-20> <5-23> <6-9> <7-25> <0-15> <1-32> <2-48> <3-58> <4-8> <5-7> <6-9> <7-25> <0-15> <1-32> <2-128> <3-164> <4-8> <5-31> <6-9> <7-25> <0-15> <1-32> <2-128> <3-174> <4-8> <5-23> <6-9> <7-25> <0-15> <1-40> <2-24> <mask> <mask> <5-23> <6-9> <7-25> <0-15> <1-40> <2-48> <3-54> <4-4> <5-7> <6-9> <7-25> <0-15> <1-40> <2-128> <3-174> <4-4> <5-11> <6-9> <7-25> <0-15> <1-44> <2-24> <mask> <mask> <5-27> <6-9> <7-25> <0-15> <1-44> <2-48> <3-51> <4-4> <5-7> <6-9> <7-25> <0-15> <1-44> <2-128> <3-164> <4-4> <5-31> <6-9> <7-25> <0-15> <1-48> <2-24> <mask> <mask> <5-23> <6-9> <7-25> <0-15> <1-48> <2-24> <mask> <mask> <5-23> <6-9> <7-25> <0-15> <1-48> <2-48> <3-56> <4-4> <5-7> <6-9> <7-25> <0-15> <1-48> <2-48> <3-59> <4-4> <5-7> <6-9> <7-25> <0-15> <1-48> <2-128> <3-166> <4-8> <5-23> <6-9> <7-25> <0-15> <1-48> <2-128> <3-174> <4-8> <5-23> <6-9> <7-25> <0-15> <1-52> <2-24> <mask> <mask> <5-23> <6-9> <7-25> <0-15> <1-52> <2-24> <mask> <mask> <5-23> <6-9> <7-25> <0-15> <1-52> <2-48> <3-58> <4-4> <5-7> <6-9> <7-25> <0-15> <1-52> <2-48> <3-61> <4-4> <5-7> <6-9> <7-25> <0-15> <1-56> <2-24> <mask> <mask> <5-23> <6-9> <7-25> <0-15> <1-56> <2-24> <mask> <mask> <5-23> <6-9> <7-25> <0-15> <1-56> <2-34> <3-27> <4-8> <5-23> <6-9> <7-25> <0-15> <1-56> <2-48> <3-56> <4-4> <5-7> <6-9> <7-25> <0-15> <1-56> <2-48> <3-59> <4-4> <5-7> <6-9> <7-25> <0-15> <1-56> <2-128> <3-164> <4-8> <5-31> <6-9> <7-25> <0-15> <1-56> <2-128> <3-174> <4-8> <5-19> <6-9> <7-25> <0-15> <1-60> <2-24> <mask> <mask> <5-17> <6-9> <7-25> <0-15> <1-60> <2-24> <mask> <mask> <5-17> <6-9> <7-25> <0-15> <1-60> <2-48> <3-54> <4-4> <5-3> <6-9> <7-25> <0-15> <1-60> <2-48> <3-58> <4-4> <5-3> <6-9> <7-25> <0-16> <1-0> <2-24> <mask> <mask> <5-27> <6-9> <7-25> <0-16> <1-0> <2-34> <3-32> <4-20> <5-23> <6-9> <7-25> <0-16> <1-0> <2-48> <3-44> <4-12> <5-7> <6-9> <7-25> <0-16> <1-0> <2-128> <3-164> <4-8> <5-31> <6-9> <7-25> <0-16> <1-0> <2-128> <3-174> <4-8> <5-23> <6-9> <7-25> <0-16> <1-8> <2-128> <3-174> <4-8> <5-11> <6-9> <7-25> <0-16> <1-12> <2-24> <mask> <mask> <5-23> <6-9> <7-25> <0-16> <1-12> <2-48> <3-51> <4-4> <5-7> <6-9> <7-25> <0-16> <1-16> <2-24> <mask> <mask> <5-27> <6-9> <7-25> <0-16> <1-16> <2-48> <3-63> <4-4> <5-7> <6-9> <7-25> <0-16> <1-16> <2-128> <3-166> <4-8> <5-23> <6-9> <7-25> <0-16> <1-16> <2-128> <3-174> <4-8> <5-23> <6-9> <7-25> <0-16> <1-20> <2-24> <mask> <mask> <5-23> <6-9> <7-25> <0-16> <1-20> <2-48> <3-59> <4-4> <5-7> <6-9> <7-25> <0-16> <1-24> <2-24> <mask> <mask> <5-23> <6-9> <7-25> <0-16> <1-24> <2-34> <3-32> <4-4> <5-27> <6-9> <7-25> <0-16> <1-24> <2-48> <3-44> <4-4> <5-7> <6-9> <7-25> <0-16> <1-24> <2-128> <3-174> <4-8> <5-11> <6-9> <7-25> <0-16> <1-28> <2-24> <mask> <mask> <5-23> <6-9> <7-25> <0-16> <1-28> <2-34> <3-34> <4-4> <5-23> <6-9> <7-25> <0-16> <1-28> <2-48> <3-46> <4-4> <5-7> <6-9> <7-25> <0-16> <1-32> <2-24> <mask> <mask> <5-23> <6-9> <7-25> <0-16> <1-32> <2-34> <3-35> <4-20> <5-23> <6-9> <7-25> <0-16> <1-32> <2-48> <3-47> <4-8> <5-7> <6-9> <7-25> <0-16> <1-32> <2-128> <3-174> <4-8> <5-23> <6-9> <7-25> <0-16> <1-40> <2-24> <mask> <mask> <5-23> <6-9> <7-25> <0-16> <1-40> <2-48> <3-51> <4-4> <5-7> <6-9> <7-25> <0-16> <1-40> <2-128> <3-164> <4-8> <5-31> <6-9> <7-25> <0-16> <1-40> <2-128> <3-174> <4-8> <5-11> <6-9> <7-25> <0-16> <1-44> <2-24> <mask> <mask> <5-23> <6-9> <7-25> <0-16> <1-44> <2-48> <3-54> <4-4> <5-7> <6-9> <7-25> <0-16> <1-48> <2-24> <mask> <mask> <5-23> <6-9> <7-25> <0-16> <1-48> <2-48> <3-61> <4-8> <5-7> <6-9> <7-25> <0-16> <1-48> <2-128> <3-166> <4-8> <5-23> <6-9> <7-25> <0-16> <1-48> <2-128> <3-174> <4-8> <5-23> <6-9> <7-25> <0-16> <1-56> <2-24> <mask> <mask> <5-23> <6-9> <7-25> <0-16> <1-56> <2-34> <3-35> <4-8> <5-23> <6-9> <7-25> <0-16> <1-56> <2-48> <3-66> <4-8> <5-7> <6-9> <7-25> <0-16> <1-56> <2-128> <3-164> <4-8> <5-31> <6-9> <7-25> <0-16> <1-56> <2-128> <3-174> <4-8> <5-11> <6-9> <7-25> <0-17> <1-0> <2-24> <mask> <mask> <5-27> <6-9> <7-25> <0-17> <1-0> <2-24> <mask> <mask> <5-23> <6-9> <7-25> <0-17> <1-0> <2-34> <3-30> <4-20> <5-23> <6-9> <7-25> <0-17> <1-0> <2-48> <3-61> <4-12> <5-7> <6-9> <7-25> <0-17> <1-0> <2-48> <3-66> <4-12> <5-7> <6-9> <7-25> <0-17> <1-0> <2-128> <3-164> <4-8> <5-31> <6-9> <7-25> <0-17> <1-0> <2-128> <3-174> <4-8> <5-23> <6-9> <7-25> <0-17> <1-8> <2-128> <3-174> <4-8> <5-11> <6-9> <7-25> <0-17> <1-12> <2-24> <mask> <mask> <5-27> <6-9> <7-25> <0-17> <1-12> <2-48> <3-42> <4-4> <5-7> <6-9> <7-25> <0-17> <1-16> <2-24> <mask> <mask> <5-23> <6-9> <7-25> <0-17> <1-16> <2-48> <3-66> <4-4> <5-7> <6-9> <7-25> <0-17> <1-16> <2-128> <3-166> <4-8> <5-23> <6-9> <7-25> <0-17> <1-16> <2-128> <3-174> <4-8> <5-23> <6-9> <7-25> <0-17> <1-20> <2-24> <mask> <mask> <5-19> <6-9> <7-25> <0-17> <1-20> <2-48> <3-61> <4-8> <5-7> <6-9> <7-25> <0-17> <1-24> <2-34> <3-30> <4-8> <5-23> <6-9> <7-25> <0-17> <1-24> <2-128> <3-166> <4-8> <5-23> <6-9> <7-25> <0-17> <1-24> <2-128> <3-174> <4-8> <5-23> <6-9> <7-25> <0-17> <1-28> <2-24> <mask> <mask> <5-27> <6-9> <7-25> <0-17> <1-28> <2-48> <3-39> <4-4> <5-7> <6-9> <7-25> <0-17> <1-32> <2-24> <mask> <mask> <5-23> <6-9> <7-25> <0-17> <1-32> <2-34> <3-27> <4-20> <5-23> <6-9> <7-25> <0-17> <1-32> <2-48> <3-58> <4-8> <5-7> <6-9> <7-25> <0-17> <1-32> <2-128> <3-164> <4-8> <5-31> <6-9> <7-25> <0-17> <1-32> <2-128> <3-174> <4-8> <5-23> <6-9> <7-25> <0-17> <1-40> <2-24> <mask> <mask> <5-23> <6-9> <7-25> <0-17> <1-40> <2-48> <3-54> <4-4> <5-7> <6-9> <7-25> <0-17> <1-40> <2-128> <3-166> <4-8> <5-23> <6-9> <7-25> <0-17> <1-40> <2-128> <3-174> <4-8> <5-23> <6-9> <7-25> <0-17> <1-44> <2-24> <mask> <mask> <5-27> <6-9> <7-25> <0-17> <1-44> <2-48> <3-51> <4-4> <5-7> <6-9> <7-25> <0-17> <1-48> <2-24> <mask> <mask> <5-23> <6-9> <7-25> <0-17> <1-48> <2-24> <mask> <mask> <5-23> <6-9> <7-25> <0-17> <1-48> <2-48> <3-56> <4-1> <5-7> <6-9> <7-25> <0-17> <1-48> <2-48> <3-59> <4-1> <5-7> <6-9> <7-25> <0-17> <1-48> <2-128> <3-166> <4-8> <5-23> <6-9> <7-25> <0-17> <1-48> <2-128> <3-174> <4-8> <5-23> <6-9> <7-25> <0-17> <1-49> <2-24> <mask> <mask> <5-23> <6-9> <7-25> <0-17> <1-49> <2-24> <mask> <mask> <5-23> <6-9> <7-25> <0-17> <1-49> <2-48> <3-58> <4-7> <5-7> <6-9> <7-25> <0-17> <1-49> <2-48> <3-61> <4-7> <5-7> <6-9> <7-25> <0-17> <1-56> <2-24> <mask> <mask> <5-23> <6-9> <7-25> <0-17> <1-56> <2-24> <mask> <mask> <5-23> <6-9> <7-25> <0-17> <1-56> <2-34> <3-27> <4-8> <5-23> <6-9> <7-25> <0-17> <1-56> <2-48> <3-56> <4-8> <5-7> <6-9> <7-25> <0-17> <1-56> <2-48> <3-59> <4-8> <5-7> <6-9> <7-25> <0-17> <1-56> <2-128> <3-175> <4-4> <5-23> <6-9> <7-25> <0-17> <1-60> <2-128> <3-176> <4-4> <5-23> <6-9> <7-25> <0-18> <1-0> <2-24> <mask> <mask> <5-19> <6-9> <7-25> <0-18> <1-0> <2-24> <mask> <mask> <5-19> <6-9> <7-25> <0-18> <1-0> <2-24> <mask> <mask> <5-19> <6-9> <7-25> <0-18> <1-0> <2-24> <mask> <mask> <5-19> <6-9> <7-25> <0-18> <1-0> <2-24> <mask> <mask> <5-19> <6-9> <7-25> <0-18> <1-0> <2-29> <mask> <mask> <5-23> <6-9> <7-25> <0-18> <1-0> <2-29> <mask> <mask> <5-23> <6-9> <7-25> <0-18> <1-0> <2-29> <mask> <mask> <5-23> <6-9> <7-25> <0-18> <1-0> <2-34> <3-32> <4-20> <5-23> <6-9> <7-25> <0-18> <1-0> <2-48> <3-44> <4-4> <5-7> <6-9> <7-25> <0-18> <1-0> <2-48> <3-44> <4-24> <5-7> <6-9> <7-25> <0-18> <1-0> <2-48> <3-51> <4-4> <5-7> <6-9> <7-25> <0-18> <1-0> <2-48> <3-51> <4-24> <5-7> <6-9> <7-25> <0-18> <1-0> <2-48> <3-56> <4-4> <5-7> <6-9> <7-25> <0-18> <1-0> <2-48> <3-56> <4-24> <5-7> <6-9> <7-25> <0-18> <1-0> <2-48> <3-58> <4-4> <5-7> <6-9> <7-25> <0-18> <1-0> <2-48> <3-63> <4-4> <5-7> <6-9> <7-25> <0-18> <1-0> <2-128> <3-164> <4-8> <5-31> <6-9> <7-25> <0-18> <1-0> <2-128> <3-177> <4-8> <5-23> <6-9> <7-25> <0-18> <1-4> <2-24> <mask> <mask> <5-13> <6-9> <7-25> <0-18> <1-4> <2-48> <3-59> <4-8> <5-3> <6-9> <7-25> <0-18> <1-8> <2-128> <3-174> <4-8> <5-11> <6-9> <7-25> <0-18> <1-12> <2-24> <mask> <mask> <5-19> <6-9> <7-25> <0-18> <1-12> <2-24> <mask> <mask> <5-19> <6-9> <7-25> <0-18> <1-12> <2-24> <mask> <mask> <5-19> <6-9> <7-25> <0-18> <1-12> <2-24> <mask> <mask> <5-19> <6-9> <7-25> <0-18> <1-12> <2-24> <mask> <mask> <5-19> <6-9> <7-25> <0-18> <1-12> <2-48> <3-44> <4-4> <5-7> <6-9> <7-25> <0-18> <1-12> <2-48> <3-51> <4-4> <5-7> <6-9> <7-25> <0-18> <1-12> <2-48> <3-56> <4-4> <5-7> <6-9> <7-25> <0-18> <1-12> <2-48> <3-59> <4-4> <5-7> <6-9> <7-25> <0-18> <1-12> <2-48> <3-63> <4-4> <5-7> <6-9> <7-25> <0-18> <1-16> <2-24> <mask> <mask> <5-19> <6-9> <7-25> <0-18> <1-16> <2-24> <mask> <mask> <5-19> <6-9> <7-25> <0-18> <1-16> <2-24> <mask> <mask> <5-19> <6-9> <7-25> <0-18> <1-16> <2-24> <mask> <mask> <5-19> <6-9> <7-25> <0-18> <1-16> <2-24> <mask> <mask> <5-19> <6-9> <7-25> <0-18> <1-16> <2-48> <3-44> <4-4> <5-7> <6-9> <7-25> <0-18> <1-16> <2-48> <3-51> <4-4> <5-7> <6-9> <7-25> <0-18> <1-16> <2-48> <3-56> <4-4> <5-7> <6-9> <7-25> <0-18> <1-16> <2-48> <3-59> <4-4> <5-7> <6-9> <7-25> <0-18> <1-16> <2-48> <3-63> <4-4> <5-7> <6-9> <7-25> <0-18> <1-16> <2-128> <3-166> <4-8> <5-23> <6-9> <7-25> <0-18> <1-16> <2-128> <3-174> <4-8> <5-23> <6-9> <7-25> <0-18> <1-20> <2-24> <mask> <mask> <5-19> <6-9> <7-25> <0-18> <1-20> <2-24> <mask> <mask> <5-19> <6-9> <7-25> <0-18> <1-20> <2-24> <mask> <mask> <5-19> <6-9> <7-25> <0-18> <1-20> <2-24> <mask> <mask> <5-19> <6-9> <7-25> <0-18> <1-20> <2-24> <mask> <mask> <5-19> <6-9> <7-25> <0-18> <1-20> <2-48> <3-44> <4-4> <5-7> <6-9> <7-25> <0-18> <1-20> <2-48> <3-51> <4-4> <5-7> <6-9> <7-25> <0-18> <1-20> <2-48> <3-56> <4-4> <5-7> <6-9> <7-25> <0-18> <1-20> <2-48> <3-59> <4-4> <5-7> <6-9> <7-25> <0-18> <1-20> <2-48> <3-63> <4-4> <5-7> <6-9> <7-25> <0-18> <1-24> <2-24> <mask> <mask> <5-19> <6-9> <7-25> <0-18> <1-24> <2-24> <mask> <mask> <5-19> <6-9> <7-25> <0-18> <1-24> <2-24> <mask> <mask> <5-19> <6-9> <7-25> <0-18> <1-24> <2-24> <mask> <mask> <5-19> <6-9> <7-25> <0-18> <1-24> <2-24> <mask> <mask> <5-19> <6-9> <7-25> <0-18> <1-24> <2-34> <3-32> <4-8> <5-23> <6-9> <7-25> <0-18> <1-24> <2-48> <3-44> <4-4> <5-7> <6-9> <7-25> <0-18> <1-24> <2-48> <3-51> <4-4> <5-7> <6-9> <7-25> <0-18> <1-24> <2-48> <3-56> <4-4> <5-7> <6-9> <7-25> <0-18> <1-24> <2-48> <3-59> <4-4> <5-7> <6-9> <7-25> <0-18> <1-24> <2-48> <3-63> <4-4> <5-7> <6-9> <7-25> <0-18> <1-24> <2-128> <3-174> <4-8> <5-11> <6-9> <7-25> <0-18> <1-28> <2-24> <mask> <mask> <5-19> <6-9> <7-25> <0-18> <1-28> <2-24> <mask> <mask> <5-19> <6-9> <7-25> <0-18> <1-28> <2-24> <mask> <mask> <5-19> <6-9> <7-25> <0-18> <1-28> <2-24> <mask> <mask> <5-19> <6-9> <7-25> <0-18> <1-28> <2-24> <mask> <mask> <5-19> <6-9> <7-25> <0-18> <1-28> <2-48> <3-44> <4-4> <5-7> <6-9> <7-25> <0-18> <1-28> <2-48> <3-51> <4-4> <5-7> <6-9> <7-25> </s> </s> </s> </s> </s> </s> </s> </s>'"
      ]
     },
     "execution_count": 331,
     "metadata": {},
     "output_type": "execute_result"
    }
   ],
   "source": [
    "# Just check if mask is correct\n",
    "decode_w_label_dict(label_dict , masked_encoding )"
   ]
  },
  {
   "cell_type": "markdown",
   "metadata": {
    "id": "SYuyI6yZsn-H"
   },
   "source": [
    "#### Displaying masked MIDI track"
   ]
  },
  {
   "cell_type": "code",
   "execution_count": null,
   "metadata": {
    "cellView": "form",
    "colab": {
     "base_uri": "https://localhost:8080/",
     "height": 151
    },
    "id": "OpcXgeLwqlBE",
    "outputId": "7f3c2a61-e84b-4389-cf59-c61be5bc441b"
   },
   "outputs": [
    {
     "name": "stdout",
     "output_type": "stream",
     "text": [
      "> Masked MIDI: Unforgiven2\n"
     ]
    },
    {
     "data": {
      "text/html": [
       "\n",
       "                <div id='midiPlayerDiv3252748'></div>\n",
       "                <link rel=\"stylesheet\" href=\"//cuthbertLab.github.io/music21j/css/m21.css\"\n",
       "                    type=\"text/css\" />\n",
       "                \n",
       "                    <script src=\"//cuthbertLab.github.io/music21j/ext/require/require.js\"\n",
       "                    ></script>\n",
       "                \n",
       "                <script>\n",
       "                require.config({\n",
       "                    paths: {'music21': '//cuthbertLab.github.io/music21j/src/music21'}\n",
       "                });\n",
       "                require(['music21'], function() {\n",
       "                               mp = new music21.miditools.MidiPlayer();\n",
       "                               mp.addPlayer('#midiPlayerDiv3252748');\n",
       "                               mp.base64Load('data:audio/midi;base64,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');\n",
       "                        });\n",
       "                </script>"
      ],
      "text/plain": [
       "<IPython.core.display.HTML object>"
      ]
     },
     "metadata": {},
     "output_type": "display_data"
    }
   ],
   "source": [
    "#@markdown Optional: Run cell to display masked MIDI stream\n",
    "\n",
    "#Returns octuple string encoding with no '<mask>' substring\n",
    "masked_out_midi_str = decode_w_label_dict(label_dict, masked_encoding, skip_masked_tokens = True)\n",
    "\n",
    "masked_out_midi_str = str_to_encoding(masked_out_midi_str)\n",
    "# print( len(masked_out_midi_str.split())%8 ) #result is 0 as expected since octuples\n",
    "masked_out_midi_obj = encoding_to_MIDI(masked_out_midi_str)\n",
    "masked_out_midi_obj.dump(f'/content/{midi_name}_masked.mid')\n",
    "\n",
    "print(f\"> Masked MIDI: {midi_name}\")\n",
    "playMidi(f'/content/{midi_name}_masked.mid')"
   ]
  },
  {
   "cell_type": "markdown",
   "metadata": {
    "id": "CODztEUXVqIw"
   },
   "source": [
    "#### Predicting masked tokens"
   ]
  },
  {
   "cell_type": "code",
   "execution_count": null,
   "metadata": {
    "cellView": "form",
    "id": "UOrrb1zn6QPe"
   },
   "outputs": [],
   "source": [
    "#@markdown Choose the prediction mode :\n",
    "prediction_type = \"Vanilla\" #@param [\"Vanilla\", \"Octuple\"]\n",
    "#@markdown Vanilla takes more time but is more accurate.\n",
    "#@markdown This mode will also filter out invalid predictions and also temperature for each octuple element can be controlled\n",
    "\n",
    "if prediction_type == \"Vanilla\":\n",
    "  prediction_mode = PRED_MODE.VANILLA\n",
    "elif prediction_type == \"Octuple\":\n",
    "  prediction_mode = PRED_MODE.OCTUPLE_MODE"
   ]
  },
  {
   "cell_type": "code",
   "execution_count": null,
   "metadata": {
    "cellView": "form",
    "id": "rZ8VHAx5t_GN"
   },
   "outputs": [],
   "source": [
    "#@markdown Enter the prediction parameters :\n",
    "\n",
    "#@markdown Temperature Values :\n",
    "\n",
    "temp = 1 #@param {type:\"slider\", min:0.5, max:3.0, step:0.1}\n",
    "\n",
    "temp_bar = 1 #@param {type:\"slider\", min:0.5, max:3.0, step:0.1}\n",
    "temp_pos = 1 #@param {type:\"slider\", min:0.5, max:3.0, step:0.1}\n",
    "temp_ins = 1 #@param {type:\"slider\", min:0.5, max:3.0, step:0.1}\n",
    "temp_pitch = 1.6 #@param {type:\"slider\", min:0.5, max:3.0, step:0.1}\n",
    "temp_dur = 1.4 #@param {type:\"slider\", min:0.5, max:3.0, step:0.1}\n",
    "temp_vel = 1 #@param {type:\"slider\", min:0.5, max:3.0, step:0.1}\n",
    "temp_sig = 1 #@param {type:\"slider\", min:0.5, max:3.0, step:0.1}\n",
    "temp_tempo = 1 #@param {type:\"slider\", min:0.5, max:3.0, step:0.1}\n",
    "\n",
    "# Assign temperature dict\n",
    "if(prediction_mode == PRED_MODE.VANILLA):\n",
    "    temperature_dict = {\n",
    "        0 : temp_bar,\n",
    "        1 : temp_pos,\n",
    "        2 : temp_ins,\n",
    "        3 : temp_pitch,\n",
    "        4 : temp_dur,\n",
    "        5 : temp_vel,\n",
    "        6 : temp_sig,\n",
    "        7 : temp_tempo,\n",
    "    }\n",
    "else:\n",
    "    temperature_dict = {\n",
    "        0 : temp,\n",
    "        1 : temp,\n",
    "        2 : temp,\n",
    "        3 : temp,\n",
    "        4 : temp,\n",
    "        5 : temp,\n",
    "        6 : temp,\n",
    "        7 : temp,\n",
    "    }\n",
    "\n",
    "#@markdown Top-k and Top-p:\n",
    "top_k = 15 #@param {type:\"slider\", min:0, max:40, step:1}\n",
    "top_p = 0.95 #@param {type:\"slider\", min:0, max:1, step:0.05}"
   ]
  },
  {
   "cell_type": "code",
   "execution_count": null,
   "metadata": {
    "colab": {
     "base_uri": "https://localhost:8080/"
    },
    "id": "15PQ1AiNeJkm",
    "outputId": "807349d2-e8b4-4e7e-ffa5-8b20587f1392"
   },
   "outputs": [
    {
     "name": "stdout",
     "output_type": "stream",
     "text": [
      "Warning: Ignoring `masked_octuples`, `mask_attribs` & `num_multi_octuples` as `prediction_mode` is set as Vanilla\n",
      "Final mask indices list sent to model: [11, 12, 19, 20, 1051, 1052, 1059, 1060, 1067, 1068, 1075, 1076, 1083, 1084, 1099, 1100, 1107, 1108, 1115, 1116, 1123, 1124, 1131, 1132, 1179, 1180, 1187, 1188, 1203, 1204, 1211, 1212, 1227, 1228, 1235, 1236, 1243, 1244, 1251, 1252, 1259, 1260, 1275, 1276, 1283, 1284, 1291, 1292, 1299, 1300, 1307, 1308, 1331, 1332, 1339, 1340, 1347, 1348, 1355, 1356, 1363, 1364, 1371, 1372, 1387, 1388, 1395, 1396, 1403, 1404, 1411, 1412, 1419, 1420, 1427, 1428, 1451, 1452, 1459, 1460, 1467, 1468, 1475, 1476, 1483, 1484, 1499, 1500, 1507, 1508, 1515, 1516, 1523, 1524, 1531, 1532, 1547, 1548, 1555, 1556, 1563, 1564, 1571, 1572, 1579, 1580, 1587, 1588, 1595, 1596, 1603, 1604, 1611, 1612, 1619, 1620, 1627, 1628, 1643, 1644, 1651, 1652, 1659, 1660, 1667, 1668, 1675, 1676, 1723, 1724, 1731, 1732, 1747, 1748, 1755, 1756, 1771, 1772, 1779, 1780, 1787, 1788, 1795, 1796, 1803, 1804, 1819, 1820, 1827, 1828, 1835, 1836, 1843, 1844, 1851, 1852, 1875, 1876, 1883, 1884, 1891, 1892, 1899, 1900, 1907, 1908, 1915, 1916, 1939, 1940, 1947, 1948, 1955, 1956, 1963, 1964, 1971, 1972, 1979, 1980, 2003, 2004, 2011, 2012, 2019, 2020, 2027, 2028, 2035, 2036, 2043, 2044, 2051, 2052, 2059, 2060, 2067, 2068, 2075, 2076, 2083, 2084, 2099, 2100, 2107, 2108, 2115, 2116, 2123, 2124, 2131, 2132, 2155, 2156, 2163, 2164, 2171, 2172, 2179, 2180, 2187, 2188, 2195, 2196, 2203, 2204, 2211, 2212, 2227, 2228, 2235, 2236, 2283, 2284, 2291, 2292, 2307, 2308, 2315, 2316, 2331, 2332, 2339, 2340, 2347, 2348, 2355, 2356, 2363, 2364, 2379, 2380, 2387, 2388, 2395, 2396, 2403, 2404, 2411, 2412, 2435, 2436, 2443, 2444, 2451, 2452, 2459, 2460, 2467, 2468, 2475, 2476, 2491, 2492, 2499, 2500, 2507, 2508, 2515, 2516, 2523, 2524, 2531, 2532, 2555, 2556, 2563, 2564, 2571, 2572, 2579, 2580, 2587, 2588, 2603, 2604, 2611, 2612, 2619, 2620, 2627, 2628, 2635, 2636, 2651, 2652, 2659, 2660, 2667, 2668, 2675, 2676, 2683, 2684, 2691, 2692, 2699, 2700, 2707, 2708, 2715, 2716, 2723, 2724, 2731, 2732, 2747, 2748, 2755, 2756, 2763, 2764, 2771, 2772, 2779, 2780, 2827, 2828, 2835, 2836, 2851, 2852, 2859, 2860, 2875, 2876, 2883, 2884, 2891, 2892, 2899, 2900, 2907, 2908, 2923, 2924, 2931, 2932, 2939, 2940, 2947, 2948, 2955, 2956, 2987, 2988, 2995, 2996, 3003, 3004, 3011, 3012, 3019, 3020, 3027, 3028, 3043, 3044, 3051, 3052, 3059, 3060, 3067, 3068, 3075, 3076, 3083, 3084, 3107, 3108, 3115, 3116, 3123, 3124, 3131, 3132, 3139, 3140, 3147, 3148, 3155, 3156, 3163, 3164, 3171, 3172, 3179, 3180, 3187, 3188, 3203, 3204, 3211, 3212, 3219, 3220, 3227, 3228, 3235, 3236, 3267, 3268, 3275, 3276, 3307, 3308, 3315, 3316, 3323, 3324, 3331, 3332, 3347, 3348, 3355, 3356, 3363, 3364, 3371, 3372, 3379, 3380, 3387, 3388, 3395, 3396, 3403, 3404, 3411, 3412, 3419, 3420, 3427, 3428, 3435, 3436, 3443, 3444, 3451, 3452, 3467, 3468, 3475, 3476, 3483, 3484, 3491, 3492, 3499, 3500, 3507, 3508, 3515, 3516, 3523, 3524, 3531, 3532, 3539, 3540, 3555, 3556, 3563, 3564, 3571, 3572, 3579, 3580, 3587, 3588, 3595, 3596, 3603, 3604, 3611, 3612, 3619, 3620, 3627, 3628, 3635, 3636, 3643, 3644, 3651, 3652, 3659, 3660, 3675, 3676, 3683, 3684, 3691, 3692, 3699, 3700, 3707, 3708, 3715, 3716, 3723, 3724, 3731, 3732, 3739, 3740, 3747, 3748, 3755, 3756, 3763, 3764, 3771, 3772, 3779, 3780, 3787, 3788, 3795, 3796, 3803, 3804, 3811, 3812, 3819, 3820, 3827, 3828, 3835, 3836, 3843, 3844, 3851, 3852, 3859, 3860, 3867, 3868, 3875, 3876, 3891, 3892, 3899, 3900, 3907, 3908, 3915, 3916, 3923, 3924, 3931, 3932, 3939, 3940, 3947, 3948, 3955, 3956, 3963, 3964, 3971, 3972, 3979, 3980, 3987, 3988, 3995, 3996, 4003, 4004, 4011, 4012, 4019, 4020, 4027, 4028, 4035, 4036, 4043, 4044, 4051, 4052, 4059, 4060, 4067, 4068, 4075, 4076, 4083, 4084, 4091, 4092, 4107, 4108, 4115, 4116, 4123, 4124, 4131, 4132, 4139, 4140, 4147, 4148, 4155, 4156, 4163, 4164, 4171, 4172, 4179, 4180, 4187, 4188, 4195, 4196, 4203, 4204, 4211, 4212, 4227, 4228, 4235, 4236, 4243, 4244, 4251, 4252, 4259, 4260, 4267, 4268, 4275, 4276, 4283, 4284, 4291, 4292, 4299, 4300, 4307, 4308, 4315, 4316, 4323, 4324, 4331, 4332, 4339, 4340, 4347, 4348, 4355, 4356, 4363, 4364, 4371, 4372, 4379, 4380, 4387, 4388, 4395, 4396, 4411, 4412, 4419, 4420, 4427, 4428, 4435, 4436, 4443, 4444, 4451, 4452, 4459, 4460, 4467, 4468, 4475, 4476, 4483, 4484, 4491, 4492, 4499, 4500, 4507, 4508, 4515, 4516, 4523, 4524, 4539, 4540, 4547, 4548, 4555, 4556, 4587, 4588, 4595, 4596, 4603, 4604, 4611, 4612, 4635, 4636, 4643, 4644, 4651, 4652, 4667, 4668, 4683, 4684, 4699, 4700, 4707, 4708, 4723, 4724, 4739, 4740, 4747, 4748, 4771, 4772, 4779, 4780, 4787, 4788, 4795, 4796, 4819, 4820, 4835, 4836, 4859, 4860, 4867, 4868, 4883, 4884, 4891, 4892, 4923, 4924, 4931, 4932, 4939, 4940, 4947, 4948, 4971, 4972, 4979, 4980, 5003, 5004, 5011, 5012, 5019, 5020, 5035, 5036, 5059, 5060, 5067, 5068, 5083, 5084, 5091, 5092, 5107, 5108, 5115, 5116, 5123, 5124, 5131, 5132, 5155, 5156, 5163, 5164, 5171, 5172, 5179, 5180, 5187, 5188, 5195, 5196, 5211, 5212, 5219, 5220, 5243, 5244, 5251, 5252, 5259, 5260, 5267, 5268, 5275, 5276, 5291, 5292, 5323, 5324, 5331, 5332, 5339, 5340, 5347, 5348, 5371, 5372, 5379, 5380, 5387, 5388, 5403, 5404, 5419, 5420, 5435, 5436, 5443, 5444, 5459, 5460, 5475, 5476, 5483, 5484, 5507, 5508, 5515, 5516, 5523, 5524, 5531, 5532, 5555, 5556, 5571, 5572, 5595, 5596, 5603, 5604, 5619, 5620, 5627, 5628, 5659, 5660, 5667, 5668, 5675, 5676, 5683, 5684, 5707, 5708, 5715, 5716, 5739, 5740, 5747, 5748, 5755, 5756, 5771, 5772, 5795, 5796, 5803, 5804, 5819, 5820, 5827, 5828, 5843, 5844, 5851, 5852, 5859, 5860, 5867, 5868, 5891, 5892, 5899, 5900, 5907, 5908, 5915, 5916, 5923, 5924, 5931, 5932, 5947, 5948, 5955, 5956, 5979, 5980, 5995, 5996, 6027, 6028, 6035, 6036, 6043, 6044, 6051, 6052, 6075, 6076, 6083, 6084, 6091, 6092, 6107, 6108, 6123, 6124, 6139, 6140, 6147, 6148, 6163, 6164, 6179, 6180, 6187, 6188, 6211, 6212, 6219, 6220, 6227, 6228, 6235, 6236, 6259, 6260, 6275, 6276, 6299, 6300, 6307, 6308, 6323, 6324, 6331, 6332, 6363, 6364, 6371, 6372, 6379, 6380, 6387, 6388, 6411, 6412, 6419, 6420, 6443, 6444, 6451, 6452, 6459, 6460, 6475, 6476, 6499, 6500, 6507, 6508, 6523, 6524, 6531, 6532, 6547, 6548, 6555, 6556, 6563, 6564, 6571, 6572, 6595, 6596, 6603, 6604, 6611, 6612, 6619, 6620, 6627, 6628, 6635, 6636, 6651, 6652, 6659, 6660, 6683, 6684, 6691, 6692, 6699, 6700, 6707, 6708, 6715, 6716, 6731, 6732, 6763, 6764, 6771, 6772, 6779, 6780, 6787, 6788, 6811, 6812, 6819, 6820, 6827, 6828, 6843, 6844, 6859, 6860, 6875, 6876, 6883, 6884, 6899, 6900, 6915, 6916, 6923, 6924, 6947, 6948, 6955, 6956, 6963, 6964, 6971, 6972, 6995, 6996, 7011, 7012, 7035, 7036, 7043, 7044, 7059, 7060, 7067, 7068, 7099, 7100, 7107, 7108, 7115, 7116, 7123, 7124, 7147, 7148, 7155, 7156, 7187, 7188, 7195, 7196, 7203, 7204, 7219, 7220, 7243, 7244, 7251, 7252, 7275, 7276, 7283, 7284, 7291, 7292, 7299, 7300, 7307, 7308, 7315, 7316, 7339, 7340, 7347, 7348, 7355, 7356, 7363, 7364, 7371, 7372, 7379, 7380, 7395, 7396, 7403, 7404, 7427, 7428, 7435, 7436, 7443, 7444, 7451, 7452, 7459, 7460, 7467, 7468, 7475, 7476, 7483, 7484, 7499, 7500, 7507, 7508, 7515, 7516, 7523, 7524, 7531, 7532, 7539, 7540, 7547, 7548, 7555, 7556, 7579, 7580, 7587, 7588, 7603, 7604, 7611, 7612, 7619, 7620, 7627, 7628, 7635, 7636, 7643, 7644, 7651, 7652, 7659, 7660, 7667, 7668, 7675, 7676, 7683, 7684, 7691, 7692, 7699, 7700, 7707, 7708, 7715, 7716, 7723, 7724, 7731, 7732, 7739, 7740, 7747, 7748, 7755, 7756, 7779, 7780, 7787, 7788, 7795, 7796, 7803, 7804, 7811, 7812, 7819, 7820, 7827, 7828, 7835, 7836, 7843, 7844, 7851, 7852, 7859, 7860, 7867, 7868, 7875, 7876, 7883, 7884, 7891, 7892, 7907, 7908, 7915, 7916, 7923, 7924, 7931, 7932, 7939, 7940, 7955, 7956, 7963, 7964, 7971, 7972, 7979, 7980, 7987, 7988, 7995, 7996, 8003, 8004]\n",
      "Out of total input size: 8016\n"
     ]
    },
    {
     "name": "stderr",
     "output_type": "stream",
     "text": [
      "100%|██████████| 1278/1278 [01:58<00:00, 10.83it/s]\n"
     ]
    }
   ],
   "source": [
    "# Call this to predict masks\n",
    "mask_prediction_output = predict_all_masks(roberta_base, label_dict, temperature_dict, masked_encoding,\n",
    "                                          masked_octuples = masked_oct_idxs,\n",
    "                                          mask_attribs = mask_attribs,\n",
    "                                          prediction_mode = prediction_mode,\n",
    "                                          temperature=temp, top_k=top_k, top_p=top_p)"
   ]
  },
  {
   "cell_type": "markdown",
   "metadata": {
    "id": "lOFIgkmxVu8I"
   },
   "source": [
    "#### Decode back to MIDI"
   ]
  },
  {
   "cell_type": "markdown",
   "metadata": {
    "id": "ivYdj-MJYHTk"
   },
   "source": [
    "**NOTE**: In the rare case of error in conversion to MIDI, reset the mask input, lower the masking percentage (to below 80%), choose Vanilla prediction mode"
   ]
  },
  {
   "cell_type": "code",
   "execution_count": null,
   "metadata": {
    "cellView": "form",
    "colab": {
     "base_uri": "https://localhost:8080/"
    },
    "id": "dyolqnuHSFD6",
    "outputId": "f8c8e05b-a392-40c7-cacf-4c81851a49f1"
   },
   "outputs": [
    {
     "name": "stdout",
     "output_type": "stream",
     "text": [
      "> Output MIDI saved to path /content/musicbert_cache/Unforgiven2_fullprogram[48]masked_program[52]pred_PRED_MODE.VANILLA.mid\n"
     ]
    }
   ],
   "source": [
    "#@markdown Run cell to convert mask prediction back to MIDI\n",
    "\n",
    "mask_prediction_output_str = decode_w_label_dict(label_dict , mask_prediction_output )\n",
    "out_midi_enc = str_to_encoding(mask_prediction_output_str)\n",
    "out_midi_obj = encoding_to_MIDI( out_midi_enc )\n",
    "save_output_midi(out_midi_obj, prediction_mode, program_id, replacement_program_id, program_percentage_mask, midi_name, '/content', cache_folder = 'musicbert_cache')"
   ]
  },
  {
   "cell_type": "code",
   "execution_count": null,
   "metadata": {
    "id": "QBYdg9s42tcw"
   },
   "outputs": [],
   "source": [
    "# End of notebook"
   ]
  }
 ],
 "metadata": {
  "accelerator": "GPU",
  "colab": {
   "collapsed_sections": [
    "wFTEEPoMa0qh",
    "hovJZkcIdLLY",
    "LeDwcxf-cPhH",
    "7ayYu78SYWs7",
    "my_PrLy1ct7n",
    "5cbUiE_Hhean",
    "PB2OLM9pYUTI",
    "nN04JzAwiuIn",
    "010X3PiShhDH",
    "Wl2Hyr7Ulo1l",
    "xivbPBCKcL2w",
    "_FRTX1bneBij",
    "TPP6-2bUstHv",
    "mkYdGn38i5EX",
    "pOttnMS9MElC",
    "xmR8y-CBMBJy",
    "fqFVAEz32ecD",
    "3M3gb0ixCSmn",
    "VR7Qww4QWiIZ",
    "jvtHwaFYbe7T",
    "wevYDF1QRd0a"
   ],
   "name": "[GITHUB] MusicBERT_mask_prediction_latest_multiprogram.ipynb",
   "provenance": []
  },
  "gpuClass": "standard",
  "kernelspec": {
   "display_name": "Python 3 (ipykernel)",
   "language": "python",
   "name": "python3"
  },
  "language_info": {
   "codemirror_mode": {
    "name": "ipython",
    "version": 3
   },
   "file_extension": ".py",
   "mimetype": "text/x-python",
   "name": "python",
   "nbconvert_exporter": "python",
   "pygments_lexer": "ipython3",
   "version": "3.8.5"
  }
 },
 "nbformat": 4,
 "nbformat_minor": 4
}
